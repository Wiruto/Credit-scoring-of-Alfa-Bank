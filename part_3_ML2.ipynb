{
 "cells": [
  {
   "cell_type": "markdown",
   "metadata": {},
   "source": [
    "<center> <img src = \"img\\logo.png\" alt=\"drawing\" style=\"width:400px;\">"
   ]
  },
  {
   "cell_type": "markdown",
   "metadata": {},
   "source": [
    "<center>  \n",
    "\n",
    "<span style=\"background-size: 600px;background:White;color:REd;font-size: 60px;font-family: Comic Sans MS\">Кредитный скоринг Альфа банка</span>"
   ]
  },
  {
   "cell_type": "markdown",
   "metadata": {
    "jp-MarkdownHeadingCollapsed": true
   },
   "source": [
    "# <span style=\"color:DeepSkyBlue\">Задача</span>"
   ]
  },
  {
   "cell_type": "markdown",
   "metadata": {},
   "source": [
    "**Задача**\n",
    "\n",
    "Кредитный скоринг – важнейшая банковская задача. Стандартным подходом к ее решению   \n",
    "является построение классических моделей машинного обучения, таких как логистическая   \n",
    "регрессия и градиентный бустинг, на табличных данных, в том числе используя агрегации  \n",
    "от каких-нибудь последовательных данных, например, транзакционных историй клиентов.   \n",
    "Альтернативный подход заключается в использовании последовательных данных “как есть”,   \n",
    "подавая их на вход рекуррентной нейронной сети.\n",
    "\n",
    "В этом соревновании участникам предлагается решить задачу кредитного скоринга клиентов   \n",
    "Альфа-Банка, используя только данные кредитных историй. [Источник](https://www.kaggle.com/competitions/alfa-bank-pd-credit-history)\n",
    "\n",
    "**Данные**\n",
    "\n",
    "Датасет соревнования устроен таким образом, что кредиты для тренировочной выборки взяты   \n",
    "за период в М месяцев, а кредиты для тестовой выборки взяты за последующие K месяцев.\n",
    "\n",
    "Каждая запись кредитной истории содержит самую разнообразную информацию о прошлом кредите   \n",
    "клиента, например, сумму, отношение клиента к кредиту, дату открытия и закрытия, информацию   \n",
    "о просрочках по платежам и др. Все публикуемые данные тщательно анонимизированы.\n",
    "\n",
    "Целевая переменная – бинарная величина, принимающая значения 0 и 1, где 1 соответствует   \n",
    "дефолту клиента по кредиту.\n",
    "\n",
    "\n",
    "**Проверка решений**\n",
    "\n",
    "Метрика соревнования – ROC AUC. Подробнее про метрику можно почитать, например, [здесь](https://dyakonov.org/2017/07/28/auc-roc-площадь-под-кривой-ошибок/)."
   ]
  },
  {
   "cell_type": "markdown",
   "metadata": {
    "jp-MarkdownHeadingCollapsed": true
   },
   "source": [
    "# <span style=\"color:DeepSkyBlue\">Используемые библиотеки</span>"
   ]
  },
  {
   "cell_type": "code",
   "execution_count": 2,
   "metadata": {},
   "outputs": [],
   "source": [
    "import os\n",
    "\n",
    "# работа с регулярными выражениями\n",
    "import re\n",
    "\n",
    "# библиотеки для работы с табличными данными\n",
    "import pandas as pd\n",
    "import pyarrow as pa\n",
    "import pyarrow.parquet as pq\n",
    "import fastparquet as fp\n",
    "\n",
    "# генерация случайных чисел\n",
    "import random\n",
    "from random import randint\n",
    "from sklearn.utils import shuffle\n",
    "\n",
    "# библиотеки для построения графики\n",
    "import seaborn as sns\n",
    "import matplotlib.pyplot as plt #для визуализации\n",
    "import plotly.graph_objects as go\n",
    "import plotly.figure_factory as ff\n",
    "import plotly.express as px\n",
    "from plotly.subplots import make_subplots\n",
    "import nbformat\n",
    "\n",
    "# библиотеки для математических преобразований с массивами данных\n",
    "import numpy as np\n",
    "import mlx.core as mx\n",
    "from sklearn import model_selection\n",
    "from sklearn.model_selection import train_test_split\n",
    "\n",
    "# библиотеки для работы с функциями(частичная передача аргументов в функцию)\n",
    "from functools import partial\n",
    "\n",
    "# библиотеки для работы со статистическими характеристиками\n",
    "from scipy import stats\n",
    "import statistics\n",
    "from collections import Counter\n",
    "\n",
    "# библиотеки для работы с pipeline\n",
    "from sklearn.pipeline import make_pipeline\n",
    "from sklearn.preprocessing import FunctionTransformer\n",
    "\n",
    "# проверка временного ряда на статичность\n",
    "from statsmodels.tsa.stattools import adfuller\n",
    "\n",
    "# Импортируем DBSCAN-кластеризацию\n",
    "from sklearn.cluster import DBSCAN\n",
    "\n",
    "# вставить картинку в Jupiter Notebook\n",
    "from IPython.display import Image\n",
    "\n",
    "# линейные модели машинного обучения\n",
    "from sklearn import linear_model\n",
    "\n",
    "# ансамбли моделей машинного обучения\n",
    "from sklearn.ensemble import RandomForestClassifier\n",
    "from sklearn.ensemble import GradientBoostingClassifier\n",
    "from sklearn.ensemble import HistGradientBoostingClassifier\n",
    "\n",
    "# поиск гиперпараметров модели\n",
    "from sklearn.model_selection import RandomizedSearchCV\n",
    "from sklearn.feature_selection import SelectKBest, f_classif\n",
    "from sklearn.feature_selection import RFE\n",
    "import optuna\n",
    "\n",
    " # метрики\n",
    "from sklearn import metrics\n",
    "\n",
    "# библиотека для стандартизации данных\n",
    "from sklearn.preprocessing import StandardScaler\n",
    "from sklearn.preprocessing import MinMaxScaler\n",
    "from sklearn.preprocessing import RobustScaler\n",
    "\n",
    "# сохранить полученные модели\n",
    "import joblib\n",
    "from joblib import dump, load\n",
    "\n",
    "# сборщик мусора\n",
    "import gc\n",
    "\n",
    "# для ограничения времени выполнения функции\n",
    "import signal\n",
    "import func_timeout\n",
    "\n",
    "# для отслеживания времени выполнения функции\n",
    "import time\n",
    "\n",
    "# очистить output\n",
    "from IPython.display import clear_output"
   ]
  },
  {
   "cell_type": "markdown",
   "metadata": {},
   "source": [
    "## <span style=\"color:DodgerBlue\">Разработка инструментов преобразования данных</span>"
   ]
  },
  {
   "cell_type": "markdown",
   "metadata": {},
   "source": [
    "### <span style=\"color:RoyalBlue\">функция torow_transformer</span>"
   ]
  },
  {
   "cell_type": "code",
   "execution_count": 3,
   "metadata": {},
   "outputs": [],
   "source": [
    "# функция torow_transformer\n",
    "\n",
    "# Назначение: Преобразование признака столбца в признаки строки\n",
    "#               с сохранением обратной последовательности в признаке.\n",
    "#               (извлечение последних операций клиента)\n",
    "\n",
    "# Внешние переменные функции: DataFrame, n_last\n",
    "#   DataFrame - исоходый DataFrame\n",
    "#   n_last - необходимое счисло послдених операций клиента\n",
    "#   Структура DataFrame:\n",
    "#       1. id\n",
    "#       2. feature1\n",
    "#       3. feature2\n",
    "#       4. feature3\n",
    "#       ...\n",
    "\n",
    "# Результат работы функции: New DataFrame\n",
    "#   Признаки New DataFrame:\n",
    "#       1. id\n",
    "#       2. feature1.1\n",
    "#       3. feature1.2\n",
    "#       4. feature1.3\n",
    "#       ...\n",
    "#       5. feature1.N\n",
    "#       6. feature2.1\n",
    "#       7. feature2.2\n",
    "#       ...\n",
    "#       8. feature2.N\n",
    "#       ...\n",
    "#   где featureX.1 - соотвествует последней операции клиента,\n",
    "#       featureX.2 - соотвествует предпоследней операции клиента,\n",
    "#       .....\n",
    "\n",
    "# 2. dict_features - словарь (карта) признаков,\n",
    "#    в котором отображается сокращения признаков и их расщифровка\n",
    "\n",
    "# Алгоритм работы функции:\n",
    "# 1. извлекаем признаки из данных DataFrame\n",
    "# 3. формируем карту признаков dict_features:\n",
    "#    3.1. каждый признак кодируется следующим образом: 'fn',\n",
    "#         где n - порядковый номер признака\n",
    "#    3.2. полные имена признаков задаются следующим образом: 'feature_N',\n",
    "#         где N - порядок клиентской операции (большему N соотвествует, более ранняя операция)\n",
    "\n",
    "# 4. Преобразуем данные к массиву\n",
    "# 5. Группируем массив для каждого клиента\n",
    "# 6. К групированному массиву прменяем следующие преобразования:\n",
    "#    6.1. Обращаем порядок клиенских операций\n",
    "#    6.2. выбираем посление n_last операций\n",
    "#    6.3. Если число клиенски операций меньше чем n_last, дополняем их нулями\n",
    "# 7. Преобразуем полученные данные к DataFrame\n",
    "\n",
    "# Описание локальных переменных функции:\n",
    "# 1. pd_data - исходный DataFrame\n",
    "# 2. n_last - необходимое число последних операций клиента\n",
    "# 3. list_id - список для хранения id клиентов внутри функции\n",
    "# 4. list_features - список для хранения признаков исхдного dataframe внутри функции\n",
    "# 5. dict_features - локальная карта признаков\n",
    "# 6. rn_id - список количества операций для каждого клиента\n",
    "# 6. array_data - данные преобразоанные к numpy-массиву\n",
    "# 6. split_array - сгрупированные по клиентам данные преобразованные\n",
    "\n",
    "# обьявлем функцию\n",
    "def torow_func(dict_params):\n",
    "    pd_data = dict_params['data']\n",
    "    n_last = dict_params['n_last']\n",
    "\n",
    "    # извлекаем список \"id\" клиентов\n",
    "    list_id = pd_data['id'].unique().tolist()\n",
    "    \n",
    "    # извлекаем список признаков из данных        \n",
    "    list_features = pd_data.columns.drop(['id','rn'])\n",
    "\n",
    "    # формируем словарь для зашифрованных признаков\n",
    "    dict_features = {}\n",
    "    \n",
    "    # заполним словарь dict_features\n",
    "    num_f=0\n",
    "    for feature in list_features:\n",
    "        # шифруем признак: fk = \"feature_agg_function\"\n",
    "        for num_feature in range(1,n_last+1):\n",
    "            dict_features['f'+str(num_feature+num_f)] = feature+'_'+str(num_feature)\n",
    "        num_f+=n_last\n",
    "    \n",
    "\n",
    "    # формируем словарь rn_id\n",
    "    rn_id = pd_data.groupby('id')['id'].count().to_list()\n",
    "\n",
    "    # для улучшения производительности преобразуем DataFrame в array-массив\n",
    "    array_data = np.array(pd_data.iloc[:,2:]).transpose()\n",
    "\n",
    "    # \"порежем массив\" по длине кредитной истории клиента\n",
    "    split_array = np.array_split(array_data, np.cumsum(rn_id),axis=1)\n",
    "    \n",
    "    # определим порядок последующих преобразований в функции\n",
    "    def transform_array(array_id):\n",
    "        # обратим порядок клиентских операций \n",
    "        reverse_array_id = array_id[::,::-1]\n",
    "        # выбрем после n операций клиента\n",
    "        list_n_last = reverse_array_id[::,:n_last]\n",
    "        # если клиенских операций было меньше чем n_last\n",
    "        # дополним недастающие нулями и преобразуем данные к строке\n",
    "        if len(list_n_last[0])<n_last:\n",
    "            full_list_n_last = np.hstack((list_n_last,np.zeros((list_n_last.shape[0],n_last-len(list_n_last[0])),dtype='int64')))\n",
    "            # преобразуем список к строке\n",
    "            full_list_n_last = full_list_n_last.reshape(-1)\n",
    "        else:\n",
    "            full_list_n_last = list_n_last.reshape(-1)\n",
    "        return full_list_n_last\n",
    "\n",
    "    # применим transform_array преобразование к списку split_array\n",
    "    list_data = np.array(list(map(transform_array,split_array)))[:-1]\n",
    "    \n",
    "    # преобразуем полученные данные к dataframe\n",
    "    dataframe = pd.DataFrame(data=list_data, columns=dict_features.keys())\n",
    "\n",
    "    # добавим столбец id\n",
    "    dataframe.insert(0,'id',list_id)\n",
    "    \n",
    "    return dataframe, dict_features,rn_id\n",
    "\n",
    "\n",
    "# преобразуем функции в инструмент для преобразования данных (Transformer)\n",
    "torow_transformer = FunctionTransformer(torow_func)"
   ]
  },
  {
   "cell_type": "code",
   "execution_count": 4,
   "metadata": {},
   "outputs": [],
   "source": [
    "# функция features_from_transform_data_torow\n",
    "\n",
    "# Назначение: Извлечение из данных, над которомы совершено \n",
    "#             row_fich_transformer() преобразование, признаков  \n",
    "#             соотвествующих заданному числу последних  \n",
    "#             опреаций клиента n_last\n",
    "\n",
    "# Внешние переменные функции: DataFrame\n",
    "#   Признаки DataFrame:\n",
    "#       1. n_last - необходимое число последних операций клиента\n",
    "#       2. n_groups - число групп признаков в transform_data_torow\n",
    "#       3. N_last - число последних операций клиента показанных в transform_data_torow\n",
    "\n",
    "# Результат работы функции: \n",
    "# 1. list_n_last_features - список признаков в transform_data_torow\n",
    "#    соотвествующий заданному числу n_last. \n",
    "    \n",
    "\n",
    "# обьявлем функцию\n",
    "def features_from_transform_data_torow(n_last,n_groups,N_last):\n",
    "    # создадим список под необходимые признаки\n",
    "    list_n_last_features = []\n",
    "    \n",
    "    # обьявим начальное значение в группе признаков\n",
    "    n_start = 0\n",
    "    \n",
    "    for i in range(n_groups):\n",
    "        for n in range(n_last):\n",
    "            list_n_last_features.append(n+n_start)\n",
    "        n_start+=N_last\n",
    "    \n",
    "    return list_n_last_features   "
   ]
  },
  {
   "cell_type": "markdown",
   "metadata": {},
   "source": [
    "### <span style=\"color:RoyalBlue\">функция diff_feature</span>"
   ]
  },
  {
   "cell_type": "code",
   "execution_count": 5,
   "metadata": {},
   "outputs": [],
   "source": [
    "# функция diff_feature\n",
    "\n",
    "# Назначение: Определение дифференциальных характеристик ряда \n",
    "\n",
    "# Внешние переменные функции: \n",
    "#           1.Series/np.array/list\n",
    "\n",
    "\n",
    "# Результат работы функции: \n",
    "# 1. diff_list - Список из значений:\n",
    "#                   1.1. speed - скорость изменения ряда;\n",
    "#                   1.2. accel - ускорение изменения ряда;\n",
    "#                   1.3. bias - смещение ряда;\n",
    "#                   1.4. pulse - импульс ряда;\n",
    "\n",
    "# обьявлем функцию\n",
    "def diff_feature(data):\n",
    "    # преобразуем данные к numpy массиву\n",
    "    data = np.array(data)\n",
    "    # расчитаем необходимые характеристики\n",
    "    speed = round(float(np.diff(data,1).mean()),2)\n",
    "    accel = round(float(np.diff(data,2).mean()),2)\n",
    "    bias = round(float(np.diff(data,1).sum()),2)\n",
    "    pulse = round(float(np.diff(data,2).sum()),2)\n",
    "    # сформируем из найденных значений в список\n",
    "    diff_list = [speed,accel,bias,pulse]\n",
    "    return diff_list"
   ]
  },
  {
   "cell_type": "markdown",
   "metadata": {},
   "source": [
    "### <span style=\"color:RoyalBlue\">функция statistic_features</span>"
   ]
  },
  {
   "cell_type": "code",
   "execution_count": 6,
   "metadata": {},
   "outputs": [],
   "source": [
    "# функция statistic_features\n",
    "\n",
    "# Назначение: Извлечение основных статистических характеристик\n",
    "#             из признаков в исходном DataFrame.\n",
    "\n",
    "# Внешние переменные функции: DataFrame\n",
    "#   Признаки DataFrame:\n",
    "#       1. id\n",
    "#       2. feature1\n",
    "#       3. feature2\n",
    "#       4. feature3\n",
    "#       ...\n",
    "\n",
    "# Результат работы функции: \n",
    "# 1. dataframe - таблица с данными. \n",
    "#    Признаки dataframe:\n",
    "#       1. id\n",
    "#       2. feature1_mean\n",
    "#       3. fearture1_hmean\n",
    "#       4. feature1_std\n",
    "#       5. feature1_min\n",
    "#       6. feature1_25%\n",
    "#       7. feature1_50%\n",
    "#       8. feature1_75%\n",
    "#       9. feature1_max\n",
    "#       10. feature1_mode\n",
    "#       11. feature1_frequency_mode\n",
    "#       12. feature2_mean\n",
    "#       ...\n",
    "    \n",
    "# 2. dict_features - словарь (карта) признаков,\n",
    "#    в котором отображается сокращения признаков и их расщифровка\n",
    "\n",
    "# Алгоритм работы функции:\n",
    "# 1. извлекаем признаки из данных\n",
    "# 2. формируем карту признаков:\n",
    "#    2.1. каждый признак кодируется следующим образом: 'fn' где n - порядковый номер признака\n",
    "#    2.2. полные имена признаков задаются следующим образом:\n",
    "#         2.2.1 если в исходном dataframe признак бинарный, то: \"Исходное имя признака\"+\"binary\"\n",
    "#         2.2.2 если в исходном dataframe признак не бинарный, то: \"Исходное имя признака\"+\"Статистическая характеристика\"\n",
    "# 3. для каждого клиента по каждому признаку из исходного dataframe расчитываем статистические характеристики\n",
    "# 4. записываем полученные значение в новый dataframe\n",
    "\n",
    "# Описание локальных переменных функции:\n",
    "# 1. dict_agg_function - словарь из агригирующих функций\n",
    "#       keys: имена для обращения к функциям:\n",
    "#       values: lamda-функция, соотвествующей статистической характристики\n",
    "# 2. list_features - список для хранения признаков исхдного dataframe внутри функции\n",
    "# 3. list_id - список для хранения id клиентов внутри функции\n",
    "# 4. dict_features - локальная карта признаков\n",
    "# 5. k - номер признака в dict_features на текущей итерации\n",
    "# 6. dataframe - результирующий dataframe\n",
    "\n",
    "# обьявлем функцию\n",
    "def statistic_features(pd_data):\n",
    "    # формируем список из функций для статистических преобразований\n",
    "    # предусмотрим работу функций на случай, если в массиве данных всего 1 строка\n",
    "    dict_agg_function = {\n",
    "    'ptp' : lambda x: 0 if len(x) <= 3 else np.ptp(x),\n",
    "    'mean': lambda x: 0 if len(x) <= 3 else x.mean(), \n",
    "    'gmean' : lambda x: stats.gmean(x),   \n",
    "    'hmean': lambda x: stats.gmean(x),\n",
    "    'pmean25': lambda x: stats.pmean(x,25),\n",
    "    'pmean50': lambda x: stats.pmean(x,50),\n",
    "    'pmean75': lambda x: stats.pmean(x,75),\n",
    "    'expectile25': lambda x: stats.expectile(x,0.25),\n",
    "    'expectile50': lambda x: stats.expectile(x),\n",
    "    'expectile75': lambda x: stats.expectile(x,0.75),\n",
    "    'moment': lambda x: stats.moment(x),\n",
    "    'std': lambda x: 0 if len(x) <= 3 else np.std(x),\n",
    "    'min': lambda x: min(x),\n",
    "    '20%': lambda x: x.mean() if len(x) <= 3 else np.percentile(x,q=20),\n",
    "    '30%': lambda x: x.mean() if len(x) <= 3 else np.percentile(x,q=30),\n",
    "    '40%': lambda x: x.mean() if len(x) <= 3 else np.percentile(x,q=40),\n",
    "    '50%': lambda x: x.mean() if len(x) <= 3 else np.percentile(x,q=50),\n",
    "    '60%': lambda x: x.mean() if len(x) <= 3 else np.percentile(x,q=60),\n",
    "    '70%': lambda x: x.mean() if len(x) <= 3 else np.percentile(x,q=70),\n",
    "    'max': lambda x: max(x),\n",
    "    'mode': lambda x: statistics.mean(statistics.multimode(x)),\n",
    "    'frequency_mode': lambda x: round(list(x).count(statistics.multimode(x)[0])*len(statistics.multimode(x))/len(x),2),\n",
    "    'cov' : lambda x: 0 if len(x) <= 3 else np.cov(x),\n",
    "    'histogram' : lambda x: 0 if len(x) <= 3 else np.histogram(x)[1].mean(), \n",
    "    'speed': lambda x: 0 if len(x) <= 3 else diff_feature(x)[0],\n",
    "    'accel': lambda x: 0 if len(x) <= 3 else diff_feature(x)[1],\n",
    "    'bias': lambda x: 0 if len(x) <= 3 else diff_feature(x)[2],\n",
    "    'pulse': lambda x: 0 if len(x) <= 3  else diff_feature(x)[3]\n",
    "    } \n",
    "\n",
    "    # напишем функцию для преобразования массива до статистических характеристик\n",
    "    def stat_func(array_data): \n",
    "        # сформируем лист под результаты преобразования\n",
    "        list_for_result = []\n",
    "        # запишем все статистические харкетристики из словаря dict_agg_function\n",
    "        for func in dict_agg_function.values():\n",
    "            list_for_result.append(func(array_data))\n",
    "        return np.array(list_for_result).round(3)\n",
    "\n",
    "    # напишем функцию для применения функции stat_func к списку\n",
    "    def submap(list_data):\n",
    "        # расчитаем количество операция клиента\n",
    "        max_rn = len(list_data[0])\n",
    "        # получим статистические характристики массива\n",
    "        list_stat_features = np.array(list(map(stat_func,list_data))).reshape(-1)\n",
    "        return np.hstack((max_rn,list_stat_features))\n",
    "    \n",
    "    # извлекаем список \"id\" клиентов\n",
    "    list_id = pd_data['id'].unique().tolist()\n",
    "\n",
    "    # извлекаем список признаков из данных        \n",
    "    list_features = pd_data.columns.drop(['id','rn'])\n",
    "    \n",
    "    # формируем словарь для зашифрованных признаков\n",
    "    dict_features = {'f1':'count'}\n",
    "    k=1 # порядковый номер защифрованного признака\n",
    "\n",
    "    # заполним словарь dict_features\n",
    "    for feature in list_features:\n",
    "        # шифруем признак: fk = \"feature_agg_function\"\n",
    "        for key_function in dict_agg_function.keys():\n",
    "            k+=1\n",
    "            dict_features['f'+str(k)] = feature+'_'+key_function\n",
    "\n",
    "    # формируем список rn_id\n",
    "    rn_id = pd_data.groupby('id')['id'].count().to_list()\n",
    "\n",
    "    # для улучшения производительности преобразуем DataFrame в array-массив\n",
    "    array_data = np.array(pd_data.iloc[:,2:]).transpose()\n",
    "\n",
    "    # \"порежем массив\" по длине кредитной истории клиента\n",
    "    split_array = np.array_split(array_data, np.cumsum(rn_id),axis=1)[:-1]\n",
    "\n",
    "    # получем статические характеристики признаков\n",
    "    stat_features = np.array(list(map(submap,split_array)))\n",
    "    \n",
    "    # Сформируем dataframe из полученных данных\n",
    "    dataframe = pd.DataFrame(data=stat_features, columns=dict_features.keys())\n",
    "\n",
    "    # добавим столбец id\n",
    "    dataframe.insert(0,'id',list_id)\n",
    "\n",
    "    return dataframe, dict_features\n",
    "\n",
    "# преобразуем функции в инструмент для преобразования данных (Transformer)\n",
    "stat_transformer = FunctionTransformer(statistic_features)"
   ]
  },
  {
   "cell_type": "markdown",
   "metadata": {},
   "source": [
    "### <span style=\"color:RoyalBlue\">функция corr_transform_to_force</span>"
   ]
  },
  {
   "cell_type": "code",
   "execution_count": 7,
   "metadata": {},
   "outputs": [],
   "source": [
    "# функция corr_transform_to_force\n",
    "\n",
    "# Назначение: из матрицы взаимных корреляций\n",
    "#             выделить не корелирующие признаки\n",
    "\n",
    "# Внешние переменные функции: \n",
    "#           1. df.corr() - матрица корреляций\n",
    "#           2. threshold - порог значимости корреляции:\n",
    "#               значение коэффициента корреляции, больше которого\n",
    "#               признаки считаются скоррелированными.\n",
    "\n",
    "# Пояснение: \n",
    "# Под силой корреляции будем понимать следующее: если коэффициент \n",
    "# коррелиции между признаками больше значения threshold, то принимаем,\n",
    "# что между признаками сильная корреляционная связь значение коэффициента \n",
    "# коррелияции заменяем на 1, иначе корреляционная связь слабая и значение \n",
    "# коээфициента корреляции заменяем на 0\n",
    "\n",
    "# Результат работы функции: \n",
    "# 1. corr_matrix - матрица корреляций(отражает силу корреляции)\n",
    "# 2. list_ncorr_features - список не скореллированных признаков\n",
    "# 3. corr_force - сила корреляции всей матрицы: отношение числа скоррелированных \n",
    "# признаков к числу всех признаков в матрице\n",
    "\n",
    "# Описание локальных переменных функции:\n",
    "# 1. coor_force - функция преобазующая значение\n",
    "#        коэффициента корряляции в силу корреляции\n",
    "# 2. corr_matrix - матрица отражающая силу корряляции между признаками\n",
    "# 3. max_corr - максимальное число взаимных корреляций между признаками\n",
    "# 4. list_ncorr_features - список не коррелируемых признаков\n",
    "\n",
    "\n",
    "# обьявлем функцию\n",
    "def corr_transform_to_force(matrix,threshold=0.7):\n",
    "    list_features = matrix.index.tolist()\n",
    "    \n",
    "    \n",
    "    # создадим функцию для разметки матрицы корреляции\n",
    "    # 1 - корреляция признаков выше порога значимости threshold\n",
    "    # 0 - корреляция признаков ниже порога значимости threshold\n",
    "    corr_force = lambda x: 1 if x >threshold else 0\n",
    "    # выполним разметку матрицы корреляции\n",
    "    corr_matrix = matrix.map(lambda x: corr_force(x))\n",
    "    \n",
    "    # алгоритм отбора не коррелиарных признаков:\n",
    "    #   1. Найдем признак с наибольшим числом взаимных корреляций\n",
    "    #   2. удалим найденный признак\n",
    "    #   3. составим матрицу корреляций из отсавшися признаков\n",
    "    #   4. повторяем пункты 1-3 до тех пор пока в матрице не останутся \n",
    "    #       не коррелированные признаки\n",
    "\n",
    "    # ищем наибольшее число взаимных корреляций среди признаков\n",
    "    max_corr = corr_matrix.sum().max()\n",
    "\n",
    "    while max_corr > 1:\n",
    "        # определяем признак с наибольшим числом взаимных корреляций\n",
    "        max_corr_feature = corr_matrix.sum()[corr_matrix.sum()==corr_matrix.sum().max()].index[0]\n",
    "        # удалем признак из матрицы корреляций\n",
    "        corr_matrix = corr_matrix.drop(max_corr_feature).drop(max_corr_feature,axis=1)\n",
    "        max_corr = corr_matrix.sum().max()\n",
    "    # запишем не скоррелированные признаки в список\n",
    "    list_ncorr_features = corr_matrix.index.tolist()\n",
    "    # найдем силу корреляции всей матрицы как отношение\n",
    "    # количества скоррелированных признаков к всмеу количеству признаков\n",
    "    corr_force = round(1-len(list_ncorr_features)/len(list_features),3)\n",
    "    return corr_matrix, list_ncorr_features, corr_force"
   ]
  },
  {
   "cell_type": "markdown",
   "metadata": {},
   "source": [
    "### <span style=\"color:RoyalBlue\">функция search_DBSCAN_parameters</span>"
   ]
  },
  {
   "cell_type": "code",
   "execution_count": 8,
   "metadata": {},
   "outputs": [],
   "source": [
    "# функция search_DBSCAN_parameters\n",
    "\n",
    "# Назначение: Для подбора eps и min_samples параметров,\n",
    "#               функция \"прогоняет\" DBSCAN кластеризацию \n",
    "#               с параметрами eps и min_samples\n",
    "#               примающими значения из заданного диапазона.\n",
    "\n",
    "# Внешние переменные функции: \n",
    "#           1. data - dataframe для кластеризации\n",
    "#           2. r1 - начало диапазона\n",
    "#           3. r2 - конец диапазона  \n",
    "#           4. n - предпалагамое число кластеров      \n",
    "\n",
    "# Результат работы функции: \n",
    "# 1. data_cluster - кластеризация данных при различных \n",
    "#       значениях параметров eps и min_samples\n",
    "\n",
    "# Описание локальных переменных функции:\n",
    "# 1. parametr_range - диапазон изменения параметров\n",
    "# 2. dataframe_columns - колонки в результирующем dataframe\n",
    "# 3. data_cluster - результрующий dataframe\n",
    "# 4. index_cluster - текущая позиция в data_cluster\n",
    "# 5. clustering - кластеризатор\n",
    "# 6. list_cluster_values - список для заполнения текущими \n",
    "#                          значениями data_cluster\n",
    "\n",
    "# обьявлем функцию\n",
    "def search_DBSCAN_parameters(dataframe,r1,r2,n=3):\n",
    "    # задаем диапозон измениния параметров\n",
    "    parameter_range = range(r1,r2)\n",
    "    # формируем заготовку для результирующего dataframe\n",
    "    dataframe_columns = ['eps','min_samples',-1,0,1]\n",
    "    # проверим что задано не меньше минимального количества кластеров\n",
    "    if n<=3: \n",
    "        data_cluster = pd.DataFrame(columns=dataframe_columns)\n",
    "    else: \n",
    "        for claster in range(4,n+1):\n",
    "            dataframe_columns.append(claster-2)\n",
    "        data_cluster = pd.DataFrame(columns=dataframe_columns)\n",
    "    # задаем начально значение индекса в data_cluster\n",
    "    index_cluster = 0\n",
    "\n",
    "    # для подсчета обьектов в кластерах создадим dataframe\n",
    "    dataframe_count = pd.DataFrame()\n",
    "    \n",
    "    # \"прогоняем\" DBSCAN кластеризациию по диапазону параметров\n",
    "    for eps in parameter_range:\n",
    "        \n",
    "        for min_samples in parameter_range:\n",
    "            print('current eps:',eps,'  current min_samples:', min_samples, end='\\r')\n",
    "            # запускаем кластеризацию с текущими параметрами\n",
    "            clustering = DBSCAN(eps=eps, min_samples=min_samples).fit(dataframe)\n",
    "            # добавлем к данным столбец с разметкой\n",
    "            dataframe_count['clater'] = clustering.labels_\n",
    "            # формируем пустой список для заполнения\n",
    "            list_cluster_values = []\n",
    "            # добавлеям в список текущие параметры\n",
    "            list_cluster_values.append(eps)\n",
    "            list_cluster_values.append(min_samples)\n",
    "            # добавлем в список количество обьктов в каждом кластере\n",
    "            for column in dataframe_columns[2:]:\n",
    "                list_cluster_values.append(len(dataframe_count['clater'][dataframe_count['clater']==column]))\n",
    "                \n",
    "            # заполняем dataframe  текущими данными\n",
    "            data_cluster.loc[index_cluster] = list_cluster_values\n",
    "            index_cluster +=1\n",
    "            # сбрасываем dataframe_count\n",
    "            dataframe_count = pd.DataFrame()\n",
    "    return data_cluster"
   ]
  },
  {
   "cell_type": "markdown",
   "metadata": {},
   "source": [
    "### <span style=\"color:RoyalBlue\">функция generate_samples</span>"
   ]
  },
  {
   "cell_type": "code",
   "execution_count": 9,
   "metadata": {},
   "outputs": [],
   "source": [
    "# функция generate_samples\n",
    "\n",
    "# Назначение: для генерации индексов выборок данных\n",
    "\n",
    "# Внешние переменные функции: \n",
    "#           1. max - определяет максимальное значение множества\n",
    "#               из которого формируются выборки\n",
    "#           2. n - количество выборок\n",
    "#           3. k - мощность одной выборки\n",
    "     \n",
    "\n",
    "# Результат работы функции: \n",
    "# 1. samples_list - список с выбороками\n",
    "\n",
    "# алгоритм работы:\n",
    "# 1. задаем отрезок натурального ряда N мощностью max и добавлем в него 0.\n",
    "#       In = N U {0}, I = {0,1,2,3,4,5,..,max}\n",
    "# 2. если мощность множества In больше, необходимого количества элементов\n",
    "#       cardo(In) > n x k , то из множества In формируем n случайных выборок\n",
    "# размера k без повторения.\n",
    "# 3. если мощность множества In меньше, необходимого количества элементов\n",
    "#       cardo(In) < n x k , то из множества In формируем случайные выборки\n",
    "# размера k без повторения, до тех пор пока не закончится множество In.\n",
    "# После, добираем недостающее количество выборок случайными выборками \n",
    "# размера k из множества In с повторением (bootstrap метод).\n",
    "\n",
    "\n",
    "# обьявлем функцию\n",
    "def generate_samples(max,n,k,random_state = None):\n",
    "    # создадим список под результат\n",
    "    samples_list = []\n",
    "    # формируем множество натуральных числе от 0 до max\n",
    "    In = list(range(max+1))\n",
    "    # Будем выполнять код пока не наберем необходимого количества выборок\n",
    "    # нарушим порядок в множестве\n",
    "    In = shuffle(In,random_state=random_state)\n",
    "    # random.shuffle(In)\n",
    "\n",
    "    # задаим границы извлечения данных из In\n",
    "    In_start = 0\n",
    "    In_end = k\n",
    "    while len(samples_list) < n:\n",
    "        # сформируем список под одну выборку\n",
    "        sample = []\n",
    "        # первые списки будем наполнять значениеми из множества In\n",
    "        # без повторения, до тех пор пока все значения из множества In\n",
    "        # не распределяться по выборкам\n",
    "        if len(In)-In_end >= 0:\n",
    "            sample.extend(In[In_start:In_end])\n",
    "        else:                    \n",
    "            # если элементов во множестве In недостаточно,\n",
    "            # запоняем выборку \"остатками\" \n",
    "            sample.extend(In[In_start:])\n",
    "\n",
    "            # остальные данные заполняем методом bootstrap\n",
    "            # выполнем код пока не заполним выборку k значениями\n",
    "            while len(sample) < k:\n",
    "                # генерируем случайное число из диапазона от 0 до len(In)-1\n",
    "                random_index = randint(0,len(In)-1)\n",
    "                # добавляем значение из множества In с индексом random_index\n",
    "                # в список index_list\n",
    "                sample.append(In[random_index])\n",
    "\n",
    "        # после того как мы набрали значения в выборку отправлем ее в samples_list\n",
    "        samples_list.append(sample)\n",
    "        # переходим к следующим данным в множестве In\n",
    "        In_start+=k\n",
    "        In_end+=k\n",
    "\n",
    "    return samples_list"
   ]
  },
  {
   "cell_type": "markdown",
   "metadata": {},
   "source": [
    "### <span style=\"color:RoyalBlue\">функция my_train_test_split</span>"
   ]
  },
  {
   "cell_type": "code",
   "execution_count": 10,
   "metadata": {},
   "outputs": [],
   "source": [
    "def my_train_test_split(X,y,random_state=42,train_size=0.8,):\n",
    "    # если разбиение без стратификации\n",
    "\n",
    "    # зададим число элементов в выборке train\n",
    "    len_train = round(len(y)*train_size)\n",
    "    # формируем множество натуральных чисел от 0 до max\n",
    "    list_random_index = list(range(len(y)))\n",
    "    # нарушим порядок в множестве\n",
    "    list_random_index = shuffle(list_random_index,random_state=random_state)\n",
    "    # формируем список индексов под train выборку\n",
    "    train_samples = list_random_index[:len_train]\n",
    "    # формируем список индексов под test выборку\n",
    "    test_samples = list_random_index[len_train:]\n",
    "    # выполнем код пока не заполним выборку k значениями\n",
    "   \n",
    "    X_train = X.iloc[train_samples]\n",
    "    y_train = y.iloc[train_samples]\n",
    "    X_test = X.iloc[test_samples]\n",
    "    y_test = y.iloc[test_samples]\n",
    "\n",
    "    return X_train, y_train, X_test, y_test"
   ]
  },
  {
   "cell_type": "markdown",
   "metadata": {},
   "source": [
    "### <span style=\"color:RoyalBlue\">функция class_1_percent_samples</span>"
   ]
  },
  {
   "cell_type": "code",
   "execution_count": 11,
   "metadata": {},
   "outputs": [],
   "source": [
    "# функция class_1_percent_samples\n",
    "\n",
    "# Назначение: для генерации индексов сбалансированных выборок\n",
    "\n",
    "# Внешние переменные функции: \n",
    "#           1. data_target - массив из id и значений класса\n",
    "#           2. class_1_percent - процент класса 1 в результирующей выборке\n",
    "#           3. random_state - параметр для обеспечения воспроизваодимости функции\n",
    "     \n",
    "\n",
    "# Результат работы функции: \n",
    "# 1. samples_list - список со сблансированными выбороками\n",
    "\n",
    "# обьявлем функцию\n",
    "def class_1_percent_samples(data_target,class_1_percent,random_state = None):\n",
    "    # приведем данные к нужной форме\n",
    "    data_target = pd.DataFrame(data=np.array(data_target),columns =['id','flag'])\n",
    "    \n",
    "    # разделим клиентов  по признаку flag\n",
    "    flag_0 = data_target[data_target['flag']==0].reset_index(drop=True)\n",
    "    flag_1 = data_target[data_target['flag']==1].reset_index(drop=True)\n",
    "\n",
    "    # определим класс большинства\n",
    "    if flag_1.shape[0] > flag_0.shape[0]:\n",
    "        majority_class = flag_1\n",
    "        minority_class = flag_0\n",
    "        # расчитаем необходимую величину выборки majority_class\n",
    "        majority_class_size = round(minority_class.shape[0]*(class_1_percent)/(1-class_1_percent))\n",
    "        # с помощью функции generate_samples сформируем выборку для majority_class\n",
    "        samples_majority_class= generate_samples(majority_class.shape[0]-1,1,majority_class_size,random_state=random_state)\n",
    "    else:\n",
    "        majority_class = flag_0\n",
    "        minority_class = flag_1\n",
    "        # расчитаем необходимую величину выборки majority_class\n",
    "        majority_class_size = round(minority_class.shape[0]*(1-class_1_percent)/(class_1_percent))\n",
    "        # с помощью функции generate_samples сформируем выборку для majority_class\n",
    "        samples_majority_class= generate_samples(majority_class.shape[0]-1,1,majority_class_size,random_state=random_state)\n",
    "    \n",
    "    # сформируем список выбороки с заданным процентом класс 1\n",
    "    samples_list_id = minority_class['id'].values.tolist()+majority_class['id'].iloc[samples_majority_class[0]].tolist()\n",
    "\n",
    "    return samples_list_id"
   ]
  },
  {
   "cell_type": "markdown",
   "metadata": {},
   "source": [
    "# <span style=\"color:DeepSkyBlue\">Процесс машинного обучения (ML-Machine Learning)</span>"
   ]
  },
  {
   "cell_type": "markdown",
   "metadata": {},
   "source": [
    "Постановка задачи в рамках Machine Learning:\n",
    "1. Для решения задачи построем блендинг моделей. \n",
    "\n",
    "2. В качестве базовых и метамоделей рассмотрим следующие классические модели классификации:\n",
    "    - linear_model.LogisticRegression (Логистическая регрессия);\n",
    "    - RandomForestClassifier (Деревья решений);\n",
    "    - HistGradientBoostingClassifier (Градиентный бустинг).\n",
    "\n",
    "3. В результате, преобразования данных было получено два пространства признаков (torow и stat признаки),  \n",
    "состоящих из 6 подпространств:\n",
    "    - date features;\n",
    "    - late payments features; \n",
    "    - credit features;\n",
    "    - relative features;\n",
    "    - payments features;\n",
    "    - service features.\n",
    "\n",
    "4. На первом этапе построения потроения блендинга, сфокусируем обучение базовых моделей,   \n",
    "на каждом подпространстве в отдельности друго от друга.  \n",
    "\n",
    "5. На втором этапе построения блендинга, обучим несколько групп метамоделей.   \n",
    "Первая группа метамоделей в качестве метапризнаков использует предсказания базовых моделей,    \n",
    "обученных на пространстве признаков torow.  \n",
    "Вторая группа метамоделей в качестве метапризнаков использует предсказания базовых моделей,    \n",
    "обученных на пространстве признаков stat.\n",
    "\n",
    "6. На третьем этапе построения блендинга метамодель обучится на метапризнаках пространства \n",
    "torow и stat."
   ]
  },
  {
   "cell_type": "markdown",
   "metadata": {},
   "source": [
    "<center> <img src = \"img\\Blending.jpg\" alt=\"drawing\" style=\"width:1400px;\">"
   ]
  },
  {
   "cell_type": "markdown",
   "metadata": {},
   "source": [
    "## <span style=\"color:DodgerBlue\">Второй этап построения блендинга моделей (first metamodels) </span>"
   ]
  },
  {
   "cell_type": "markdown",
   "metadata": {},
   "source": [
    "### <span style=\"color:RoyalBlue\">Формирование данных для обучения first meta models</span>"
   ]
  },
  {
   "cell_type": "markdown",
   "metadata": {},
   "source": [
    "Попробуем улучшить качество модели за счет блендинга.  \n",
    "Сформируем блендинга из рассмотренных базовых модей:\n",
    "- $Logistic$ $Regression$;\n",
    "- $Hist$ $Gradient$ $Boosting$ $Classifier$,  \n",
    "обученных на данных $transform$ $data$ $torow$ и $transform$ $data$ $stat$."
   ]
  },
  {
   "cell_type": "markdown",
   "metadata": {},
   "source": [
    "#### <span style=\"color:MediumBlue\">Формирование метапризнаков из моделей обученных на transform data torow данных</span>"
   ]
  },
  {
   "cell_type": "markdown",
   "metadata": {},
   "source": [
    "Проанализируем качество моделей обученных на torow данных"
   ]
  },
  {
   "cell_type": "code",
   "execution_count": 12,
   "metadata": {},
   "outputs": [],
   "source": [
    "# определим пространство признаков\n",
    "dict_spaces = {\n",
    "    'date' : 8,\n",
    "    'late': 12,\n",
    "    'credit': 4,\n",
    "    'relative' : 6,\n",
    "    'payments': 25,\n",
    "    'service': 4}\n",
    "\n",
    "# сформируем список из базовых моделей\n",
    "list_base_models = ['LogisticRegression','HistGradientBoostingClassifier']\n",
    "\n",
    "# заготовка для общего списка метрик\n",
    "metrics_torow_pd = pd.DataFrame()"
   ]
  },
  {
   "cell_type": "code",
   "execution_count": 13,
   "metadata": {},
   "outputs": [
    {
     "data": {
      "text/html": [
       "<div>\n",
       "<style scoped>\n",
       "    .dataframe tbody tr th:only-of-type {\n",
       "        vertical-align: middle;\n",
       "    }\n",
       "\n",
       "    .dataframe tbody tr th {\n",
       "        vertical-align: top;\n",
       "    }\n",
       "\n",
       "    .dataframe thead th {\n",
       "        text-align: right;\n",
       "    }\n",
       "</style>\n",
       "<table border=\"1\" class=\"dataframe\">\n",
       "  <thead>\n",
       "    <tr style=\"text-align: right;\">\n",
       "      <th></th>\n",
       "      <th>roc_train</th>\n",
       "      <th>roc_valid</th>\n",
       "      <th>f1_score</th>\n",
       "      <th>recall_1</th>\n",
       "      <th>precision_1</th>\n",
       "    </tr>\n",
       "  </thead>\n",
       "  <tbody>\n",
       "    <tr>\n",
       "      <th>0</th>\n",
       "      <td>0.585156</td>\n",
       "      <td>0.580831</td>\n",
       "      <td>0.000000</td>\n",
       "      <td>0.000000</td>\n",
       "      <td>0.000000</td>\n",
       "    </tr>\n",
       "    <tr>\n",
       "      <th>1</th>\n",
       "      <td>0.575883</td>\n",
       "      <td>0.571258</td>\n",
       "      <td>0.067882</td>\n",
       "      <td>1.000000</td>\n",
       "      <td>0.035133</td>\n",
       "    </tr>\n",
       "    <tr>\n",
       "      <th>2</th>\n",
       "      <td>0.494216</td>\n",
       "      <td>0.488417</td>\n",
       "      <td>0.067875</td>\n",
       "      <td>1.000000</td>\n",
       "      <td>0.035130</td>\n",
       "    </tr>\n",
       "    <tr>\n",
       "      <th>3</th>\n",
       "      <td>0.588762</td>\n",
       "      <td>0.580936</td>\n",
       "      <td>0.000000</td>\n",
       "      <td>0.000000</td>\n",
       "      <td>0.000000</td>\n",
       "    </tr>\n",
       "    <tr>\n",
       "      <th>4</th>\n",
       "      <td>0.574669</td>\n",
       "      <td>0.568678</td>\n",
       "      <td>0.070770</td>\n",
       "      <td>0.901318</td>\n",
       "      <td>0.036831</td>\n",
       "    </tr>\n",
       "    <tr>\n",
       "      <th>...</th>\n",
       "      <td>...</td>\n",
       "      <td>...</td>\n",
       "      <td>...</td>\n",
       "      <td>...</td>\n",
       "      <td>...</td>\n",
       "    </tr>\n",
       "    <tr>\n",
       "      <th>4196</th>\n",
       "      <td>0.670899</td>\n",
       "      <td>0.636532</td>\n",
       "      <td>0.095426</td>\n",
       "      <td>0.106272</td>\n",
       "      <td>0.086589</td>\n",
       "    </tr>\n",
       "    <tr>\n",
       "      <th>4197</th>\n",
       "      <td>0.656207</td>\n",
       "      <td>0.633204</td>\n",
       "      <td>0.069222</td>\n",
       "      <td>0.990012</td>\n",
       "      <td>0.035865</td>\n",
       "    </tr>\n",
       "    <tr>\n",
       "      <th>4198</th>\n",
       "      <td>0.646931</td>\n",
       "      <td>0.636672</td>\n",
       "      <td>0.067917</td>\n",
       "      <td>0.999201</td>\n",
       "      <td>0.035153</td>\n",
       "    </tr>\n",
       "    <tr>\n",
       "      <th>4199</th>\n",
       "      <td>0.644888</td>\n",
       "      <td>0.634490</td>\n",
       "      <td>0.069238</td>\n",
       "      <td>0.991610</td>\n",
       "      <td>0.035871</td>\n",
       "    </tr>\n",
       "    <tr>\n",
       "      <th>4200</th>\n",
       "      <td>0.673225</td>\n",
       "      <td>0.636222</td>\n",
       "      <td>0.095333</td>\n",
       "      <td>0.095885</td>\n",
       "      <td>0.094787</td>\n",
       "    </tr>\n",
       "  </tbody>\n",
       "</table>\n",
       "<p>4201 rows × 5 columns</p>\n",
       "</div>"
      ],
      "text/plain": [
       "      roc_train  roc_valid  f1_score  recall_1  precision_1\n",
       "0      0.585156   0.580831  0.000000  0.000000     0.000000\n",
       "1      0.575883   0.571258  0.067882  1.000000     0.035133\n",
       "2      0.494216   0.488417  0.067875  1.000000     0.035130\n",
       "3      0.588762   0.580936  0.000000  0.000000     0.000000\n",
       "4      0.574669   0.568678  0.070770  0.901318     0.036831\n",
       "...         ...        ...       ...       ...          ...\n",
       "4196   0.670899   0.636532  0.095426  0.106272     0.086589\n",
       "4197   0.656207   0.633204  0.069222  0.990012     0.035865\n",
       "4198   0.646931   0.636672  0.067917  0.999201     0.035153\n",
       "4199   0.644888   0.634490  0.069238  0.991610     0.035871\n",
       "4200   0.673225   0.636222  0.095333  0.095885     0.094787\n",
       "\n",
       "[4201 rows x 5 columns]"
      ]
     },
     "execution_count": 13,
     "metadata": {},
     "output_type": "execute_result"
    }
   ],
   "source": [
    "for base_model in list_base_models:\n",
    "    # сформируем общий список метрик моделей обученных на torow данных\n",
    "    for feature_space in dict_spaces.keys():\n",
    "        # загрузим обьект исcледования optuna\n",
    "        optuna_study_torow = optuna.load_study(study_name=base_model+'_'+feature_space+'_torow',\n",
    "                                storage='sqlite:///optuna_studies.db')\n",
    "        \n",
    "        # из полученного обьекта сформируем Data Frame\n",
    "        optuna_study_torow_pd = optuna_study_torow.trials_dataframe()[['values_0','values_1','values_2','values_3','values_4']].dropna()\n",
    "\n",
    "        # переименуем столбы\n",
    "        optuna_study_torow_pd.rename(columns={\n",
    "            'values_0': 'roc_train', \n",
    "            'values_1': 'roc_valid', \n",
    "            'values_2': 'f1_score', \n",
    "            'values_3': 'recall_1',\n",
    "            'values_4': 'precision_1'\n",
    "        },inplace=True)\n",
    "\n",
    "        # добавим текущще подпростраство в общий список\n",
    "        metrics_torow_pd = pd.concat([metrics_torow_pd,optuna_study_torow_pd],ignore_index=True)\n",
    "\n",
    "# посмотрим на результат\n",
    "metrics_torow_pd"
   ]
  },
  {
   "cell_type": "code",
   "execution_count": 14,
   "metadata": {},
   "outputs": [
    {
     "data": {
      "text/html": [
       "<div>\n",
       "<style scoped>\n",
       "    .dataframe tbody tr th:only-of-type {\n",
       "        vertical-align: middle;\n",
       "    }\n",
       "\n",
       "    .dataframe tbody tr th {\n",
       "        vertical-align: top;\n",
       "    }\n",
       "\n",
       "    .dataframe thead th {\n",
       "        text-align: right;\n",
       "    }\n",
       "</style>\n",
       "<table border=\"1\" class=\"dataframe\">\n",
       "  <thead>\n",
       "    <tr style=\"text-align: right;\">\n",
       "      <th></th>\n",
       "      <th>roc_train</th>\n",
       "      <th>roc_valid</th>\n",
       "      <th>f1_score</th>\n",
       "      <th>recall_1</th>\n",
       "      <th>precision_1</th>\n",
       "    </tr>\n",
       "  </thead>\n",
       "  <tbody>\n",
       "    <tr>\n",
       "      <th>count</th>\n",
       "      <td>4201.000000</td>\n",
       "      <td>4201.000000</td>\n",
       "      <td>4201.000000</td>\n",
       "      <td>4201.000000</td>\n",
       "      <td>4201.000000</td>\n",
       "    </tr>\n",
       "    <tr>\n",
       "      <th>mean</th>\n",
       "      <td>0.638668</td>\n",
       "      <td>0.619358</td>\n",
       "      <td>0.072161</td>\n",
       "      <td>0.428013</td>\n",
       "      <td>0.066453</td>\n",
       "    </tr>\n",
       "    <tr>\n",
       "      <th>std</th>\n",
       "      <td>0.050347</td>\n",
       "      <td>0.033692</td>\n",
       "      <td>0.034689</td>\n",
       "      <td>0.370498</td>\n",
       "      <td>0.058417</td>\n",
       "    </tr>\n",
       "    <tr>\n",
       "      <th>min</th>\n",
       "      <td>0.483961</td>\n",
       "      <td>0.485817</td>\n",
       "      <td>0.000000</td>\n",
       "      <td>0.000000</td>\n",
       "      <td>0.000000</td>\n",
       "    </tr>\n",
       "    <tr>\n",
       "      <th>25%</th>\n",
       "      <td>0.595874</td>\n",
       "      <td>0.597988</td>\n",
       "      <td>0.067865</td>\n",
       "      <td>0.062325</td>\n",
       "      <td>0.037762</td>\n",
       "    </tr>\n",
       "    <tr>\n",
       "      <th>50%</th>\n",
       "      <td>0.636853</td>\n",
       "      <td>0.623173</td>\n",
       "      <td>0.076725</td>\n",
       "      <td>0.346784</td>\n",
       "      <td>0.052280</td>\n",
       "    </tr>\n",
       "    <tr>\n",
       "      <th>75%</th>\n",
       "      <td>0.683712</td>\n",
       "      <td>0.635425</td>\n",
       "      <td>0.095658</td>\n",
       "      <td>0.799041</td>\n",
       "      <td>0.082126</td>\n",
       "    </tr>\n",
       "    <tr>\n",
       "      <th>max</th>\n",
       "      <td>0.747136</td>\n",
       "      <td>0.687650</td>\n",
       "      <td>0.141577</td>\n",
       "      <td>1.000000</td>\n",
       "      <td>1.000000</td>\n",
       "    </tr>\n",
       "  </tbody>\n",
       "</table>\n",
       "</div>"
      ],
      "text/plain": [
       "         roc_train    roc_valid     f1_score     recall_1  precision_1\n",
       "count  4201.000000  4201.000000  4201.000000  4201.000000  4201.000000\n",
       "mean      0.638668     0.619358     0.072161     0.428013     0.066453\n",
       "std       0.050347     0.033692     0.034689     0.370498     0.058417\n",
       "min       0.483961     0.485817     0.000000     0.000000     0.000000\n",
       "25%       0.595874     0.597988     0.067865     0.062325     0.037762\n",
       "50%       0.636853     0.623173     0.076725     0.346784     0.052280\n",
       "75%       0.683712     0.635425     0.095658     0.799041     0.082126\n",
       "max       0.747136     0.687650     0.141577     1.000000     1.000000"
      ]
     },
     "execution_count": 14,
     "metadata": {},
     "output_type": "execute_result"
    }
   ],
   "source": [
    "# проанализируем метрики всех моделей обученных на torow данных\n",
    "metrics_torow_pd.describe()"
   ]
  },
  {
   "cell_type": "markdown",
   "metadata": {},
   "source": [
    "Для блендинга выберем модели c значениями метрик на валидационном наборе выше верхнего квартиля:\n",
    "- модели с значением метрики $ROC AUC \\geq 0.637$;\n",
    "- модели с значением метрики $precision_1 \\geq 0.081$;\n",
    "- модели с значением метрики $f1_{score} \\geq 0.1$;"
   ]
  },
  {
   "cell_type": "code",
   "execution_count": 15,
   "metadata": {},
   "outputs": [],
   "source": [
    "# зададим минимальные значения метрик\n",
    "min_roc_auc = float(metrics_torow_pd.describe()['roc_valid']['75%'])\n",
    "min_precision = float(metrics_torow_pd.describe()['precision_1']['75%'])\n",
    "min_f1 = float(metrics_torow_pd.describe()['f1_score']['75%'])"
   ]
  },
  {
   "cell_type": "code",
   "execution_count": 16,
   "metadata": {},
   "outputs": [],
   "source": [
    "# сформируем заготовку под метаданные для обучения и проверики метамодели \n",
    "features_first_meta_torow = pd.read_csv('target/target_test.csv')\n",
    "\n",
    "# для выбора sceler преобразвания понадобится словарь\n",
    "dict_scalers ={\n",
    "    'MinMaxScaler':MinMaxScaler(),\n",
    "    'RobustScaler':RobustScaler(),\n",
    "    'StandardScaler':StandardScaler(),\n",
    "}\n",
    "\n",
    "# задаим количество отбираемых \"лучших\" моделей\n",
    "best_models_number = 15"
   ]
  },
  {
   "cell_type": "markdown",
   "metadata": {},
   "source": [
    "##### <span style=\"color:MediumSlateBlue\">Формирование метапризнаков от модели *Logistic Regression* обученной сбалансированными *transform data torow* данными</span>"
   ]
  },
  {
   "cell_type": "code",
   "execution_count": 17,
   "metadata": {},
   "outputs": [],
   "source": [
    "# сформируем метапризнаки для каждого подпространства признаков\n",
    "for feature_space in dict_spaces.keys():\n",
    "    # обьявим количество признаков подпространства\n",
    "    count_features = dict_spaces[feature_space]\n",
    "\n",
    "    # загрузим обьект исcледования optuna\n",
    "    optuna_study_lr_torow = optuna.load_study(study_name='LogisticRegression_'+feature_space+'_torow',\n",
    "                               storage='sqlite:///optuna_studies.db')\n",
    "    \n",
    "    # из полученного обьекта сформируем Data Frame\n",
    "    optuna_study_lr_torow_pd = optuna_study_lr_torow.trials_dataframe().dropna()\n",
    "\n",
    "    # переименуем столбы\n",
    "    optuna_study_lr_torow_pd.rename(columns={\n",
    "        'values_0': 'roc_train', \n",
    "        'values_1': 'roc_valid', \n",
    "        'values_2': 'f1_score', \n",
    "        'values_3': 'recall_1',\n",
    "        'values_4': 'precision_1'\n",
    "    },inplace=True)\n",
    "\n",
    "    # удалим ненужные столбцы\n",
    "    optuna_study_lr_torow_pd.drop(['datetime_start','datetime_complete','state','duration'],axis=1, inplace=True)\n",
    "\n",
    "    # выберем точки с лучшими значениями метрики roc auc на валидационном наборе\n",
    "    best_roc_lr_torow = optuna_study_lr_torow_pd[optuna_study_lr_torow_pd['roc_valid']>=min_roc_auc].sort_values(by='roc_valid',ascending=False)[:best_models_number] \n",
    "\n",
    "    # выберем точки с лучшими значениями метрики precion класса 1 на валидационном наборе\n",
    "    best_precion_lr_torow = optuna_study_lr_torow_pd[optuna_study_lr_torow_pd['precision_1']>=min_precision].sort_values(by='precision_1',ascending=False)[:best_models_number]   \n",
    "\n",
    "    # выберем точки в которых максимальна метрика f1-score класса 1 (precision_1=recall_1)\n",
    "    best_f1_lr_torow = optuna_study_lr_torow_pd[optuna_study_lr_torow_pd['f1_score']>=min_f1].sort_values(by='f1_score',ascending=False)[:best_models_number]\n",
    "\n",
    "    # сформируем набор признаков для лучших моделей\n",
    "    best_models_lr_torow = pd.concat([best_roc_lr_torow,best_precion_lr_torow,best_f1_lr_torow]).drop_duplicates().reset_index(drop=True)\n",
    "\n",
    "    # сформируем список индексов best_models_lr_torow\n",
    "    list_index = best_models_lr_torow.index\n",
    "\n",
    "    # сформируем  метапризнаки для обучения метамодели\n",
    "    # для этого необходиом обучить модель LogisticRegression с выбранными гиперпараметрами\n",
    "    for index in list_index:\n",
    "\n",
    "        # для того чтобы следить за выполнением цикла введем индикатор\n",
    "        print('Current space: ', feature_space)\n",
    "        print('Number of indexes: ', max(list_index))\n",
    "        print('Current index: ', index)\n",
    "        \n",
    "        # сформируем необходимые параметры\n",
    "        C = best_models_lr_torow.loc[index,'params_C']\n",
    "        solver = best_models_lr_torow.loc[index,'params_solver']\n",
    "        class_weight = {0:best_models_lr_torow.loc[index,'params_class_0_weight'],\n",
    "                        1:best_models_lr_torow.loc[index,'params_class_1_weight']}\n",
    "        n_last = int(best_models_lr_torow.loc[index,'params_n_last'])\n",
    "        scaler = best_models_lr_torow.loc[index,'params_scaler']\n",
    "        class_1_percent = best_models_lr_torow.loc[index,'params_class_1_percent']\n",
    "        random_state = int(best_models_lr_torow.loc[index,'params_random_state'])\n",
    "\n",
    "        # с помощью функции features_from_transform_data_torow извлечем  \n",
    "        # из данных transform_data_torow\n",
    "        # признаки сооствествующие n_last последним клиенским операциям\n",
    "        list_n_last_features = features_from_transform_data_torow(n_last,count_features,25)\n",
    "\n",
    "        # сохраним list_n_last_features для дальнейшего воспроизведения\n",
    "        dump(list_n_last_features, 'models/base/list_n_last_features/'+'list_n_last_features_LRTR_'+feature_space+'_'+str('0'+str(index))[-2:]+'.joblib')\n",
    "\n",
    "        # обьявим scaler\n",
    "        scaler = dict_scalers[scaler]\n",
    "\n",
    "        # загружаем обучующие наборы\n",
    "        print('Loading train data')\n",
    "        X_train_pd = fp.ParquetFile('features/base/torow/'+feature_space+'_torow_train').to_pandas()\n",
    "        y_train_pd = pd.read_csv('target/target_train.csv')\n",
    "\n",
    "        # поготовим данные y_train_pd к работе с функцией class_1_percent_samples\n",
    "        y_train_pd.set_index('id',drop=False,inplace=True)\n",
    "\n",
    "        # подготовим данные для обучения модели\n",
    "        # с помощью функции class_1_percent_samples зададим долю \n",
    "        # класса 1\n",
    "        list_c1_percent_id = class_1_percent_samples(y_train_pd,class_1_percent,random_state=random_state)[:1000000]\n",
    "\n",
    "        # сформируем данные для обучения базовой модели\n",
    "        X_train_s_balanced = scaler.fit_transform(np.array(X_train_pd.loc[list_c1_percent_id])[:,list_n_last_features])\n",
    "        y_train_balanced = y_train_pd.loc[list_c1_percent_id]['flag'].to_numpy()\n",
    "\n",
    "        # сохраним scaler для дальнейшего воспроизведения\n",
    "        dump(scaler, 'models/base/scalers/'+'scaler_torow_'+feature_space+'_'+str('0'+str(index))[-2:]+'.joblib')\n",
    "\n",
    "        # освободим память от \"тяжелых\" и ненужных файлов\n",
    "        del X_train_pd, y_train_pd\n",
    "        gc.collect()\n",
    "\n",
    "        # для того чтобы следить за выполнением цикла введем индикатор\n",
    "        print('start train')\n",
    "        # обучаем модель LogisticRegression с наилучшеми параметрами\n",
    "        logistic_regression = linear_model.LogisticRegression(\n",
    "                C=C,\n",
    "                solver = solver,\n",
    "                class_weight=class_weight,\n",
    "                random_state=random_state,\n",
    "                max_iter=10000)\n",
    "        logistic_regression.fit(X_train_s_balanced,y_train_balanced)\n",
    "        # для того чтобы следить за выполнением цикла введем индикатор\n",
    "        print('finished train')\n",
    "\n",
    "        # сохраним модель для дальнейшего воспроизведения\n",
    "        dump(logistic_regression, 'models/base/'+'LRTR_'+feature_space+'_'+str('0'+str(index))[-2:]+'.joblib')\n",
    "\n",
    "        # удаляем крупные файлы чтобы высвободить память \n",
    "        del X_train_s_balanced,y_train_balanced\n",
    "        gc.collect()\n",
    "\n",
    "        # для того чтобы следить за выполнением цикла введем индикатор\n",
    "        print('Loading test data')\n",
    "        # подгружаем данные для тестирования\n",
    "        X_test = fp.ParquetFile('features/base/torow/'+feature_space+'_torow_test').to_pandas().to_numpy()[:,list_n_last_features]\n",
    "        # сформируем данные для проверки модели\n",
    "        X_test_s = scaler.transform(X_test)\n",
    "        # для метрик ROC AUC делаем предсказание модели в виде вероятности и записываем в методанные\n",
    "        features_first_meta_torow['LRTR_'+feature_space+'_'+str('0'+str(index))[-2:]] = logistic_regression.predict_proba(X_test_s)[:,1]\n",
    "        # удаляем крупные файлы чтобы высвободить память \n",
    "        del X_test_s, X_test\n",
    "        gc.collect()\n",
    "        clear_output()\n",
    "\n",
    "# сохраним полученные метапризнаки\n",
    "fp.write('features/firstmeta/features_first_meta_torow',features_first_meta_torow)"
   ]
  },
  {
   "cell_type": "markdown",
   "metadata": {},
   "source": [
    "##### <span style=\"color:MediumSlateBlue\">Формирование метапризнаков от модели *Gradient Boosting Classifier* обученной сбалансированными *transform data torow* данными</span>"
   ]
  },
  {
   "cell_type": "code",
   "execution_count": 18,
   "metadata": {},
   "outputs": [],
   "source": [
    "# сформируем метапризнаки для каждого подпространства признаков\n",
    "for feature_space in dict_spaces.keys():\n",
    "    # обьявим количество признаков подпространства\n",
    "    count_features = dict_spaces[feature_space]\n",
    "\n",
    "    # загрузим обьект исcледования optuna\n",
    "    optuna_study_gb_torow = optuna.load_study(study_name='HistGradientBoostingClassifier_'+feature_space+'_torow',\n",
    "                               storage='sqlite:///optuna_studies.db')\n",
    "    \n",
    "    # из полученного обьекта сформируем Data Frame\n",
    "    optuna_study_gb_torow_pd = optuna_study_gb_torow.trials_dataframe().dropna()\n",
    "\n",
    "    # переименуем столбы\n",
    "    optuna_study_gb_torow_pd.rename(columns={\n",
    "        'values_0': 'roc_train', \n",
    "        'values_1': 'roc_valid', \n",
    "        'values_2': 'f1_score', \n",
    "        'values_3': 'recall_1',\n",
    "        'values_4': 'precision_1'\n",
    "    },inplace=True)\n",
    "\n",
    "    # удалим ненужные столбцы\n",
    "    optuna_study_gb_torow_pd.drop(['datetime_start','datetime_complete','state','duration'],axis=1, inplace=True)\n",
    "\n",
    "    # выберем точки с лучшими значениями метрики roc auc на валидационном наборе\n",
    "    best_roc_gb_torow = optuna_study_gb_torow_pd[optuna_study_gb_torow_pd['roc_valid']>=min_roc_auc].sort_values(by='roc_valid',ascending=False)[:best_models_number] \n",
    "\n",
    "    # выберем точки с лучшими значениями метрики precion класса 1 на валидационном наборе\n",
    "    best_precion_gb_torow = optuna_study_gb_torow_pd[optuna_study_gb_torow_pd['precision_1']>=min_precision].sort_values(by='precision_1',ascending=False)[:best_models_number]   \n",
    "\n",
    "    # выберем точки в которых максимальна метрика f1-score класса 1 (precision_1=recall_1)\n",
    "    best_f1_gb_torow = optuna_study_gb_torow_pd[optuna_study_gb_torow_pd['f1_score']>=min_f1].sort_values(by='f1_score',ascending=False)[:best_models_number]\n",
    "\n",
    "    # сформируем набор признаков для лучших моделей\n",
    "    best_models_gb_torow = pd.concat([best_roc_gb_torow,best_precion_gb_torow,best_f1_gb_torow]).drop_duplicates().reset_index(drop=True)\n",
    "\n",
    "    # сформируем список индексов best_models_gb_torow\n",
    "    list_index = best_models_gb_torow.index\n",
    "\n",
    "    # сформируем  метапризнаки для обучения метамодели\n",
    "    # для этого необходиом обучить модель HistGradientBoostingClassifier с выбранными гиперпараметрами\n",
    "    for index in list_index:\n",
    "\n",
    "        # для того чтобы следить за выполнением цикла введем индикатор\n",
    "        print('Current space: ', feature_space)\n",
    "        print('Number of indexes: ', max(list_index))\n",
    "        print('Current index: ', index)\n",
    "        \n",
    "        # сформируем необходимые параметры\n",
    "        learning_rate = best_models_gb_torow.loc[index,'params_learning_rate']\n",
    "        max_iter = best_models_gb_torow.loc[index,'params_max_iter']\n",
    "        max_leaf_nodes = best_models_gb_torow.loc[index,'params_max_leaf_nodes']\n",
    "        max_depth = best_models_gb_torow.loc[index,'params_max_depth']\n",
    "        min_samples_leaf = best_models_gb_torow.loc[index,'params_min_samples_leaf']\n",
    "        l2_regularization = best_models_gb_torow.loc[index,'params_l2_regularization']\n",
    "        max_features = best_models_gb_torow.loc[index,'params_max_features']\n",
    "        class_weight = {0:best_models_gb_torow.loc[index,'params_class_0_weight'],\n",
    "                        1:best_models_gb_torow.loc[index,'params_class_1_weight']}\n",
    "        n_last = best_models_gb_torow.loc[index,'params_n_last']\n",
    "        class_1_percent = best_models_gb_torow.loc[index,'params_class_1_percent']\n",
    "        random_state = best_models_gb_torow.loc[index,'params_random_state']\n",
    "\n",
    "        # с помощью функции features_from_transform_data_torow извлечем  \n",
    "        # из данных transform_data_torow\n",
    "        # признаки сооствествующие n_last последним клиенским операциям\n",
    "        list_n_last_features = features_from_transform_data_torow(n_last,count_features,25)\n",
    "\n",
    "            # сохраним list_n_last_features для дальнейшего воспроизведения\n",
    "        dump(list_n_last_features, 'models/base/list_n_last_features/'+'list_n_last_features_GBTR_'+feature_space+'_'+str('0'+str(index))[-2:]+'.joblib')\n",
    "\n",
    "        # загружаем обучующие наборы\n",
    "        print('Loading train data')\n",
    "        X_train_pd = fp.ParquetFile('features/base/torow/'+feature_space+'_torow_train').to_pandas()\n",
    "        y_train_pd = pd.read_csv('target/target_train.csv')\n",
    "\n",
    "        # поготовим данные y_train_pd к работе с функцией class_1_percent_samples\n",
    "        y_train_pd.set_index('id',drop=False,inplace=True)\n",
    "\n",
    "        # подготовим данные для обучения модели\n",
    "        # с помощью функции class_1_percent_samples зададим долю класса 1\n",
    "        list_c1_percent_id = class_1_percent_samples(y_train_pd,class_1_percent,random_state=random_state)[:1000000]\n",
    "\n",
    "        # сформируем данные для обучения модели\n",
    "        X_train_balanced = np.array(X_train_pd.loc[list_c1_percent_id])[:,list_n_last_features]\n",
    "        y_train_balanced = y_train_pd.loc[list_c1_percent_id]['flag'].to_numpy()\n",
    "\n",
    "        # освободим память от \"тяжелых\" и ненужных файлов\n",
    "        del X_train_pd, y_train_pd\n",
    "        gc.collect()\n",
    "\n",
    "        # для того чтобы следить за выполнением цикла введем индикатор\n",
    "        print('start train')\n",
    "        # обучаем модель HistGradientBoostingClassifier с наилучшеми параметрами\n",
    "        gradient_boosting = HistGradientBoostingClassifier(\n",
    "                learning_rate = learning_rate,\n",
    "                max_iter = max_iter,\n",
    "                max_leaf_nodes = max_leaf_nodes,\n",
    "                max_depth = max_depth,\n",
    "                min_samples_leaf = min_samples_leaf,\n",
    "                l2_regularization = l2_regularization,\n",
    "                max_features = max_features,\n",
    "                class_weight = class_weight,\n",
    "                random_state=42)\n",
    "        gradient_boosting.fit(X_train_balanced,y_train_balanced)\n",
    "        # для того чтобы следить за выполнением цикла введем индикатор\n",
    "        print('finished train')\n",
    "\n",
    "        # сохраним модель для дальнейшего воспроизведения\n",
    "        dump(gradient_boosting, 'models/base/'+'GBTR_'+feature_space+'_'+str('0'+str(index))[-2:]+'.joblib')\n",
    "\n",
    "        # удаляем крупные файлы чтобы высвободить память \n",
    "        del X_train_balanced,y_train_balanced\n",
    "        gc.collect()\n",
    "\n",
    "        # для того чтобы следить за выполнением цикла введем индикатор\n",
    "        print('Loading test data')\n",
    "        # подгружаем данные для тестирования\n",
    "        X_test = fp.ParquetFile('features/base/torow/'+feature_space+'_torow_test').to_pandas().to_numpy()[:,list_n_last_features]\n",
    "        # для метрик ROC AUC делаем предсказание модели в виде вероятности и записываем в методанные\n",
    "        features_first_meta_torow['GBTR_'+feature_space+'_'+str('0'+str(index))[-2:]] = gradient_boosting.predict_proba(X_test)[:,1]\n",
    "        # удаляем крупные файлы чтобы высвободить память \n",
    "        del X_test\n",
    "        gc.collect()\n",
    "        clear_output()\n",
    "\n",
    "# сохраним полученные метапризнаки\n",
    "fp.write('features/firstmeta/features_first_meta_torow',features_first_meta_torow)"
   ]
  },
  {
   "cell_type": "markdown",
   "metadata": {},
   "source": [
    "#### <span style=\"color:MediumBlue\">Формирование метапризнаков из моделей обученных на transform data stat данных</span>"
   ]
  },
  {
   "cell_type": "markdown",
   "metadata": {},
   "source": [
    "Проанализируем качество моделей обученных на stat данных"
   ]
  },
  {
   "cell_type": "code",
   "execution_count": 19,
   "metadata": {},
   "outputs": [],
   "source": [
    "# определим пространство признаков\n",
    "dict_spaces = {\n",
    "    'date' : 8,\n",
    "    'late': 12,\n",
    "    'credit': 4,\n",
    "    'relative' : 6,\n",
    "    'payments': 25,\n",
    "    'service': 4}\n",
    "\n",
    "# сформируем список из базовых моделей\n",
    "list_base_models = ['LogisticRegression','HistGradientBoostingClassifier']\n",
    "\n",
    "# заготовка для общего списка метрик\n",
    "metrics_stat_pd = pd.DataFrame()"
   ]
  },
  {
   "cell_type": "code",
   "execution_count": 20,
   "metadata": {},
   "outputs": [
    {
     "data": {
      "text/html": [
       "<div>\n",
       "<style scoped>\n",
       "    .dataframe tbody tr th:only-of-type {\n",
       "        vertical-align: middle;\n",
       "    }\n",
       "\n",
       "    .dataframe tbody tr th {\n",
       "        vertical-align: top;\n",
       "    }\n",
       "\n",
       "    .dataframe thead th {\n",
       "        text-align: right;\n",
       "    }\n",
       "</style>\n",
       "<table border=\"1\" class=\"dataframe\">\n",
       "  <thead>\n",
       "    <tr style=\"text-align: right;\">\n",
       "      <th></th>\n",
       "      <th>roc_train</th>\n",
       "      <th>roc_valid</th>\n",
       "      <th>f1_score</th>\n",
       "      <th>recall_1</th>\n",
       "      <th>precision_1</th>\n",
       "    </tr>\n",
       "  </thead>\n",
       "  <tbody>\n",
       "    <tr>\n",
       "      <th>0</th>\n",
       "      <td>0.570751</td>\n",
       "      <td>0.566699</td>\n",
       "      <td>0.000000</td>\n",
       "      <td>0.000000</td>\n",
       "      <td>0.000000</td>\n",
       "    </tr>\n",
       "    <tr>\n",
       "      <th>1</th>\n",
       "      <td>0.586950</td>\n",
       "      <td>0.581612</td>\n",
       "      <td>0.085706</td>\n",
       "      <td>0.241710</td>\n",
       "      <td>0.052088</td>\n",
       "    </tr>\n",
       "    <tr>\n",
       "      <th>2</th>\n",
       "      <td>0.571209</td>\n",
       "      <td>0.569071</td>\n",
       "      <td>0.000000</td>\n",
       "      <td>0.000000</td>\n",
       "      <td>0.000000</td>\n",
       "    </tr>\n",
       "    <tr>\n",
       "      <th>3</th>\n",
       "      <td>0.581467</td>\n",
       "      <td>0.577797</td>\n",
       "      <td>0.000000</td>\n",
       "      <td>0.000000</td>\n",
       "      <td>0.000000</td>\n",
       "    </tr>\n",
       "    <tr>\n",
       "      <th>4</th>\n",
       "      <td>0.583944</td>\n",
       "      <td>0.577297</td>\n",
       "      <td>0.000000</td>\n",
       "      <td>0.000000</td>\n",
       "      <td>0.000000</td>\n",
       "    </tr>\n",
       "    <tr>\n",
       "      <th>...</th>\n",
       "      <td>...</td>\n",
       "      <td>...</td>\n",
       "      <td>...</td>\n",
       "      <td>...</td>\n",
       "      <td>...</td>\n",
       "    </tr>\n",
       "    <tr>\n",
       "      <th>3595</th>\n",
       "      <td>0.658287</td>\n",
       "      <td>0.641242</td>\n",
       "      <td>0.099141</td>\n",
       "      <td>0.536956</td>\n",
       "      <td>0.054612</td>\n",
       "    </tr>\n",
       "    <tr>\n",
       "      <th>3596</th>\n",
       "      <td>0.662682</td>\n",
       "      <td>0.641477</td>\n",
       "      <td>0.110810</td>\n",
       "      <td>0.351578</td>\n",
       "      <td>0.065770</td>\n",
       "    </tr>\n",
       "    <tr>\n",
       "      <th>3597</th>\n",
       "      <td>0.659675</td>\n",
       "      <td>0.641895</td>\n",
       "      <td>0.093336</td>\n",
       "      <td>0.091490</td>\n",
       "      <td>0.095258</td>\n",
       "    </tr>\n",
       "    <tr>\n",
       "      <th>3598</th>\n",
       "      <td>0.658903</td>\n",
       "      <td>0.640088</td>\n",
       "      <td>0.068801</td>\n",
       "      <td>0.989213</td>\n",
       "      <td>0.035640</td>\n",
       "    </tr>\n",
       "    <tr>\n",
       "      <th>3599</th>\n",
       "      <td>0.644104</td>\n",
       "      <td>0.639686</td>\n",
       "      <td>0.086370</td>\n",
       "      <td>0.076708</td>\n",
       "      <td>0.098816</td>\n",
       "    </tr>\n",
       "  </tbody>\n",
       "</table>\n",
       "<p>3600 rows × 5 columns</p>\n",
       "</div>"
      ],
      "text/plain": [
       "      roc_train  roc_valid  f1_score  recall_1  precision_1\n",
       "0      0.570751   0.566699  0.000000  0.000000     0.000000\n",
       "1      0.586950   0.581612  0.085706  0.241710     0.052088\n",
       "2      0.571209   0.569071  0.000000  0.000000     0.000000\n",
       "3      0.581467   0.577797  0.000000  0.000000     0.000000\n",
       "4      0.583944   0.577297  0.000000  0.000000     0.000000\n",
       "...         ...        ...       ...       ...          ...\n",
       "3595   0.658287   0.641242  0.099141  0.536956     0.054612\n",
       "3596   0.662682   0.641477  0.110810  0.351578     0.065770\n",
       "3597   0.659675   0.641895  0.093336  0.091490     0.095258\n",
       "3598   0.658903   0.640088  0.068801  0.989213     0.035640\n",
       "3599   0.644104   0.639686  0.086370  0.076708     0.098816\n",
       "\n",
       "[3600 rows x 5 columns]"
      ]
     },
     "execution_count": 20,
     "metadata": {},
     "output_type": "execute_result"
    }
   ],
   "source": [
    "for base_model in list_base_models:\n",
    "    # сформируем общий список метрик моделей обученных на torow данных\n",
    "    for feature_space in dict_spaces.keys():\n",
    "        # загрузим обьект исcледования optuna\n",
    "        optuna_study_stat = optuna.load_study(study_name=base_model+'_'+feature_space+'_stat',\n",
    "                                storage='sqlite:///optuna_studies.db')\n",
    "        \n",
    "        # из полученного обьекта сформируем Data Frame\n",
    "        optuna_study_stat_pd = optuna_study_stat.trials_dataframe()[['values_0','values_1','values_2','values_3','values_4']].dropna()\n",
    "\n",
    "        # переименуем столбы\n",
    "        optuna_study_stat_pd.rename(columns={\n",
    "            'values_0': 'roc_train', \n",
    "            'values_1': 'roc_valid', \n",
    "            'values_2': 'f1_score', \n",
    "            'values_3': 'recall_1',\n",
    "            'values_4': 'precision_1'\n",
    "        },inplace=True)\n",
    "\n",
    "        # добавим текущще подпростраство в общий список\n",
    "        metrics_stat_pd = pd.concat([metrics_stat_pd,optuna_study_stat_pd],ignore_index=True)\n",
    "\n",
    "# посмотрим на результат\n",
    "metrics_stat_pd"
   ]
  },
  {
   "cell_type": "code",
   "execution_count": 21,
   "metadata": {},
   "outputs": [
    {
     "data": {
      "text/html": [
       "<div>\n",
       "<style scoped>\n",
       "    .dataframe tbody tr th:only-of-type {\n",
       "        vertical-align: middle;\n",
       "    }\n",
       "\n",
       "    .dataframe tbody tr th {\n",
       "        vertical-align: top;\n",
       "    }\n",
       "\n",
       "    .dataframe thead th {\n",
       "        text-align: right;\n",
       "    }\n",
       "</style>\n",
       "<table border=\"1\" class=\"dataframe\">\n",
       "  <thead>\n",
       "    <tr style=\"text-align: right;\">\n",
       "      <th></th>\n",
       "      <th>roc_train</th>\n",
       "      <th>roc_valid</th>\n",
       "      <th>f1_score</th>\n",
       "      <th>recall_1</th>\n",
       "      <th>precision_1</th>\n",
       "    </tr>\n",
       "  </thead>\n",
       "  <tbody>\n",
       "    <tr>\n",
       "      <th>count</th>\n",
       "      <td>3600.000000</td>\n",
       "      <td>3600.000000</td>\n",
       "      <td>3600.000000</td>\n",
       "      <td>3600.000000</td>\n",
       "      <td>3600.000000</td>\n",
       "    </tr>\n",
       "    <tr>\n",
       "      <th>mean</th>\n",
       "      <td>0.645177</td>\n",
       "      <td>0.630109</td>\n",
       "      <td>0.076166</td>\n",
       "      <td>0.270411</td>\n",
       "      <td>0.076349</td>\n",
       "    </tr>\n",
       "    <tr>\n",
       "      <th>std</th>\n",
       "      <td>0.039747</td>\n",
       "      <td>0.025895</td>\n",
       "      <td>0.038083</td>\n",
       "      <td>0.274393</td>\n",
       "      <td>0.058625</td>\n",
       "    </tr>\n",
       "    <tr>\n",
       "      <th>min</th>\n",
       "      <td>0.569406</td>\n",
       "      <td>0.566111</td>\n",
       "      <td>0.000000</td>\n",
       "      <td>0.000000</td>\n",
       "      <td>0.000000</td>\n",
       "    </tr>\n",
       "    <tr>\n",
       "      <th>25%</th>\n",
       "      <td>0.614292</td>\n",
       "      <td>0.616844</td>\n",
       "      <td>0.056656</td>\n",
       "      <td>0.041550</td>\n",
       "      <td>0.052477</td>\n",
       "    </tr>\n",
       "    <tr>\n",
       "      <th>50%</th>\n",
       "      <td>0.640839</td>\n",
       "      <td>0.626101</td>\n",
       "      <td>0.088602</td>\n",
       "      <td>0.181382</td>\n",
       "      <td>0.067204</td>\n",
       "    </tr>\n",
       "    <tr>\n",
       "      <th>75%</th>\n",
       "      <td>0.677664</td>\n",
       "      <td>0.657208</td>\n",
       "      <td>0.104749</td>\n",
       "      <td>0.414702</td>\n",
       "      <td>0.092143</td>\n",
       "    </tr>\n",
       "    <tr>\n",
       "      <th>max</th>\n",
       "      <td>0.739731</td>\n",
       "      <td>0.671994</td>\n",
       "      <td>0.134240</td>\n",
       "      <td>1.000000</td>\n",
       "      <td>1.000000</td>\n",
       "    </tr>\n",
       "  </tbody>\n",
       "</table>\n",
       "</div>"
      ],
      "text/plain": [
       "         roc_train    roc_valid     f1_score     recall_1  precision_1\n",
       "count  3600.000000  3600.000000  3600.000000  3600.000000  3600.000000\n",
       "mean      0.645177     0.630109     0.076166     0.270411     0.076349\n",
       "std       0.039747     0.025895     0.038083     0.274393     0.058625\n",
       "min       0.569406     0.566111     0.000000     0.000000     0.000000\n",
       "25%       0.614292     0.616844     0.056656     0.041550     0.052477\n",
       "50%       0.640839     0.626101     0.088602     0.181382     0.067204\n",
       "75%       0.677664     0.657208     0.104749     0.414702     0.092143\n",
       "max       0.739731     0.671994     0.134240     1.000000     1.000000"
      ]
     },
     "execution_count": 21,
     "metadata": {},
     "output_type": "execute_result"
    }
   ],
   "source": [
    "# проанализируем метрики всех моделей обученных на torow данных\n",
    "metrics_stat_pd.describe()"
   ]
  },
  {
   "cell_type": "markdown",
   "metadata": {},
   "source": [
    "Для блендинга выберем модели c значениями метрик на валидационном наборе выше верхнего квартиля:\n",
    "- модели с значением метрики $ROC AUC \\geq 0.652$;\n",
    "- модели с значением метрики $precision_1 \\geq 0.092$;\n",
    "- модели с значением метрики $f1_{score} \\geq 0.1$;"
   ]
  },
  {
   "cell_type": "code",
   "execution_count": 22,
   "metadata": {},
   "outputs": [],
   "source": [
    "# зададим минимальные значения метрик\n",
    "min_roc_auc = float(metrics_stat_pd.describe()['roc_valid']['75%'])\n",
    "min_precision = float(metrics_stat_pd.describe()['precision_1']['75%'])\n",
    "min_f1 = float(metrics_stat_pd.describe()['f1_score']['75%'])"
   ]
  },
  {
   "cell_type": "code",
   "execution_count": 23,
   "metadata": {},
   "outputs": [],
   "source": [
    "# сформируем заготовки под метаданные для обучения и проверики метамодели \n",
    "features_first_meta_stat = pd.read_csv('target/target_test.csv')\n",
    "\n",
    "# для выбора scaler преобразвания понадобится словарь\n",
    "dict_scalers ={\n",
    "    'MinMaxScaler':MinMaxScaler(),\n",
    "    'RobustScaler':RobustScaler(),\n",
    "    'StandardScaler':StandardScaler(),\n",
    "}\n",
    "\n",
    "# задаим количество отбираемых \"лучших\" моделей\n",
    "best_models_number = 15"
   ]
  },
  {
   "cell_type": "markdown",
   "metadata": {},
   "source": [
    "##### <span style=\"color:MediumSlateBlue\">Формирование метапризнаков от модели *Logistic Regression* обученной сбалансированными *transform data stat* данными</span>"
   ]
  },
  {
   "cell_type": "code",
   "execution_count": 24,
   "metadata": {},
   "outputs": [],
   "source": [
    "# сформируем метапризнаки для каждого подпространства признаков\n",
    "for feature_space in dict_spaces.keys():\n",
    "    # обьявим количество признаков подпространства\n",
    "    count_features = dict_spaces[feature_space]\n",
    "\n",
    "    # для работы функции corr_transform_to_force\n",
    "    # подгрузим DataFrame с матрицей корреляции признаков\n",
    "    corr_matrix = fp.ParquetFile('features/base/stat/corr_matrix_'+feature_space).to_pandas()\n",
    "\n",
    "    # загрузим обьект исcледования optuna\n",
    "    optuna_study_lr_stat = optuna.load_study(study_name='LogisticRegression_'+feature_space+'_stat',\n",
    "                               storage='sqlite:///optuna_studies.db')\n",
    "    \n",
    "    # из полученного обьекта сформируем Data Frame\n",
    "    optuna_study_lr_stat_pd = optuna_study_lr_stat.trials_dataframe().dropna()\n",
    "\n",
    "    # переименуем столбы\n",
    "    optuna_study_lr_stat_pd.rename(columns={\n",
    "        'values_0': 'roc_train', \n",
    "        'values_1': 'roc_valid', \n",
    "        'values_2': 'f1_score', \n",
    "        'values_3': 'recall_1',\n",
    "        'values_4': 'precision_1'\n",
    "    },inplace=True)\n",
    "\n",
    "    # удалим ненужные столбцы\n",
    "    optuna_study_lr_stat_pd.drop(['datetime_start','datetime_complete','state','duration'],axis=1, inplace=True)\n",
    "\n",
    "    # выберем точки с лучшими значениями метрики roc auc на валидационном наборе\n",
    "    best_roc_lr_stat = optuna_study_lr_stat_pd[optuna_study_lr_stat_pd['roc_valid']>=min_roc_auc].sort_values(by='roc_valid',ascending=False)[:best_models_number] \n",
    "\n",
    "    # выберем точки с лучшими значениями метрики precion класса 1 на валидационном наборе\n",
    "    best_precion_lr_stat = optuna_study_lr_stat_pd[optuna_study_lr_stat_pd['precision_1']>=min_precision].sort_values(by='precision_1',ascending=False)[:best_models_number]   \n",
    "\n",
    "    # выберем точки в которых максимальна метрика f1-score класса 1 (precision_1=recall_1)\n",
    "    best_f1_lr_stat = optuna_study_lr_stat_pd[optuna_study_lr_stat_pd['f1_score']>=min_f1].sort_values(by='f1_score',ascending=False)[:best_models_number]\n",
    "\n",
    "    # сформируем набор признаков для лучших моделей\n",
    "    best_models_lr_stat = pd.concat([best_roc_lr_stat,best_precion_lr_stat,best_f1_lr_stat]).drop_duplicates().reset_index(drop=True)\n",
    "\n",
    "    # сформируем список индексов best_models_lr_stat\n",
    "    list_index = best_models_lr_stat.index\n",
    "\n",
    "    # сформируем  метапризнаки для обучения метамодели\n",
    "    # для этого необходиом обучить модель LogisticRegression с выбранными гиперпараметрами\n",
    "    for index in list_index:\n",
    "\n",
    "        # для того чтобы следить за выполнением цикла введем индикатор\n",
    "        print('Current space: ', feature_space)\n",
    "        print('Number of indexes: ', max(list_index))\n",
    "        print('Current index: ', index)\n",
    "        \n",
    "        # сформируем необходимые параметры\n",
    "        C = best_models_lr_stat.loc[index,'params_C']\n",
    "        solver = best_models_lr_stat.loc[index,'params_solver']\n",
    "        class_weight = {0:best_models_lr_stat.loc[index,'params_class_0_weight'],\n",
    "                        1:best_models_lr_stat.loc[index,'params_class_1_weight']}\n",
    "        threshold = best_models_lr_stat.loc[index,'params_threshold']\n",
    "        scaler = best_models_lr_stat.loc[index,'params_scaler']\n",
    "        class_1_percent = best_models_lr_stat.loc[index,'params_class_1_percent']\n",
    "        random_state = int(best_models_lr_stat.loc[index,'params_random_state'])\n",
    "\n",
    "        # с помощью функции corr_transform_to_force получим\n",
    "        # список не коррелируемых признаков\n",
    "        list_ncorr_features = corr_transform_to_force(corr_matrix,threshold=threshold)[1]\n",
    "\n",
    "        # сохраним list_ncorr_features для дальнейшего воспроизведения\n",
    "        dump(list_ncorr_features, 'models/base/list_ncorr_features/'+'list_ncorr_features_LRST_'+feature_space+'_'+str('0'+str(index))[-2:]+'.joblib')\n",
    "\n",
    "        # обьявим scaler\n",
    "        scaler = dict_scalers[scaler]\n",
    "\n",
    "        # сформируем данные для анализа сбалансированности обучающих данных\n",
    "        print('Loading train data')\n",
    "        X_train_pd = fp.ParquetFile('features/base/stat/'+feature_space+'_stat_train').to_pandas()[list_ncorr_features]\n",
    "        y_train_pd = pd.read_csv('target/target_train.csv')\n",
    "\n",
    "        # поготовим данные y_train_pd к работе с функцией class_1_percent_samples\n",
    "        y_train_pd.set_index('id',drop=False,inplace=True)\n",
    "\n",
    "        # подготовим данные для обучения модели\n",
    "        # с помощью функции class_1_percent_samples зададим долю \n",
    "        # класса 1\n",
    "        list_c1_percent_id = class_1_percent_samples(y_train_pd,class_1_percent,random_state=random_state)[:1000000]\n",
    "\n",
    "        # подготовим данные для обучения\n",
    "        X_train_s_balanced = scaler.fit_transform(X_train_pd.loc[list_c1_percent_id])\n",
    "        y_train_balanced = y_train_pd.loc[list_c1_percent_id]['flag'].to_numpy()\n",
    "\n",
    "        # сохраним scaler для дальнейшего воспроизведения\n",
    "        dump(scaler, 'models/base/scalers/'+'scaler_stat_'+feature_space+'_'+str('0'+str(index))[-2:]+'.joblib')\n",
    "\n",
    "        # освободим память от \"тяжелых\" и ненужных файлов\n",
    "        del X_train_pd, y_train_pd\n",
    "        gc.collect()\n",
    "\n",
    "        # для того чтобы следить за выполнением цикла введем индикатор\n",
    "        print('start train')\n",
    "        # обучаем модель LogisticRegression с наилучшеми параметрами\n",
    "        logistic_regression = linear_model.LogisticRegression(\n",
    "                C=C,\n",
    "                solver = solver,\n",
    "                class_weight=class_weight,\n",
    "                random_state=random_state,\n",
    "                max_iter=10000)\n",
    "        logistic_regression.fit(X_train_s_balanced,y_train_balanced)\n",
    "        # для того чтобы следить за выполнением цикла введем индикатор\n",
    "        print('finished train')\n",
    "\n",
    "        # сохраним модель для дальнейшего воспроизведения\n",
    "        dump(logistic_regression, 'models/base/'+'LRST_'+feature_space+'_'+str('0'+str(index))[-2:]+'.joblib')\n",
    "\n",
    "        # удаляем крупные файлы чтобы высвободить память \n",
    "        del X_train_s_balanced,y_train_balanced\n",
    "        gc.collect()\n",
    "\n",
    "        # для того чтобы следить за выполнением цикла введем индикатор\n",
    "        print('Loading test data')\n",
    "        # подгружаем данные для тестирования\n",
    "        X_test = fp.ParquetFile('features/base/stat/'+feature_space+'_stat_test').to_pandas()[list_ncorr_features]\n",
    "        # сформируем данные для проверки модели\n",
    "        X_test_s = scaler.transform(X_test)\n",
    "        # для метрик ROC AUC делаем предсказание модели в виде вероятности и записываем в методанные\n",
    "        features_first_meta_stat['LRST_'+feature_space+'_'+str('0'+str(index))[-2:]] = logistic_regression.predict_proba(X_test_s)[:,1]\n",
    "        # удаляем крупные файлы чтобы высвободить память \n",
    "        del X_test_s, X_test\n",
    "        gc.collect()\n",
    "        clear_output()\n",
    "\n",
    "# сохраним полученные метапризнаки\n",
    "fp.write('features/firstmeta/features_first_meta_stat',features_first_meta_stat)"
   ]
  },
  {
   "cell_type": "markdown",
   "metadata": {},
   "source": [
    "##### <span style=\"color:MediumSlateBlue\">Формирование метапризнаков от модели *Gradient Boosting Classifier* обученной сбалансированными *transform data stat* данными</span>"
   ]
  },
  {
   "cell_type": "code",
   "execution_count": 25,
   "metadata": {},
   "outputs": [],
   "source": [
    "# сформируем метапризнаки для каждого подпространства признаков\n",
    "for feature_space in dict_spaces.keys():\n",
    "    # обьявим количество признаков подпространства\n",
    "    count_features = dict_spaces[feature_space]\n",
    "\n",
    "    # для работы функции corr_transform_to_force\n",
    "    # подгрузим DataFrame с матрицей корреляции признаков\n",
    "    corr_matrix = fp.ParquetFile('features/base/stat/corr_matrix_'+feature_space).to_pandas()\n",
    "\n",
    "    # загрузим обьект исcледования optuna\n",
    "    optuna_study_gb_stat = optuna.load_study(study_name='HistGradientBoostingClassifier_'+feature_space+'_stat',\n",
    "                               storage='sqlite:///optuna_studies.db')\n",
    "    \n",
    "    # из полученного обьекта сформируем Data Frame\n",
    "    optuna_study_gb_stat_pd = optuna_study_gb_stat.trials_dataframe().dropna()\n",
    "\n",
    "    # переименуем столбы\n",
    "    optuna_study_gb_stat_pd.rename(columns={\n",
    "        'values_0': 'roc_train', \n",
    "        'values_1': 'roc_valid', \n",
    "        'values_2': 'f1_score', \n",
    "        'values_3': 'recall_1',\n",
    "        'values_4': 'precision_1'\n",
    "    },inplace=True)\n",
    "\n",
    "    # удалим ненужные столбцы\n",
    "    optuna_study_gb_stat_pd.drop(['datetime_start','datetime_complete','state','duration'],axis=1, inplace=True)\n",
    "\n",
    "    # выберем точки с лучшими значениями метрики roc auc на валидационном наборе\n",
    "    best_roc_gb_stat = optuna_study_gb_stat_pd[optuna_study_gb_stat_pd['roc_valid']>=min_roc_auc].sort_values(by='roc_valid',ascending=False)[:best_models_number] \n",
    "\n",
    "    # выберем точки с лучшими значениями метрики precion класса 1 на валидационном наборе\n",
    "    best_precion_gb_stat = optuna_study_gb_stat_pd[optuna_study_gb_stat_pd['precision_1']>=min_precision].sort_values(by='precision_1',ascending=False)[:best_models_number]   \n",
    "\n",
    "    # выберем точки в которых максимальна метрика f1-score класса 1 (precision_1=recall_1)\n",
    "    best_f1_gb_stat = optuna_study_gb_stat_pd[optuna_study_gb_stat_pd['f1_score']>=min_f1].sort_values(by='f1_score',ascending=False)[:best_models_number]\n",
    "\n",
    "    # сформируем набор признаков для лучших моделей\n",
    "    best_models_gb_stat = pd.concat([best_roc_gb_stat,best_precion_gb_stat,best_f1_gb_stat]).drop_duplicates().reset_index(drop=True)\n",
    "\n",
    "    # сформируем список индексов best_models_gb_stat\n",
    "    list_index = best_models_gb_stat.index\n",
    "\n",
    "    # сформируем  метапризнаки для обучения метамодели\n",
    "    # для этого необходиом обучить модель HistGradientBoostingClassifier с выбранными гиперпараметрами\n",
    "    for index in list_index:\n",
    "\n",
    "        # для того чтобы следить за выполнением цикла введем индикатор\n",
    "        print('Current space: ', feature_space)\n",
    "        print('Number of indexes: ', max(list_index))\n",
    "        print('Current index: ', index)\n",
    "        \n",
    "        # сформируем необходимые параметры\n",
    "        learning_rate = best_models_gb_stat.loc[index,'params_learning_rate']\n",
    "        max_iter = best_models_gb_stat.loc[index,'params_max_iter']\n",
    "        max_leaf_nodes = best_models_gb_stat.loc[index,'params_max_leaf_nodes']\n",
    "        max_depth = best_models_gb_stat.loc[index,'params_max_depth']\n",
    "        min_samples_leaf = best_models_gb_stat.loc[index,'params_min_samples_leaf']\n",
    "        l2_regularization = best_models_gb_stat.loc[index,'params_l2_regularization']\n",
    "        max_features = best_models_gb_stat.loc[index,'params_max_features']\n",
    "        class_weight = {0:best_models_gb_stat.loc[index,'params_class_0_weight'],\n",
    "                        1:best_models_gb_stat.loc[index,'params_class_1_weight']}\n",
    "        threshold = best_models_gb_stat.loc[index,'params_threshold']\n",
    "        class_1_percent = best_models_gb_stat.loc[index,'params_class_1_percent']\n",
    "        random_state = best_models_gb_stat.loc[index,'params_random_state']\n",
    "\n",
    "        # с помощью функции corr_transform_to_force получим\n",
    "        # список не коррелируемых признаков\n",
    "        list_ncorr_features = corr_transform_to_force(corr_matrix,threshold=threshold)[1]\n",
    "\n",
    "        # сохраним list_ncorr_features для дальнейшего воспроизведения\n",
    "        dump(list_ncorr_features, 'models/base/list_ncorr_features/'+'list_ncorr_features_GBST_'+feature_space+'_'+str('0'+str(index))[-2:]+'.joblib')\n",
    "\n",
    "        # сформируем данные для анализа сбалансированности обучающих данных\n",
    "        print('Loading train data')\n",
    "        X_train_pd = fp.ParquetFile('features/base/stat/'+feature_space+'_stat_train').to_pandas()[list_ncorr_features]\n",
    "        y_train_pd = pd.read_csv('target/target_train.csv')\n",
    "\n",
    "        # поготовим данные y_train_pd к работе с функцией class_1_percent_samples\n",
    "        y_train_pd.set_index('id',drop=False,inplace=True)\n",
    "\n",
    "        # подготовим данные для обучения модели\n",
    "        # с помощью функции class_1_percent_samples зададим долю \n",
    "        # класса 1\n",
    "        list_c1_percent_id = class_1_percent_samples(y_train_pd,class_1_percent,random_state=random_state)[:1000000]\n",
    "\n",
    "        # подготовим данные для обучения\n",
    "        X_train_balanced = X_train_pd.loc[list_c1_percent_id]\n",
    "        y_train_balanced = y_train_pd.loc[list_c1_percent_id]['flag']\n",
    "\n",
    "        # освободим память от \"тяжелых\" и ненужных файлов\n",
    "        del X_train_pd, y_train_pd\n",
    "        gc.collect()\n",
    "\n",
    "        # для того чтобы следить за выполнением цикла введем индикатор\n",
    "        print('start train')\n",
    "        # обучаем модель HistGradientBoostingClassifier с наилучшеми параметрами\n",
    "        gradient_boosting = HistGradientBoostingClassifier(\n",
    "                learning_rate = learning_rate,\n",
    "                max_iter = max_iter,\n",
    "                max_leaf_nodes = max_leaf_nodes,\n",
    "                max_depth = max_depth,\n",
    "                min_samples_leaf = min_samples_leaf,\n",
    "                l2_regularization = l2_regularization,\n",
    "                max_features = max_features,\n",
    "                class_weight = class_weight,\n",
    "                random_state=42)\n",
    "        gradient_boosting.fit(X_train_balanced,y_train_balanced)\n",
    "        # для того чтобы следить за выполнением цикла введем индикатор\n",
    "        print('finished train')\n",
    "\n",
    "        # сохраним модель для дальнейшего воспроизведения\n",
    "        dump(gradient_boosting, 'models/base/'+'GBST_'+feature_space+'_'+str('0'+str(index))[-2:]+'.joblib')\n",
    "\n",
    "        # удаляем крупные файлы чтобы высвободить память \n",
    "        del X_train_balanced,y_train_balanced\n",
    "        gc.collect()\n",
    "\n",
    "        # для того чтобы следить за выполнением цикла введем индикатор\n",
    "        print('Loading test data')\n",
    "        # подгружаем данные для тестирования\n",
    "        X_test = fp.ParquetFile('features/base/stat/'+feature_space+'_stat_test').to_pandas()[list_ncorr_features]\n",
    "        # для метрик ROC AUC делаем предсказание модели в виде вероятности и записываем в методанные\n",
    "        features_first_meta_stat['GBST_'+feature_space+'_'+str('0'+str(index))[-2:]] = gradient_boosting.predict_proba(X_test)[:,1]\n",
    "        # удаляем крупные файлы чтобы высвободить память \n",
    "        del X_test\n",
    "        gc.collect()\n",
    "        clear_output()\n",
    "\n",
    "# сохраним полученные метапризнаки\n",
    "fp.write('features/firstmeta/features_first_meta_stat',features_first_meta_stat)"
   ]
  },
  {
   "cell_type": "code",
   "execution_count": 26,
   "metadata": {},
   "outputs": [
    {
     "data": {
      "text/html": [
       "<div>\n",
       "<style scoped>\n",
       "    .dataframe tbody tr th:only-of-type {\n",
       "        vertical-align: middle;\n",
       "    }\n",
       "\n",
       "    .dataframe tbody tr th {\n",
       "        vertical-align: top;\n",
       "    }\n",
       "\n",
       "    .dataframe thead th {\n",
       "        text-align: right;\n",
       "    }\n",
       "</style>\n",
       "<table border=\"1\" class=\"dataframe\">\n",
       "  <thead>\n",
       "    <tr style=\"text-align: right;\">\n",
       "      <th></th>\n",
       "      <th>id</th>\n",
       "      <th>flag</th>\n",
       "      <th>LRST_date_00</th>\n",
       "      <th>LRST_date_01</th>\n",
       "      <th>LRST_date_02</th>\n",
       "      <th>LRST_date_03</th>\n",
       "      <th>LRST_date_04</th>\n",
       "      <th>LRST_date_05</th>\n",
       "      <th>LRST_date_06</th>\n",
       "      <th>LRST_date_07</th>\n",
       "      <th>...</th>\n",
       "      <th>GBST_service_20</th>\n",
       "      <th>GBST_service_21</th>\n",
       "      <th>GBST_service_22</th>\n",
       "      <th>GBST_service_23</th>\n",
       "      <th>GBST_service_24</th>\n",
       "      <th>GBST_service_25</th>\n",
       "      <th>GBST_service_26</th>\n",
       "      <th>GBST_service_27</th>\n",
       "      <th>GBST_service_28</th>\n",
       "      <th>GBST_service_29</th>\n",
       "    </tr>\n",
       "  </thead>\n",
       "  <tbody>\n",
       "    <tr>\n",
       "      <th>0</th>\n",
       "      <td>1444093</td>\n",
       "      <td>0</td>\n",
       "      <td>0.228598</td>\n",
       "      <td>0.286011</td>\n",
       "      <td>0.306310</td>\n",
       "      <td>0.316349</td>\n",
       "      <td>0.284873</td>\n",
       "      <td>0.305438</td>\n",
       "      <td>0.294386</td>\n",
       "      <td>0.263173</td>\n",
       "      <td>...</td>\n",
       "      <td>0.513262</td>\n",
       "      <td>0.486053</td>\n",
       "      <td>0.516937</td>\n",
       "      <td>0.492899</td>\n",
       "      <td>0.493076</td>\n",
       "      <td>0.509266</td>\n",
       "      <td>0.497604</td>\n",
       "      <td>0.533499</td>\n",
       "      <td>0.521207</td>\n",
       "      <td>0.524906</td>\n",
       "    </tr>\n",
       "    <tr>\n",
       "      <th>1</th>\n",
       "      <td>1254992</td>\n",
       "      <td>0</td>\n",
       "      <td>0.207357</td>\n",
       "      <td>0.258086</td>\n",
       "      <td>0.254560</td>\n",
       "      <td>0.263676</td>\n",
       "      <td>0.261145</td>\n",
       "      <td>0.262898</td>\n",
       "      <td>0.287953</td>\n",
       "      <td>0.223825</td>\n",
       "      <td>...</td>\n",
       "      <td>0.442961</td>\n",
       "      <td>0.433920</td>\n",
       "      <td>0.476977</td>\n",
       "      <td>0.394242</td>\n",
       "      <td>0.423567</td>\n",
       "      <td>0.432123</td>\n",
       "      <td>0.409902</td>\n",
       "      <td>0.443103</td>\n",
       "      <td>0.462180</td>\n",
       "      <td>0.477327</td>\n",
       "    </tr>\n",
       "    <tr>\n",
       "      <th>2</th>\n",
       "      <td>1792358</td>\n",
       "      <td>0</td>\n",
       "      <td>0.397426</td>\n",
       "      <td>0.444097</td>\n",
       "      <td>0.454559</td>\n",
       "      <td>0.470724</td>\n",
       "      <td>0.459195</td>\n",
       "      <td>0.492430</td>\n",
       "      <td>0.469526</td>\n",
       "      <td>0.400029</td>\n",
       "      <td>...</td>\n",
       "      <td>0.496953</td>\n",
       "      <td>0.504692</td>\n",
       "      <td>0.506555</td>\n",
       "      <td>0.503799</td>\n",
       "      <td>0.503056</td>\n",
       "      <td>0.507792</td>\n",
       "      <td>0.503217</td>\n",
       "      <td>0.531735</td>\n",
       "      <td>0.540401</td>\n",
       "      <td>0.536485</td>\n",
       "    </tr>\n",
       "    <tr>\n",
       "      <th>3</th>\n",
       "      <td>712455</td>\n",
       "      <td>0</td>\n",
       "      <td>0.218732</td>\n",
       "      <td>0.291654</td>\n",
       "      <td>0.294577</td>\n",
       "      <td>0.302511</td>\n",
       "      <td>0.284281</td>\n",
       "      <td>0.319613</td>\n",
       "      <td>0.289171</td>\n",
       "      <td>0.257887</td>\n",
       "      <td>...</td>\n",
       "      <td>0.378542</td>\n",
       "      <td>0.378537</td>\n",
       "      <td>0.388864</td>\n",
       "      <td>0.374779</td>\n",
       "      <td>0.370453</td>\n",
       "      <td>0.377065</td>\n",
       "      <td>0.367994</td>\n",
       "      <td>0.411746</td>\n",
       "      <td>0.408434</td>\n",
       "      <td>0.400087</td>\n",
       "    </tr>\n",
       "    <tr>\n",
       "      <th>4</th>\n",
       "      <td>1955754</td>\n",
       "      <td>0</td>\n",
       "      <td>0.274674</td>\n",
       "      <td>0.335005</td>\n",
       "      <td>0.351431</td>\n",
       "      <td>0.371115</td>\n",
       "      <td>0.340883</td>\n",
       "      <td>0.375659</td>\n",
       "      <td>0.351630</td>\n",
       "      <td>0.297714</td>\n",
       "      <td>...</td>\n",
       "      <td>0.455626</td>\n",
       "      <td>0.461780</td>\n",
       "      <td>0.465002</td>\n",
       "      <td>0.460135</td>\n",
       "      <td>0.466949</td>\n",
       "      <td>0.461478</td>\n",
       "      <td>0.456959</td>\n",
       "      <td>0.493403</td>\n",
       "      <td>0.489076</td>\n",
       "      <td>0.493711</td>\n",
       "    </tr>\n",
       "    <tr>\n",
       "      <th>...</th>\n",
       "      <td>...</td>\n",
       "      <td>...</td>\n",
       "      <td>...</td>\n",
       "      <td>...</td>\n",
       "      <td>...</td>\n",
       "      <td>...</td>\n",
       "      <td>...</td>\n",
       "      <td>...</td>\n",
       "      <td>...</td>\n",
       "      <td>...</td>\n",
       "      <td>...</td>\n",
       "      <td>...</td>\n",
       "      <td>...</td>\n",
       "      <td>...</td>\n",
       "      <td>...</td>\n",
       "      <td>...</td>\n",
       "      <td>...</td>\n",
       "      <td>...</td>\n",
       "      <td>...</td>\n",
       "      <td>...</td>\n",
       "      <td>...</td>\n",
       "    </tr>\n",
       "    <tr>\n",
       "      <th>2137495</th>\n",
       "      <td>423</td>\n",
       "      <td>0</td>\n",
       "      <td>0.214208</td>\n",
       "      <td>0.295340</td>\n",
       "      <td>0.297255</td>\n",
       "      <td>0.300528</td>\n",
       "      <td>0.311420</td>\n",
       "      <td>0.301392</td>\n",
       "      <td>0.316672</td>\n",
       "      <td>0.262315</td>\n",
       "      <td>...</td>\n",
       "      <td>0.294878</td>\n",
       "      <td>0.271255</td>\n",
       "      <td>0.294946</td>\n",
       "      <td>0.294923</td>\n",
       "      <td>0.319590</td>\n",
       "      <td>0.294372</td>\n",
       "      <td>0.304694</td>\n",
       "      <td>0.311352</td>\n",
       "      <td>0.282347</td>\n",
       "      <td>0.313741</td>\n",
       "    </tr>\n",
       "    <tr>\n",
       "      <th>2137496</th>\n",
       "      <td>2278100</td>\n",
       "      <td>0</td>\n",
       "      <td>0.259074</td>\n",
       "      <td>0.313675</td>\n",
       "      <td>0.311566</td>\n",
       "      <td>0.323382</td>\n",
       "      <td>0.353013</td>\n",
       "      <td>0.310781</td>\n",
       "      <td>0.322435</td>\n",
       "      <td>0.292823</td>\n",
       "      <td>...</td>\n",
       "      <td>0.218474</td>\n",
       "      <td>0.230880</td>\n",
       "      <td>0.221046</td>\n",
       "      <td>0.240721</td>\n",
       "      <td>0.241160</td>\n",
       "      <td>0.242898</td>\n",
       "      <td>0.227068</td>\n",
       "      <td>0.241012</td>\n",
       "      <td>0.263821</td>\n",
       "      <td>0.261778</td>\n",
       "    </tr>\n",
       "    <tr>\n",
       "      <th>2137497</th>\n",
       "      <td>211942</td>\n",
       "      <td>0</td>\n",
       "      <td>0.378021</td>\n",
       "      <td>0.449593</td>\n",
       "      <td>0.461322</td>\n",
       "      <td>0.481972</td>\n",
       "      <td>0.473538</td>\n",
       "      <td>0.467989</td>\n",
       "      <td>0.462929</td>\n",
       "      <td>0.413047</td>\n",
       "      <td>...</td>\n",
       "      <td>0.511684</td>\n",
       "      <td>0.510308</td>\n",
       "      <td>0.515278</td>\n",
       "      <td>0.513717</td>\n",
       "      <td>0.510441</td>\n",
       "      <td>0.509326</td>\n",
       "      <td>0.502068</td>\n",
       "      <td>0.539162</td>\n",
       "      <td>0.541887</td>\n",
       "      <td>0.545609</td>\n",
       "    </tr>\n",
       "    <tr>\n",
       "      <th>2137498</th>\n",
       "      <td>2272240</td>\n",
       "      <td>0</td>\n",
       "      <td>0.244668</td>\n",
       "      <td>0.312287</td>\n",
       "      <td>0.319336</td>\n",
       "      <td>0.332818</td>\n",
       "      <td>0.335232</td>\n",
       "      <td>0.331659</td>\n",
       "      <td>0.323031</td>\n",
       "      <td>0.292594</td>\n",
       "      <td>...</td>\n",
       "      <td>0.207959</td>\n",
       "      <td>0.235565</td>\n",
       "      <td>0.231229</td>\n",
       "      <td>0.220327</td>\n",
       "      <td>0.220996</td>\n",
       "      <td>0.230447</td>\n",
       "      <td>0.230896</td>\n",
       "      <td>0.238040</td>\n",
       "      <td>0.240353</td>\n",
       "      <td>0.243872</td>\n",
       "    </tr>\n",
       "    <tr>\n",
       "      <th>2137499</th>\n",
       "      <td>2649258</td>\n",
       "      <td>0</td>\n",
       "      <td>0.210047</td>\n",
       "      <td>0.255736</td>\n",
       "      <td>0.280470</td>\n",
       "      <td>0.282874</td>\n",
       "      <td>0.273899</td>\n",
       "      <td>0.269251</td>\n",
       "      <td>0.263053</td>\n",
       "      <td>0.239966</td>\n",
       "      <td>...</td>\n",
       "      <td>0.349793</td>\n",
       "      <td>0.319250</td>\n",
       "      <td>0.330279</td>\n",
       "      <td>0.360142</td>\n",
       "      <td>0.324089</td>\n",
       "      <td>0.345974</td>\n",
       "      <td>0.332169</td>\n",
       "      <td>0.368714</td>\n",
       "      <td>0.362868</td>\n",
       "      <td>0.383021</td>\n",
       "    </tr>\n",
       "  </tbody>\n",
       "</table>\n",
       "<p>2137500 rows × 344 columns</p>\n",
       "</div>"
      ],
      "text/plain": [
       "              id  flag  LRST_date_00  LRST_date_01  LRST_date_02  \\\n",
       "0        1444093     0      0.228598      0.286011      0.306310   \n",
       "1        1254992     0      0.207357      0.258086      0.254560   \n",
       "2        1792358     0      0.397426      0.444097      0.454559   \n",
       "3         712455     0      0.218732      0.291654      0.294577   \n",
       "4        1955754     0      0.274674      0.335005      0.351431   \n",
       "...          ...   ...           ...           ...           ...   \n",
       "2137495      423     0      0.214208      0.295340      0.297255   \n",
       "2137496  2278100     0      0.259074      0.313675      0.311566   \n",
       "2137497   211942     0      0.378021      0.449593      0.461322   \n",
       "2137498  2272240     0      0.244668      0.312287      0.319336   \n",
       "2137499  2649258     0      0.210047      0.255736      0.280470   \n",
       "\n",
       "         LRST_date_03  LRST_date_04  LRST_date_05  LRST_date_06  LRST_date_07  \\\n",
       "0            0.316349      0.284873      0.305438      0.294386      0.263173   \n",
       "1            0.263676      0.261145      0.262898      0.287953      0.223825   \n",
       "2            0.470724      0.459195      0.492430      0.469526      0.400029   \n",
       "3            0.302511      0.284281      0.319613      0.289171      0.257887   \n",
       "4            0.371115      0.340883      0.375659      0.351630      0.297714   \n",
       "...               ...           ...           ...           ...           ...   \n",
       "2137495      0.300528      0.311420      0.301392      0.316672      0.262315   \n",
       "2137496      0.323382      0.353013      0.310781      0.322435      0.292823   \n",
       "2137497      0.481972      0.473538      0.467989      0.462929      0.413047   \n",
       "2137498      0.332818      0.335232      0.331659      0.323031      0.292594   \n",
       "2137499      0.282874      0.273899      0.269251      0.263053      0.239966   \n",
       "\n",
       "         ...  GBST_service_20  GBST_service_21  GBST_service_22  \\\n",
       "0        ...         0.513262         0.486053         0.516937   \n",
       "1        ...         0.442961         0.433920         0.476977   \n",
       "2        ...         0.496953         0.504692         0.506555   \n",
       "3        ...         0.378542         0.378537         0.388864   \n",
       "4        ...         0.455626         0.461780         0.465002   \n",
       "...      ...              ...              ...              ...   \n",
       "2137495  ...         0.294878         0.271255         0.294946   \n",
       "2137496  ...         0.218474         0.230880         0.221046   \n",
       "2137497  ...         0.511684         0.510308         0.515278   \n",
       "2137498  ...         0.207959         0.235565         0.231229   \n",
       "2137499  ...         0.349793         0.319250         0.330279   \n",
       "\n",
       "         GBST_service_23  GBST_service_24  GBST_service_25  GBST_service_26  \\\n",
       "0               0.492899         0.493076         0.509266         0.497604   \n",
       "1               0.394242         0.423567         0.432123         0.409902   \n",
       "2               0.503799         0.503056         0.507792         0.503217   \n",
       "3               0.374779         0.370453         0.377065         0.367994   \n",
       "4               0.460135         0.466949         0.461478         0.456959   \n",
       "...                  ...              ...              ...              ...   \n",
       "2137495         0.294923         0.319590         0.294372         0.304694   \n",
       "2137496         0.240721         0.241160         0.242898         0.227068   \n",
       "2137497         0.513717         0.510441         0.509326         0.502068   \n",
       "2137498         0.220327         0.220996         0.230447         0.230896   \n",
       "2137499         0.360142         0.324089         0.345974         0.332169   \n",
       "\n",
       "         GBST_service_27  GBST_service_28  GBST_service_29  \n",
       "0               0.533499         0.521207         0.524906  \n",
       "1               0.443103         0.462180         0.477327  \n",
       "2               0.531735         0.540401         0.536485  \n",
       "3               0.411746         0.408434         0.400087  \n",
       "4               0.493403         0.489076         0.493711  \n",
       "...                  ...              ...              ...  \n",
       "2137495         0.311352         0.282347         0.313741  \n",
       "2137496         0.241012         0.263821         0.261778  \n",
       "2137497         0.539162         0.541887         0.545609  \n",
       "2137498         0.238040         0.240353         0.243872  \n",
       "2137499         0.368714         0.362868         0.383021  \n",
       "\n",
       "[2137500 rows x 344 columns]"
      ]
     },
     "execution_count": 26,
     "metadata": {},
     "output_type": "execute_result"
    }
   ],
   "source": [
    "features_first_meta_stat = fp.ParquetFile('features/firstmeta/features_first_meta_stat').to_pandas()\n",
    "features_first_meta_stat"
   ]
  },
  {
   "cell_type": "markdown",
   "metadata": {},
   "source": [
    "#### <span style=\"color:MediumBlue\">Формирование тренировочного, валидационного и тестового набора данных</span>"
   ]
  },
  {
   "cell_type": "code",
   "execution_count": 27,
   "metadata": {},
   "outputs": [],
   "source": [
    "features_first_meta_stat = fp.ParquetFile('features/firstmeta/features_first_meta_stat').to_pandas().iloc[:,:10]"
   ]
  },
  {
   "cell_type": "code",
   "execution_count": 28,
   "metadata": {},
   "outputs": [],
   "source": [
    "# Выделим из features_first_meta_stat тренировочную часть\n",
    "MX_train, my_train, MX_test, my_test = my_train_test_split(features_first_meta_stat.set_index('id').drop(['flag'],axis=1),\n",
    "                                                           features_first_meta_stat.set_index('id')['flag'], train_size=0.35)"
   ]
  },
  {
   "cell_type": "code",
   "execution_count": 29,
   "metadata": {},
   "outputs": [],
   "source": [
    "# Раздедлим обучающий набор на тренировочную и валидационную части\n",
    "MX_train, my_train, MX_valid, my_valid = my_train_test_split(MX_train,my_train, train_size=0.8)"
   ]
  },
  {
   "cell_type": "markdown",
   "metadata": {},
   "source": [
    "Для воспроизводимости кода и корректного сравнения   \n",
    "различных моделей завиксируем id для тренировочногоб валидационного   \n",
    "и тестосого наьоров данных"
   ]
  },
  {
   "cell_type": "code",
   "execution_count": 30,
   "metadata": {},
   "outputs": [],
   "source": [
    "# Спрячем данные в DataDfame для последующего сохраниения в csv\n",
    "mf_train_id = pd.DataFrame(my_train.index)\n",
    "mf_valid_id = pd.DataFrame(my_valid.index)\n",
    "mf_test_id = pd.DataFrame(my_test.index)"
   ]
  },
  {
   "cell_type": "code",
   "execution_count": 31,
   "metadata": {},
   "outputs": [],
   "source": [
    "# Сохраняем полученные DataFrame\n",
    "mf_train_id.to_csv('features/firstmeta/mf_train_id.csv')\n",
    "mf_valid_id.to_csv('features/firstmeta/mf_valid_id.csv')\n",
    "mf_test_id.to_csv('features/firstmeta/mf_test_id.csv')"
   ]
  },
  {
   "cell_type": "code",
   "execution_count": 32,
   "metadata": {},
   "outputs": [
    {
     "name": "stdout",
     "output_type": "stream",
     "text": [
      "598500\n",
      "149625\n",
      "1389375\n"
     ]
    }
   ],
   "source": [
    "# подгрузим DataFrame с id для тренировочного/валидационного/тестового набора данных\n",
    "mf_train_id = pd.read_csv('features/firstmeta/mf_train_id.csv')['id'].to_list()\n",
    "mf_valid_id = pd.read_csv('features/firstmeta/mf_valid_id.csv')['id'].to_list()\n",
    "mf_test_id = pd.read_csv('features/firstmeta/mf_test_id.csv')['id'].to_list()\n",
    "\n",
    "print(len(mf_train_id))\n",
    "print(len(mf_valid_id))\n",
    "print(len(mf_test_id))\n"
   ]
  },
  {
   "cell_type": "code",
   "execution_count": 33,
   "metadata": {},
   "outputs": [],
   "source": [
    "# сохраним тренировочный валидационный и тестовый целевой переменной\n",
    "# чтобы иметь возможность к ними обратиться\n",
    "my_train.to_csv('features/firstmeta/mfy_train.csv')\n",
    "my_valid.to_csv('features/firstmeta/mfy_valid.csv')\n",
    "my_test.to_csv('features/firstmeta/mfy_test.csv')"
   ]
  },
  {
   "cell_type": "markdown",
   "metadata": {},
   "source": [
    "#### <span style=\"color:MediumBlue\">Формирование тренировочного, валидационного и тестового набора на features_first_meta_torow данных</span>"
   ]
  },
  {
   "cell_type": "code",
   "execution_count": 34,
   "metadata": {},
   "outputs": [
    {
     "data": {
      "text/html": [
       "<div>\n",
       "<style scoped>\n",
       "    .dataframe tbody tr th:only-of-type {\n",
       "        vertical-align: middle;\n",
       "    }\n",
       "\n",
       "    .dataframe tbody tr th {\n",
       "        vertical-align: top;\n",
       "    }\n",
       "\n",
       "    .dataframe thead th {\n",
       "        text-align: right;\n",
       "    }\n",
       "</style>\n",
       "<table border=\"1\" class=\"dataframe\">\n",
       "  <thead>\n",
       "    <tr style=\"text-align: right;\">\n",
       "      <th></th>\n",
       "      <th>LRTR_date_00</th>\n",
       "      <th>LRTR_date_01</th>\n",
       "      <th>LRTR_date_02</th>\n",
       "      <th>LRTR_date_03</th>\n",
       "      <th>LRTR_date_04</th>\n",
       "      <th>LRTR_date_05</th>\n",
       "      <th>LRTR_date_06</th>\n",
       "      <th>LRTR_date_07</th>\n",
       "      <th>LRTR_date_08</th>\n",
       "      <th>LRTR_late_00</th>\n",
       "      <th>...</th>\n",
       "      <th>GBTR_service_32</th>\n",
       "      <th>GBTR_service_33</th>\n",
       "      <th>GBTR_service_34</th>\n",
       "      <th>GBTR_service_35</th>\n",
       "      <th>GBTR_service_36</th>\n",
       "      <th>GBTR_service_37</th>\n",
       "      <th>GBTR_service_38</th>\n",
       "      <th>GBTR_service_39</th>\n",
       "      <th>GBTR_service_40</th>\n",
       "      <th>GBTR_service_41</th>\n",
       "    </tr>\n",
       "    <tr>\n",
       "      <th>id</th>\n",
       "      <th></th>\n",
       "      <th></th>\n",
       "      <th></th>\n",
       "      <th></th>\n",
       "      <th></th>\n",
       "      <th></th>\n",
       "      <th></th>\n",
       "      <th></th>\n",
       "      <th></th>\n",
       "      <th></th>\n",
       "      <th></th>\n",
       "      <th></th>\n",
       "      <th></th>\n",
       "      <th></th>\n",
       "      <th></th>\n",
       "      <th></th>\n",
       "      <th></th>\n",
       "      <th></th>\n",
       "      <th></th>\n",
       "      <th></th>\n",
       "      <th></th>\n",
       "    </tr>\n",
       "  </thead>\n",
       "  <tbody>\n",
       "    <tr>\n",
       "      <th>1444093</th>\n",
       "      <td>0.186788</td>\n",
       "      <td>0.209557</td>\n",
       "      <td>0.170073</td>\n",
       "      <td>0.193175</td>\n",
       "      <td>0.159265</td>\n",
       "      <td>0.195228</td>\n",
       "      <td>0.246425</td>\n",
       "      <td>0.204595</td>\n",
       "      <td>0.176149</td>\n",
       "      <td>0.028055</td>\n",
       "      <td>...</td>\n",
       "      <td>0.491388</td>\n",
       "      <td>0.455937</td>\n",
       "      <td>0.472278</td>\n",
       "      <td>0.488735</td>\n",
       "      <td>0.444002</td>\n",
       "      <td>0.499014</td>\n",
       "      <td>0.544666</td>\n",
       "      <td>0.510633</td>\n",
       "      <td>0.485606</td>\n",
       "      <td>0.458330</td>\n",
       "    </tr>\n",
       "    <tr>\n",
       "      <th>1254992</th>\n",
       "      <td>0.239044</td>\n",
       "      <td>0.259862</td>\n",
       "      <td>0.221379</td>\n",
       "      <td>0.244904</td>\n",
       "      <td>0.189888</td>\n",
       "      <td>0.223594</td>\n",
       "      <td>0.284012</td>\n",
       "      <td>0.298423</td>\n",
       "      <td>0.217998</td>\n",
       "      <td>0.035261</td>\n",
       "      <td>...</td>\n",
       "      <td>0.440126</td>\n",
       "      <td>0.461601</td>\n",
       "      <td>0.385527</td>\n",
       "      <td>0.448575</td>\n",
       "      <td>0.479083</td>\n",
       "      <td>0.387934</td>\n",
       "      <td>0.472670</td>\n",
       "      <td>0.409566</td>\n",
       "      <td>0.366930</td>\n",
       "      <td>0.375410</td>\n",
       "    </tr>\n",
       "    <tr>\n",
       "      <th>1792358</th>\n",
       "      <td>0.334716</td>\n",
       "      <td>0.373801</td>\n",
       "      <td>0.290805</td>\n",
       "      <td>0.342053</td>\n",
       "      <td>0.294882</td>\n",
       "      <td>0.341959</td>\n",
       "      <td>0.405733</td>\n",
       "      <td>0.380906</td>\n",
       "      <td>0.320389</td>\n",
       "      <td>0.054827</td>\n",
       "      <td>...</td>\n",
       "      <td>0.503452</td>\n",
       "      <td>0.531439</td>\n",
       "      <td>0.528214</td>\n",
       "      <td>0.529280</td>\n",
       "      <td>0.523508</td>\n",
       "      <td>0.512008</td>\n",
       "      <td>0.512459</td>\n",
       "      <td>0.514849</td>\n",
       "      <td>0.485838</td>\n",
       "      <td>0.503537</td>\n",
       "    </tr>\n",
       "    <tr>\n",
       "      <th>712455</th>\n",
       "      <td>0.202599</td>\n",
       "      <td>0.212664</td>\n",
       "      <td>0.188178</td>\n",
       "      <td>0.205899</td>\n",
       "      <td>0.177517</td>\n",
       "      <td>0.207779</td>\n",
       "      <td>0.271352</td>\n",
       "      <td>0.237662</td>\n",
       "      <td>0.191038</td>\n",
       "      <td>0.024818</td>\n",
       "      <td>...</td>\n",
       "      <td>0.374689</td>\n",
       "      <td>0.389504</td>\n",
       "      <td>0.427483</td>\n",
       "      <td>0.408035</td>\n",
       "      <td>0.421883</td>\n",
       "      <td>0.404411</td>\n",
       "      <td>0.384824</td>\n",
       "      <td>0.394359</td>\n",
       "      <td>0.375932</td>\n",
       "      <td>0.388628</td>\n",
       "    </tr>\n",
       "    <tr>\n",
       "      <th>1955754</th>\n",
       "      <td>0.299312</td>\n",
       "      <td>0.325026</td>\n",
       "      <td>0.262535</td>\n",
       "      <td>0.299460</td>\n",
       "      <td>0.261249</td>\n",
       "      <td>0.298108</td>\n",
       "      <td>0.370666</td>\n",
       "      <td>0.336419</td>\n",
       "      <td>0.283721</td>\n",
       "      <td>0.039503</td>\n",
       "      <td>...</td>\n",
       "      <td>0.459335</td>\n",
       "      <td>0.480053</td>\n",
       "      <td>0.486514</td>\n",
       "      <td>0.490217</td>\n",
       "      <td>0.471711</td>\n",
       "      <td>0.470499</td>\n",
       "      <td>0.494188</td>\n",
       "      <td>0.460956</td>\n",
       "      <td>0.433987</td>\n",
       "      <td>0.459799</td>\n",
       "    </tr>\n",
       "  </tbody>\n",
       "</table>\n",
       "<p>5 rows × 356 columns</p>\n",
       "</div>"
      ],
      "text/plain": [
       "         LRTR_date_00  LRTR_date_01  LRTR_date_02  LRTR_date_03  LRTR_date_04  \\\n",
       "id                                                                              \n",
       "1444093      0.186788      0.209557      0.170073      0.193175      0.159265   \n",
       "1254992      0.239044      0.259862      0.221379      0.244904      0.189888   \n",
       "1792358      0.334716      0.373801      0.290805      0.342053      0.294882   \n",
       "712455       0.202599      0.212664      0.188178      0.205899      0.177517   \n",
       "1955754      0.299312      0.325026      0.262535      0.299460      0.261249   \n",
       "\n",
       "         LRTR_date_05  LRTR_date_06  LRTR_date_07  LRTR_date_08  LRTR_late_00  \\\n",
       "id                                                                              \n",
       "1444093      0.195228      0.246425      0.204595      0.176149      0.028055   \n",
       "1254992      0.223594      0.284012      0.298423      0.217998      0.035261   \n",
       "1792358      0.341959      0.405733      0.380906      0.320389      0.054827   \n",
       "712455       0.207779      0.271352      0.237662      0.191038      0.024818   \n",
       "1955754      0.298108      0.370666      0.336419      0.283721      0.039503   \n",
       "\n",
       "         ...  GBTR_service_32  GBTR_service_33  GBTR_service_34  \\\n",
       "id       ...                                                      \n",
       "1444093  ...         0.491388         0.455937         0.472278   \n",
       "1254992  ...         0.440126         0.461601         0.385527   \n",
       "1792358  ...         0.503452         0.531439         0.528214   \n",
       "712455   ...         0.374689         0.389504         0.427483   \n",
       "1955754  ...         0.459335         0.480053         0.486514   \n",
       "\n",
       "         GBTR_service_35  GBTR_service_36  GBTR_service_37  GBTR_service_38  \\\n",
       "id                                                                            \n",
       "1444093         0.488735         0.444002         0.499014         0.544666   \n",
       "1254992         0.448575         0.479083         0.387934         0.472670   \n",
       "1792358         0.529280         0.523508         0.512008         0.512459   \n",
       "712455          0.408035         0.421883         0.404411         0.384824   \n",
       "1955754         0.490217         0.471711         0.470499         0.494188   \n",
       "\n",
       "         GBTR_service_39  GBTR_service_40  GBTR_service_41  \n",
       "id                                                          \n",
       "1444093         0.510633         0.485606         0.458330  \n",
       "1254992         0.409566         0.366930         0.375410  \n",
       "1792358         0.514849         0.485838         0.503537  \n",
       "712455          0.394359         0.375932         0.388628  \n",
       "1955754         0.460956         0.433987         0.459799  \n",
       "\n",
       "[5 rows x 356 columns]"
      ]
     },
     "execution_count": 34,
     "metadata": {},
     "output_type": "execute_result"
    }
   ],
   "source": [
    "features_first_meta_torow = fp.ParquetFile('features/firstmeta/features_first_meta_torow').to_pandas().set_index('id').drop(['flag'],axis=1)\n",
    "features_first_meta_torow.head(5)"
   ]
  },
  {
   "cell_type": "code",
   "execution_count": 35,
   "metadata": {},
   "outputs": [],
   "source": [
    "# сохраним тренировочный валидационный и тестовый наборы данных\n",
    "# чтобы иметь возможность к ними обратиться\n",
    "fp.write('features/firstmeta/features_first_meta_torow_train',features_first_meta_torow.loc[mf_train_id])\n",
    "fp.write('features/firstmeta/features_first_meta_torow_valid',features_first_meta_torow.loc[mf_valid_id])\n",
    "fp.write('features/firstmeta/features_first_meta_torow_test',features_first_meta_torow.loc[mf_test_id])"
   ]
  },
  {
   "cell_type": "markdown",
   "metadata": {},
   "source": [
    "#### <span style=\"color:MediumBlue\">Формирование тренировочного, валидационного и тестового набора на features_first_meta_stat данных</span>"
   ]
  },
  {
   "cell_type": "code",
   "execution_count": 36,
   "metadata": {},
   "outputs": [
    {
     "data": {
      "text/html": [
       "<div>\n",
       "<style scoped>\n",
       "    .dataframe tbody tr th:only-of-type {\n",
       "        vertical-align: middle;\n",
       "    }\n",
       "\n",
       "    .dataframe tbody tr th {\n",
       "        vertical-align: top;\n",
       "    }\n",
       "\n",
       "    .dataframe thead th {\n",
       "        text-align: right;\n",
       "    }\n",
       "</style>\n",
       "<table border=\"1\" class=\"dataframe\">\n",
       "  <thead>\n",
       "    <tr style=\"text-align: right;\">\n",
       "      <th></th>\n",
       "      <th>LRST_date_00</th>\n",
       "      <th>LRST_date_01</th>\n",
       "      <th>LRST_date_02</th>\n",
       "      <th>LRST_date_03</th>\n",
       "      <th>LRST_date_04</th>\n",
       "      <th>LRST_date_05</th>\n",
       "      <th>LRST_date_06</th>\n",
       "      <th>LRST_date_07</th>\n",
       "      <th>LRST_late_00</th>\n",
       "      <th>LRST_late_01</th>\n",
       "      <th>...</th>\n",
       "      <th>GBST_service_20</th>\n",
       "      <th>GBST_service_21</th>\n",
       "      <th>GBST_service_22</th>\n",
       "      <th>GBST_service_23</th>\n",
       "      <th>GBST_service_24</th>\n",
       "      <th>GBST_service_25</th>\n",
       "      <th>GBST_service_26</th>\n",
       "      <th>GBST_service_27</th>\n",
       "      <th>GBST_service_28</th>\n",
       "      <th>GBST_service_29</th>\n",
       "    </tr>\n",
       "    <tr>\n",
       "      <th>id</th>\n",
       "      <th></th>\n",
       "      <th></th>\n",
       "      <th></th>\n",
       "      <th></th>\n",
       "      <th></th>\n",
       "      <th></th>\n",
       "      <th></th>\n",
       "      <th></th>\n",
       "      <th></th>\n",
       "      <th></th>\n",
       "      <th></th>\n",
       "      <th></th>\n",
       "      <th></th>\n",
       "      <th></th>\n",
       "      <th></th>\n",
       "      <th></th>\n",
       "      <th></th>\n",
       "      <th></th>\n",
       "      <th></th>\n",
       "      <th></th>\n",
       "      <th></th>\n",
       "    </tr>\n",
       "  </thead>\n",
       "  <tbody>\n",
       "    <tr>\n",
       "      <th>1444093</th>\n",
       "      <td>0.228598</td>\n",
       "      <td>0.286011</td>\n",
       "      <td>0.306310</td>\n",
       "      <td>0.316349</td>\n",
       "      <td>0.284873</td>\n",
       "      <td>0.305438</td>\n",
       "      <td>0.294386</td>\n",
       "      <td>0.263173</td>\n",
       "      <td>0.087456</td>\n",
       "      <td>0.091904</td>\n",
       "      <td>...</td>\n",
       "      <td>0.513262</td>\n",
       "      <td>0.486053</td>\n",
       "      <td>0.516937</td>\n",
       "      <td>0.492899</td>\n",
       "      <td>0.493076</td>\n",
       "      <td>0.509266</td>\n",
       "      <td>0.497604</td>\n",
       "      <td>0.533499</td>\n",
       "      <td>0.521207</td>\n",
       "      <td>0.524906</td>\n",
       "    </tr>\n",
       "    <tr>\n",
       "      <th>1254992</th>\n",
       "      <td>0.207357</td>\n",
       "      <td>0.258086</td>\n",
       "      <td>0.254560</td>\n",
       "      <td>0.263676</td>\n",
       "      <td>0.261145</td>\n",
       "      <td>0.262898</td>\n",
       "      <td>0.287953</td>\n",
       "      <td>0.223825</td>\n",
       "      <td>0.143654</td>\n",
       "      <td>0.138028</td>\n",
       "      <td>...</td>\n",
       "      <td>0.442961</td>\n",
       "      <td>0.433920</td>\n",
       "      <td>0.476977</td>\n",
       "      <td>0.394242</td>\n",
       "      <td>0.423567</td>\n",
       "      <td>0.432123</td>\n",
       "      <td>0.409902</td>\n",
       "      <td>0.443103</td>\n",
       "      <td>0.462180</td>\n",
       "      <td>0.477327</td>\n",
       "    </tr>\n",
       "    <tr>\n",
       "      <th>1792358</th>\n",
       "      <td>0.397426</td>\n",
       "      <td>0.444097</td>\n",
       "      <td>0.454559</td>\n",
       "      <td>0.470724</td>\n",
       "      <td>0.459195</td>\n",
       "      <td>0.492430</td>\n",
       "      <td>0.469526</td>\n",
       "      <td>0.400029</td>\n",
       "      <td>0.105415</td>\n",
       "      <td>0.114457</td>\n",
       "      <td>...</td>\n",
       "      <td>0.496953</td>\n",
       "      <td>0.504692</td>\n",
       "      <td>0.506555</td>\n",
       "      <td>0.503799</td>\n",
       "      <td>0.503056</td>\n",
       "      <td>0.507792</td>\n",
       "      <td>0.503217</td>\n",
       "      <td>0.531735</td>\n",
       "      <td>0.540401</td>\n",
       "      <td>0.536485</td>\n",
       "    </tr>\n",
       "    <tr>\n",
       "      <th>712455</th>\n",
       "      <td>0.218732</td>\n",
       "      <td>0.291654</td>\n",
       "      <td>0.294577</td>\n",
       "      <td>0.302511</td>\n",
       "      <td>0.284281</td>\n",
       "      <td>0.319613</td>\n",
       "      <td>0.289171</td>\n",
       "      <td>0.257887</td>\n",
       "      <td>0.071303</td>\n",
       "      <td>0.076709</td>\n",
       "      <td>...</td>\n",
       "      <td>0.378542</td>\n",
       "      <td>0.378537</td>\n",
       "      <td>0.388864</td>\n",
       "      <td>0.374779</td>\n",
       "      <td>0.370453</td>\n",
       "      <td>0.377065</td>\n",
       "      <td>0.367994</td>\n",
       "      <td>0.411746</td>\n",
       "      <td>0.408434</td>\n",
       "      <td>0.400087</td>\n",
       "    </tr>\n",
       "    <tr>\n",
       "      <th>1955754</th>\n",
       "      <td>0.274674</td>\n",
       "      <td>0.335005</td>\n",
       "      <td>0.351431</td>\n",
       "      <td>0.371115</td>\n",
       "      <td>0.340883</td>\n",
       "      <td>0.375659</td>\n",
       "      <td>0.351630</td>\n",
       "      <td>0.297714</td>\n",
       "      <td>0.105584</td>\n",
       "      <td>0.114975</td>\n",
       "      <td>...</td>\n",
       "      <td>0.455626</td>\n",
       "      <td>0.461780</td>\n",
       "      <td>0.465002</td>\n",
       "      <td>0.460135</td>\n",
       "      <td>0.466949</td>\n",
       "      <td>0.461478</td>\n",
       "      <td>0.456959</td>\n",
       "      <td>0.493403</td>\n",
       "      <td>0.489076</td>\n",
       "      <td>0.493711</td>\n",
       "    </tr>\n",
       "  </tbody>\n",
       "</table>\n",
       "<p>5 rows × 342 columns</p>\n",
       "</div>"
      ],
      "text/plain": [
       "         LRST_date_00  LRST_date_01  LRST_date_02  LRST_date_03  LRST_date_04  \\\n",
       "id                                                                              \n",
       "1444093      0.228598      0.286011      0.306310      0.316349      0.284873   \n",
       "1254992      0.207357      0.258086      0.254560      0.263676      0.261145   \n",
       "1792358      0.397426      0.444097      0.454559      0.470724      0.459195   \n",
       "712455       0.218732      0.291654      0.294577      0.302511      0.284281   \n",
       "1955754      0.274674      0.335005      0.351431      0.371115      0.340883   \n",
       "\n",
       "         LRST_date_05  LRST_date_06  LRST_date_07  LRST_late_00  LRST_late_01  \\\n",
       "id                                                                              \n",
       "1444093      0.305438      0.294386      0.263173      0.087456      0.091904   \n",
       "1254992      0.262898      0.287953      0.223825      0.143654      0.138028   \n",
       "1792358      0.492430      0.469526      0.400029      0.105415      0.114457   \n",
       "712455       0.319613      0.289171      0.257887      0.071303      0.076709   \n",
       "1955754      0.375659      0.351630      0.297714      0.105584      0.114975   \n",
       "\n",
       "         ...  GBST_service_20  GBST_service_21  GBST_service_22  \\\n",
       "id       ...                                                      \n",
       "1444093  ...         0.513262         0.486053         0.516937   \n",
       "1254992  ...         0.442961         0.433920         0.476977   \n",
       "1792358  ...         0.496953         0.504692         0.506555   \n",
       "712455   ...         0.378542         0.378537         0.388864   \n",
       "1955754  ...         0.455626         0.461780         0.465002   \n",
       "\n",
       "         GBST_service_23  GBST_service_24  GBST_service_25  GBST_service_26  \\\n",
       "id                                                                            \n",
       "1444093         0.492899         0.493076         0.509266         0.497604   \n",
       "1254992         0.394242         0.423567         0.432123         0.409902   \n",
       "1792358         0.503799         0.503056         0.507792         0.503217   \n",
       "712455          0.374779         0.370453         0.377065         0.367994   \n",
       "1955754         0.460135         0.466949         0.461478         0.456959   \n",
       "\n",
       "         GBST_service_27  GBST_service_28  GBST_service_29  \n",
       "id                                                          \n",
       "1444093         0.533499         0.521207         0.524906  \n",
       "1254992         0.443103         0.462180         0.477327  \n",
       "1792358         0.531735         0.540401         0.536485  \n",
       "712455          0.411746         0.408434         0.400087  \n",
       "1955754         0.493403         0.489076         0.493711  \n",
       "\n",
       "[5 rows x 342 columns]"
      ]
     },
     "execution_count": 36,
     "metadata": {},
     "output_type": "execute_result"
    }
   ],
   "source": [
    "features_first_meta_stat = fp.ParquetFile('features/firstmeta/features_first_meta_stat').to_pandas().set_index('id').drop(['flag'],axis=1)\n",
    "features_first_meta_stat.head(5)"
   ]
  },
  {
   "cell_type": "code",
   "execution_count": 37,
   "metadata": {},
   "outputs": [],
   "source": [
    "# сохраним тренировочный валидационный и тестовый наборы данных\n",
    "# чтобы иметь возможность к ними обратиться\n",
    "fp.write('features/firstmeta/features_first_meta_stat_train',features_first_meta_stat.loc[mf_train_id])\n",
    "fp.write('features/firstmeta/features_first_meta_stat_valid',features_first_meta_stat.loc[mf_valid_id])\n",
    "fp.write('features/firstmeta/features_first_meta_stat_test',features_first_meta_stat.loc[mf_test_id])"
   ]
  },
  {
   "cell_type": "markdown",
   "metadata": {},
   "source": [
    "### <span style=\"color:RoyalBlue\">Построение блендинга из базовых моделей обученных на torow данных</span>"
   ]
  },
  {
   "cell_type": "markdown",
   "metadata": {},
   "source": [
    "#### <span style=\"color:MediumBlue\">Построение метамодели Logistic Regression</span>"
   ]
  },
  {
   "cell_type": "markdown",
   "metadata": {},
   "source": [
    "##### <span style=\"color:MediumSlateBlue\">Baseline обучение метамодели LogisticRegression</span>"
   ]
  },
  {
   "cell_type": "code",
   "execution_count": 44,
   "metadata": {},
   "outputs": [],
   "source": [
    "MX_train = fp.ParquetFile('features/firstmeta/features_first_meta_torow_train').to_pandas()\n",
    "my_train = pd.read_csv('features/firstmeta/mfy_train.csv').set_index('id')['flag']\n",
    "MX_valid = fp.ParquetFile('features/firstmeta/features_first_meta_torow_valid').to_pandas()\n",
    "my_valid = pd.read_csv('features/firstmeta/mfy_valid.csv').set_index('id')['flag']"
   ]
  },
  {
   "cell_type": "code",
   "execution_count": 45,
   "metadata": {},
   "outputs": [
    {
     "name": "stdout",
     "output_type": "stream",
     "text": [
      "ROC AUC на обучающем наборе 0.745\n",
      "ROC AUC на тестовом наборе 0.737\n",
      "Основные метрики на тестовом наборе:\n",
      "              precision    recall  f1-score   support\n",
      "\n",
      "           0       0.97      1.00      0.98    144390\n",
      "           1       0.20      0.00      0.00      5235\n",
      "\n",
      "    accuracy                           0.96    149625\n",
      "   macro avg       0.58      0.50      0.49    149625\n",
      "weighted avg       0.94      0.96      0.95    149625\n",
      "\n"
     ]
    }
   ],
   "source": [
    "# обучаем модель логистической регрессии\n",
    "logistic_regression = linear_model.LogisticRegression(random_state=42, max_iter=10000)\n",
    "logistic_regression.fit(MX_train,my_train)\n",
    "\n",
    "# для метрик ROC AUC делаем предсказание модели в виде вероятности\n",
    "my_train_LR_pred_proba = logistic_regression.predict_proba(MX_train)[:,1]\n",
    "my_valid_LR_pred_proba = logistic_regression.predict_proba(MX_valid)[:,1]\n",
    "\n",
    "# Делаем предсказание для валидационной выборки\n",
    "my_valid_LR_pred = logistic_regression.predict(MX_valid)\n",
    "\n",
    "#Выводим значения метрик\n",
    "print('ROC AUC на обучающем наборе', round(metrics.roc_auc_score(my_train, my_train_LR_pred_proba),3))\n",
    "print('ROC AUC на тестовом наборе', round(metrics.roc_auc_score(my_valid, my_valid_LR_pred_proba),3))\n",
    "\n",
    "print('Основные метрики на тестовом наборе:')\n",
    "print(metrics.classification_report(my_valid,my_valid_LR_pred,zero_division=0))\n",
    "\n",
    "# time: 3m 5s"
   ]
  },
  {
   "cell_type": "markdown",
   "metadata": {},
   "source": [
    "##### <span style=\"color:MediumSlateBlue\">Подбор гиперпараметров модели</span>"
   ]
  },
  {
   "cell_type": "code",
   "execution_count": 46,
   "metadata": {},
   "outputs": [],
   "source": [
    "# настроим оптимизацию гипер параметров\n",
    "def optuna_lg_meta(trial):\n",
    "  # задаем пространства поиска гиперпараметров\n",
    "  C = trial.suggest_float('C',0.01,1)\n",
    "  solver = trial.suggest_categorical('solver', ['lbfgs', 'liblinear', 'newton-cg', 'newton-cholesky'])\n",
    "  class_0_weight = trial.suggest_float('class_0_weight',0.01,1)\n",
    "  class_1_weight = trial.suggest_float('class_1_weight',0.01,1)\n",
    "  k_features = trial.suggest_int('k_features', 20, 356,step = 1)\n",
    "  class_1_percent = trial.suggest_float('class_1_percent',0.1,1)\n",
    "  random_state = trial.suggest_int('random_state', 1, 1000000)\n",
    "\n",
    "  # создаем модель\n",
    "  optuna_log_reg_meta = linear_model.LogisticRegression(\n",
    "      C=C,\n",
    "      solver = solver,\n",
    "      class_weight={0:class_0_weight,1:class_1_weight},\n",
    "      random_state=random_state,\n",
    "      max_iter=10000)\n",
    "\n",
    "  # Загружаем обучающие наборы\n",
    "  MX_train_pd = fp.ParquetFile('features/firstmeta/features_first_meta_torow_train').to_pandas()\n",
    "  my_train_pd = pd.read_csv('features/firstmeta/mfy_train.csv')\n",
    "\n",
    "  # поготовим данные my_train_pd к работе с функцией class_1_percent_samples\n",
    "  my_train_pd.set_index('id',drop=False,inplace=True)\n",
    "\n",
    "  # с помощью функции class_1_percent_samples зададим долю класса 1\n",
    "  list_c1_percent_id = class_1_percent_samples(my_train_pd,class_1_percent,random_state=random_state)[:1000000]\n",
    "\n",
    "  # подготовим данные для обучения\n",
    "  MX_train_balanced = MX_train_pd.loc[list_c1_percent_id]\n",
    "  my_train_balanced = my_train_pd.loc[list_c1_percent_id]['flag'].to_numpy()\n",
    "\n",
    "  # освободим память от \"тяжелых\" и ненужных файлов\n",
    "  del MX_train_pd, my_train_pd\n",
    "  gc.collect()\n",
    "  \n",
    "  # с помощью класса SelectKBest получим список лучших признаков\n",
    "  selector = SelectKBest(f_classif, k=k_features)\n",
    "  selector.fit(MX_train_balanced, my_train_balanced)\n",
    "  list_best_features = selector.get_feature_names_out()\n",
    "\n",
    "  MX_train_balanced = MX_train_balanced[list_best_features].to_numpy()\n",
    "\n",
    "  # я не воспользовался параметром timeout метода optimize потому, что  \n",
    "  # optimize отставливает поиск параметров, если время обучения \n",
    "  # превышает timeout. Мне нужно чтобы поиск параметров продолжился.\n",
    "  try:\n",
    "    # для модуля func_time_out упакуем обучение модели в функцию try_func\n",
    "    def try_func():\n",
    "            return optuna_log_reg_meta.fit(MX_train_balanced, my_train_balanced)\n",
    "    # обучаем модель с ограничением по времени 10 минут (600 секунд)\n",
    "    optuna_log_reg_meta = func_timeout.func_timeout(600, try_func)\n",
    "\n",
    "    # удаляем крупные файлы чтобы высвободить память \n",
    "    del MX_train_balanced, my_train_balanced\n",
    "    gc.collect()\n",
    "\n",
    "    # загружаем тестовые наборы\n",
    "    MX_train = fp.ParquetFile('features/firstmeta/features_first_meta_torow_train').to_pandas()[list_best_features].to_numpy()\n",
    "    MX_valid = fp.ParquetFile('features/firstmeta/features_first_meta_torow_valid').to_pandas()[list_best_features].to_numpy()\n",
    "    my_train = pd.read_csv('features/firstmeta/mfy_train.csv')['flag'].to_numpy()\n",
    "    my_valid = pd.read_csv('features/firstmeta/mfy_valid.csv')['flag'].to_numpy()\n",
    "    \n",
    "    # делаем предсказание на обучающем и валидационном наборе и считаем метрики\n",
    "    roc_train = metrics.roc_auc_score(my_train, optuna_log_reg_meta.predict_proba(MX_train)[:,1])\n",
    "    roc_valid = metrics.roc_auc_score(my_valid, optuna_log_reg_meta.predict_proba(MX_valid)[:,1])\n",
    "    f1_score = metrics.f1_score(my_valid, optuna_log_reg_meta.predict(MX_valid))\n",
    "    recall_1 = metrics.recall_score(my_valid, optuna_log_reg_meta.predict(MX_valid),average=None,zero_division=0)[1]\n",
    "    precision_1 = metrics.precision_score(my_valid, optuna_log_reg_meta.predict(MX_valid),average=None,zero_division=0)[1]\n",
    "\n",
    "    # удаляем крупные файлы чтобы высвободить память \n",
    "    del MX_train, MX_valid, my_train, my_valid\n",
    "    gc.collect()\n",
    "\n",
    "  except func_timeout.FunctionTimedOut:\n",
    "    # удаляем крупные файлы чтобы высвободить память \n",
    "    del MX_train_balanced, my_train_balanced\n",
    "    gc.collect()\n",
    "    \n",
    "    # фиксируем пустые значения метрик\n",
    "    roc_train = 0\n",
    "    roc_valid = 0\n",
    "    f1_score = 0\n",
    "    recall_1 = 0\n",
    "    precision_1 = 0\n",
    "    pass\n",
    "\n",
    "  return roc_train, roc_valid, f1_score, recall_1, precision_1"
   ]
  },
  {
   "cell_type": "code",
   "execution_count": null,
   "metadata": {},
   "outputs": [
    {
     "name": "stderr",
     "output_type": "stream",
     "text": [
      "[I 2025-04-20 17:36:24,723] A new study created in RDB with name: LogisticRegression_meta_first_torow\n"
     ]
    }
   ],
   "source": [
    "# optuna.delete_study(study_name=\"LogisticRegression_meta_first_torow\", storage='sqlite:///optuna_studies.db')\n",
    "# cоздаем объект исследования\n",
    "# чтобы модель не переобучалась минимизируем roc_train \n",
    "# и максимизируем roc_valid\n",
    "optuna_study_lg_meta = optuna.create_study(study_name=\"LogisticRegression_meta_first_torow\", \n",
    "                               directions=['maximize','maximize','maximize','maximize','maximize'], \n",
    "                               sampler=optuna.samplers.TPESampler(),\n",
    "                               pruner='Hyperband',\n",
    "                               storage='sqlite:///optuna_studies.db',\n",
    "                               load_if_exists=True)"
   ]
  },
  {
   "cell_type": "code",
   "execution_count": null,
   "metadata": {},
   "outputs": [],
   "source": [
    "# ищем лучшую комбинацию гиперпараметров n_trials раз\n",
    "optuna_study_lg_meta.optimize(optuna_lg_meta, n_trials=300)"
   ]
  },
  {
   "cell_type": "markdown",
   "metadata": {},
   "source": [
    "##### <span style=\"color:MediumSlateBlue\">Анализ гиперпараметров</span>"
   ]
  },
  {
   "cell_type": "code",
   "execution_count": 49,
   "metadata": {},
   "outputs": [
    {
     "data": {
      "text/html": [
       "<div>\n",
       "<style scoped>\n",
       "    .dataframe tbody tr th:only-of-type {\n",
       "        vertical-align: middle;\n",
       "    }\n",
       "\n",
       "    .dataframe tbody tr th {\n",
       "        vertical-align: top;\n",
       "    }\n",
       "\n",
       "    .dataframe thead th {\n",
       "        text-align: right;\n",
       "    }\n",
       "</style>\n",
       "<table border=\"1\" class=\"dataframe\">\n",
       "  <thead>\n",
       "    <tr style=\"text-align: right;\">\n",
       "      <th></th>\n",
       "      <th>number</th>\n",
       "      <th>roc_train</th>\n",
       "      <th>roc_valid</th>\n",
       "      <th>f1_score</th>\n",
       "      <th>recall_1</th>\n",
       "      <th>precision_1</th>\n",
       "      <th>datetime_start</th>\n",
       "      <th>datetime_complete</th>\n",
       "      <th>duration</th>\n",
       "      <th>params_C</th>\n",
       "      <th>params_class_0_weight</th>\n",
       "      <th>params_class_1_percent</th>\n",
       "      <th>params_class_1_weight</th>\n",
       "      <th>params_k_features</th>\n",
       "      <th>params_random_state</th>\n",
       "      <th>params_solver</th>\n",
       "      <th>state</th>\n",
       "    </tr>\n",
       "  </thead>\n",
       "  <tbody>\n",
       "    <tr>\n",
       "      <th>295</th>\n",
       "      <td>295</td>\n",
       "      <td>0.750848</td>\n",
       "      <td>0.740206</td>\n",
       "      <td>0.158317</td>\n",
       "      <td>0.404776</td>\n",
       "      <td>0.098403</td>\n",
       "      <td>2025-04-20 18:01:26.242190</td>\n",
       "      <td>2025-04-20 18:01:33.366617</td>\n",
       "      <td>0 days 00:00:07.124427</td>\n",
       "      <td>0.802815</td>\n",
       "      <td>0.256365</td>\n",
       "      <td>0.395373</td>\n",
       "      <td>0.212852</td>\n",
       "      <td>341</td>\n",
       "      <td>611801</td>\n",
       "      <td>liblinear</td>\n",
       "      <td>COMPLETE</td>\n",
       "    </tr>\n",
       "    <tr>\n",
       "      <th>296</th>\n",
       "      <td>296</td>\n",
       "      <td>0.742962</td>\n",
       "      <td>0.730683</td>\n",
       "      <td>0.088609</td>\n",
       "      <td>0.923782</td>\n",
       "      <td>0.046536</td>\n",
       "      <td>2025-04-20 18:01:33.371641</td>\n",
       "      <td>2025-04-20 18:01:38.538392</td>\n",
       "      <td>0 days 00:00:05.166751</td>\n",
       "      <td>0.815527</td>\n",
       "      <td>0.230913</td>\n",
       "      <td>0.429195</td>\n",
       "      <td>0.777775</td>\n",
       "      <td>190</td>\n",
       "      <td>238543</td>\n",
       "      <td>liblinear</td>\n",
       "      <td>COMPLETE</td>\n",
       "    </tr>\n",
       "    <tr>\n",
       "      <th>297</th>\n",
       "      <td>297</td>\n",
       "      <td>0.751009</td>\n",
       "      <td>0.739289</td>\n",
       "      <td>0.085700</td>\n",
       "      <td>0.939828</td>\n",
       "      <td>0.044897</td>\n",
       "      <td>2025-04-20 18:01:38.544440</td>\n",
       "      <td>2025-04-20 18:01:46.703088</td>\n",
       "      <td>0 days 00:00:08.158648</td>\n",
       "      <td>0.858042</td>\n",
       "      <td>0.149071</td>\n",
       "      <td>0.366052</td>\n",
       "      <td>0.754079</td>\n",
       "      <td>328</td>\n",
       "      <td>584230</td>\n",
       "      <td>liblinear</td>\n",
       "      <td>COMPLETE</td>\n",
       "    </tr>\n",
       "    <tr>\n",
       "      <th>298</th>\n",
       "      <td>298</td>\n",
       "      <td>0.750584</td>\n",
       "      <td>0.738551</td>\n",
       "      <td>0.121917</td>\n",
       "      <td>0.714231</td>\n",
       "      <td>0.066646</td>\n",
       "      <td>2025-04-20 18:01:46.708757</td>\n",
       "      <td>2025-04-20 18:01:53.852193</td>\n",
       "      <td>0 days 00:00:07.143436</td>\n",
       "      <td>0.792399</td>\n",
       "      <td>0.172989</td>\n",
       "      <td>0.397806</td>\n",
       "      <td>0.304821</td>\n",
       "      <td>322</td>\n",
       "      <td>242512</td>\n",
       "      <td>liblinear</td>\n",
       "      <td>COMPLETE</td>\n",
       "    </tr>\n",
       "    <tr>\n",
       "      <th>299</th>\n",
       "      <td>299</td>\n",
       "      <td>0.750508</td>\n",
       "      <td>0.738972</td>\n",
       "      <td>0.151633</td>\n",
       "      <td>0.480229</td>\n",
       "      <td>0.090030</td>\n",
       "      <td>2025-04-20 18:01:53.857429</td>\n",
       "      <td>2025-04-20 18:02:00.498482</td>\n",
       "      <td>0 days 00:00:06.641053</td>\n",
       "      <td>0.815738</td>\n",
       "      <td>0.245214</td>\n",
       "      <td>0.415227</td>\n",
       "      <td>0.220710</td>\n",
       "      <td>342</td>\n",
       "      <td>584885</td>\n",
       "      <td>liblinear</td>\n",
       "      <td>COMPLETE</td>\n",
       "    </tr>\n",
       "  </tbody>\n",
       "</table>\n",
       "</div>"
      ],
      "text/plain": [
       "     number  roc_train  roc_valid  f1_score  recall_1  precision_1  \\\n",
       "295     295   0.750848   0.740206  0.158317  0.404776     0.098403   \n",
       "296     296   0.742962   0.730683  0.088609  0.923782     0.046536   \n",
       "297     297   0.751009   0.739289  0.085700  0.939828     0.044897   \n",
       "298     298   0.750584   0.738551  0.121917  0.714231     0.066646   \n",
       "299     299   0.750508   0.738972  0.151633  0.480229     0.090030   \n",
       "\n",
       "                datetime_start          datetime_complete  \\\n",
       "295 2025-04-20 18:01:26.242190 2025-04-20 18:01:33.366617   \n",
       "296 2025-04-20 18:01:33.371641 2025-04-20 18:01:38.538392   \n",
       "297 2025-04-20 18:01:38.544440 2025-04-20 18:01:46.703088   \n",
       "298 2025-04-20 18:01:46.708757 2025-04-20 18:01:53.852193   \n",
       "299 2025-04-20 18:01:53.857429 2025-04-20 18:02:00.498482   \n",
       "\n",
       "                  duration  params_C  params_class_0_weight  \\\n",
       "295 0 days 00:00:07.124427  0.802815               0.256365   \n",
       "296 0 days 00:00:05.166751  0.815527               0.230913   \n",
       "297 0 days 00:00:08.158648  0.858042               0.149071   \n",
       "298 0 days 00:00:07.143436  0.792399               0.172989   \n",
       "299 0 days 00:00:06.641053  0.815738               0.245214   \n",
       "\n",
       "     params_class_1_percent  params_class_1_weight  params_k_features  \\\n",
       "295                0.395373               0.212852                341   \n",
       "296                0.429195               0.777775                190   \n",
       "297                0.366052               0.754079                328   \n",
       "298                0.397806               0.304821                322   \n",
       "299                0.415227               0.220710                342   \n",
       "\n",
       "     params_random_state params_solver     state  \n",
       "295               611801     liblinear  COMPLETE  \n",
       "296               238543     liblinear  COMPLETE  \n",
       "297               584230     liblinear  COMPLETE  \n",
       "298               242512     liblinear  COMPLETE  \n",
       "299               584885     liblinear  COMPLETE  "
      ]
     },
     "execution_count": 49,
     "metadata": {},
     "output_type": "execute_result"
    }
   ],
   "source": [
    "# из полученного результат соврмируем Data Frame\n",
    "optuna_study_lg_meta_pd = optuna_study_lg_meta.trials_dataframe().dropna()\n",
    "# переименуем столбы\n",
    "optuna_study_lg_meta_pd.rename(columns={\n",
    "    'values_0': 'roc_train',\n",
    "    'values_1': 'roc_valid',\n",
    "    'values_2': 'f1_score',\n",
    "    'values_3': 'recall_1',\n",
    "    'values_4': 'precision_1'\n",
    "},inplace=True)\n",
    "# Выделим время потраченное на обучение модели\n",
    "optuna_study_lg_meta_pd.tail()"
   ]
  },
  {
   "cell_type": "code",
   "execution_count": 50,
   "metadata": {},
   "outputs": [
    {
     "name": "stdout",
     "output_type": "stream",
     "text": [
      "Максимальное значение метрики ROC AUC на валидационном наборе: 0.741\n",
      "Среднее значение метрики ROC AUC на валидационном наборе: 0.737\n",
      "Максимальное значение метрики f1_score на валидационном наборе: 0.166\n",
      "Среднее значение метрики f1_score на валидационном наборе: 0.124\n",
      "Максимальное значение метрики recall_1 на валидационном наборе: 1.0\n",
      "Среднее значение метрики recall_1 на валидационном наборе: 0.466\n",
      "Максимальное значение метрики precision_1 на валидационном наборе: 0.368\n",
      "Среднее значение метрики precision_1 на валидационном наборе: 0.101\n"
     ]
    }
   ],
   "source": [
    "# покаждем статистику обучения\n",
    "print('Максимальное значение метрики ROC AUC на валидационном наборе:',round(optuna_study_lg_meta_pd['roc_valid'].max(),3))\n",
    "print('Среднее значение метрики ROC AUC на валидационном наборе:',round(optuna_study_lg_meta_pd['roc_valid'].mean(),3))\n",
    "print('Максимальное значение метрики f1_score на валидационном наборе:',round(optuna_study_lg_meta_pd['f1_score'].max(),3))\n",
    "print('Среднее значение метрики f1_score на валидационном наборе:',round(optuna_study_lg_meta_pd['f1_score'].mean(),3))\n",
    "print('Максимальное значение метрики recall_1 на валидационном наборе:',round(optuna_study_lg_meta_pd['recall_1'].max(),3))\n",
    "print('Среднее значение метрики recall_1 на валидационном наборе:',round(optuna_study_lg_meta_pd['recall_1'].mean(),3))\n",
    "print('Максимальное значение метрики precision_1 на валидационном наборе:',round(optuna_study_lg_meta_pd['precision_1'].max(),3))\n",
    "print('Среднее значение метрики precision_1 на валидационном наборе:',round(optuna_study_lg_meta_pd['precision_1'].mean(),3))"
   ]
  },
  {
   "cell_type": "code",
   "execution_count": 52,
   "metadata": {},
   "outputs": [
    {
     "data": {
      "application/vnd.plotly.v1+json": {
       "config": {
        "plotlyServerURL": "https://plot.ly"
       },
       "data": [
        {
         "cliponaxis": false,
         "hovertemplate": [
          "solver (CategoricalDistribution): 0.0001104234458968628<extra></extra>",
          "random_state (IntDistribution): 0.0002418853414830456<extra></extra>",
          "class_0_weight (FloatDistribution): 0.0003286118113518676<extra></extra>",
          "class_1_weight (FloatDistribution): 0.00036609466927841624<extra></extra>",
          "C (FloatDistribution): 0.0010211562044054536<extra></extra>",
          "class_1_percent (FloatDistribution): 0.0046478977211100465<extra></extra>",
          "k_features (IntDistribution): 0.9932839308064744<extra></extra>"
         ],
         "name": "Score 0",
         "orientation": "h",
         "text": [
          "<0.01",
          "<0.01",
          "<0.01",
          "<0.01",
          "<0.01",
          "<0.01",
          "0.99"
         ],
         "textposition": "outside",
         "type": "bar",
         "x": [
          0.0001104234458968628,
          0.0002418853414830456,
          0.0003286118113518676,
          0.00036609466927841624,
          0.0010211562044054536,
          0.0046478977211100465,
          0.9932839308064744
         ],
         "y": [
          "solver",
          "random_state",
          "class_0_weight",
          "class_1_weight",
          "C",
          "class_1_percent",
          "k_features"
         ]
        },
        {
         "cliponaxis": false,
         "hovertemplate": [
          "solver (CategoricalDistribution): 0.00010360861435556367<extra></extra>",
          "class_1_weight (FloatDistribution): 0.00011223601764067499<extra></extra>",
          "class_0_weight (FloatDistribution): 0.00013104645450447318<extra></extra>",
          "C (FloatDistribution): 0.0004404000119339254<extra></extra>",
          "random_state (IntDistribution): 0.0004815914192263941<extra></extra>",
          "class_1_percent (FloatDistribution): 0.002441769114235674<extra></extra>",
          "k_features (IntDistribution): 0.9962893483681031<extra></extra>"
         ],
         "name": "Score 1",
         "orientation": "h",
         "text": [
          "<0.01",
          "<0.01",
          "<0.01",
          "<0.01",
          "<0.01",
          "<0.01",
          "1.00"
         ],
         "textposition": "outside",
         "type": "bar",
         "x": [
          0.00010360861435556367,
          0.00011223601764067499,
          0.00013104645450447318,
          0.0004404000119339254,
          0.0004815914192263941,
          0.002441769114235674,
          0.9962893483681031
         ],
         "y": [
          "solver",
          "class_1_weight",
          "class_0_weight",
          "C",
          "random_state",
          "class_1_percent",
          "k_features"
         ]
        },
        {
         "cliponaxis": false,
         "hovertemplate": [
          "solver (CategoricalDistribution): 0.0073414663643404975<extra></extra>",
          "random_state (IntDistribution): 0.013309254040610008<extra></extra>",
          "C (FloatDistribution): 0.017305004347028728<extra></extra>",
          "k_features (IntDistribution): 0.01754000972058674<extra></extra>",
          "class_0_weight (FloatDistribution): 0.07630222367150151<extra></extra>",
          "class_1_percent (FloatDistribution): 0.296932186254007<extra></extra>",
          "class_1_weight (FloatDistribution): 0.5712698556019254<extra></extra>"
         ],
         "name": "Score 2",
         "orientation": "h",
         "text": [
          "<0.01",
          "0.01",
          "0.02",
          "0.02",
          "0.08",
          "0.30",
          "0.57"
         ],
         "textposition": "outside",
         "type": "bar",
         "x": [
          0.0073414663643404975,
          0.013309254040610008,
          0.017305004347028728,
          0.01754000972058674,
          0.07630222367150151,
          0.296932186254007,
          0.5712698556019254
         ],
         "y": [
          "solver",
          "random_state",
          "C",
          "k_features",
          "class_0_weight",
          "class_1_percent",
          "class_1_weight"
         ]
        },
        {
         "cliponaxis": false,
         "hovertemplate": [
          "k_features (IntDistribution): 0.000932188382760731<extra></extra>",
          "solver (CategoricalDistribution): 0.0012248629139069984<extra></extra>",
          "C (FloatDistribution): 0.0014844799483173198<extra></extra>",
          "random_state (IntDistribution): 0.002617772683261171<extra></extra>",
          "class_1_weight (FloatDistribution): 0.20878131030372687<extra></extra>",
          "class_0_weight (FloatDistribution): 0.26126401540960015<extra></extra>",
          "class_1_percent (FloatDistribution): 0.5236953703584268<extra></extra>"
         ],
         "name": "Score 3",
         "orientation": "h",
         "text": [
          "<0.01",
          "<0.01",
          "<0.01",
          "<0.01",
          "0.21",
          "0.26",
          "0.52"
         ],
         "textposition": "outside",
         "type": "bar",
         "x": [
          0.000932188382760731,
          0.0012248629139069984,
          0.0014844799483173198,
          0.002617772683261171,
          0.20878131030372687,
          0.26126401540960015,
          0.5236953703584268
         ],
         "y": [
          "k_features",
          "solver",
          "C",
          "random_state",
          "class_1_weight",
          "class_0_weight",
          "class_1_percent"
         ]
        },
        {
         "cliponaxis": false,
         "hovertemplate": [
          "C (FloatDistribution): 0.0033429181046545696<extra></extra>",
          "solver (CategoricalDistribution): 0.009890029264648562<extra></extra>",
          "k_features (IntDistribution): 0.011638891424662628<extra></extra>",
          "random_state (IntDistribution): 0.01849887018145516<extra></extra>",
          "class_0_weight (FloatDistribution): 0.15094203315998792<extra></extra>",
          "class_1_weight (FloatDistribution): 0.3613278581310437<extra></extra>",
          "class_1_percent (FloatDistribution): 0.44435939973354743<extra></extra>"
         ],
         "name": "Score 4",
         "orientation": "h",
         "text": [
          "<0.01",
          "<0.01",
          "0.01",
          "0.02",
          "0.15",
          "0.36",
          "0.44"
         ],
         "textposition": "outside",
         "type": "bar",
         "x": [
          0.0033429181046545696,
          0.009890029264648562,
          0.011638891424662628,
          0.01849887018145516,
          0.15094203315998792,
          0.3613278581310437,
          0.44435939973354743
         ],
         "y": [
          "C",
          "solver",
          "k_features",
          "random_state",
          "class_0_weight",
          "class_1_weight",
          "class_1_percent"
         ]
        }
       ],
       "layout": {
        "template": {
         "data": {
          "bar": [
           {
            "error_x": {
             "color": "#2a3f5f"
            },
            "error_y": {
             "color": "#2a3f5f"
            },
            "marker": {
             "line": {
              "color": "#E5ECF6",
              "width": 0.5
             },
             "pattern": {
              "fillmode": "overlay",
              "size": 10,
              "solidity": 0.2
             }
            },
            "type": "bar"
           }
          ],
          "barpolar": [
           {
            "marker": {
             "line": {
              "color": "#E5ECF6",
              "width": 0.5
             },
             "pattern": {
              "fillmode": "overlay",
              "size": 10,
              "solidity": 0.2
             }
            },
            "type": "barpolar"
           }
          ],
          "carpet": [
           {
            "aaxis": {
             "endlinecolor": "#2a3f5f",
             "gridcolor": "white",
             "linecolor": "white",
             "minorgridcolor": "white",
             "startlinecolor": "#2a3f5f"
            },
            "baxis": {
             "endlinecolor": "#2a3f5f",
             "gridcolor": "white",
             "linecolor": "white",
             "minorgridcolor": "white",
             "startlinecolor": "#2a3f5f"
            },
            "type": "carpet"
           }
          ],
          "choropleth": [
           {
            "colorbar": {
             "outlinewidth": 0,
             "ticks": ""
            },
            "type": "choropleth"
           }
          ],
          "contour": [
           {
            "colorbar": {
             "outlinewidth": 0,
             "ticks": ""
            },
            "colorscale": [
             [
              0,
              "#0d0887"
             ],
             [
              0.1111111111111111,
              "#46039f"
             ],
             [
              0.2222222222222222,
              "#7201a8"
             ],
             [
              0.3333333333333333,
              "#9c179e"
             ],
             [
              0.4444444444444444,
              "#bd3786"
             ],
             [
              0.5555555555555556,
              "#d8576b"
             ],
             [
              0.6666666666666666,
              "#ed7953"
             ],
             [
              0.7777777777777778,
              "#fb9f3a"
             ],
             [
              0.8888888888888888,
              "#fdca26"
             ],
             [
              1,
              "#f0f921"
             ]
            ],
            "type": "contour"
           }
          ],
          "contourcarpet": [
           {
            "colorbar": {
             "outlinewidth": 0,
             "ticks": ""
            },
            "type": "contourcarpet"
           }
          ],
          "heatmap": [
           {
            "colorbar": {
             "outlinewidth": 0,
             "ticks": ""
            },
            "colorscale": [
             [
              0,
              "#0d0887"
             ],
             [
              0.1111111111111111,
              "#46039f"
             ],
             [
              0.2222222222222222,
              "#7201a8"
             ],
             [
              0.3333333333333333,
              "#9c179e"
             ],
             [
              0.4444444444444444,
              "#bd3786"
             ],
             [
              0.5555555555555556,
              "#d8576b"
             ],
             [
              0.6666666666666666,
              "#ed7953"
             ],
             [
              0.7777777777777778,
              "#fb9f3a"
             ],
             [
              0.8888888888888888,
              "#fdca26"
             ],
             [
              1,
              "#f0f921"
             ]
            ],
            "type": "heatmap"
           }
          ],
          "heatmapgl": [
           {
            "colorbar": {
             "outlinewidth": 0,
             "ticks": ""
            },
            "colorscale": [
             [
              0,
              "#0d0887"
             ],
             [
              0.1111111111111111,
              "#46039f"
             ],
             [
              0.2222222222222222,
              "#7201a8"
             ],
             [
              0.3333333333333333,
              "#9c179e"
             ],
             [
              0.4444444444444444,
              "#bd3786"
             ],
             [
              0.5555555555555556,
              "#d8576b"
             ],
             [
              0.6666666666666666,
              "#ed7953"
             ],
             [
              0.7777777777777778,
              "#fb9f3a"
             ],
             [
              0.8888888888888888,
              "#fdca26"
             ],
             [
              1,
              "#f0f921"
             ]
            ],
            "type": "heatmapgl"
           }
          ],
          "histogram": [
           {
            "marker": {
             "pattern": {
              "fillmode": "overlay",
              "size": 10,
              "solidity": 0.2
             }
            },
            "type": "histogram"
           }
          ],
          "histogram2d": [
           {
            "colorbar": {
             "outlinewidth": 0,
             "ticks": ""
            },
            "colorscale": [
             [
              0,
              "#0d0887"
             ],
             [
              0.1111111111111111,
              "#46039f"
             ],
             [
              0.2222222222222222,
              "#7201a8"
             ],
             [
              0.3333333333333333,
              "#9c179e"
             ],
             [
              0.4444444444444444,
              "#bd3786"
             ],
             [
              0.5555555555555556,
              "#d8576b"
             ],
             [
              0.6666666666666666,
              "#ed7953"
             ],
             [
              0.7777777777777778,
              "#fb9f3a"
             ],
             [
              0.8888888888888888,
              "#fdca26"
             ],
             [
              1,
              "#f0f921"
             ]
            ],
            "type": "histogram2d"
           }
          ],
          "histogram2dcontour": [
           {
            "colorbar": {
             "outlinewidth": 0,
             "ticks": ""
            },
            "colorscale": [
             [
              0,
              "#0d0887"
             ],
             [
              0.1111111111111111,
              "#46039f"
             ],
             [
              0.2222222222222222,
              "#7201a8"
             ],
             [
              0.3333333333333333,
              "#9c179e"
             ],
             [
              0.4444444444444444,
              "#bd3786"
             ],
             [
              0.5555555555555556,
              "#d8576b"
             ],
             [
              0.6666666666666666,
              "#ed7953"
             ],
             [
              0.7777777777777778,
              "#fb9f3a"
             ],
             [
              0.8888888888888888,
              "#fdca26"
             ],
             [
              1,
              "#f0f921"
             ]
            ],
            "type": "histogram2dcontour"
           }
          ],
          "mesh3d": [
           {
            "colorbar": {
             "outlinewidth": 0,
             "ticks": ""
            },
            "type": "mesh3d"
           }
          ],
          "parcoords": [
           {
            "line": {
             "colorbar": {
              "outlinewidth": 0,
              "ticks": ""
             }
            },
            "type": "parcoords"
           }
          ],
          "pie": [
           {
            "automargin": true,
            "type": "pie"
           }
          ],
          "scatter": [
           {
            "fillpattern": {
             "fillmode": "overlay",
             "size": 10,
             "solidity": 0.2
            },
            "type": "scatter"
           }
          ],
          "scatter3d": [
           {
            "line": {
             "colorbar": {
              "outlinewidth": 0,
              "ticks": ""
             }
            },
            "marker": {
             "colorbar": {
              "outlinewidth": 0,
              "ticks": ""
             }
            },
            "type": "scatter3d"
           }
          ],
          "scattercarpet": [
           {
            "marker": {
             "colorbar": {
              "outlinewidth": 0,
              "ticks": ""
             }
            },
            "type": "scattercarpet"
           }
          ],
          "scattergeo": [
           {
            "marker": {
             "colorbar": {
              "outlinewidth": 0,
              "ticks": ""
             }
            },
            "type": "scattergeo"
           }
          ],
          "scattergl": [
           {
            "marker": {
             "colorbar": {
              "outlinewidth": 0,
              "ticks": ""
             }
            },
            "type": "scattergl"
           }
          ],
          "scattermapbox": [
           {
            "marker": {
             "colorbar": {
              "outlinewidth": 0,
              "ticks": ""
             }
            },
            "type": "scattermapbox"
           }
          ],
          "scatterpolar": [
           {
            "marker": {
             "colorbar": {
              "outlinewidth": 0,
              "ticks": ""
             }
            },
            "type": "scatterpolar"
           }
          ],
          "scatterpolargl": [
           {
            "marker": {
             "colorbar": {
              "outlinewidth": 0,
              "ticks": ""
             }
            },
            "type": "scatterpolargl"
           }
          ],
          "scatterternary": [
           {
            "marker": {
             "colorbar": {
              "outlinewidth": 0,
              "ticks": ""
             }
            },
            "type": "scatterternary"
           }
          ],
          "surface": [
           {
            "colorbar": {
             "outlinewidth": 0,
             "ticks": ""
            },
            "colorscale": [
             [
              0,
              "#0d0887"
             ],
             [
              0.1111111111111111,
              "#46039f"
             ],
             [
              0.2222222222222222,
              "#7201a8"
             ],
             [
              0.3333333333333333,
              "#9c179e"
             ],
             [
              0.4444444444444444,
              "#bd3786"
             ],
             [
              0.5555555555555556,
              "#d8576b"
             ],
             [
              0.6666666666666666,
              "#ed7953"
             ],
             [
              0.7777777777777778,
              "#fb9f3a"
             ],
             [
              0.8888888888888888,
              "#fdca26"
             ],
             [
              1,
              "#f0f921"
             ]
            ],
            "type": "surface"
           }
          ],
          "table": [
           {
            "cells": {
             "fill": {
              "color": "#EBF0F8"
             },
             "line": {
              "color": "white"
             }
            },
            "header": {
             "fill": {
              "color": "#C8D4E3"
             },
             "line": {
              "color": "white"
             }
            },
            "type": "table"
           }
          ]
         },
         "layout": {
          "annotationdefaults": {
           "arrowcolor": "#2a3f5f",
           "arrowhead": 0,
           "arrowwidth": 1
          },
          "autotypenumbers": "strict",
          "coloraxis": {
           "colorbar": {
            "outlinewidth": 0,
            "ticks": ""
           }
          },
          "colorscale": {
           "diverging": [
            [
             0,
             "#8e0152"
            ],
            [
             0.1,
             "#c51b7d"
            ],
            [
             0.2,
             "#de77ae"
            ],
            [
             0.3,
             "#f1b6da"
            ],
            [
             0.4,
             "#fde0ef"
            ],
            [
             0.5,
             "#f7f7f7"
            ],
            [
             0.6,
             "#e6f5d0"
            ],
            [
             0.7,
             "#b8e186"
            ],
            [
             0.8,
             "#7fbc41"
            ],
            [
             0.9,
             "#4d9221"
            ],
            [
             1,
             "#276419"
            ]
           ],
           "sequential": [
            [
             0,
             "#0d0887"
            ],
            [
             0.1111111111111111,
             "#46039f"
            ],
            [
             0.2222222222222222,
             "#7201a8"
            ],
            [
             0.3333333333333333,
             "#9c179e"
            ],
            [
             0.4444444444444444,
             "#bd3786"
            ],
            [
             0.5555555555555556,
             "#d8576b"
            ],
            [
             0.6666666666666666,
             "#ed7953"
            ],
            [
             0.7777777777777778,
             "#fb9f3a"
            ],
            [
             0.8888888888888888,
             "#fdca26"
            ],
            [
             1,
             "#f0f921"
            ]
           ],
           "sequentialminus": [
            [
             0,
             "#0d0887"
            ],
            [
             0.1111111111111111,
             "#46039f"
            ],
            [
             0.2222222222222222,
             "#7201a8"
            ],
            [
             0.3333333333333333,
             "#9c179e"
            ],
            [
             0.4444444444444444,
             "#bd3786"
            ],
            [
             0.5555555555555556,
             "#d8576b"
            ],
            [
             0.6666666666666666,
             "#ed7953"
            ],
            [
             0.7777777777777778,
             "#fb9f3a"
            ],
            [
             0.8888888888888888,
             "#fdca26"
            ],
            [
             1,
             "#f0f921"
            ]
           ]
          },
          "colorway": [
           "#636efa",
           "#EF553B",
           "#00cc96",
           "#ab63fa",
           "#FFA15A",
           "#19d3f3",
           "#FF6692",
           "#B6E880",
           "#FF97FF",
           "#FECB52"
          ],
          "font": {
           "color": "#2a3f5f"
          },
          "geo": {
           "bgcolor": "white",
           "lakecolor": "white",
           "landcolor": "#E5ECF6",
           "showlakes": true,
           "showland": true,
           "subunitcolor": "white"
          },
          "hoverlabel": {
           "align": "left"
          },
          "hovermode": "closest",
          "mapbox": {
           "style": "light"
          },
          "paper_bgcolor": "white",
          "plot_bgcolor": "#E5ECF6",
          "polar": {
           "angularaxis": {
            "gridcolor": "white",
            "linecolor": "white",
            "ticks": ""
           },
           "bgcolor": "#E5ECF6",
           "radialaxis": {
            "gridcolor": "white",
            "linecolor": "white",
            "ticks": ""
           }
          },
          "scene": {
           "xaxis": {
            "backgroundcolor": "#E5ECF6",
            "gridcolor": "white",
            "gridwidth": 2,
            "linecolor": "white",
            "showbackground": true,
            "ticks": "",
            "zerolinecolor": "white"
           },
           "yaxis": {
            "backgroundcolor": "#E5ECF6",
            "gridcolor": "white",
            "gridwidth": 2,
            "linecolor": "white",
            "showbackground": true,
            "ticks": "",
            "zerolinecolor": "white"
           },
           "zaxis": {
            "backgroundcolor": "#E5ECF6",
            "gridcolor": "white",
            "gridwidth": 2,
            "linecolor": "white",
            "showbackground": true,
            "ticks": "",
            "zerolinecolor": "white"
           }
          },
          "shapedefaults": {
           "line": {
            "color": "#2a3f5f"
           }
          },
          "ternary": {
           "aaxis": {
            "gridcolor": "white",
            "linecolor": "white",
            "ticks": ""
           },
           "baxis": {
            "gridcolor": "white",
            "linecolor": "white",
            "ticks": ""
           },
           "bgcolor": "#E5ECF6",
           "caxis": {
            "gridcolor": "white",
            "linecolor": "white",
            "ticks": ""
           }
          },
          "title": {
           "x": 0.05
          },
          "xaxis": {
           "automargin": true,
           "gridcolor": "white",
           "linecolor": "white",
           "ticks": "",
           "title": {
            "standoff": 15
           },
           "zerolinecolor": "white",
           "zerolinewidth": 2
          },
          "yaxis": {
           "automargin": true,
           "gridcolor": "white",
           "linecolor": "white",
           "ticks": "",
           "title": {
            "standoff": 15
           },
           "zerolinecolor": "white",
           "zerolinewidth": 2
          }
         }
        },
        "title": {
         "text": "Hyperparameter Importances"
        },
        "xaxis": {
         "title": {
          "text": "Hyperparameter Importance"
         }
        },
        "yaxis": {
         "title": {
          "text": "Hyperparameter"
         }
        }
       }
      }
     },
     "metadata": {},
     "output_type": "display_data"
    }
   ],
   "source": [
    "# построим график важности гиперпарметров\n",
    "optuna.visualization.plot_param_importances(optuna_study_lg_meta, target_name='Score')"
   ]
  },
  {
   "cell_type": "code",
   "execution_count": 53,
   "metadata": {},
   "outputs": [
    {
     "data": {
      "application/vnd.plotly.v1+json": {
       "config": {
        "plotlyServerURL": "https://plot.ly"
       },
       "data": [
        {
         "hovertemplate": "variable=f1_score<br>precision_1=%{x}<br>value=%{y}<extra></extra>",
         "legendgroup": "f1_score",
         "marker": {
          "color": "#636efa",
          "symbol": "circle"
         },
         "mode": "markers",
         "name": "f1_score",
         "showlegend": true,
         "type": "scattergl",
         "x": [
          0.3333333333333333,
          0.03507936614381803,
          0.14098883572567783,
          0.3684210526315789,
          0.037049772199776496,
          0.03499471903953367,
          0.03601599165652703,
          0.0349874686716792,
          0,
          0.03499308159704815,
          0.071959048378299,
          0.08434058554928821,
          0.07799283898085206,
          0.04906170400790144,
          0.0349874686716792,
          0.08605060649536976,
          0.11859533833042407,
          0.11494520867335044,
          0.11448019801980198,
          0.18152661962796665,
          0.051624581824847623,
          0.1255247261185625,
          0.07808226116908115,
          0.09711501142783216,
          0.05164255473295751,
          0.09109062327399414,
          0.07091896496645725,
          0.09932157394843961,
          0.0349874686716792,
          0.15859683794466403,
          0.07379646268797882,
          0.08396832511579262,
          0.1141876259422345,
          0.10067808892799834,
          0.15341264871634314,
          0.05473528139865324,
          0.19390581717451524,
          0.16685372240927795,
          0.03580951858681272,
          0.10920311242286021,
          0.07856943138201876,
          0.08198671269836665,
          0.06433568741337206,
          0.07764288704474377,
          0.053850412845140944,
          0.16216216216216217,
          0.15820747709829167,
          0.11336477987421384,
          0.13348980489951592,
          0.2136986301369863,
          0.1447817495958326,
          0.07712133227597145,
          0.10279827961556842,
          0,
          0.10007612281146917,
          0.09705855896374921,
          0.15480621852419532,
          0.08112712243074173,
          0.1303964757709251,
          0.08382787012583502,
          0.1094798326624043,
          0.07382653622073211,
          0.05380710659898477,
          0.041799524610122325,
          0.05893333333333333,
          0.043769622457325276,
          0.043794976717934246,
          0.04047636094603947,
          0.20784313725490197,
          0.0546837261726346,
          0.06702619414483821,
          0.055378264063014465,
          0.15096272019664073,
          0.04354708928071648,
          0.10300230946882218,
          0.08809362279511533,
          0.07742080543619466,
          0.04969102376250239,
          0.057564090524931916,
          0.07943494728221927,
          0.08874537406574269,
          0.036732297112779186,
          0.12190406039959488,
          0.13423891330403515,
          0.08510372406898276,
          0.037692408893566634,
          0.07988949004259238,
          0.17373175816539263,
          0.0460968374764256,
          0.13947779513501452,
          0.1537795105046567,
          0.1132186443170122,
          0.12168369738445674,
          0.20404411764705882,
          0.13636363636363635,
          0.07789708265802268,
          0.14537564415513968,
          0.12288698955365622,
          0.10284096865499529,
          0.07143003714115692,
          0.11717663421418636,
          0.10178774413557921,
          0.1073504480503754,
          0.06830444053026792,
          0.07618465013411134,
          0.08236034798534798,
          0.0531912376987131,
          0.07892855318931617,
          0.08364548090865152,
          0.06644903117101937,
          0.06005297514799751,
          0.14940997335363532,
          0.05453962933753943,
          0.09143747150888923,
          0.12646076794657762,
          0.08163376893214501,
          0.13858619726180496,
          0.2109375,
          0.11044491381072426,
          0.12356265835119859,
          0.07331997735290274,
          0.0761809237235516,
          0.2469879518072289,
          0.15413533834586465,
          0.07032484982611445,
          0.06852284723269492,
          0.10712078130794907,
          0.05763090891945414,
          0.0382981888504593,
          0.11812975467988716,
          0.06791771790574759,
          0.1937669376693767,
          0.17801556420233464,
          0.08855569155446756,
          0.0755687020212691,
          0.08376261799124557,
          0.10871743486973948,
          0.14009038089089734,
          0.21694915254237288,
          0.08206816311473084,
          0.18848653667595172,
          0.11712533156498674,
          0.1039740202553941,
          0.08064126319181503,
          0.11060730970046716,
          0.09983870070637967,
          0.09857828829677055,
          0.12708113804004215,
          0.09927466150870407,
          0.14270887389724962,
          0.06475496533082618,
          0.12697705502339052,
          0.08038866762703725,
          0.04586321661275958,
          0.04499046541546154,
          0.09640163757810817,
          0.11679779381945007,
          0.08044427670243166,
          0.15564834145209927,
          0.07567504925252057,
          0.11724934036939313,
          0.08516129032258064,
          0.09289194833320442,
          0.07472142343637671,
          0.1415,
          0.09225687509602089,
          0.053330175833284,
          0.05238800656859705,
          0.15596544478169508,
          0.04918803195655579,
          0.10192151556156968,
          0.09109807706585493,
          0.07528926566617024,
          0.0813127263678841,
          0.07010851303540015,
          0.07365847268916736,
          0.08587641866330391,
          0.08448652585579024,
          0.08958625525946703,
          0.10709693221480619,
          0.06403836429771478,
          0.056893183378214265,
          0.06589174064734533,
          0.12395948249924782,
          0.09276488831311584,
          0.10457841997453357,
          0.10559370781240829,
          0.11622877282922141,
          0.08422222889937202,
          0.10841536995871705,
          0.08404591776970832,
          0.10549273948229353,
          0.08736886550391373,
          0.1853448275862069,
          0.10259224417267691,
          0.10150753768844221,
          0.05211007290276209,
          0.12051139521956643,
          0.055266465560583206,
          0.06597992143168922,
          0.17511520737327188,
          0.05859613146372555,
          0.13230808337569902,
          0.10749456452231743,
          0.07034619188921859,
          0.1395946763460375,
          0.0349874686716792,
          0.05825379793302084,
          0.12720178372352287,
          0.17094017094017094,
          0.10559041971328229,
          0.035528024641829914,
          0.08148725370143604,
          0.0975886277416823,
          0.09539786389308282,
          0.10238080040850195,
          0.11948184762229419,
          0.32608695652173914,
          0.042255767874534035,
          0.08429568146276915,
          0.21333333333333335,
          0.11364324651726226,
          0.08666499336656029,
          0,
          0.10559944237918216,
          0.18232558139534882,
          0.0861170110059857,
          0.05507758199646842,
          0.183206106870229,
          0.1066953316953317,
          0.06179887054070186,
          0.07346137058053252,
          0.14285714285714285,
          0.10901153319867075,
          0.076701130079346,
          0.11962924462924462,
          0.04965715432809644,
          0.04566976102598516,
          0.0932791669953459,
          0.07991681521093286,
          0.08837636493519747,
          0.059413964200918434,
          0.0750664757619145,
          0.03752636194313792,
          0.07511651699442992,
          0.05807255607864857,
          0.044510841111371886,
          0.03527451099460897,
          0.08169755138619872,
          0.049558608717742446,
          0.0349874686716792,
          0.07195144841393981,
          0.19029850746268656,
          0.055666701309499064,
          0.10003888780867198,
          0.14412532637075717,
          0.1079609463011641,
          0.09292825129893309,
          0.11767252575980604,
          0.10821041639472653,
          0.13616498224528817,
          0.07813252859280298,
          0.10180486528904002,
          0.06861547137888899,
          0.1167529107373868,
          0.03501073600139133,
          0.08341020681446214,
          0.10603820086260013,
          0.3333333333333333,
          0.08161102278749338,
          0.07581428870341525,
          0.12053106560222145,
          0.12024420456556362,
          0.09600235898732044,
          0.11614529981876921,
          0.1327981047644117,
          0.11411079147303976,
          0.15789473684210525,
          0.11701950325054175,
          0.11090381426202321,
          0.10770647835431378,
          0.17087155963302753,
          0.17211997273346966,
          0.17990130103185284,
          0.14042357274401474,
          0.17524235645041014,
          0.17559681697612733,
          0.17642831476823573,
          0.15095119933829612,
          0.11713067469275144,
          0.1801711122294917,
          0.16802906448683017,
          0.06974781858279797,
          0.07702928566237918,
          0.06058853193319688,
          0.09840252623757778,
          0.04653624457510176,
          0.04489706526500219,
          0.0666464653666536,
          0.09003008165019338
         ],
         "xaxis": "x",
         "y": [
          0.00038182512409316535,
          0.06777926066055949,
          0.1536723163841808,
          0.0026646364674533687,
          0.07142117364376412,
          0.06762299052503085,
          0.06950221387360794,
          0.06760945370011623,
          0,
          0.06761993334883361,
          0.12967618759569763,
          0.14588818336688864,
          0.13733238915412202,
          0.09305856832971801,
          0.06760945370011623,
          0.14700721388184831,
          0.15426739682115667,
          0.16340735830294995,
          0.15652384117967003,
          0.08330880188401531,
          0.0974070190987797,
          0.16344487401679775,
          0.13788322636910486,
          0.15845764142977764,
          0.09750675942846761,
          0.14903378284443208,
          0.1276106533818739,
          0.15469146238377007,
          0.06760945370011623,
          0.08844193415070946,
          0.13133587224104193,
          0.14521963824289405,
          0.1642159493399163,
          0.15842632564958867,
          0.14661879114302812,
          0.10282000696298016,
          0.04700352526439483,
          0.112797167425392,
          0.06913802459005546,
          0.1616442436578464,
          0.13868449389806173,
          0.14235341527302034,
          0.1184404380382448,
          0.1375534421080185,
          0.10131684726609826,
          0.13663497678531947,
          0.1378046150528359,
          0.16062378167641325,
          0.15101228011948226,
          0.027857142857142858,
          0.1492316237733753,
          0.13653015113957925,
          0.16087751371115175,
          0,
          0.15813953488372093,
          0.15712257453857076,
          0.14425627422974904,
          0.1415588529103623,
          0.07888074616922051,
          0.1442009620523784,
          0.15493744414655944,
          0.13241324921135647,
          0.10121057118499574,
          0.08012510120814745,
          0.10979930705367065,
          0.0836864406779661,
          0.08372461581258904,
          0.0777161710122348,
          0.03690165361183638,
          0.10270785837249337,
          0.122557290045701,
          0.10387050035035213,
          0.1456953642384106,
          0.08328106313403752,
          0.1531142717018146,
          0.14961832061068703,
          0.13693303581291563,
          0.09414888801713993,
          0.10757351650831057,
          0.1401006522082553,
          0.1491599841448913,
          0.07084089451637991,
          0.16451292246520874,
          0.15819209039548024,
          0.14628252289020754,
          0.07260670313192963,
          0.1388590150814096,
          0.0749175906502847,
          0.08783588558220168,
          0.12865376698229725,
          0.14413317092976047,
          0.1635079895949461,
          0.16324990567224248,
          0.03841495068350926,
          0.1572433875272992,
          0.13755785613666346,
          0.1201524321900919,
          0.16416111639708214,
          0.1613951384033233,
          0.12900237177586718,
          0.1610609952804827,
          0.16023425108788483,
          0.16302698726495335,
          0.12452256210917695,
          0.13565997025368162,
          0.1432589163493367,
          0.10017932924180488,
          0.1392436425884632,
          0.14444821200344296,
          0.12171480927810194,
          0.11164630536569614,
          0.14968061779006578,
          0.10246912151133851,
          0.15253968756931463,
          0.1635737904042108,
          0.14282639370530698,
          0.16009037359799888,
          0.01966854853396467,
          0.16281639212535154,
          0.16364457636961993,
          0.13163398948335517,
          0.1354305971258146,
          0.015182373634512128,
          0.13823622379095984,
          0.12746449868380996,
          0.12473620095053446,
          0.16186428804931582,
          0.10766868849570886,
          0.07372565864833906,
          0.16322192039683478,
          0.12389142703574307,
          0.04788213627992634,
          0.058438448028101546,
          0.1341367323290846,
          0.1345960863020572,
          0.14493276315111547,
          0.1637504126774513,
          0.1518677281077771,
          0.02314647377938517,
          0.1429065572960419,
          0.06432192648922687,
          0.16336204404878896,
          0.1614322950049139,
          0.14140415312897303,
          0.16270021727047648,
          0.15464805720685793,
          0.1581750198285304,
          0.1638030560271647,
          0.15844105730272043,
          0.14978213507625274,
          0.11904688416309145,
          0.16041652008724408,
          0.14006594812736847,
          0.08743521000893655,
          0.08587899265038838,
          0.15731364275668072,
          0.16397176041903894,
          0.14099081008292189,
          0.1405824429080243,
          0.13497312939231088,
          0.16379657893221217,
          0.1467248908296943,
          0.15450422924774065,
          0.13371660602649407,
          0.15113484646194927,
          0.1536247641584855,
          0.10043483108484781,
          0.09883443823389228,
          0.14036562303004832,
          0.09327656203584514,
          0.1588359342049768,
          0.15255027507537375,
          0.13445171849427168,
          0.14206356873732007,
          0.12706885433832485,
          0.13220744107678142,
          0.14742254092815588,
          0.145808783093723,
          0.15138498000296252,
          0.16219975887971808,
          0.11800066123651227,
          0.10643157881739947,
          0.12085597072846213,
          0.16256740760226226,
          0.15390126351439365,
          0.16215984204652759,
          0.16154813218390804,
          0.16377899429990406,
          0.14554990133970297,
          0.1627264061010486,
          0.14574816545209862,
          0.16223850295701298,
          0.14934488119031758,
          0.04350025290844714,
          0.16110632360786245,
          0.15898922949461475,
          0.09765836410213237,
          0.15235418130709769,
          0.10370894510289522,
          0.12090865461526155,
          0.06975676916016521,
          0.10926660379552237,
          0.15889490956269556,
          0.1610693240070905,
          0.12748946849511517,
          0.15582003882839537,
          0.06760945370011623,
          0.1084890156843669,
          0.1606476592749032,
          0.05725190839694656,
          0.16227216421872234,
          0.06861367546059802,
          0.1422498603250176,
          0.15890372053393922,
          0.14759062202612683,
          0.15347813606353458,
          0.16524250103129234,
          0.005680742283658398,
          0.08095349155159519,
          0.14565957336243407,
          0.006026365348399247,
          0.16277178333242964,
          0.14593648110131627,
          0,
          0.16195269698454412,
          0.062123613312202855,
          0.14740147070974138,
          0.1033777589732741,
          0.054616384915474644,
          0.1614687427376249,
          0.11442983450464747,
          0.1318578004113211,
          0.00038153376573826786,
          0.16256923525410552,
          0.1362520021356113,
          0.16461052506108825,
          0.09410916663329462,
          0.0870902094608405,
          0.15463074961587497,
          0.14003454721847566,
          0.15003465003465002,
          0.11059651722860318,
          0.1341701194248111,
          0.07230934659051237,
          0.1342543681430313,
          0.10829513911303337,
          0.08500478378168716,
          0.06814212351085738,
          0.1419173404308743,
          0.0939132876671113,
          0.06760945370011623,
          0.12973826714801445,
          0.0646900269541779,
          0.1042439576212429,
          0.15949161080327043,
          0.15081967213114755,
          0.16263611936076933,
          0.15390173410404626,
          0.1619399428026692,
          0.16130758379140925,
          0.15879589073823366,
          0.1379511059371362,
          0.15983572895277207,
          0.12493582064008214,
          0.16406294381639494,
          0.0676524571517204,
          0.14433573635427394,
          0.16035406475658048,
          0.003798670465337132,
          0.14242601246105918,
          0.13517658763057536,
          0.16576168029118682,
          0.16435871076978895,
          0.15731345344101608,
          0.16445386589311614,
          0.1572508376840957,
          0.16464452958705833,
          0.13087248322147652,
          0.1629431903905298,
          0.162886284061501,
          0.16301115241635689,
          0.1138708444784104,
          0.1236381442036969,
          0.10744908896034298,
          0.15573142711258617,
          0.07147201946472019,
          0.09297752808988764,
          0.12247443252681467,
          0.14497070797338893,
          0.16294487090020934,
          0.09914151204652451,
          0.13000702740688685,
          0.12676890902753574,
          0.1367212691861215,
          0.1124461510934941,
          0.1583174567596847,
          0.0886087546035876,
          0.08570010189951141,
          0.12191662454961931,
          0.1516330408034018
         ],
         "yaxis": "y"
        },
        {
         "hovertemplate": "variable=roc_train<br>precision_1=%{x}<br>value=%{y}<extra></extra>",
         "legendgroup": "roc_train",
         "marker": {
          "color": "#EF553B",
          "symbol": "circle"
         },
         "mode": "markers",
         "name": "roc_train",
         "showlegend": true,
         "type": "scattergl",
         "x": [
          0.3333333333333333,
          0.03507936614381803,
          0.14098883572567783,
          0.3684210526315789,
          0.037049772199776496,
          0.03499471903953367,
          0.03601599165652703,
          0.0349874686716792,
          0,
          0.03499308159704815,
          0.071959048378299,
          0.08434058554928821,
          0.07799283898085206,
          0.04906170400790144,
          0.0349874686716792,
          0.08605060649536976,
          0.11859533833042407,
          0.11494520867335044,
          0.11448019801980198,
          0.18152661962796665,
          0.051624581824847623,
          0.1255247261185625,
          0.07808226116908115,
          0.09711501142783216,
          0.05164255473295751,
          0.09109062327399414,
          0.07091896496645725,
          0.09932157394843961,
          0.0349874686716792,
          0.15859683794466403,
          0.07379646268797882,
          0.08396832511579262,
          0.1141876259422345,
          0.10067808892799834,
          0.15341264871634314,
          0.05473528139865324,
          0.19390581717451524,
          0.16685372240927795,
          0.03580951858681272,
          0.10920311242286021,
          0.07856943138201876,
          0.08198671269836665,
          0.06433568741337206,
          0.07764288704474377,
          0.053850412845140944,
          0.16216216216216217,
          0.15820747709829167,
          0.11336477987421384,
          0.13348980489951592,
          0.2136986301369863,
          0.1447817495958326,
          0.07712133227597145,
          0.10279827961556842,
          0,
          0.10007612281146917,
          0.09705855896374921,
          0.15480621852419532,
          0.08112712243074173,
          0.1303964757709251,
          0.08382787012583502,
          0.1094798326624043,
          0.07382653622073211,
          0.05380710659898477,
          0.041799524610122325,
          0.05893333333333333,
          0.043769622457325276,
          0.043794976717934246,
          0.04047636094603947,
          0.20784313725490197,
          0.0546837261726346,
          0.06702619414483821,
          0.055378264063014465,
          0.15096272019664073,
          0.04354708928071648,
          0.10300230946882218,
          0.08809362279511533,
          0.07742080543619466,
          0.04969102376250239,
          0.057564090524931916,
          0.07943494728221927,
          0.08874537406574269,
          0.036732297112779186,
          0.12190406039959488,
          0.13423891330403515,
          0.08510372406898276,
          0.037692408893566634,
          0.07988949004259238,
          0.17373175816539263,
          0.0460968374764256,
          0.13947779513501452,
          0.1537795105046567,
          0.1132186443170122,
          0.12168369738445674,
          0.20404411764705882,
          0.13636363636363635,
          0.07789708265802268,
          0.14537564415513968,
          0.12288698955365622,
          0.10284096865499529,
          0.07143003714115692,
          0.11717663421418636,
          0.10178774413557921,
          0.1073504480503754,
          0.06830444053026792,
          0.07618465013411134,
          0.08236034798534798,
          0.0531912376987131,
          0.07892855318931617,
          0.08364548090865152,
          0.06644903117101937,
          0.06005297514799751,
          0.14940997335363532,
          0.05453962933753943,
          0.09143747150888923,
          0.12646076794657762,
          0.08163376893214501,
          0.13858619726180496,
          0.2109375,
          0.11044491381072426,
          0.12356265835119859,
          0.07331997735290274,
          0.0761809237235516,
          0.2469879518072289,
          0.15413533834586465,
          0.07032484982611445,
          0.06852284723269492,
          0.10712078130794907,
          0.05763090891945414,
          0.0382981888504593,
          0.11812975467988716,
          0.06791771790574759,
          0.1937669376693767,
          0.17801556420233464,
          0.08855569155446756,
          0.0755687020212691,
          0.08376261799124557,
          0.10871743486973948,
          0.14009038089089734,
          0.21694915254237288,
          0.08206816311473084,
          0.18848653667595172,
          0.11712533156498674,
          0.1039740202553941,
          0.08064126319181503,
          0.11060730970046716,
          0.09983870070637967,
          0.09857828829677055,
          0.12708113804004215,
          0.09927466150870407,
          0.14270887389724962,
          0.06475496533082618,
          0.12697705502339052,
          0.08038866762703725,
          0.04586321661275958,
          0.04499046541546154,
          0.09640163757810817,
          0.11679779381945007,
          0.08044427670243166,
          0.15564834145209927,
          0.07567504925252057,
          0.11724934036939313,
          0.08516129032258064,
          0.09289194833320442,
          0.07472142343637671,
          0.1415,
          0.09225687509602089,
          0.053330175833284,
          0.05238800656859705,
          0.15596544478169508,
          0.04918803195655579,
          0.10192151556156968,
          0.09109807706585493,
          0.07528926566617024,
          0.0813127263678841,
          0.07010851303540015,
          0.07365847268916736,
          0.08587641866330391,
          0.08448652585579024,
          0.08958625525946703,
          0.10709693221480619,
          0.06403836429771478,
          0.056893183378214265,
          0.06589174064734533,
          0.12395948249924782,
          0.09276488831311584,
          0.10457841997453357,
          0.10559370781240829,
          0.11622877282922141,
          0.08422222889937202,
          0.10841536995871705,
          0.08404591776970832,
          0.10549273948229353,
          0.08736886550391373,
          0.1853448275862069,
          0.10259224417267691,
          0.10150753768844221,
          0.05211007290276209,
          0.12051139521956643,
          0.055266465560583206,
          0.06597992143168922,
          0.17511520737327188,
          0.05859613146372555,
          0.13230808337569902,
          0.10749456452231743,
          0.07034619188921859,
          0.1395946763460375,
          0.0349874686716792,
          0.05825379793302084,
          0.12720178372352287,
          0.17094017094017094,
          0.10559041971328229,
          0.035528024641829914,
          0.08148725370143604,
          0.0975886277416823,
          0.09539786389308282,
          0.10238080040850195,
          0.11948184762229419,
          0.32608695652173914,
          0.042255767874534035,
          0.08429568146276915,
          0.21333333333333335,
          0.11364324651726226,
          0.08666499336656029,
          0,
          0.10559944237918216,
          0.18232558139534882,
          0.0861170110059857,
          0.05507758199646842,
          0.183206106870229,
          0.1066953316953317,
          0.06179887054070186,
          0.07346137058053252,
          0.14285714285714285,
          0.10901153319867075,
          0.076701130079346,
          0.11962924462924462,
          0.04965715432809644,
          0.04566976102598516,
          0.0932791669953459,
          0.07991681521093286,
          0.08837636493519747,
          0.059413964200918434,
          0.0750664757619145,
          0.03752636194313792,
          0.07511651699442992,
          0.05807255607864857,
          0.044510841111371886,
          0.03527451099460897,
          0.08169755138619872,
          0.049558608717742446,
          0.0349874686716792,
          0.07195144841393981,
          0.19029850746268656,
          0.055666701309499064,
          0.10003888780867198,
          0.14412532637075717,
          0.1079609463011641,
          0.09292825129893309,
          0.11767252575980604,
          0.10821041639472653,
          0.13616498224528817,
          0.07813252859280298,
          0.10180486528904002,
          0.06861547137888899,
          0.1167529107373868,
          0.03501073600139133,
          0.08341020681446214,
          0.10603820086260013,
          0.3333333333333333,
          0.08161102278749338,
          0.07581428870341525,
          0.12053106560222145,
          0.12024420456556362,
          0.09600235898732044,
          0.11614529981876921,
          0.1327981047644117,
          0.11411079147303976,
          0.15789473684210525,
          0.11701950325054175,
          0.11090381426202321,
          0.10770647835431378,
          0.17087155963302753,
          0.17211997273346966,
          0.17990130103185284,
          0.14042357274401474,
          0.17524235645041014,
          0.17559681697612733,
          0.17642831476823573,
          0.15095119933829612,
          0.11713067469275144,
          0.1801711122294917,
          0.16802906448683017,
          0.06974781858279797,
          0.07702928566237918,
          0.06058853193319688,
          0.09840252623757778,
          0.04653624457510176,
          0.04489706526500219,
          0.0666464653666536,
          0.09003008165019338
         ],
         "xaxis": "x",
         "y": [
          0.6940356348372834,
          0.7460690025295422,
          0.7498096565160053,
          0.7430905563662495,
          0.7341703055945078,
          0.7414400765926187,
          0.6940629582549303,
          0.736515906566203,
          0.7402888797707085,
          0.7387487488864992,
          0.7516512320694317,
          0.7518370539508896,
          0.7480575252959554,
          0.750385489880888,
          0.7408197154734271,
          0.7495679151931409,
          0.7442385053099829,
          0.7505129529965695,
          0.7431974131522798,
          0.7477777442897271,
          0.738958408588379,
          0.7495320698769887,
          0.7516656463993645,
          0.7504100952256062,
          0.7455365243044979,
          0.7404538076279776,
          0.7427671772148745,
          0.7420448767107448,
          0.7434774887658473,
          0.7425862299971295,
          0.7373626740964697,
          0.7510493208517612,
          0.7484896201263768,
          0.7495836784139851,
          0.7499553534064988,
          0.7484645676453853,
          0.7395907263738773,
          0.7473267000062094,
          0.7464912234394545,
          0.7486604755483712,
          0.7507954197482134,
          0.7485113072928912,
          0.7506035503852542,
          0.7497173579275083,
          0.7486823858763868,
          0.7505012867899209,
          0.749867060420562,
          0.750813924016886,
          0.7462101827581189,
          0.745892672250001,
          0.7501327862372329,
          0.7502420128129816,
          0.7518086127332226,
          0.7440651688021642,
          0.7493869246280636,
          0.7496507791086756,
          0.7502809679139328,
          0.7508489691559203,
          0.6951516469222303,
          0.7480980590368126,
          0.7426890297818866,
          0.747791733197716,
          0.7505121846183389,
          0.7486421755733179,
          0.7507704914536695,
          0.7501512480531709,
          0.7479506949412252,
          0.7478722973461464,
          0.7476434402655737,
          0.7497862041452685,
          0.751695474081053,
          0.7500621200821269,
          0.74953968030227,
          0.7411801784303578,
          0.7378871825118761,
          0.7497293156104036,
          0.7504083247351235,
          0.749869224696755,
          0.7516428078854105,
          0.7515283142427984,
          0.747831983269726,
          0.7459391251382309,
          0.7509766264806633,
          0.7516617585584127,
          0.7521326221694501,
          0.7395286148514253,
          0.7427848984664425,
          0.7425967175304404,
          0.7451622730328153,
          0.7415464393979787,
          0.7517043311691092,
          0.7519936939689834,
          0.7526463919135298,
          0.7514317276028002,
          0.7514178807732161,
          0.7512543454388355,
          0.7379197030144359,
          0.7506311727205754,
          0.7512279831852569,
          0.7516269339784134,
          0.7497821185981908,
          0.7510738472278868,
          0.7511472660605933,
          0.7505912721923456,
          0.7521004999255901,
          0.750668838462036,
          0.750977630382111,
          0.7517207846941892,
          0.7503282618868007,
          0.7512796012375214,
          0.7517274876719371,
          0.7507634970810022,
          0.7508189599521943,
          0.7514223676694224,
          0.7513233079543168,
          0.7522251261901456,
          0.7512867855902424,
          0.7511333475005265,
          0.7512340462002298,
          0.750396278812349,
          0.75072021635544,
          0.7520840424968103,
          0.7512543023354843,
          0.7500607492329044,
          0.7512899717411674,
          0.7511348675036096,
          0.7508425091021536,
          0.7501760067807577,
          0.75072979831174,
          0.7506468296469291,
          0.7518014635137991,
          0.7521849766384038,
          0.7506639415147036,
          0.694139019648374,
          0.7509867337285585,
          0.7513700265381096,
          0.7502270746553412,
          0.7502443747953007,
          0.7510663122741335,
          0.7515651257246343,
          0.7511823088411423,
          0.7503821605129792,
          0.7503679337232878,
          0.7518471541233291,
          0.7516926432481308,
          0.7389487257458389,
          0.7513636060906298,
          0.750683522960521,
          0.7499004271313656,
          0.7489037279283401,
          0.7521800230874252,
          0.7508012423603447,
          0.7476777223939647,
          0.7497178161242642,
          0.7501500144027287,
          0.7517950964982093,
          0.7518228831955547,
          0.7523101671502246,
          0.7516903135526617,
          0.7513597552534985,
          0.7512692456167306,
          0.7512497342748543,
          0.7516238226484,
          0.7519819984032597,
          0.7501227884555843,
          0.7512207333642381,
          0.7506352386678274,
          0.7515772081632669,
          0.7514573973563118,
          0.7505753480252146,
          0.7508586569187484,
          0.7524899666802484,
          0.7522350489069015,
          0.751334431872011,
          0.7516860564054499,
          0.7514130131849586,
          0.7520057793353908,
          0.7511009498018542,
          0.7524300682302361,
          0.7514509383597971,
          0.7513900179537258,
          0.7513296757831773,
          0.7515231446057744,
          0.7511037624988381,
          0.7519107596241993,
          0.7525832823451797,
          0.7513306966819842,
          0.7522959462160828,
          0.7521799176875326,
          0.7497777721538478,
          0.7522975366484153,
          0.751451851418899,
          0.7517655821697515,
          0.7423504783322141,
          0.751473922123912,
          0.7508136404293659,
          0.6946138997598001,
          0.7418172913416872,
          0.7521811175872375,
          0.7466487823721997,
          0.7503760258488508,
          0.7520064514223611,
          0.7484838097946342,
          0.7522788473606407,
          0.7504406268744797,
          0.7513976091858168,
          0.7281435901493043,
          0.7409067148302017,
          0.7525892961572707,
          0.7496532344544798,
          0.7512424585104978,
          0.7470520661094044,
          0.7503083682263317,
          0.7521281593460588,
          0.7300673833933056,
          0.7388862907855986,
          0.7521599258652809,
          0.7499251846390462,
          0.749410210278291,
          0.7512992752335532,
          0.7402457062342347,
          0.7523614475324623,
          0.7433125435859105,
          0.745532497150262,
          0.7514221134409773,
          0.7490685688062997,
          0.7513045738553226,
          0.7501216403612277,
          0.7504583732561148,
          0.7524754038470716,
          0.7516543815418446,
          0.7521513230056698,
          0.7475735096325589,
          0.7520340254493982,
          0.7512021304458203,
          0.7515807609366582,
          0.7504135788709814,
          0.7489911915407381,
          0.7520190643575219,
          0.7505780956605361,
          0.7514633770923573,
          0.7520448783039424,
          0.7517825206481962,
          0.7498483144478143,
          0.7522564807877189,
          0.7474777899392094,
          0.7509258564258385,
          0.7489147084663962,
          0.7497424522919448,
          0.7512154379955519,
          0.7395540648591729,
          0.7521525527524123,
          0.7511954420256193,
          0.7437299784786244,
          0.750655058889945,
          0.7512353991574954,
          0.7517184062838005,
          0.750444606452375,
          0.7514204347687655,
          0.7506555467710845,
          0.7509638201497117,
          0.7511182700296019,
          0.7521767122620902,
          0.7511863657610885,
          0.7519846446237155,
          0.7457596324552713,
          0.7503915979510623,
          0.7505056029805912,
          0.7418248827364323,
          0.7516316463946063,
          0.7520521799303095,
          0.7522468328751587,
          0.751854573592632,
          0.7514012774436586,
          0.7522297644360436,
          0.7508102762534679,
          0.7511425159086362,
          0.7507452781077182,
          0.7514510926372637,
          0.751720068934578,
          0.751262601519787,
          0.7512560945402964,
          0.7512399473743183,
          0.7507103452000513,
          0.7509954628891213,
          0.7388806500208133,
          0.7505178941858323,
          0.7499196159300516,
          0.7512149163636753,
          0.7510103386688933,
          0.7498924995304812,
          0.7498156771595709,
          0.7515558763147552,
          0.7506622403148913,
          0.750513593853942,
          0.7508476062767514,
          0.74296157227156,
          0.7510090092964805,
          0.7505839058296246,
          0.7505083131241299
         ],
         "yaxis": "y"
        },
        {
         "hovertemplate": "variable=roc_valid<br>precision_1=%{x}<br>value=%{y}<extra></extra>",
         "legendgroup": "roc_valid",
         "marker": {
          "color": "#00cc96",
          "symbol": "circle"
         },
         "mode": "markers",
         "name": "roc_valid",
         "showlegend": true,
         "type": "scattergl",
         "x": [
          0.3333333333333333,
          0.03507936614381803,
          0.14098883572567783,
          0.3684210526315789,
          0.037049772199776496,
          0.03499471903953367,
          0.03601599165652703,
          0.0349874686716792,
          0,
          0.03499308159704815,
          0.071959048378299,
          0.08434058554928821,
          0.07799283898085206,
          0.04906170400790144,
          0.0349874686716792,
          0.08605060649536976,
          0.11859533833042407,
          0.11494520867335044,
          0.11448019801980198,
          0.18152661962796665,
          0.051624581824847623,
          0.1255247261185625,
          0.07808226116908115,
          0.09711501142783216,
          0.05164255473295751,
          0.09109062327399414,
          0.07091896496645725,
          0.09932157394843961,
          0.0349874686716792,
          0.15859683794466403,
          0.07379646268797882,
          0.08396832511579262,
          0.1141876259422345,
          0.10067808892799834,
          0.15341264871634314,
          0.05473528139865324,
          0.19390581717451524,
          0.16685372240927795,
          0.03580951858681272,
          0.10920311242286021,
          0.07856943138201876,
          0.08198671269836665,
          0.06433568741337206,
          0.07764288704474377,
          0.053850412845140944,
          0.16216216216216217,
          0.15820747709829167,
          0.11336477987421384,
          0.13348980489951592,
          0.2136986301369863,
          0.1447817495958326,
          0.07712133227597145,
          0.10279827961556842,
          0,
          0.10007612281146917,
          0.09705855896374921,
          0.15480621852419532,
          0.08112712243074173,
          0.1303964757709251,
          0.08382787012583502,
          0.1094798326624043,
          0.07382653622073211,
          0.05380710659898477,
          0.041799524610122325,
          0.05893333333333333,
          0.043769622457325276,
          0.043794976717934246,
          0.04047636094603947,
          0.20784313725490197,
          0.0546837261726346,
          0.06702619414483821,
          0.055378264063014465,
          0.15096272019664073,
          0.04354708928071648,
          0.10300230946882218,
          0.08809362279511533,
          0.07742080543619466,
          0.04969102376250239,
          0.057564090524931916,
          0.07943494728221927,
          0.08874537406574269,
          0.036732297112779186,
          0.12190406039959488,
          0.13423891330403515,
          0.08510372406898276,
          0.037692408893566634,
          0.07988949004259238,
          0.17373175816539263,
          0.0460968374764256,
          0.13947779513501452,
          0.1537795105046567,
          0.1132186443170122,
          0.12168369738445674,
          0.20404411764705882,
          0.13636363636363635,
          0.07789708265802268,
          0.14537564415513968,
          0.12288698955365622,
          0.10284096865499529,
          0.07143003714115692,
          0.11717663421418636,
          0.10178774413557921,
          0.1073504480503754,
          0.06830444053026792,
          0.07618465013411134,
          0.08236034798534798,
          0.0531912376987131,
          0.07892855318931617,
          0.08364548090865152,
          0.06644903117101937,
          0.06005297514799751,
          0.14940997335363532,
          0.05453962933753943,
          0.09143747150888923,
          0.12646076794657762,
          0.08163376893214501,
          0.13858619726180496,
          0.2109375,
          0.11044491381072426,
          0.12356265835119859,
          0.07331997735290274,
          0.0761809237235516,
          0.2469879518072289,
          0.15413533834586465,
          0.07032484982611445,
          0.06852284723269492,
          0.10712078130794907,
          0.05763090891945414,
          0.0382981888504593,
          0.11812975467988716,
          0.06791771790574759,
          0.1937669376693767,
          0.17801556420233464,
          0.08855569155446756,
          0.0755687020212691,
          0.08376261799124557,
          0.10871743486973948,
          0.14009038089089734,
          0.21694915254237288,
          0.08206816311473084,
          0.18848653667595172,
          0.11712533156498674,
          0.1039740202553941,
          0.08064126319181503,
          0.11060730970046716,
          0.09983870070637967,
          0.09857828829677055,
          0.12708113804004215,
          0.09927466150870407,
          0.14270887389724962,
          0.06475496533082618,
          0.12697705502339052,
          0.08038866762703725,
          0.04586321661275958,
          0.04499046541546154,
          0.09640163757810817,
          0.11679779381945007,
          0.08044427670243166,
          0.15564834145209927,
          0.07567504925252057,
          0.11724934036939313,
          0.08516129032258064,
          0.09289194833320442,
          0.07472142343637671,
          0.1415,
          0.09225687509602089,
          0.053330175833284,
          0.05238800656859705,
          0.15596544478169508,
          0.04918803195655579,
          0.10192151556156968,
          0.09109807706585493,
          0.07528926566617024,
          0.0813127263678841,
          0.07010851303540015,
          0.07365847268916736,
          0.08587641866330391,
          0.08448652585579024,
          0.08958625525946703,
          0.10709693221480619,
          0.06403836429771478,
          0.056893183378214265,
          0.06589174064734533,
          0.12395948249924782,
          0.09276488831311584,
          0.10457841997453357,
          0.10559370781240829,
          0.11622877282922141,
          0.08422222889937202,
          0.10841536995871705,
          0.08404591776970832,
          0.10549273948229353,
          0.08736886550391373,
          0.1853448275862069,
          0.10259224417267691,
          0.10150753768844221,
          0.05211007290276209,
          0.12051139521956643,
          0.055266465560583206,
          0.06597992143168922,
          0.17511520737327188,
          0.05859613146372555,
          0.13230808337569902,
          0.10749456452231743,
          0.07034619188921859,
          0.1395946763460375,
          0.0349874686716792,
          0.05825379793302084,
          0.12720178372352287,
          0.17094017094017094,
          0.10559041971328229,
          0.035528024641829914,
          0.08148725370143604,
          0.0975886277416823,
          0.09539786389308282,
          0.10238080040850195,
          0.11948184762229419,
          0.32608695652173914,
          0.042255767874534035,
          0.08429568146276915,
          0.21333333333333335,
          0.11364324651726226,
          0.08666499336656029,
          0,
          0.10559944237918216,
          0.18232558139534882,
          0.0861170110059857,
          0.05507758199646842,
          0.183206106870229,
          0.1066953316953317,
          0.06179887054070186,
          0.07346137058053252,
          0.14285714285714285,
          0.10901153319867075,
          0.076701130079346,
          0.11962924462924462,
          0.04965715432809644,
          0.04566976102598516,
          0.0932791669953459,
          0.07991681521093286,
          0.08837636493519747,
          0.059413964200918434,
          0.0750664757619145,
          0.03752636194313792,
          0.07511651699442992,
          0.05807255607864857,
          0.044510841111371886,
          0.03527451099460897,
          0.08169755138619872,
          0.049558608717742446,
          0.0349874686716792,
          0.07195144841393981,
          0.19029850746268656,
          0.055666701309499064,
          0.10003888780867198,
          0.14412532637075717,
          0.1079609463011641,
          0.09292825129893309,
          0.11767252575980604,
          0.10821041639472653,
          0.13616498224528817,
          0.07813252859280298,
          0.10180486528904002,
          0.06861547137888899,
          0.1167529107373868,
          0.03501073600139133,
          0.08341020681446214,
          0.10603820086260013,
          0.3333333333333333,
          0.08161102278749338,
          0.07581428870341525,
          0.12053106560222145,
          0.12024420456556362,
          0.09600235898732044,
          0.11614529981876921,
          0.1327981047644117,
          0.11411079147303976,
          0.15789473684210525,
          0.11701950325054175,
          0.11090381426202321,
          0.10770647835431378,
          0.17087155963302753,
          0.17211997273346966,
          0.17990130103185284,
          0.14042357274401474,
          0.17524235645041014,
          0.17559681697612733,
          0.17642831476823573,
          0.15095119933829612,
          0.11713067469275144,
          0.1801711122294917,
          0.16802906448683017,
          0.06974781858279797,
          0.07702928566237918,
          0.06058853193319688,
          0.09840252623757778,
          0.04653624457510176,
          0.04489706526500219,
          0.0666464653666536,
          0.09003008165019338
         ],
         "xaxis": "x",
         "y": [
          0.6868307267414151,
          0.7364510026139675,
          0.7378256027249768,
          0.7320584803189758,
          0.7238877475065044,
          0.7304695027323391,
          0.6868661707821588,
          0.7259882747517419,
          0.7292891664984856,
          0.7294028066430771,
          0.7394807573381361,
          0.7397386733756535,
          0.7356042311650243,
          0.737928605622322,
          0.7331719297591098,
          0.7372336687892873,
          0.7308547865925836,
          0.7387549148732477,
          0.7308375457983403,
          0.7359566156950629,
          0.7287312048122878,
          0.7381367995902532,
          0.7395207080367674,
          0.7380922092764125,
          0.7343462498395086,
          0.7275163592078204,
          0.730325457695659,
          0.7296780005176736,
          0.7347860739839366,
          0.730905963916441,
          0.726000571650337,
          0.7385727038088569,
          0.7384944561096305,
          0.7371558682500098,
          0.7385139379954522,
          0.7379546824559109,
          0.7295551307536041,
          0.7360370277542787,
          0.7373038504109738,
          0.7370224267251362,
          0.7392864544337067,
          0.7381194595741278,
          0.738344541106402,
          0.7391383320391492,
          0.7370745671627298,
          0.7392651958147152,
          0.738506960712699,
          0.7385108515334378,
          0.7366653523074678,
          0.7352655524843076,
          0.7390977383827217,
          0.7377152388869341,
          0.7396603370382122,
          0.7365361296970232,
          0.7371321264380475,
          0.73809910718166,
          0.739149112827385,
          0.738307096091035,
          0.6872633923577851,
          0.7383809012958575,
          0.7299474249705626,
          0.7382721263308879,
          0.7394271642921878,
          0.737339808421067,
          0.7390169267900604,
          0.7381420967158021,
          0.7373311708254857,
          0.7366542037367887,
          0.7374595890772054,
          0.7380939463208295,
          0.7388113112681066,
          0.7378539735684813,
          0.7391660347886472,
          0.7306799880642691,
          0.725889974971611,
          0.7379163986849,
          0.7382286009985823,
          0.7372911513330163,
          0.738904413144571,
          0.7395402507786768,
          0.7358575142021242,
          0.7361478599196051,
          0.7392344925955009,
          0.7404300421898058,
          0.7398191317384143,
          0.7277622224325726,
          0.7304779339464056,
          0.7313527772502482,
          0.7335036880442858,
          0.7299075820930432,
          0.739638079585607,
          0.7396137345046013,
          0.7402809580044707,
          0.7397928432314766,
          0.7393422078707693,
          0.7382654559744902,
          0.7259270416208674,
          0.7391937639973136,
          0.7398257028729298,
          0.7388447305209751,
          0.738267689128318,
          0.7394849021668934,
          0.7402956362282376,
          0.7387701751987232,
          0.7402245047223993,
          0.7385515457347058,
          0.7389147692631512,
          0.7388413106734368,
          0.7387286448877282,
          0.7388416268605013,
          0.738568152831862,
          0.7392622257730426,
          0.7384217740965137,
          0.7388674219039448,
          0.7394085542359707,
          0.7398043370943057,
          0.7394637163106155,
          0.739654670807262,
          0.739603818931178,
          0.7379444573102152,
          0.7377442698866946,
          0.7399865336061537,
          0.7391336275989766,
          0.7383215692562454,
          0.7389766916553671,
          0.7382977348371931,
          0.7393082978003236,
          0.7380301373898943,
          0.7392321721264169,
          0.738673840011859,
          0.7391731152621577,
          0.7396677852941661,
          0.7381239576327856,
          0.6868287376734175,
          0.7389351653132471,
          0.739134011256921,
          0.7389931175072182,
          0.7384176200070474,
          0.7395447713276279,
          0.7388485962055039,
          0.7390115013375441,
          0.7381655514457851,
          0.7386238163077514,
          0.7391417823147314,
          0.7396429520415001,
          0.7267040587636966,
          0.7387942490732511,
          0.739415016887895,
          0.7380596327480631,
          0.736925959242429,
          0.738970236941193,
          0.739633133044042,
          0.7354781942384764,
          0.7385638677695112,
          0.7389732995899556,
          0.7394959700371084,
          0.7389847431803642,
          0.7400145962003444,
          0.7397263381112638,
          0.7388132229430361,
          0.7391713438208216,
          0.7393045353065524,
          0.7398136083869743,
          0.7398469019587921,
          0.7381697399321706,
          0.7390433264255059,
          0.739076250891922,
          0.7391720224984956,
          0.739809290250663,
          0.738955255759946,
          0.7390363623723369,
          0.7401452740650603,
          0.7396354945248373,
          0.7377190106414145,
          0.7387767542709893,
          0.738875376852977,
          0.7395951032810493,
          0.7395802054461833,
          0.7395968165122145,
          0.7380807828844634,
          0.7391535883957494,
          0.7390757640432202,
          0.7385676686290771,
          0.7386530616267772,
          0.7392485715190996,
          0.7396338209824249,
          0.7387362280854417,
          0.7397224287691069,
          0.739311502005638,
          0.738883822619586,
          0.7397690273338426,
          0.7392088959958215,
          0.7393554903733939,
          0.7304098822877894,
          0.7383762775561492,
          0.7382021338922569,
          0.6872830329986181,
          0.7296224501547299,
          0.7393610706120461,
          0.736887740296381,
          0.7378475016558479,
          0.7392282178036733,
          0.7389734041036715,
          0.739200078477894,
          0.738161702959716,
          0.7397946847896095,
          0.7216179001038059,
          0.7303448310988896,
          0.7396376602077852,
          0.7381123367659475,
          0.7390134553471434,
          0.7364598333614794,
          0.7392548595405114,
          0.7406163041529055,
          0.7164406802308272,
          0.726857732291821,
          0.7401377160035569,
          0.7392429780508629,
          0.7386455300244423,
          0.7387508996944165,
          0.7288085224717388,
          0.7396661514405066,
          0.7303184116190676,
          0.7364838992982565,
          0.7396018159721169,
          0.7381996586370366,
          0.7391539852832781,
          0.7369982073251811,
          0.740207507352507,
          0.7397805423640063,
          0.7395259694424385,
          0.7397467235776924,
          0.7380748322174508,
          0.7400012396120477,
          0.7395012936218256,
          0.739485986992805,
          0.7391449031736649,
          0.7377597154263502,
          0.7396891920845016,
          0.7390242004155017,
          0.7398470342546349,
          0.7390307424449316,
          0.7397010987103603,
          0.7387684844578513,
          0.7404911536085048,
          0.7345500753987082,
          0.7385498179509979,
          0.738635577408183,
          0.7367827013660141,
          0.7388618562178351,
          0.7318233522403937,
          0.7397036202691255,
          0.7390329531084661,
          0.7312105658339503,
          0.7390221498299371,
          0.7398132234060716,
          0.7392905992624639,
          0.7396470902554653,
          0.7387106301628039,
          0.7383373402436744,
          0.7394592645555028,
          0.7394850622448634,
          0.7396902954318312,
          0.7389149796135414,
          0.7391899181571613,
          0.7353317109894122,
          0.7392792654776049,
          0.7397229579524784,
          0.7312507864161011,
          0.7387661878020191,
          0.7399893938422768,
          0.7395849350225661,
          0.7395110663157387,
          0.7396456336782353,
          0.7390478006709119,
          0.7383298602367183,
          0.7392090481360409,
          0.7389916212412353,
          0.7388452676420971,
          0.7393761007427551,
          0.7388448958907787,
          0.739720284253494,
          0.7395329493711086,
          0.7394247842899744,
          0.7391486458230598,
          0.7262028506711335,
          0.7387054454887216,
          0.7380488665123701,
          0.7391256726499447,
          0.7382810642380324,
          0.7377557650724819,
          0.737832777128536,
          0.7404541253250426,
          0.7391464629416523,
          0.7387023801940423,
          0.7402063180128795,
          0.7306830030865281,
          0.7392889667317628,
          0.738550811492778,
          0.7389717080709659
         ],
         "yaxis": "y"
        },
        {
         "hovertemplate": "variable=recall_1<br>precision_1=%{x}<br>value=%{y}<extra></extra>",
         "legendgroup": "recall_1",
         "marker": {
          "color": "#ab63fa",
          "symbol": "circle"
         },
         "mode": "markers",
         "name": "recall_1",
         "showlegend": true,
         "type": "scattergl",
         "x": [
          0.3333333333333333,
          0.03507936614381803,
          0.14098883572567783,
          0.3684210526315789,
          0.037049772199776496,
          0.03499471903953367,
          0.03601599165652703,
          0.0349874686716792,
          0,
          0.03499308159704815,
          0.071959048378299,
          0.08434058554928821,
          0.07799283898085206,
          0.04906170400790144,
          0.0349874686716792,
          0.08605060649536976,
          0.11859533833042407,
          0.11494520867335044,
          0.11448019801980198,
          0.18152661962796665,
          0.051624581824847623,
          0.1255247261185625,
          0.07808226116908115,
          0.09711501142783216,
          0.05164255473295751,
          0.09109062327399414,
          0.07091896496645725,
          0.09932157394843961,
          0.0349874686716792,
          0.15859683794466403,
          0.07379646268797882,
          0.08396832511579262,
          0.1141876259422345,
          0.10067808892799834,
          0.15341264871634314,
          0.05473528139865324,
          0.19390581717451524,
          0.16685372240927795,
          0.03580951858681272,
          0.10920311242286021,
          0.07856943138201876,
          0.08198671269836665,
          0.06433568741337206,
          0.07764288704474377,
          0.053850412845140944,
          0.16216216216216217,
          0.15820747709829167,
          0.11336477987421384,
          0.13348980489951592,
          0.2136986301369863,
          0.1447817495958326,
          0.07712133227597145,
          0.10279827961556842,
          0,
          0.10007612281146917,
          0.09705855896374921,
          0.15480621852419532,
          0.08112712243074173,
          0.1303964757709251,
          0.08382787012583502,
          0.1094798326624043,
          0.07382653622073211,
          0.05380710659898477,
          0.041799524610122325,
          0.05893333333333333,
          0.043769622457325276,
          0.043794976717934246,
          0.04047636094603947,
          0.20784313725490197,
          0.0546837261726346,
          0.06702619414483821,
          0.055378264063014465,
          0.15096272019664073,
          0.04354708928071648,
          0.10300230946882218,
          0.08809362279511533,
          0.07742080543619466,
          0.04969102376250239,
          0.057564090524931916,
          0.07943494728221927,
          0.08874537406574269,
          0.036732297112779186,
          0.12190406039959488,
          0.13423891330403515,
          0.08510372406898276,
          0.037692408893566634,
          0.07988949004259238,
          0.17373175816539263,
          0.0460968374764256,
          0.13947779513501452,
          0.1537795105046567,
          0.1132186443170122,
          0.12168369738445674,
          0.20404411764705882,
          0.13636363636363635,
          0.07789708265802268,
          0.14537564415513968,
          0.12288698955365622,
          0.10284096865499529,
          0.07143003714115692,
          0.11717663421418636,
          0.10178774413557921,
          0.1073504480503754,
          0.06830444053026792,
          0.07618465013411134,
          0.08236034798534798,
          0.0531912376987131,
          0.07892855318931617,
          0.08364548090865152,
          0.06644903117101937,
          0.06005297514799751,
          0.14940997335363532,
          0.05453962933753943,
          0.09143747150888923,
          0.12646076794657762,
          0.08163376893214501,
          0.13858619726180496,
          0.2109375,
          0.11044491381072426,
          0.12356265835119859,
          0.07331997735290274,
          0.0761809237235516,
          0.2469879518072289,
          0.15413533834586465,
          0.07032484982611445,
          0.06852284723269492,
          0.10712078130794907,
          0.05763090891945414,
          0.0382981888504593,
          0.11812975467988716,
          0.06791771790574759,
          0.1937669376693767,
          0.17801556420233464,
          0.08855569155446756,
          0.0755687020212691,
          0.08376261799124557,
          0.10871743486973948,
          0.14009038089089734,
          0.21694915254237288,
          0.08206816311473084,
          0.18848653667595172,
          0.11712533156498674,
          0.1039740202553941,
          0.08064126319181503,
          0.11060730970046716,
          0.09983870070637967,
          0.09857828829677055,
          0.12708113804004215,
          0.09927466150870407,
          0.14270887389724962,
          0.06475496533082618,
          0.12697705502339052,
          0.08038866762703725,
          0.04586321661275958,
          0.04499046541546154,
          0.09640163757810817,
          0.11679779381945007,
          0.08044427670243166,
          0.15564834145209927,
          0.07567504925252057,
          0.11724934036939313,
          0.08516129032258064,
          0.09289194833320442,
          0.07472142343637671,
          0.1415,
          0.09225687509602089,
          0.053330175833284,
          0.05238800656859705,
          0.15596544478169508,
          0.04918803195655579,
          0.10192151556156968,
          0.09109807706585493,
          0.07528926566617024,
          0.0813127263678841,
          0.07010851303540015,
          0.07365847268916736,
          0.08587641866330391,
          0.08448652585579024,
          0.08958625525946703,
          0.10709693221480619,
          0.06403836429771478,
          0.056893183378214265,
          0.06589174064734533,
          0.12395948249924782,
          0.09276488831311584,
          0.10457841997453357,
          0.10559370781240829,
          0.11622877282922141,
          0.08422222889937202,
          0.10841536995871705,
          0.08404591776970832,
          0.10549273948229353,
          0.08736886550391373,
          0.1853448275862069,
          0.10259224417267691,
          0.10150753768844221,
          0.05211007290276209,
          0.12051139521956643,
          0.055266465560583206,
          0.06597992143168922,
          0.17511520737327188,
          0.05859613146372555,
          0.13230808337569902,
          0.10749456452231743,
          0.07034619188921859,
          0.1395946763460375,
          0.0349874686716792,
          0.05825379793302084,
          0.12720178372352287,
          0.17094017094017094,
          0.10559041971328229,
          0.035528024641829914,
          0.08148725370143604,
          0.0975886277416823,
          0.09539786389308282,
          0.10238080040850195,
          0.11948184762229419,
          0.32608695652173914,
          0.042255767874534035,
          0.08429568146276915,
          0.21333333333333335,
          0.11364324651726226,
          0.08666499336656029,
          0,
          0.10559944237918216,
          0.18232558139534882,
          0.0861170110059857,
          0.05507758199646842,
          0.183206106870229,
          0.1066953316953317,
          0.06179887054070186,
          0.07346137058053252,
          0.14285714285714285,
          0.10901153319867075,
          0.076701130079346,
          0.11962924462924462,
          0.04965715432809644,
          0.04566976102598516,
          0.0932791669953459,
          0.07991681521093286,
          0.08837636493519747,
          0.059413964200918434,
          0.0750664757619145,
          0.03752636194313792,
          0.07511651699442992,
          0.05807255607864857,
          0.044510841111371886,
          0.03527451099460897,
          0.08169755138619872,
          0.049558608717742446,
          0.0349874686716792,
          0.07195144841393981,
          0.19029850746268656,
          0.055666701309499064,
          0.10003888780867198,
          0.14412532637075717,
          0.1079609463011641,
          0.09292825129893309,
          0.11767252575980604,
          0.10821041639472653,
          0.13616498224528817,
          0.07813252859280298,
          0.10180486528904002,
          0.06861547137888899,
          0.1167529107373868,
          0.03501073600139133,
          0.08341020681446214,
          0.10603820086260013,
          0.3333333333333333,
          0.08161102278749338,
          0.07581428870341525,
          0.12053106560222145,
          0.12024420456556362,
          0.09600235898732044,
          0.11614529981876921,
          0.1327981047644117,
          0.11411079147303976,
          0.15789473684210525,
          0.11701950325054175,
          0.11090381426202321,
          0.10770647835431378,
          0.17087155963302753,
          0.17211997273346966,
          0.17990130103185284,
          0.14042357274401474,
          0.17524235645041014,
          0.17559681697612733,
          0.17642831476823573,
          0.15095119933829612,
          0.11713067469275144,
          0.1801711122294917,
          0.16802906448683017,
          0.06974781858279797,
          0.07702928566237918,
          0.06058853193319688,
          0.09840252623757778,
          0.04653624457510176,
          0.04489706526500219,
          0.0666464653666536,
          0.09003008165019338
         ],
         "xaxis": "x",
         "y": [
          0.00019102196752626553,
          0.9992359121298949,
          0.16886341929321871,
          0.0013371537726838587,
          0.9879656160458453,
          1,
          0.9894937917860553,
          1,
          0,
          1,
          0.6552053486150907,
          0.5398280802292263,
          0.5742120343839542,
          0.901432664756447,
          1,
          0.5041069723018147,
          0.22063037249283668,
          0.2825214899713467,
          0.24737344794651384,
          0.05405921680993314,
          0.8607449856733524,
          0.23419293218720152,
          0.5889207258834765,
          0.43018147086914993,
          0.8714422158548233,
          0.40955109837631326,
          0.6361031518624641,
          0.3495702005730659,
          1,
          0.06131805157593123,
          0.5961795606494746,
          0.5367717287488061,
          0.2922636103151863,
          0.37153772683858644,
          0.14040114613180515,
          0.8462273161413563,
          0.026743075453677174,
          0.08519579751671442,
          0.9978987583572111,
          0.31098376313276027,
          0.5904489016236867,
          0.5398280802292263,
          0.7447946513849093,
          0.6022922636103152,
          0.8546322827125119,
          0.1180515759312321,
          0.12206303724928366,
          0.2754536771728749,
          0.17382999044890163,
          0.01489971346704871,
          0.15396370582617,
          0.5944603629417383,
          0.36981852913085006,
          0,
          0.3766953199617956,
          0.412225405921681,
          0.13505253104106973,
          0.5549188156638013,
          0.05654250238777459,
          0.5153772683858644,
          0.2649474689589303,
          0.6414517669531996,
          0.8504297994269341,
          0.964087870105062,
          0.802101241642789,
          0.9507163323782235,
          0.9486150907354346,
          0.971919770773639,
          0.020248328557784145,
          0.8433619866284623,
          0.7146131805157593,
          0.8353390639923591,
          0.1407831900668577,
          0.951098376313276,
          0.29818529130850047,
          0.49608404966571157,
          0.5919770773638968,
          0.8939828080229226,
          0.8196752626552053,
          0.5929321872015282,
          0.46723973256924545,
          0.9917860553963705,
          0.25291308500477555,
          0.19255014326647565,
          0.5203438395415473,
          0.9851002865329513,
          0.530276981852913,
          0.04775549188156638,
          0.9291308500477555,
          0.11938872970391595,
          0.1356255969436485,
          0.2941738299904489,
          0.24794651384909264,
          0.021203438395415473,
          0.1856733524355301,
          0.5875835721107927,
          0.10238777459407832,
          0.2471824259789876,
          0.37478510028653295,
          0.6649474689589303,
          0.2574976122254059,
          0.3763132760267431,
          0.3386819484240688,
          0.7037249283667621,
          0.6185291308500478,
          0.5497612225405921,
          0.859025787965616,
          0.5904489016236867,
          0.5289398280802292,
          0.7232091690544412,
          0.7925501432664757,
          0.14995224450811842,
          0.8454632282712512,
          0.4597898758357211,
          0.23151862464183381,
          0.5703915950334288,
          0.1894937917860554,
          0.010315186246418338,
          0.30964660936007643,
          0.24221585482330468,
          0.643170964660936,
          0.609360076408787,
          0.007831900668576886,
          0.12531041069723017,
          0.679847182425979,
          0.6943648519579751,
          0.33104106972301817,
          0.8171919770773639,
          0.9835721107927412,
          0.2639923591212989,
          0.7044890162368672,
          0.027316141356255968,
          0.03495702005730659,
          0.2764087870105062,
          0.6148997134670487,
          0.537344794651385,
          0.33161413562559694,
          0.16580706781279847,
          0.012225405921680994,
          0.5524355300859599,
          0.0387774594078319,
          0.2699140401146132,
          0.3608404966571156,
          0.5736389684813754,
          0.30754536771728747,
          0.3428844317096466,
          0.4,
          0.2303724928366762,
          0.3921680993314231,
          0.15759312320916904,
          0.7367717287488061,
          0.2177650429799427,
          0.5436485195797517,
          0.9344794651384909,
          0.9419293218720153,
          0.42731614135625595,
          0.27507163323782235,
          0.5700095510983764,
          0.12817574021012415,
          0.623686723973257,
          0.27163323782234955,
          0.529512893982808,
          0.45883476599808976,
          0.6353390639923592,
          0.16217765042979942,
          0.45883476599808976,
          0.8603629417382999,
          0.8714422158548233,
          0.12760267430754538,
          0.8997134670487106,
          0.359694364851958,
          0.4687679083094556,
          0.6276981852913085,
          0.5617956064947469,
          0.6775549188156638,
          0.6445081184336199,
          0.5203438395415473,
          0.5318051575931232,
          0.4880611270296084,
          0.3340974212034384,
          0.7499522445081185,
          0.8233046800382043,
          0.728748806112703,
          0.2361031518624642,
          0.4513849092645654,
          0.3608404966571156,
          0.3436485195797517,
          0.27717287488061126,
          0.5354345749761222,
          0.3260744985673352,
          0.5482330468003821,
          0.351098376313276,
          0.5138490926456543,
          0.02464183381088825,
          0.37497612225405924,
          0.36657115568290355,
          0.775549188156638,
          0.20706781279847183,
          0.8399235912129895,
          0.7218720152817574,
          0.04355300859598854,
          0.8078319006685769,
          0.1988538681948424,
          0.32110792741165234,
          0.6792741165234002,
          0.17631327602674307,
          1,
          0.7881566380133715,
          0.21795606494746897,
          0.034383954154727794,
          0.35033428844317094,
          0.9980897803247374,
          0.5593123209169054,
          0.42750716332378225,
          0.325883476599809,
          0.3063992359121299,
          0.26781279847182426,
          0.0028653295128939827,
          0.9614135625596943,
          0.5354345749761222,
          0.0030563514804202484,
          0.28672397325692456,
          0.4617000955109838,
          0,
          0.3472779369627507,
          0.037440305635148045,
          0.5111747851002866,
          0.8401146131805157,
          0.032091690544412604,
          0.33180515759312323,
          0.7713467048710602,
          0.6429799426934097,
          0.00019102196752626553,
          0.3195797516714422,
          0.609360076408787,
          0.2638013371537727,
          0.897803247373448,
          0.936007640878701,
          0.45176695319961796,
          0.5652340019102197,
          0.4962750716332378,
          0.7982808022922636,
          0.6309455587392551,
          0.9891117478510029,
          0.6311365807067812,
          0.8011461318051576,
          0.9419293218720153,
          0.9986628462273162,
          0.5398280802292263,
          0.8943648519579752,
          1,
          0.6590257879656161,
          0.03896848137535817,
          0.8185291308500477,
          0.39312320916905447,
          0.15816618911174785,
          0.32951289398280803,
          0.44756446991404014,
          0.25959885386819487,
          0.3167144221585482,
          0.19044890162368672,
          0.5885386819484241,
          0.37172874880611273,
          0.6972301814708691,
          0.2758357211079274,
          0.9998089780324737,
          0.5354345749761222,
          0.32874880611270296,
          0.0019102196752626551,
          0.5589302769818529,
          0.6229226361031519,
          0.2653295128939828,
          0.25959885386819487,
          0.4353390639923591,
          0.2815663801337154,
          0.19274116523400192,
          0.2955109837631328,
          0.11174785100286533,
          0.2681948424068768,
          0.30659025787965616,
          0.33505253104106975,
          0.08538681948424069,
          0.0964660936007641,
          0.07659980897803248,
          0.17478510028653296,
          0.044890162368672396,
          0.06322827125119389,
          0.09379178605539637,
          0.13944603629417382,
          0.26762177650429797,
          0.06838586437440305,
          0.10601719197707736,
          0.6947468958930277,
          0.6074498567335244,
          0.7803247373447947,
          0.4047755491881566,
          0.92378223495702,
          0.9398280802292264,
          0.7142311365807068,
          0.4802292263610315
         ],
         "yaxis": "y"
        }
       ],
       "layout": {
        "bargap": 0.2,
        "height": 800,
        "legend": {
         "title": {
          "text": "variable"
         },
         "tracegroupgap": 0
        },
        "margin": {
         "t": 60
        },
        "template": {
         "data": {
          "bar": [
           {
            "error_x": {
             "color": "#2a3f5f"
            },
            "error_y": {
             "color": "#2a3f5f"
            },
            "marker": {
             "line": {
              "color": "#E5ECF6",
              "width": 0.5
             },
             "pattern": {
              "fillmode": "overlay",
              "size": 10,
              "solidity": 0.2
             }
            },
            "type": "bar"
           }
          ],
          "barpolar": [
           {
            "marker": {
             "line": {
              "color": "#E5ECF6",
              "width": 0.5
             },
             "pattern": {
              "fillmode": "overlay",
              "size": 10,
              "solidity": 0.2
             }
            },
            "type": "barpolar"
           }
          ],
          "carpet": [
           {
            "aaxis": {
             "endlinecolor": "#2a3f5f",
             "gridcolor": "white",
             "linecolor": "white",
             "minorgridcolor": "white",
             "startlinecolor": "#2a3f5f"
            },
            "baxis": {
             "endlinecolor": "#2a3f5f",
             "gridcolor": "white",
             "linecolor": "white",
             "minorgridcolor": "white",
             "startlinecolor": "#2a3f5f"
            },
            "type": "carpet"
           }
          ],
          "choropleth": [
           {
            "colorbar": {
             "outlinewidth": 0,
             "ticks": ""
            },
            "type": "choropleth"
           }
          ],
          "contour": [
           {
            "colorbar": {
             "outlinewidth": 0,
             "ticks": ""
            },
            "colorscale": [
             [
              0,
              "#0d0887"
             ],
             [
              0.1111111111111111,
              "#46039f"
             ],
             [
              0.2222222222222222,
              "#7201a8"
             ],
             [
              0.3333333333333333,
              "#9c179e"
             ],
             [
              0.4444444444444444,
              "#bd3786"
             ],
             [
              0.5555555555555556,
              "#d8576b"
             ],
             [
              0.6666666666666666,
              "#ed7953"
             ],
             [
              0.7777777777777778,
              "#fb9f3a"
             ],
             [
              0.8888888888888888,
              "#fdca26"
             ],
             [
              1,
              "#f0f921"
             ]
            ],
            "type": "contour"
           }
          ],
          "contourcarpet": [
           {
            "colorbar": {
             "outlinewidth": 0,
             "ticks": ""
            },
            "type": "contourcarpet"
           }
          ],
          "heatmap": [
           {
            "colorbar": {
             "outlinewidth": 0,
             "ticks": ""
            },
            "colorscale": [
             [
              0,
              "#0d0887"
             ],
             [
              0.1111111111111111,
              "#46039f"
             ],
             [
              0.2222222222222222,
              "#7201a8"
             ],
             [
              0.3333333333333333,
              "#9c179e"
             ],
             [
              0.4444444444444444,
              "#bd3786"
             ],
             [
              0.5555555555555556,
              "#d8576b"
             ],
             [
              0.6666666666666666,
              "#ed7953"
             ],
             [
              0.7777777777777778,
              "#fb9f3a"
             ],
             [
              0.8888888888888888,
              "#fdca26"
             ],
             [
              1,
              "#f0f921"
             ]
            ],
            "type": "heatmap"
           }
          ],
          "heatmapgl": [
           {
            "colorbar": {
             "outlinewidth": 0,
             "ticks": ""
            },
            "colorscale": [
             [
              0,
              "#0d0887"
             ],
             [
              0.1111111111111111,
              "#46039f"
             ],
             [
              0.2222222222222222,
              "#7201a8"
             ],
             [
              0.3333333333333333,
              "#9c179e"
             ],
             [
              0.4444444444444444,
              "#bd3786"
             ],
             [
              0.5555555555555556,
              "#d8576b"
             ],
             [
              0.6666666666666666,
              "#ed7953"
             ],
             [
              0.7777777777777778,
              "#fb9f3a"
             ],
             [
              0.8888888888888888,
              "#fdca26"
             ],
             [
              1,
              "#f0f921"
             ]
            ],
            "type": "heatmapgl"
           }
          ],
          "histogram": [
           {
            "marker": {
             "pattern": {
              "fillmode": "overlay",
              "size": 10,
              "solidity": 0.2
             }
            },
            "type": "histogram"
           }
          ],
          "histogram2d": [
           {
            "colorbar": {
             "outlinewidth": 0,
             "ticks": ""
            },
            "colorscale": [
             [
              0,
              "#0d0887"
             ],
             [
              0.1111111111111111,
              "#46039f"
             ],
             [
              0.2222222222222222,
              "#7201a8"
             ],
             [
              0.3333333333333333,
              "#9c179e"
             ],
             [
              0.4444444444444444,
              "#bd3786"
             ],
             [
              0.5555555555555556,
              "#d8576b"
             ],
             [
              0.6666666666666666,
              "#ed7953"
             ],
             [
              0.7777777777777778,
              "#fb9f3a"
             ],
             [
              0.8888888888888888,
              "#fdca26"
             ],
             [
              1,
              "#f0f921"
             ]
            ],
            "type": "histogram2d"
           }
          ],
          "histogram2dcontour": [
           {
            "colorbar": {
             "outlinewidth": 0,
             "ticks": ""
            },
            "colorscale": [
             [
              0,
              "#0d0887"
             ],
             [
              0.1111111111111111,
              "#46039f"
             ],
             [
              0.2222222222222222,
              "#7201a8"
             ],
             [
              0.3333333333333333,
              "#9c179e"
             ],
             [
              0.4444444444444444,
              "#bd3786"
             ],
             [
              0.5555555555555556,
              "#d8576b"
             ],
             [
              0.6666666666666666,
              "#ed7953"
             ],
             [
              0.7777777777777778,
              "#fb9f3a"
             ],
             [
              0.8888888888888888,
              "#fdca26"
             ],
             [
              1,
              "#f0f921"
             ]
            ],
            "type": "histogram2dcontour"
           }
          ],
          "mesh3d": [
           {
            "colorbar": {
             "outlinewidth": 0,
             "ticks": ""
            },
            "type": "mesh3d"
           }
          ],
          "parcoords": [
           {
            "line": {
             "colorbar": {
              "outlinewidth": 0,
              "ticks": ""
             }
            },
            "type": "parcoords"
           }
          ],
          "pie": [
           {
            "automargin": true,
            "type": "pie"
           }
          ],
          "scatter": [
           {
            "fillpattern": {
             "fillmode": "overlay",
             "size": 10,
             "solidity": 0.2
            },
            "type": "scatter"
           }
          ],
          "scatter3d": [
           {
            "line": {
             "colorbar": {
              "outlinewidth": 0,
              "ticks": ""
             }
            },
            "marker": {
             "colorbar": {
              "outlinewidth": 0,
              "ticks": ""
             }
            },
            "type": "scatter3d"
           }
          ],
          "scattercarpet": [
           {
            "marker": {
             "colorbar": {
              "outlinewidth": 0,
              "ticks": ""
             }
            },
            "type": "scattercarpet"
           }
          ],
          "scattergeo": [
           {
            "marker": {
             "colorbar": {
              "outlinewidth": 0,
              "ticks": ""
             }
            },
            "type": "scattergeo"
           }
          ],
          "scattergl": [
           {
            "marker": {
             "colorbar": {
              "outlinewidth": 0,
              "ticks": ""
             }
            },
            "type": "scattergl"
           }
          ],
          "scattermapbox": [
           {
            "marker": {
             "colorbar": {
              "outlinewidth": 0,
              "ticks": ""
             }
            },
            "type": "scattermapbox"
           }
          ],
          "scatterpolar": [
           {
            "marker": {
             "colorbar": {
              "outlinewidth": 0,
              "ticks": ""
             }
            },
            "type": "scatterpolar"
           }
          ],
          "scatterpolargl": [
           {
            "marker": {
             "colorbar": {
              "outlinewidth": 0,
              "ticks": ""
             }
            },
            "type": "scatterpolargl"
           }
          ],
          "scatterternary": [
           {
            "marker": {
             "colorbar": {
              "outlinewidth": 0,
              "ticks": ""
             }
            },
            "type": "scatterternary"
           }
          ],
          "surface": [
           {
            "colorbar": {
             "outlinewidth": 0,
             "ticks": ""
            },
            "colorscale": [
             [
              0,
              "#0d0887"
             ],
             [
              0.1111111111111111,
              "#46039f"
             ],
             [
              0.2222222222222222,
              "#7201a8"
             ],
             [
              0.3333333333333333,
              "#9c179e"
             ],
             [
              0.4444444444444444,
              "#bd3786"
             ],
             [
              0.5555555555555556,
              "#d8576b"
             ],
             [
              0.6666666666666666,
              "#ed7953"
             ],
             [
              0.7777777777777778,
              "#fb9f3a"
             ],
             [
              0.8888888888888888,
              "#fdca26"
             ],
             [
              1,
              "#f0f921"
             ]
            ],
            "type": "surface"
           }
          ],
          "table": [
           {
            "cells": {
             "fill": {
              "color": "#EBF0F8"
             },
             "line": {
              "color": "white"
             }
            },
            "header": {
             "fill": {
              "color": "#C8D4E3"
             },
             "line": {
              "color": "white"
             }
            },
            "type": "table"
           }
          ]
         },
         "layout": {
          "annotationdefaults": {
           "arrowcolor": "#2a3f5f",
           "arrowhead": 0,
           "arrowwidth": 1
          },
          "autotypenumbers": "strict",
          "coloraxis": {
           "colorbar": {
            "outlinewidth": 0,
            "ticks": ""
           }
          },
          "colorscale": {
           "diverging": [
            [
             0,
             "#8e0152"
            ],
            [
             0.1,
             "#c51b7d"
            ],
            [
             0.2,
             "#de77ae"
            ],
            [
             0.3,
             "#f1b6da"
            ],
            [
             0.4,
             "#fde0ef"
            ],
            [
             0.5,
             "#f7f7f7"
            ],
            [
             0.6,
             "#e6f5d0"
            ],
            [
             0.7,
             "#b8e186"
            ],
            [
             0.8,
             "#7fbc41"
            ],
            [
             0.9,
             "#4d9221"
            ],
            [
             1,
             "#276419"
            ]
           ],
           "sequential": [
            [
             0,
             "#0d0887"
            ],
            [
             0.1111111111111111,
             "#46039f"
            ],
            [
             0.2222222222222222,
             "#7201a8"
            ],
            [
             0.3333333333333333,
             "#9c179e"
            ],
            [
             0.4444444444444444,
             "#bd3786"
            ],
            [
             0.5555555555555556,
             "#d8576b"
            ],
            [
             0.6666666666666666,
             "#ed7953"
            ],
            [
             0.7777777777777778,
             "#fb9f3a"
            ],
            [
             0.8888888888888888,
             "#fdca26"
            ],
            [
             1,
             "#f0f921"
            ]
           ],
           "sequentialminus": [
            [
             0,
             "#0d0887"
            ],
            [
             0.1111111111111111,
             "#46039f"
            ],
            [
             0.2222222222222222,
             "#7201a8"
            ],
            [
             0.3333333333333333,
             "#9c179e"
            ],
            [
             0.4444444444444444,
             "#bd3786"
            ],
            [
             0.5555555555555556,
             "#d8576b"
            ],
            [
             0.6666666666666666,
             "#ed7953"
            ],
            [
             0.7777777777777778,
             "#fb9f3a"
            ],
            [
             0.8888888888888888,
             "#fdca26"
            ],
            [
             1,
             "#f0f921"
            ]
           ]
          },
          "colorway": [
           "#636efa",
           "#EF553B",
           "#00cc96",
           "#ab63fa",
           "#FFA15A",
           "#19d3f3",
           "#FF6692",
           "#B6E880",
           "#FF97FF",
           "#FECB52"
          ],
          "font": {
           "color": "#2a3f5f"
          },
          "geo": {
           "bgcolor": "white",
           "lakecolor": "white",
           "landcolor": "#E5ECF6",
           "showlakes": true,
           "showland": true,
           "subunitcolor": "white"
          },
          "hoverlabel": {
           "align": "left"
          },
          "hovermode": "closest",
          "mapbox": {
           "style": "light"
          },
          "paper_bgcolor": "white",
          "plot_bgcolor": "#E5ECF6",
          "polar": {
           "angularaxis": {
            "gridcolor": "white",
            "linecolor": "white",
            "ticks": ""
           },
           "bgcolor": "#E5ECF6",
           "radialaxis": {
            "gridcolor": "white",
            "linecolor": "white",
            "ticks": ""
           }
          },
          "scene": {
           "xaxis": {
            "backgroundcolor": "#E5ECF6",
            "gridcolor": "white",
            "gridwidth": 2,
            "linecolor": "white",
            "showbackground": true,
            "ticks": "",
            "zerolinecolor": "white"
           },
           "yaxis": {
            "backgroundcolor": "#E5ECF6",
            "gridcolor": "white",
            "gridwidth": 2,
            "linecolor": "white",
            "showbackground": true,
            "ticks": "",
            "zerolinecolor": "white"
           },
           "zaxis": {
            "backgroundcolor": "#E5ECF6",
            "gridcolor": "white",
            "gridwidth": 2,
            "linecolor": "white",
            "showbackground": true,
            "ticks": "",
            "zerolinecolor": "white"
           }
          },
          "shapedefaults": {
           "line": {
            "color": "#2a3f5f"
           }
          },
          "ternary": {
           "aaxis": {
            "gridcolor": "white",
            "linecolor": "white",
            "ticks": ""
           },
           "baxis": {
            "gridcolor": "white",
            "linecolor": "white",
            "ticks": ""
           },
           "bgcolor": "#E5ECF6",
           "caxis": {
            "gridcolor": "white",
            "linecolor": "white",
            "ticks": ""
           }
          },
          "title": {
           "x": 0.05
          },
          "xaxis": {
           "automargin": true,
           "gridcolor": "white",
           "linecolor": "white",
           "ticks": "",
           "title": {
            "standoff": 15
           },
           "zerolinecolor": "white",
           "zerolinewidth": 2
          },
          "yaxis": {
           "automargin": true,
           "gridcolor": "white",
           "linecolor": "white",
           "ticks": "",
           "title": {
            "standoff": 15
           },
           "zerolinecolor": "white",
           "zerolinewidth": 2
          }
         }
        },
        "title": {
         "font": {
          "family": "Times New Roman",
          "size": 35
         },
         "text": "Зависимость precision от гиперпараметров модели",
         "x": 0.5
        },
        "width": 1350,
        "xaxis": {
         "anchor": "y",
         "domain": [
          0,
          1
         ],
         "showspikes": true,
         "title": {
          "text": "Величина метрики precision_1"
         }
        },
        "yaxis": {
         "anchor": "x",
         "domain": [
          0,
          1
         ],
         "showspikes": true,
         "title": {
          "text": "Величина параметра"
         }
        }
       }
      }
     },
     "metadata": {},
     "output_type": "display_data"
    }
   ],
   "source": [
    "# Построим зависимость метрики precision_1 от гипер параметров\n",
    "\n",
    "fig = px.scatter(\n",
    "    data_frame=optuna_study_lg_meta_pd,\n",
    "    x='precision_1', #ось абсцисс\n",
    "    y=['f1_score','roc_train', 'roc_valid', 'recall_1'], #ось ординат\n",
    ")\n",
    "fig.update_layout(\n",
    "    title ={\n",
    "        'text':'Зависимость precision от гиперпараметров модели', # Имя рабочей плоскости\n",
    "        'font':{'size':35,'family':\"Times New Roman\"}, # размер и стиль написания имени рабочей плоскости\n",
    "        'x':0.5, # Смешение имени по оси \"x\" на половину рабочей плоскости\n",
    "        },\n",
    "    height =800,# Высота рабочей плоскости\n",
    "    width = 1350, # Ширина рабочей плоскости\n",
    "    bargap=0.2, # Добавил расстояния между столбами гистограммы\n",
    "    xaxis_title='Величина метрики precision_1',\n",
    "    yaxis_title='Величина параметра')\n",
    "fig.update_xaxes(showspikes=True)\n",
    "fig.update_yaxes(showspikes=True)\n",
    "\n",
    "fig.show()"
   ]
  },
  {
   "cell_type": "code",
   "execution_count": 102,
   "metadata": {},
   "outputs": [
    {
     "data": {
      "application/vnd.plotly.v1+json": {
       "config": {
        "plotlyServerURL": "https://plot.ly"
       },
       "data": [
        {
         "hovertemplate": "variable=roc_train<br>number=%{x}<br>value=%{y}<extra></extra>",
         "legendgroup": "roc_train",
         "marker": {
          "color": "#636efa",
          "symbol": "circle"
         },
         "mode": "markers",
         "name": "roc_train",
         "orientation": "v",
         "showlegend": true,
         "type": "scatter",
         "x": [
          213
         ],
         "xaxis": "x",
         "y": [
          0.7521281593460588
         ],
         "yaxis": "y"
        },
        {
         "hovertemplate": "variable=roc_valid<br>number=%{x}<br>value=%{y}<extra></extra>",
         "legendgroup": "roc_valid",
         "marker": {
          "color": "#EF553B",
          "symbol": "circle"
         },
         "mode": "markers",
         "name": "roc_valid",
         "orientation": "v",
         "showlegend": true,
         "type": "scatter",
         "x": [
          213
         ],
         "xaxis": "x",
         "y": [
          0.7406163041529055
         ],
         "yaxis": "y"
        },
        {
         "hovertemplate": "variable=recall_1<br>number=%{x}<br>value=%{y}<extra></extra>",
         "legendgroup": "recall_1",
         "marker": {
          "color": "#00cc96",
          "symbol": "circle"
         },
         "mode": "markers",
         "name": "recall_1",
         "orientation": "v",
         "showlegend": true,
         "type": "scatter",
         "x": [
          213
         ],
         "xaxis": "x",
         "y": [
          0.42750716332378225
         ],
         "yaxis": "y"
        },
        {
         "hovertemplate": "variable=precision_1<br>number=%{x}<br>value=%{y}<extra></extra>",
         "legendgroup": "precision_1",
         "marker": {
          "color": "#ab63fa",
          "symbol": "circle"
         },
         "mode": "markers",
         "name": "precision_1",
         "orientation": "v",
         "showlegend": true,
         "type": "scatter",
         "x": [
          213
         ],
         "xaxis": "x",
         "y": [
          0.0975886277416823
         ],
         "yaxis": "y"
        }
       ],
       "layout": {
        "bargap": 0.2,
        "height": 800,
        "legend": {
         "title": {
          "text": "variable"
         },
         "tracegroupgap": 0
        },
        "margin": {
         "t": 60
        },
        "template": {
         "data": {
          "bar": [
           {
            "error_x": {
             "color": "#2a3f5f"
            },
            "error_y": {
             "color": "#2a3f5f"
            },
            "marker": {
             "line": {
              "color": "#E5ECF6",
              "width": 0.5
             },
             "pattern": {
              "fillmode": "overlay",
              "size": 10,
              "solidity": 0.2
             }
            },
            "type": "bar"
           }
          ],
          "barpolar": [
           {
            "marker": {
             "line": {
              "color": "#E5ECF6",
              "width": 0.5
             },
             "pattern": {
              "fillmode": "overlay",
              "size": 10,
              "solidity": 0.2
             }
            },
            "type": "barpolar"
           }
          ],
          "carpet": [
           {
            "aaxis": {
             "endlinecolor": "#2a3f5f",
             "gridcolor": "white",
             "linecolor": "white",
             "minorgridcolor": "white",
             "startlinecolor": "#2a3f5f"
            },
            "baxis": {
             "endlinecolor": "#2a3f5f",
             "gridcolor": "white",
             "linecolor": "white",
             "minorgridcolor": "white",
             "startlinecolor": "#2a3f5f"
            },
            "type": "carpet"
           }
          ],
          "choropleth": [
           {
            "colorbar": {
             "outlinewidth": 0,
             "ticks": ""
            },
            "type": "choropleth"
           }
          ],
          "contour": [
           {
            "colorbar": {
             "outlinewidth": 0,
             "ticks": ""
            },
            "colorscale": [
             [
              0,
              "#0d0887"
             ],
             [
              0.1111111111111111,
              "#46039f"
             ],
             [
              0.2222222222222222,
              "#7201a8"
             ],
             [
              0.3333333333333333,
              "#9c179e"
             ],
             [
              0.4444444444444444,
              "#bd3786"
             ],
             [
              0.5555555555555556,
              "#d8576b"
             ],
             [
              0.6666666666666666,
              "#ed7953"
             ],
             [
              0.7777777777777778,
              "#fb9f3a"
             ],
             [
              0.8888888888888888,
              "#fdca26"
             ],
             [
              1,
              "#f0f921"
             ]
            ],
            "type": "contour"
           }
          ],
          "contourcarpet": [
           {
            "colorbar": {
             "outlinewidth": 0,
             "ticks": ""
            },
            "type": "contourcarpet"
           }
          ],
          "heatmap": [
           {
            "colorbar": {
             "outlinewidth": 0,
             "ticks": ""
            },
            "colorscale": [
             [
              0,
              "#0d0887"
             ],
             [
              0.1111111111111111,
              "#46039f"
             ],
             [
              0.2222222222222222,
              "#7201a8"
             ],
             [
              0.3333333333333333,
              "#9c179e"
             ],
             [
              0.4444444444444444,
              "#bd3786"
             ],
             [
              0.5555555555555556,
              "#d8576b"
             ],
             [
              0.6666666666666666,
              "#ed7953"
             ],
             [
              0.7777777777777778,
              "#fb9f3a"
             ],
             [
              0.8888888888888888,
              "#fdca26"
             ],
             [
              1,
              "#f0f921"
             ]
            ],
            "type": "heatmap"
           }
          ],
          "heatmapgl": [
           {
            "colorbar": {
             "outlinewidth": 0,
             "ticks": ""
            },
            "colorscale": [
             [
              0,
              "#0d0887"
             ],
             [
              0.1111111111111111,
              "#46039f"
             ],
             [
              0.2222222222222222,
              "#7201a8"
             ],
             [
              0.3333333333333333,
              "#9c179e"
             ],
             [
              0.4444444444444444,
              "#bd3786"
             ],
             [
              0.5555555555555556,
              "#d8576b"
             ],
             [
              0.6666666666666666,
              "#ed7953"
             ],
             [
              0.7777777777777778,
              "#fb9f3a"
             ],
             [
              0.8888888888888888,
              "#fdca26"
             ],
             [
              1,
              "#f0f921"
             ]
            ],
            "type": "heatmapgl"
           }
          ],
          "histogram": [
           {
            "marker": {
             "pattern": {
              "fillmode": "overlay",
              "size": 10,
              "solidity": 0.2
             }
            },
            "type": "histogram"
           }
          ],
          "histogram2d": [
           {
            "colorbar": {
             "outlinewidth": 0,
             "ticks": ""
            },
            "colorscale": [
             [
              0,
              "#0d0887"
             ],
             [
              0.1111111111111111,
              "#46039f"
             ],
             [
              0.2222222222222222,
              "#7201a8"
             ],
             [
              0.3333333333333333,
              "#9c179e"
             ],
             [
              0.4444444444444444,
              "#bd3786"
             ],
             [
              0.5555555555555556,
              "#d8576b"
             ],
             [
              0.6666666666666666,
              "#ed7953"
             ],
             [
              0.7777777777777778,
              "#fb9f3a"
             ],
             [
              0.8888888888888888,
              "#fdca26"
             ],
             [
              1,
              "#f0f921"
             ]
            ],
            "type": "histogram2d"
           }
          ],
          "histogram2dcontour": [
           {
            "colorbar": {
             "outlinewidth": 0,
             "ticks": ""
            },
            "colorscale": [
             [
              0,
              "#0d0887"
             ],
             [
              0.1111111111111111,
              "#46039f"
             ],
             [
              0.2222222222222222,
              "#7201a8"
             ],
             [
              0.3333333333333333,
              "#9c179e"
             ],
             [
              0.4444444444444444,
              "#bd3786"
             ],
             [
              0.5555555555555556,
              "#d8576b"
             ],
             [
              0.6666666666666666,
              "#ed7953"
             ],
             [
              0.7777777777777778,
              "#fb9f3a"
             ],
             [
              0.8888888888888888,
              "#fdca26"
             ],
             [
              1,
              "#f0f921"
             ]
            ],
            "type": "histogram2dcontour"
           }
          ],
          "mesh3d": [
           {
            "colorbar": {
             "outlinewidth": 0,
             "ticks": ""
            },
            "type": "mesh3d"
           }
          ],
          "parcoords": [
           {
            "line": {
             "colorbar": {
              "outlinewidth": 0,
              "ticks": ""
             }
            },
            "type": "parcoords"
           }
          ],
          "pie": [
           {
            "automargin": true,
            "type": "pie"
           }
          ],
          "scatter": [
           {
            "fillpattern": {
             "fillmode": "overlay",
             "size": 10,
             "solidity": 0.2
            },
            "type": "scatter"
           }
          ],
          "scatter3d": [
           {
            "line": {
             "colorbar": {
              "outlinewidth": 0,
              "ticks": ""
             }
            },
            "marker": {
             "colorbar": {
              "outlinewidth": 0,
              "ticks": ""
             }
            },
            "type": "scatter3d"
           }
          ],
          "scattercarpet": [
           {
            "marker": {
             "colorbar": {
              "outlinewidth": 0,
              "ticks": ""
             }
            },
            "type": "scattercarpet"
           }
          ],
          "scattergeo": [
           {
            "marker": {
             "colorbar": {
              "outlinewidth": 0,
              "ticks": ""
             }
            },
            "type": "scattergeo"
           }
          ],
          "scattergl": [
           {
            "marker": {
             "colorbar": {
              "outlinewidth": 0,
              "ticks": ""
             }
            },
            "type": "scattergl"
           }
          ],
          "scattermapbox": [
           {
            "marker": {
             "colorbar": {
              "outlinewidth": 0,
              "ticks": ""
             }
            },
            "type": "scattermapbox"
           }
          ],
          "scatterpolar": [
           {
            "marker": {
             "colorbar": {
              "outlinewidth": 0,
              "ticks": ""
             }
            },
            "type": "scatterpolar"
           }
          ],
          "scatterpolargl": [
           {
            "marker": {
             "colorbar": {
              "outlinewidth": 0,
              "ticks": ""
             }
            },
            "type": "scatterpolargl"
           }
          ],
          "scatterternary": [
           {
            "marker": {
             "colorbar": {
              "outlinewidth": 0,
              "ticks": ""
             }
            },
            "type": "scatterternary"
           }
          ],
          "surface": [
           {
            "colorbar": {
             "outlinewidth": 0,
             "ticks": ""
            },
            "colorscale": [
             [
              0,
              "#0d0887"
             ],
             [
              0.1111111111111111,
              "#46039f"
             ],
             [
              0.2222222222222222,
              "#7201a8"
             ],
             [
              0.3333333333333333,
              "#9c179e"
             ],
             [
              0.4444444444444444,
              "#bd3786"
             ],
             [
              0.5555555555555556,
              "#d8576b"
             ],
             [
              0.6666666666666666,
              "#ed7953"
             ],
             [
              0.7777777777777778,
              "#fb9f3a"
             ],
             [
              0.8888888888888888,
              "#fdca26"
             ],
             [
              1,
              "#f0f921"
             ]
            ],
            "type": "surface"
           }
          ],
          "table": [
           {
            "cells": {
             "fill": {
              "color": "#EBF0F8"
             },
             "line": {
              "color": "white"
             }
            },
            "header": {
             "fill": {
              "color": "#C8D4E3"
             },
             "line": {
              "color": "white"
             }
            },
            "type": "table"
           }
          ]
         },
         "layout": {
          "annotationdefaults": {
           "arrowcolor": "#2a3f5f",
           "arrowhead": 0,
           "arrowwidth": 1
          },
          "autotypenumbers": "strict",
          "coloraxis": {
           "colorbar": {
            "outlinewidth": 0,
            "ticks": ""
           }
          },
          "colorscale": {
           "diverging": [
            [
             0,
             "#8e0152"
            ],
            [
             0.1,
             "#c51b7d"
            ],
            [
             0.2,
             "#de77ae"
            ],
            [
             0.3,
             "#f1b6da"
            ],
            [
             0.4,
             "#fde0ef"
            ],
            [
             0.5,
             "#f7f7f7"
            ],
            [
             0.6,
             "#e6f5d0"
            ],
            [
             0.7,
             "#b8e186"
            ],
            [
             0.8,
             "#7fbc41"
            ],
            [
             0.9,
             "#4d9221"
            ],
            [
             1,
             "#276419"
            ]
           ],
           "sequential": [
            [
             0,
             "#0d0887"
            ],
            [
             0.1111111111111111,
             "#46039f"
            ],
            [
             0.2222222222222222,
             "#7201a8"
            ],
            [
             0.3333333333333333,
             "#9c179e"
            ],
            [
             0.4444444444444444,
             "#bd3786"
            ],
            [
             0.5555555555555556,
             "#d8576b"
            ],
            [
             0.6666666666666666,
             "#ed7953"
            ],
            [
             0.7777777777777778,
             "#fb9f3a"
            ],
            [
             0.8888888888888888,
             "#fdca26"
            ],
            [
             1,
             "#f0f921"
            ]
           ],
           "sequentialminus": [
            [
             0,
             "#0d0887"
            ],
            [
             0.1111111111111111,
             "#46039f"
            ],
            [
             0.2222222222222222,
             "#7201a8"
            ],
            [
             0.3333333333333333,
             "#9c179e"
            ],
            [
             0.4444444444444444,
             "#bd3786"
            ],
            [
             0.5555555555555556,
             "#d8576b"
            ],
            [
             0.6666666666666666,
             "#ed7953"
            ],
            [
             0.7777777777777778,
             "#fb9f3a"
            ],
            [
             0.8888888888888888,
             "#fdca26"
            ],
            [
             1,
             "#f0f921"
            ]
           ]
          },
          "colorway": [
           "#636efa",
           "#EF553B",
           "#00cc96",
           "#ab63fa",
           "#FFA15A",
           "#19d3f3",
           "#FF6692",
           "#B6E880",
           "#FF97FF",
           "#FECB52"
          ],
          "font": {
           "color": "#2a3f5f"
          },
          "geo": {
           "bgcolor": "white",
           "lakecolor": "white",
           "landcolor": "#E5ECF6",
           "showlakes": true,
           "showland": true,
           "subunitcolor": "white"
          },
          "hoverlabel": {
           "align": "left"
          },
          "hovermode": "closest",
          "mapbox": {
           "style": "light"
          },
          "paper_bgcolor": "white",
          "plot_bgcolor": "#E5ECF6",
          "polar": {
           "angularaxis": {
            "gridcolor": "white",
            "linecolor": "white",
            "ticks": ""
           },
           "bgcolor": "#E5ECF6",
           "radialaxis": {
            "gridcolor": "white",
            "linecolor": "white",
            "ticks": ""
           }
          },
          "scene": {
           "xaxis": {
            "backgroundcolor": "#E5ECF6",
            "gridcolor": "white",
            "gridwidth": 2,
            "linecolor": "white",
            "showbackground": true,
            "ticks": "",
            "zerolinecolor": "white"
           },
           "yaxis": {
            "backgroundcolor": "#E5ECF6",
            "gridcolor": "white",
            "gridwidth": 2,
            "linecolor": "white",
            "showbackground": true,
            "ticks": "",
            "zerolinecolor": "white"
           },
           "zaxis": {
            "backgroundcolor": "#E5ECF6",
            "gridcolor": "white",
            "gridwidth": 2,
            "linecolor": "white",
            "showbackground": true,
            "ticks": "",
            "zerolinecolor": "white"
           }
          },
          "shapedefaults": {
           "line": {
            "color": "#2a3f5f"
           }
          },
          "ternary": {
           "aaxis": {
            "gridcolor": "white",
            "linecolor": "white",
            "ticks": ""
           },
           "baxis": {
            "gridcolor": "white",
            "linecolor": "white",
            "ticks": ""
           },
           "bgcolor": "#E5ECF6",
           "caxis": {
            "gridcolor": "white",
            "linecolor": "white",
            "ticks": ""
           }
          },
          "title": {
           "x": 0.05
          },
          "xaxis": {
           "automargin": true,
           "gridcolor": "white",
           "linecolor": "white",
           "ticks": "",
           "title": {
            "standoff": 15
           },
           "zerolinecolor": "white",
           "zerolinewidth": 2
          },
          "yaxis": {
           "automargin": true,
           "gridcolor": "white",
           "linecolor": "white",
           "ticks": "",
           "title": {
            "standoff": 15
           },
           "zerolinecolor": "white",
           "zerolinewidth": 2
          }
         }
        },
        "title": {
         "font": {
          "family": "Times New Roman",
          "size": 35
         },
         "text": "Зависимость качества модели от trials optuna",
         "x": 0.5
        },
        "width": 1350,
        "xaxis": {
         "anchor": "y",
         "domain": [
          0,
          1
         ],
         "showspikes": true,
         "title": {
          "text": "trials optuna"
         }
        },
        "yaxis": {
         "anchor": "x",
         "domain": [
          0,
          1
         ],
         "showspikes": true,
         "title": {
          "text": "Величина метрики"
         }
        }
       }
      }
     },
     "metadata": {},
     "output_type": "display_data"
    }
   ],
   "source": [
    "# Визуализируем метрики полученные при optuna оптимизации\n",
    "fig = px.scatter(\n",
    "    data_frame=optuna_study_lg_meta_pd[optuna_study_lg_meta_pd['roc_valid']>0.9999*optuna_study_lg_meta_pd['roc_valid'].max()],\n",
    "    x='number', #ось абсцисс\n",
    "    y=['roc_train','roc_valid','recall_1','precision_1'], #ось ординат\n",
    ")\n",
    "fig.update_layout(\n",
    "    title ={\n",
    "        'text':'Зависимость качества модели от trials optuna', # Имя рабочей плоскости\n",
    "        'font':{'size':35,'family':\"Times New Roman\"}, # размер и стиль написания имени рабочей плоскости\n",
    "        'x':0.5, # Смешение имени по оси \"x\" на половину рабочей плоскости\n",
    "        },\n",
    "    height =800,# Высота рабочей плоскости\n",
    "    width = 1350, # Ширина рабочей плоскости\n",
    "    bargap=0.2, # Добавил расстояния между столбами гистограммы\n",
    "    xaxis_title='trials optuna',\n",
    "    yaxis_title='Величина метрики')\n",
    "fig.update_xaxes(showspikes=True)\n",
    "fig.update_yaxes(showspikes=True)\n",
    "\n",
    "fig.show()"
   ]
  },
  {
   "cell_type": "markdown",
   "metadata": {},
   "source": [
    "<span style=\"color:Blue\">\n",
    "\n",
    "Вывод:  \n",
    "\n",
    "Их всех выбираем точку $number =213$.   \n",
    "В этой точке самые оптимальные значения $recall$ и $precision$.  \n",
    "Посмотрим каким значениям гиперпараметров соотвествует выбранная точка."
   ]
  },
  {
   "cell_type": "code",
   "execution_count": 103,
   "metadata": {},
   "outputs": [
    {
     "name": "stdout",
     "output_type": "stream",
     "text": [
      "best solver: liblinear\n",
      "best C: 0.501\n",
      "best class 0 weight: 0.775\n",
      "best class 1 weight: 0.781\n",
      "best class 1 percent: 0.358\n",
      "best k features: 350\n",
      "best random state: 332173\n",
      "time for best train: 0 minutes\n",
      "\n",
      "ROC AUC на обучающем наборе: 0.752\n",
      "ROC AUC на валидационном наборе: 0.741\n",
      "precision класса 1: 0.098\n",
      "recall класса 1: 0.428\n"
     ]
    }
   ],
   "source": [
    "# определим номер лучшге варианта\n",
    "best_optuna_number = 213\n",
    "\n",
    "# сформируем словарь лучших гипирпарметров RandomForestClassifier\n",
    "best_param_lr = {\n",
    "    'solver' : optuna_study_lg_meta_pd[optuna_study_lg_meta_pd['number']==best_optuna_number]['params_solver'].iloc[0],\n",
    "    'C' : round(optuna_study_lg_meta_pd[optuna_study_lg_meta_pd['number']==best_optuna_number]['params_C'].iloc[0],3),\n",
    "    'class_weight' : {0:round(optuna_study_lg_meta_pd[optuna_study_lg_meta_pd['number']==best_optuna_number]['params_class_0_weight'].iloc[0],3),\n",
    "                      1:round(optuna_study_lg_meta_pd[optuna_study_lg_meta_pd['number']==best_optuna_number]['params_class_1_weight'].iloc[0],3)},\n",
    "    }\n",
    "\n",
    "# создадим перменные\n",
    "best_k_features = optuna_study_lg_meta_pd[optuna_study_lg_meta_pd['number']==best_optuna_number]['params_k_features'].iloc[0]\n",
    "best_random_state = optuna_study_lg_meta_pd[optuna_study_lg_meta_pd['number']==best_optuna_number]['params_random_state'].iloc[0]\n",
    "best_class_1_percent = optuna_study_lg_meta_pd[optuna_study_lg_meta_pd['number']==best_optuna_number]['params_class_1_percent'].iloc[0]\n",
    "\n",
    "# Выведем принятые наилучшие праметры\n",
    "print('best solver:',best_param_lr['solver'])\n",
    "print('best C:',best_param_lr['C'])\n",
    "print('best class 0 weight:',best_param_lr['class_weight'][0])\n",
    "print('best class 1 weight:',best_param_lr['class_weight'][1])\n",
    "\n",
    "print('best class 1 percent:',round(best_class_1_percent,3))\n",
    "print('best k features:',best_k_features)\n",
    "print('best random state:',best_random_state)\n",
    "print('time for best train:',round(optuna_study_lg_meta_pd[optuna_study_lg_meta_pd['number']==best_optuna_number]['duration'].iloc[0].seconds/60),'minutes')\n",
    "\n",
    "print()\n",
    "print('ROC AUC на обучающем наборе:', round(optuna_study_lg_meta_pd[optuna_study_lg_meta_pd['number']==best_optuna_number]['roc_train'].iloc[0],3))\n",
    "print('ROC AUC на валидационном наборе:', round(optuna_study_lg_meta_pd[optuna_study_lg_meta_pd['number']==best_optuna_number]['roc_valid'].iloc[0],3))\n",
    "print('precision класса 1:', round(optuna_study_lg_meta_pd[optuna_study_lg_meta_pd['number']==best_optuna_number]['precision_1'].iloc[0],3))\n",
    "print('recall класса 1:', round(optuna_study_lg_meta_pd[optuna_study_lg_meta_pd['number']==best_optuna_number]['recall_1'].iloc[0],3))\n"
   ]
  },
  {
   "cell_type": "markdown",
   "metadata": {},
   "source": [
    "##### <span style=\"color:MediumSlateBlue\">Обучение модели с лучшими параметрами</span>"
   ]
  },
  {
   "cell_type": "code",
   "execution_count": 104,
   "metadata": {},
   "outputs": [
    {
     "name": "stdout",
     "output_type": "stream",
     "text": [
      "ROC AUC на обучающем наборе 0.752\n",
      "ROC AUC на валидационном наборе 0.741\n",
      "Основные метрики на валидационом наборе:\n",
      "              precision    recall  f1-score   support\n",
      "\n",
      "           0       0.98      0.86      0.91    144390\n",
      "           1       0.10      0.43      0.16      5235\n",
      "\n",
      "    accuracy                           0.84    149625\n",
      "   macro avg       0.54      0.64      0.54    149625\n",
      "weighted avg       0.95      0.84      0.89    149625\n",
      "\n"
     ]
    }
   ],
   "source": [
    "# Загружаем обучающие наборы\n",
    "MX_train_pd = fp.ParquetFile('features/firstmeta/features_first_meta_torow_train').to_pandas()\n",
    "my_train_pd = pd.read_csv('features/firstmeta/mfy_train.csv')\n",
    "\n",
    "# поготовим данные my_train_pd к работе с функцией class_1_percent_samples\n",
    "my_train_pd.set_index('id',drop=False,inplace=True)\n",
    "\n",
    "# с помощью функции class_1_percent_samples зададим долю класса 1\n",
    "list_c1_percent_id = class_1_percent_samples(my_train_pd,best_class_1_percent,random_state=best_random_state)[:1000000]\n",
    "\n",
    "# подготовим данные для обучения\n",
    "MX_train_balanced = MX_train_pd.loc[list_c1_percent_id]\n",
    "my_train_balanced = my_train_pd.loc[list_c1_percent_id]['flag'].to_numpy()\n",
    "\n",
    "# освободим память от \"тяжелых\" и ненужных файлов\n",
    "del MX_train_pd, my_train_pd\n",
    "gc.collect()\n",
    "\n",
    "# с помощью класса SelectKBest получим список лучших признаков\n",
    "selector = SelectKBest(f_classif, k=best_k_features)\n",
    "selector.fit(MX_train_balanced, my_train_balanced)\n",
    "list_best_features = selector.get_feature_names_out()\n",
    "\n",
    "MX_train_balanced = MX_train_balanced[list_best_features].to_numpy()\n",
    "\n",
    "\n",
    "# обучаем модель LogisticRegression с наилучшеми параметрами\n",
    "logistic_regression = linear_model.LogisticRegression(\n",
    "        **best_param_lr,\n",
    "        random_state=best_random_state,\n",
    "        max_iter=10000)\n",
    "logistic_regression.fit(MX_train_balanced, my_train_balanced)\n",
    "\n",
    "# удаляем крупные файлы чтобы высвободить память \n",
    "del MX_train_balanced, my_train_balanced\n",
    "gc.collect()\n",
    "\n",
    "# загружаем тестовые наборы\n",
    "MX_train = fp.ParquetFile('features/firstmeta/features_first_meta_torow_train').to_pandas()[list_best_features].to_numpy()\n",
    "MX_valid = fp.ParquetFile('features/firstmeta/features_first_meta_torow_valid').to_pandas()[list_best_features].to_numpy()\n",
    "my_train = pd.read_csv('features/firstmeta/mfy_train.csv')['flag'].to_numpy()\n",
    "my_valid = pd.read_csv('features/firstmeta/mfy_valid.csv')['flag'].to_numpy()\n",
    "\n",
    "# для метрик ROC AUC делаем предсказание модели в виде вероятности\n",
    "my_train_lr_pred_proba = logistic_regression.predict_proba(MX_train)[:,1]\n",
    "my_valid_lr_pred_proba = logistic_regression.predict_proba(MX_valid)[:,1]\n",
    "\n",
    "# Делаем предсказание для валидационной выборки\n",
    "my_valid_lr_pred = logistic_regression.predict(MX_valid)\n",
    "\n",
    "# удаляем крупные файлы чтобы высвободить память \n",
    "del MX_train, MX_valid\n",
    "gc.collect()\n",
    "\n",
    "#Выводим значения метрик\n",
    "print('ROC AUC на обучающем наборе', round(metrics.roc_auc_score(my_train, my_train_lr_pred_proba),3))\n",
    "print('ROC AUC на валидационном наборе', round(metrics.roc_auc_score(my_valid, my_valid_lr_pred_proba),3))\n",
    "\n",
    "print('Основные метрики на валидационом наборе:')\n",
    "print(metrics.classification_report(my_valid,my_valid_lr_pred,zero_division=0))\n",
    "\n",
    "# time: 2m 30s"
   ]
  },
  {
   "cell_type": "markdown",
   "metadata": {},
   "source": [
    "#### <span style=\"color:MediumBlue\">Построение модели Gradient Boosting Classifier</span>"
   ]
  },
  {
   "cell_type": "markdown",
   "metadata": {},
   "source": [
    "##### <span style=\"color:MediumSlateBlue\">Baseline обучение модели Hist Gradient Boosting Classifier</span>"
   ]
  },
  {
   "cell_type": "code",
   "execution_count": 57,
   "metadata": {},
   "outputs": [],
   "source": [
    "MX_train = fp.ParquetFile('features/firstmeta/features_first_meta_torow_train').to_pandas()\n",
    "my_train = pd.read_csv('features/firstmeta/mfy_train.csv').set_index('id')['flag']\n",
    "MX_valid = fp.ParquetFile('features/firstmeta/features_first_meta_torow_valid').to_pandas()\n",
    "my_valid = pd.read_csv('features/firstmeta/mfy_valid.csv').set_index('id')['flag']"
   ]
  },
  {
   "cell_type": "code",
   "execution_count": 58,
   "metadata": {},
   "outputs": [
    {
     "name": "stdout",
     "output_type": "stream",
     "text": [
      "ROC AUC на обучающем наборе 0.792\n",
      "ROC AUC на валидационном наборе 0.743\n",
      "Основные метрики на валидационом наборе:\n",
      "              precision    recall  f1-score   support\n",
      "\n",
      "           0       0.97      1.00      0.98    144390\n",
      "           1       0.00      0.00      0.00      5235\n",
      "\n",
      "    accuracy                           0.96    149625\n",
      "   macro avg       0.48      0.50      0.49    149625\n",
      "weighted avg       0.93      0.96      0.95    149625\n",
      "\n"
     ]
    }
   ],
   "source": [
    "# обучаем модель Gradient Boosting Classifier\n",
    "gradient_boosting = HistGradientBoostingClassifier(random_state=42)\n",
    "gradient_boosting.fit(MX_train,my_train)\n",
    "\n",
    "# для метрик ROC AUC делаем предсказание модели в виде вероятности\n",
    "my_train_rf__pred_proba = gradient_boosting.predict_proba(MX_train)[:,1]\n",
    "my_valid_rf_pred_proba = gradient_boosting.predict_proba(MX_valid)[:,1]\n",
    "\n",
    "# Делаем предсказание для валидационной выборки\n",
    "my_valid_rf_pred = gradient_boosting.predict(MX_valid)\n",
    "\n",
    "#Выводим значения метрик\n",
    "print('ROC AUC на обучающем наборе', round(metrics.roc_auc_score(my_train, my_train_rf__pred_proba),3))\n",
    "print('ROC AUC на валидационном наборе', round(metrics.roc_auc_score(my_valid, my_valid_rf_pred_proba),3))\n",
    "\n",
    "print('Основные метрики на валидационом наборе:')\n",
    "print(metrics.classification_report(my_valid,my_valid_rf_pred))\n",
    "\n",
    "# time: 30s"
   ]
  },
  {
   "cell_type": "markdown",
   "metadata": {},
   "source": [
    "<span style=\"color:Blue\">\n",
    "\n",
    "Выводы:\n",
    "\n",
    "В сравнение с моделью $HistGradientBoostingClassifier$ построенной   \n",
    "на несбалансированных данных $transform$ $data$ $stat$:\n",
    "1. Качество модели по метрике $ROC AUC$ не изменилась.\n",
    "2. Качество модели по метрике $recall_1$ значительно  \n",
    "улучшилось. Правда, $recall_0$ уменьшилось.\n",
    "3. Качество модели по метрике $precision_1$ уменьшилось.   \n",
    "4. На порядок уменьшилось время обучения модели. Это логично,  \n",
    "велична сбалансированной выборки всего $107000$ $samples$. "
   ]
  },
  {
   "cell_type": "markdown",
   "metadata": {},
   "source": [
    "##### <span style=\"color:MediumSlateBlue\">Подбор гиперпараметров модели</span>"
   ]
  },
  {
   "cell_type": "code",
   "execution_count": 59,
   "metadata": {},
   "outputs": [],
   "source": [
    "# настроим оптимизацию гипер параметров\n",
    "def optuna_gb_meta(trial):\n",
    "  # задаем пространства поиска гиперпараметров\n",
    "  learning_rate = trial.suggest_float('learning_rate',0.01,0.1)\n",
    "  max_iter = trial.suggest_int('max_iter', 150, 250,step = 1)\n",
    "  max_leaf_nodes = trial.suggest_int('max_leaf_nodes', 2, 60,step = 1)\n",
    "  max_depth = trial.suggest_int('max_depth', 1, 10,step = 1)\n",
    "  min_samples_leaf = trial.suggest_int('min_samples_leaf', 1, 60,step = 1)\n",
    "  max_features = trial.suggest_float('max_features',0.1,1)\n",
    "  l2_regularization = trial.suggest_float('l2_regularization',0.01,1)\n",
    "  class_0_weight = trial.suggest_float('class_0_weight',0.01,1)\n",
    "  class_1_weight = trial.suggest_float('class_1_weight',0.01,1)\n",
    "  k_features = trial.suggest_int('k_features', 20, 356,step = 1)\n",
    "  class_1_percent = trial.suggest_float('class_1_percent',0.01,1)\n",
    "  random_state = trial.suggest_int('random_state', 1, 1000000)\n",
    "\n",
    "  # создаем модель\n",
    "  optuna_gradient_boosting_meta = HistGradientBoostingClassifier(\n",
    "      learning_rate= learning_rate,\n",
    "      max_iter = max_iter,\n",
    "      max_leaf_nodes =max_leaf_nodes,\n",
    "      max_depth = max_depth,\n",
    "      min_samples_leaf = min_samples_leaf,\n",
    "      max_features=max_features,\n",
    "      l2_regularization = l2_regularization,\n",
    "      class_weight={0:class_0_weight,1:class_1_weight},\n",
    "      random_state=random_state)\n",
    "\n",
    "  # Загружаем обучающие наборы\n",
    "  MX_train_pd = fp.ParquetFile('features/firstmeta/features_first_meta_torow_train').to_pandas()\n",
    "  my_train_pd = pd.read_csv('features/firstmeta/mfy_train.csv')\n",
    "\n",
    "  # поготовим данные my_train_pd к работе с функцией class_1_percent_samples\n",
    "  my_train_pd.set_index('id',drop=False,inplace=True)\n",
    "\n",
    "  # с помощью функции class_1_percent_samples зададим долю класса 1\n",
    "  list_c1_percent_id = class_1_percent_samples(my_train_pd,class_1_percent,random_state=random_state)[:1000000]\n",
    "\n",
    "  # подготовим данные для обучения\n",
    "  MX_train_balanced = MX_train_pd.loc[list_c1_percent_id]\n",
    "  my_train_balanced = my_train_pd.loc[list_c1_percent_id]['flag'].to_numpy()\n",
    "\n",
    "  # освободим память от \"тяжелых\" и ненужных файлов\n",
    "  del MX_train_pd, my_train_pd\n",
    "  gc.collect()\n",
    "  \n",
    "  # с помощью класса SelectKBest получим список лучших признаков\n",
    "  selector = SelectKBest(f_classif, k=k_features)\n",
    "  selector.fit(MX_train_balanced, my_train_balanced)\n",
    "  list_best_features = selector.get_feature_names_out()\n",
    "\n",
    "  MX_train_balanced = MX_train_balanced[list_best_features].to_numpy()\n",
    "\n",
    "  # я не воспользовался параметром timeout метода optimize потому, что  \n",
    "  # optimize отставливает поиск параметров, если время обучения \n",
    "  # превышает timeout. Мне нужно чтобы поиск параметров продолжился.\n",
    "  try:\n",
    "    # для модуля func_time_out упакуем обучение модели в функцию try_func\n",
    "    def try_func():\n",
    "            return optuna_gradient_boosting_meta.fit(MX_train_balanced,my_train_balanced)\n",
    "    # обучаем модель с ограничением по времени 10 минут (600 секунд)\n",
    "    optuna_gradient_boosting_meta = func_timeout.func_timeout(600, try_func)\n",
    "\n",
    "    # удаляем крупные файлы чтобы высвободить память \n",
    "    del MX_train_balanced, my_train_balanced\n",
    "    gc.collect()\n",
    "\n",
    "    # загружаем тестовые наборы\n",
    "    MX_train = fp.ParquetFile('features/firstmeta/features_first_meta_torow_train').to_pandas()[list_best_features].to_numpy()\n",
    "    MX_valid = fp.ParquetFile('features/firstmeta/features_first_meta_torow_valid').to_pandas()[list_best_features].to_numpy()\n",
    "    my_train = pd.read_csv('features/firstmeta/mfy_train.csv')['flag'].to_numpy()\n",
    "    my_valid = pd.read_csv('features/firstmeta/mfy_valid.csv')['flag'].to_numpy()\n",
    "\n",
    "    # делаем предсказание на обучающем и валидационном наборе\n",
    "    #Считаем метрики для класса 1 добавляем их в список\n",
    "    roc_train = metrics.roc_auc_score(my_train, optuna_gradient_boosting_meta.predict_proba(MX_train)[:,1])\n",
    "    roc_valid = metrics.roc_auc_score(my_valid, optuna_gradient_boosting_meta.predict_proba(MX_valid)[:,1])\n",
    "    f1_score = metrics.f1_score(my_valid, optuna_gradient_boosting_meta.predict(MX_valid))\n",
    "    recall_1 = metrics.recall_score(my_valid, optuna_gradient_boosting_meta.predict(MX_valid),average=None,zero_division=0)[1]\n",
    "    precision_1 = metrics.precision_score(my_valid, optuna_gradient_boosting_meta.predict(MX_valid),average=None,zero_division=0)[1]\n",
    "\n",
    "    # удаляем крупные файлы чтобы высвободить память \n",
    "    del MX_train, MX_valid, my_train, my_valid\n",
    "    gc.collect()\n",
    "\n",
    "  except func_timeout.FunctionTimedOut:\n",
    "    # удаляем крупные файлы чтобы высвободить память \n",
    "    del MX_train_balanced, my_train_balanced\n",
    "    gc.collect()\n",
    "    \n",
    "    # фиксируем пустые значения метрик\n",
    "    roc_train = 0\n",
    "    roc_valid = 0\n",
    "    f1_score = 0\n",
    "    recall_1 = 0\n",
    "    precision_1 = 0\n",
    "    pass\n",
    "\n",
    "  return roc_train, roc_valid, f1_score, recall_1, precision_1"
   ]
  },
  {
   "cell_type": "code",
   "execution_count": null,
   "metadata": {},
   "outputs": [
    {
     "name": "stderr",
     "output_type": "stream",
     "text": [
      "[I 2025-04-20 18:02:29,826] A new study created in RDB with name: HistGradientBoostingClassifier_meta_first_torow\n"
     ]
    }
   ],
   "source": [
    "# ну случай удаления обучения\n",
    "# optuna.delete_study(study_name=\"HistGradientBoostingClassifier_meta_first_torow\", storage='sqlite:///optuna_studies.db')\n",
    "\n",
    "# cоздаем объект исследования\n",
    "# чтобы модель не переобучалась минимизируем roc_train \n",
    "# и максимизируем roc_valid\n",
    "optuna_study_gb_meta = optuna.create_study(study_name=\"HistGradientBoostingClassifier_meta_first_torow\", \n",
    "                               directions=['maximize','maximize','maximize','maximize','maximize'], \n",
    "                               sampler=optuna.samplers.TPESampler(),\n",
    "                               pruner='Hyperband',\n",
    "                               storage='sqlite:///optuna_studies.db',\n",
    "                               load_if_exists=True)"
   ]
  },
  {
   "cell_type": "code",
   "execution_count": null,
   "metadata": {},
   "outputs": [],
   "source": [
    "# ищем лучшую комбинацию гиперпараметров n_trials раз\n",
    "optuna_study_gb_meta.optimize(optuna_gb_meta, n_trials=300)"
   ]
  },
  {
   "cell_type": "markdown",
   "metadata": {},
   "source": [
    "##### <span style=\"color:MediumSlateBlue\">Анализ гиперпараметров</span>"
   ]
  },
  {
   "cell_type": "code",
   "execution_count": 62,
   "metadata": {},
   "outputs": [
    {
     "data": {
      "text/html": [
       "<div>\n",
       "<style scoped>\n",
       "    .dataframe tbody tr th:only-of-type {\n",
       "        vertical-align: middle;\n",
       "    }\n",
       "\n",
       "    .dataframe tbody tr th {\n",
       "        vertical-align: top;\n",
       "    }\n",
       "\n",
       "    .dataframe thead th {\n",
       "        text-align: right;\n",
       "    }\n",
       "</style>\n",
       "<table border=\"1\" class=\"dataframe\">\n",
       "  <thead>\n",
       "    <tr style=\"text-align: right;\">\n",
       "      <th></th>\n",
       "      <th>number</th>\n",
       "      <th>roc_train</th>\n",
       "      <th>roc_valid</th>\n",
       "      <th>f1_score</th>\n",
       "      <th>recall_1</th>\n",
       "      <th>precision_1</th>\n",
       "      <th>datetime_start</th>\n",
       "      <th>datetime_complete</th>\n",
       "      <th>duration</th>\n",
       "      <th>params_class_0_weight</th>\n",
       "      <th>...</th>\n",
       "      <th>params_k_features</th>\n",
       "      <th>params_l2_regularization</th>\n",
       "      <th>params_learning_rate</th>\n",
       "      <th>params_max_depth</th>\n",
       "      <th>params_max_features</th>\n",
       "      <th>params_max_iter</th>\n",
       "      <th>params_max_leaf_nodes</th>\n",
       "      <th>params_min_samples_leaf</th>\n",
       "      <th>params_random_state</th>\n",
       "      <th>state</th>\n",
       "    </tr>\n",
       "  </thead>\n",
       "  <tbody>\n",
       "    <tr>\n",
       "      <th>295</th>\n",
       "      <td>295</td>\n",
       "      <td>0.795564</td>\n",
       "      <td>0.744243</td>\n",
       "      <td>0.149774</td>\n",
       "      <td>0.164852</td>\n",
       "      <td>0.137224</td>\n",
       "      <td>2025-04-20 18:51:03.333111</td>\n",
       "      <td>2025-04-20 18:51:16.581460</td>\n",
       "      <td>0 days 00:00:13.248349</td>\n",
       "      <td>0.651024</td>\n",
       "      <td>...</td>\n",
       "      <td>339</td>\n",
       "      <td>0.277669</td>\n",
       "      <td>0.081731</td>\n",
       "      <td>8</td>\n",
       "      <td>0.328420</td>\n",
       "      <td>194</td>\n",
       "      <td>59</td>\n",
       "      <td>38</td>\n",
       "      <td>76466</td>\n",
       "      <td>COMPLETE</td>\n",
       "    </tr>\n",
       "    <tr>\n",
       "      <th>296</th>\n",
       "      <td>296</td>\n",
       "      <td>0.761505</td>\n",
       "      <td>0.742570</td>\n",
       "      <td>0.163037</td>\n",
       "      <td>0.225215</td>\n",
       "      <td>0.127763</td>\n",
       "      <td>2025-04-20 18:51:16.587624</td>\n",
       "      <td>2025-04-20 18:51:30.921314</td>\n",
       "      <td>0 days 00:00:14.333690</td>\n",
       "      <td>0.632323</td>\n",
       "      <td>...</td>\n",
       "      <td>349</td>\n",
       "      <td>0.255832</td>\n",
       "      <td>0.019345</td>\n",
       "      <td>4</td>\n",
       "      <td>0.317473</td>\n",
       "      <td>203</td>\n",
       "      <td>59</td>\n",
       "      <td>34</td>\n",
       "      <td>76061</td>\n",
       "      <td>COMPLETE</td>\n",
       "    </tr>\n",
       "    <tr>\n",
       "      <th>297</th>\n",
       "      <td>297</td>\n",
       "      <td>0.798146</td>\n",
       "      <td>0.746495</td>\n",
       "      <td>0.168336</td>\n",
       "      <td>0.282521</td>\n",
       "      <td>0.119883</td>\n",
       "      <td>2025-04-20 18:51:30.927423</td>\n",
       "      <td>2025-04-20 18:51:50.543477</td>\n",
       "      <td>0 days 00:00:19.616054</td>\n",
       "      <td>0.669912</td>\n",
       "      <td>...</td>\n",
       "      <td>341</td>\n",
       "      <td>0.346893</td>\n",
       "      <td>0.032010</td>\n",
       "      <td>8</td>\n",
       "      <td>0.337752</td>\n",
       "      <td>204</td>\n",
       "      <td>60</td>\n",
       "      <td>35</td>\n",
       "      <td>59535</td>\n",
       "      <td>COMPLETE</td>\n",
       "    </tr>\n",
       "    <tr>\n",
       "      <th>298</th>\n",
       "      <td>298</td>\n",
       "      <td>0.801353</td>\n",
       "      <td>0.746268</td>\n",
       "      <td>0.159223</td>\n",
       "      <td>0.186246</td>\n",
       "      <td>0.139047</td>\n",
       "      <td>2025-04-20 18:51:50.549528</td>\n",
       "      <td>2025-04-20 18:52:13.807980</td>\n",
       "      <td>0 days 00:00:23.258452</td>\n",
       "      <td>0.662894</td>\n",
       "      <td>...</td>\n",
       "      <td>329</td>\n",
       "      <td>0.340077</td>\n",
       "      <td>0.025337</td>\n",
       "      <td>8</td>\n",
       "      <td>0.619916</td>\n",
       "      <td>209</td>\n",
       "      <td>60</td>\n",
       "      <td>36</td>\n",
       "      <td>47402</td>\n",
       "      <td>COMPLETE</td>\n",
       "    </tr>\n",
       "    <tr>\n",
       "      <th>299</th>\n",
       "      <td>299</td>\n",
       "      <td>0.783417</td>\n",
       "      <td>0.745474</td>\n",
       "      <td>0.166339</td>\n",
       "      <td>0.258453</td>\n",
       "      <td>0.122632</td>\n",
       "      <td>2025-04-20 18:52:13.814542</td>\n",
       "      <td>2025-04-20 18:52:37.945596</td>\n",
       "      <td>0 days 00:00:24.131054</td>\n",
       "      <td>0.627800</td>\n",
       "      <td>...</td>\n",
       "      <td>339</td>\n",
       "      <td>0.343936</td>\n",
       "      <td>0.016333</td>\n",
       "      <td>8</td>\n",
       "      <td>0.165393</td>\n",
       "      <td>203</td>\n",
       "      <td>59</td>\n",
       "      <td>32</td>\n",
       "      <td>68738</td>\n",
       "      <td>COMPLETE</td>\n",
       "    </tr>\n",
       "  </tbody>\n",
       "</table>\n",
       "<p>5 rows × 22 columns</p>\n",
       "</div>"
      ],
      "text/plain": [
       "     number  roc_train  roc_valid  f1_score  recall_1  precision_1  \\\n",
       "295     295   0.795564   0.744243  0.149774  0.164852     0.137224   \n",
       "296     296   0.761505   0.742570  0.163037  0.225215     0.127763   \n",
       "297     297   0.798146   0.746495  0.168336  0.282521     0.119883   \n",
       "298     298   0.801353   0.746268  0.159223  0.186246     0.139047   \n",
       "299     299   0.783417   0.745474  0.166339  0.258453     0.122632   \n",
       "\n",
       "                datetime_start          datetime_complete  \\\n",
       "295 2025-04-20 18:51:03.333111 2025-04-20 18:51:16.581460   \n",
       "296 2025-04-20 18:51:16.587624 2025-04-20 18:51:30.921314   \n",
       "297 2025-04-20 18:51:30.927423 2025-04-20 18:51:50.543477   \n",
       "298 2025-04-20 18:51:50.549528 2025-04-20 18:52:13.807980   \n",
       "299 2025-04-20 18:52:13.814542 2025-04-20 18:52:37.945596   \n",
       "\n",
       "                  duration  params_class_0_weight  ...  params_k_features  \\\n",
       "295 0 days 00:00:13.248349               0.651024  ...                339   \n",
       "296 0 days 00:00:14.333690               0.632323  ...                349   \n",
       "297 0 days 00:00:19.616054               0.669912  ...                341   \n",
       "298 0 days 00:00:23.258452               0.662894  ...                329   \n",
       "299 0 days 00:00:24.131054               0.627800  ...                339   \n",
       "\n",
       "     params_l2_regularization  params_learning_rate  params_max_depth  \\\n",
       "295                  0.277669              0.081731                 8   \n",
       "296                  0.255832              0.019345                 4   \n",
       "297                  0.346893              0.032010                 8   \n",
       "298                  0.340077              0.025337                 8   \n",
       "299                  0.343936              0.016333                 8   \n",
       "\n",
       "     params_max_features  params_max_iter  params_max_leaf_nodes  \\\n",
       "295             0.328420              194                     59   \n",
       "296             0.317473              203                     59   \n",
       "297             0.337752              204                     60   \n",
       "298             0.619916              209                     60   \n",
       "299             0.165393              203                     59   \n",
       "\n",
       "     params_min_samples_leaf  params_random_state     state  \n",
       "295                       38                76466  COMPLETE  \n",
       "296                       34                76061  COMPLETE  \n",
       "297                       35                59535  COMPLETE  \n",
       "298                       36                47402  COMPLETE  \n",
       "299                       32                68738  COMPLETE  \n",
       "\n",
       "[5 rows x 22 columns]"
      ]
     },
     "execution_count": 62,
     "metadata": {},
     "output_type": "execute_result"
    }
   ],
   "source": [
    "# из полученного результат соврмируем Data Frame\n",
    "optuna_study_gb_meta_pd = optuna_study_gb_meta.trials_dataframe()\n",
    "# переименуем столбы\n",
    "optuna_study_gb_meta_pd.rename(columns={\n",
    "    'values_0': 'roc_train',\n",
    "    'values_1': 'roc_valid',\n",
    "    'values_2': 'f1_score',\n",
    "    'values_3': 'recall_1',\n",
    "    'values_4': 'precision_1'\n",
    "},inplace=True)\n",
    "optuna_study_gb_meta_pd.tail(5)"
   ]
  },
  {
   "cell_type": "code",
   "execution_count": 63,
   "metadata": {},
   "outputs": [
    {
     "name": "stdout",
     "output_type": "stream",
     "text": [
      "Максимальное значение метрики ROC AUC на валидационном наборе: 0.747\n",
      "Среднее значение метрики ROC AUC на валидационном наборе: 0.741\n",
      "Максимальное значение метрики f1_score на валидационном наборе: 0.169\n",
      "Среднее значение метрики f1_score на валидационном наборе: 0.124\n",
      "Максимальное значение метрики recall_1 на валидационном наборе: 1.0\n",
      "Среднее значение метрики recall_1 на валидационном наборе: 0.436\n",
      "Максимальное значение метрики precision_1 на валидационном наборе: 0.75\n",
      "Среднее значение метрики precision_1 на валидационном наборе: 0.111\n"
     ]
    }
   ],
   "source": [
    "# покаждем статистику обучения\n",
    "print('Максимальное значение метрики ROC AUC на валидационном наборе:',round(optuna_study_gb_meta_pd['roc_valid'].max(),3))\n",
    "print('Среднее значение метрики ROC AUC на валидационном наборе:',round(optuna_study_gb_meta_pd['roc_valid'].mean(),3))\n",
    "print('Максимальное значение метрики f1_score на валидационном наборе:',round(optuna_study_gb_meta_pd['f1_score'].max(),3))\n",
    "print('Среднее значение метрики f1_score на валидационном наборе:',round(optuna_study_gb_meta_pd['f1_score'].mean(),3))\n",
    "print('Максимальное значение метрики recall_1 на валидационном наборе:',round(optuna_study_gb_meta_pd['recall_1'].max(),3))\n",
    "print('Среднее значение метрики recall_1 на валидационном наборе:',round(optuna_study_gb_meta_pd['recall_1'].mean(),3))\n",
    "print('Максимальное значение метрики precision_1 на валидационном наборе:',round(optuna_study_gb_meta_pd['precision_1'].max(),3))\n",
    "print('Среднее значение метрики precision_1 на валидационном наборе:',round(optuna_study_gb_meta_pd['precision_1'].mean(),3))"
   ]
  },
  {
   "cell_type": "code",
   "execution_count": 65,
   "metadata": {},
   "outputs": [
    {
     "data": {
      "application/vnd.plotly.v1+json": {
       "config": {
        "plotlyServerURL": "https://plot.ly"
       },
       "data": [
        {
         "cliponaxis": false,
         "hovertemplate": [
          "max_features (FloatDistribution): 0.002148505570192745<extra></extra>",
          "class_1_weight (FloatDistribution): 0.0036988163703381557<extra></extra>",
          "random_state (IntDistribution): 0.003835211743306017<extra></extra>",
          "max_iter (IntDistribution): 0.004893942182250392<extra></extra>",
          "learning_rate (FloatDistribution): 0.005910061691588852<extra></extra>",
          "l2_regularization (FloatDistribution): 0.006463437039147641<extra></extra>",
          "class_0_weight (FloatDistribution): 0.00882605370517382<extra></extra>",
          "min_samples_leaf (IntDistribution): 0.012901943165410538<extra></extra>",
          "max_leaf_nodes (IntDistribution): 0.05516476675292407<extra></extra>",
          "max_depth (IntDistribution): 0.19134934331109352<extra></extra>",
          "k_features (IntDistribution): 0.3129052306210015<extra></extra>",
          "class_1_percent (FloatDistribution): 0.3919026878475727<extra></extra>"
         ],
         "name": "Score 0",
         "orientation": "h",
         "text": [
          "<0.01",
          "<0.01",
          "<0.01",
          "<0.01",
          "<0.01",
          "<0.01",
          "<0.01",
          "0.01",
          "0.06",
          "0.19",
          "0.31",
          "0.39"
         ],
         "textposition": "outside",
         "type": "bar",
         "x": [
          0.002148505570192745,
          0.0036988163703381557,
          0.003835211743306017,
          0.004893942182250392,
          0.005910061691588852,
          0.006463437039147641,
          0.00882605370517382,
          0.012901943165410538,
          0.05516476675292407,
          0.19134934331109352,
          0.3129052306210015,
          0.3919026878475727
         ],
         "y": [
          "max_features",
          "class_1_weight",
          "random_state",
          "max_iter",
          "learning_rate",
          "l2_regularization",
          "class_0_weight",
          "min_samples_leaf",
          "max_leaf_nodes",
          "max_depth",
          "k_features",
          "class_1_percent"
         ]
        },
        {
         "cliponaxis": false,
         "hovertemplate": [
          "l2_regularization (FloatDistribution): 0.00017528517055041107<extra></extra>",
          "max_iter (IntDistribution): 0.0003400073330440979<extra></extra>",
          "learning_rate (FloatDistribution): 0.0003526131686059722<extra></extra>",
          "class_1_weight (FloatDistribution): 0.0007858519623890268<extra></extra>",
          "class_0_weight (FloatDistribution): 0.0009139013372428485<extra></extra>",
          "random_state (IntDistribution): 0.0011006173968180703<extra></extra>",
          "min_samples_leaf (IntDistribution): 0.0012395106219939432<extra></extra>",
          "max_features (FloatDistribution): 0.002479911548727083<extra></extra>",
          "max_leaf_nodes (IntDistribution): 0.0032087106865581164<extra></extra>",
          "max_depth (IntDistribution): 0.003599740359709257<extra></extra>",
          "class_1_percent (FloatDistribution): 0.3270806740220869<extra></extra>",
          "k_features (IntDistribution): 0.6587231763922743<extra></extra>"
         ],
         "name": "Score 1",
         "orientation": "h",
         "text": [
          "<0.01",
          "<0.01",
          "<0.01",
          "<0.01",
          "<0.01",
          "<0.01",
          "<0.01",
          "<0.01",
          "<0.01",
          "<0.01",
          "0.33",
          "0.66"
         ],
         "textposition": "outside",
         "type": "bar",
         "x": [
          0.00017528517055041107,
          0.0003400073330440979,
          0.0003526131686059722,
          0.0007858519623890268,
          0.0009139013372428485,
          0.0011006173968180703,
          0.0012395106219939432,
          0.002479911548727083,
          0.0032087106865581164,
          0.003599740359709257,
          0.3270806740220869,
          0.6587231763922743
         ],
         "y": [
          "l2_regularization",
          "max_iter",
          "learning_rate",
          "class_1_weight",
          "class_0_weight",
          "random_state",
          "min_samples_leaf",
          "max_features",
          "max_leaf_nodes",
          "max_depth",
          "class_1_percent",
          "k_features"
         ]
        },
        {
         "cliponaxis": false,
         "hovertemplate": [
          "max_depth (IntDistribution): 0.005742693646767863<extra></extra>",
          "l2_regularization (FloatDistribution): 0.006177145117896761<extra></extra>",
          "max_leaf_nodes (IntDistribution): 0.006657187264484596<extra></extra>",
          "learning_rate (FloatDistribution): 0.008752920437404157<extra></extra>",
          "k_features (IntDistribution): 0.009308684024770301<extra></extra>",
          "random_state (IntDistribution): 0.009691260816867855<extra></extra>",
          "min_samples_leaf (IntDistribution): 0.011202320931624809<extra></extra>",
          "max_iter (IntDistribution): 0.016430161465168472<extra></extra>",
          "max_features (FloatDistribution): 0.018300939922329257<extra></extra>",
          "class_0_weight (FloatDistribution): 0.07655110859168056<extra></extra>",
          "class_1_weight (FloatDistribution): 0.09477849383508906<extra></extra>",
          "class_1_percent (FloatDistribution): 0.7364070839459163<extra></extra>"
         ],
         "name": "Score 2",
         "orientation": "h",
         "text": [
          "<0.01",
          "<0.01",
          "<0.01",
          "<0.01",
          "<0.01",
          "<0.01",
          "0.01",
          "0.02",
          "0.02",
          "0.08",
          "0.09",
          "0.74"
         ],
         "textposition": "outside",
         "type": "bar",
         "x": [
          0.005742693646767863,
          0.006177145117896761,
          0.006657187264484596,
          0.008752920437404157,
          0.009308684024770301,
          0.009691260816867855,
          0.011202320931624809,
          0.016430161465168472,
          0.018300939922329257,
          0.07655110859168056,
          0.09477849383508906,
          0.7364070839459163
         ],
         "y": [
          "max_depth",
          "l2_regularization",
          "max_leaf_nodes",
          "learning_rate",
          "k_features",
          "random_state",
          "min_samples_leaf",
          "max_iter",
          "max_features",
          "class_0_weight",
          "class_1_weight",
          "class_1_percent"
         ]
        },
        {
         "cliponaxis": false,
         "hovertemplate": [
          "l2_regularization (FloatDistribution): 0.00029759885141334<extra></extra>",
          "random_state (IntDistribution): 0.0011484354425518655<extra></extra>",
          "max_leaf_nodes (IntDistribution): 0.0013430107591789649<extra></extra>",
          "k_features (IntDistribution): 0.0013902949137255375<extra></extra>",
          "max_depth (IntDistribution): 0.0015352275722410383<extra></extra>",
          "max_iter (IntDistribution): 0.0015935814590934338<extra></extra>",
          "max_features (FloatDistribution): 0.004146104179614802<extra></extra>",
          "learning_rate (FloatDistribution): 0.006522729617902271<extra></extra>",
          "min_samples_leaf (IntDistribution): 0.018732450852958563<extra></extra>",
          "class_1_weight (FloatDistribution): 0.08777476889207698<extra></extra>",
          "class_0_weight (FloatDistribution): 0.09858603005442787<extra></extra>",
          "class_1_percent (FloatDistribution): 0.7769297674048152<extra></extra>"
         ],
         "name": "Score 3",
         "orientation": "h",
         "text": [
          "<0.01",
          "<0.01",
          "<0.01",
          "<0.01",
          "<0.01",
          "<0.01",
          "<0.01",
          "<0.01",
          "0.02",
          "0.09",
          "0.10",
          "0.78"
         ],
         "textposition": "outside",
         "type": "bar",
         "x": [
          0.00029759885141334,
          0.0011484354425518655,
          0.0013430107591789649,
          0.0013902949137255375,
          0.0015352275722410383,
          0.0015935814590934338,
          0.004146104179614802,
          0.006522729617902271,
          0.018732450852958563,
          0.08777476889207698,
          0.09858603005442787,
          0.7769297674048152
         ],
         "y": [
          "l2_regularization",
          "random_state",
          "max_leaf_nodes",
          "k_features",
          "max_depth",
          "max_iter",
          "max_features",
          "learning_rate",
          "min_samples_leaf",
          "class_1_weight",
          "class_0_weight",
          "class_1_percent"
         ]
        },
        {
         "cliponaxis": false,
         "hovertemplate": [
          "random_state (IntDistribution): 0.0008517268507875796<extra></extra>",
          "l2_regularization (FloatDistribution): 0.0012249616959399932<extra></extra>",
          "k_features (IntDistribution): 0.0013611556276109998<extra></extra>",
          "max_features (FloatDistribution): 0.0016124173859301584<extra></extra>",
          "max_leaf_nodes (IntDistribution): 0.004643837434717152<extra></extra>",
          "min_samples_leaf (IntDistribution): 0.004852963145345089<extra></extra>",
          "learning_rate (FloatDistribution): 0.005611958482621833<extra></extra>",
          "max_depth (IntDistribution): 0.006851784810245423<extra></extra>",
          "class_0_weight (FloatDistribution): 0.02022606510507955<extra></extra>",
          "class_1_weight (FloatDistribution): 0.030615784026582497<extra></extra>",
          "max_iter (IntDistribution): 0.17462657999159514<extra></extra>",
          "class_1_percent (FloatDistribution): 0.7475207654435444<extra></extra>"
         ],
         "name": "Score 4",
         "orientation": "h",
         "text": [
          "<0.01",
          "<0.01",
          "<0.01",
          "<0.01",
          "<0.01",
          "<0.01",
          "<0.01",
          "<0.01",
          "0.02",
          "0.03",
          "0.17",
          "0.75"
         ],
         "textposition": "outside",
         "type": "bar",
         "x": [
          0.0008517268507875796,
          0.0012249616959399932,
          0.0013611556276109998,
          0.0016124173859301584,
          0.004643837434717152,
          0.004852963145345089,
          0.005611958482621833,
          0.006851784810245423,
          0.02022606510507955,
          0.030615784026582497,
          0.17462657999159514,
          0.7475207654435444
         ],
         "y": [
          "random_state",
          "l2_regularization",
          "k_features",
          "max_features",
          "max_leaf_nodes",
          "min_samples_leaf",
          "learning_rate",
          "max_depth",
          "class_0_weight",
          "class_1_weight",
          "max_iter",
          "class_1_percent"
         ]
        }
       ],
       "layout": {
        "template": {
         "data": {
          "bar": [
           {
            "error_x": {
             "color": "#2a3f5f"
            },
            "error_y": {
             "color": "#2a3f5f"
            },
            "marker": {
             "line": {
              "color": "#E5ECF6",
              "width": 0.5
             },
             "pattern": {
              "fillmode": "overlay",
              "size": 10,
              "solidity": 0.2
             }
            },
            "type": "bar"
           }
          ],
          "barpolar": [
           {
            "marker": {
             "line": {
              "color": "#E5ECF6",
              "width": 0.5
             },
             "pattern": {
              "fillmode": "overlay",
              "size": 10,
              "solidity": 0.2
             }
            },
            "type": "barpolar"
           }
          ],
          "carpet": [
           {
            "aaxis": {
             "endlinecolor": "#2a3f5f",
             "gridcolor": "white",
             "linecolor": "white",
             "minorgridcolor": "white",
             "startlinecolor": "#2a3f5f"
            },
            "baxis": {
             "endlinecolor": "#2a3f5f",
             "gridcolor": "white",
             "linecolor": "white",
             "minorgridcolor": "white",
             "startlinecolor": "#2a3f5f"
            },
            "type": "carpet"
           }
          ],
          "choropleth": [
           {
            "colorbar": {
             "outlinewidth": 0,
             "ticks": ""
            },
            "type": "choropleth"
           }
          ],
          "contour": [
           {
            "colorbar": {
             "outlinewidth": 0,
             "ticks": ""
            },
            "colorscale": [
             [
              0,
              "#0d0887"
             ],
             [
              0.1111111111111111,
              "#46039f"
             ],
             [
              0.2222222222222222,
              "#7201a8"
             ],
             [
              0.3333333333333333,
              "#9c179e"
             ],
             [
              0.4444444444444444,
              "#bd3786"
             ],
             [
              0.5555555555555556,
              "#d8576b"
             ],
             [
              0.6666666666666666,
              "#ed7953"
             ],
             [
              0.7777777777777778,
              "#fb9f3a"
             ],
             [
              0.8888888888888888,
              "#fdca26"
             ],
             [
              1,
              "#f0f921"
             ]
            ],
            "type": "contour"
           }
          ],
          "contourcarpet": [
           {
            "colorbar": {
             "outlinewidth": 0,
             "ticks": ""
            },
            "type": "contourcarpet"
           }
          ],
          "heatmap": [
           {
            "colorbar": {
             "outlinewidth": 0,
             "ticks": ""
            },
            "colorscale": [
             [
              0,
              "#0d0887"
             ],
             [
              0.1111111111111111,
              "#46039f"
             ],
             [
              0.2222222222222222,
              "#7201a8"
             ],
             [
              0.3333333333333333,
              "#9c179e"
             ],
             [
              0.4444444444444444,
              "#bd3786"
             ],
             [
              0.5555555555555556,
              "#d8576b"
             ],
             [
              0.6666666666666666,
              "#ed7953"
             ],
             [
              0.7777777777777778,
              "#fb9f3a"
             ],
             [
              0.8888888888888888,
              "#fdca26"
             ],
             [
              1,
              "#f0f921"
             ]
            ],
            "type": "heatmap"
           }
          ],
          "heatmapgl": [
           {
            "colorbar": {
             "outlinewidth": 0,
             "ticks": ""
            },
            "colorscale": [
             [
              0,
              "#0d0887"
             ],
             [
              0.1111111111111111,
              "#46039f"
             ],
             [
              0.2222222222222222,
              "#7201a8"
             ],
             [
              0.3333333333333333,
              "#9c179e"
             ],
             [
              0.4444444444444444,
              "#bd3786"
             ],
             [
              0.5555555555555556,
              "#d8576b"
             ],
             [
              0.6666666666666666,
              "#ed7953"
             ],
             [
              0.7777777777777778,
              "#fb9f3a"
             ],
             [
              0.8888888888888888,
              "#fdca26"
             ],
             [
              1,
              "#f0f921"
             ]
            ],
            "type": "heatmapgl"
           }
          ],
          "histogram": [
           {
            "marker": {
             "pattern": {
              "fillmode": "overlay",
              "size": 10,
              "solidity": 0.2
             }
            },
            "type": "histogram"
           }
          ],
          "histogram2d": [
           {
            "colorbar": {
             "outlinewidth": 0,
             "ticks": ""
            },
            "colorscale": [
             [
              0,
              "#0d0887"
             ],
             [
              0.1111111111111111,
              "#46039f"
             ],
             [
              0.2222222222222222,
              "#7201a8"
             ],
             [
              0.3333333333333333,
              "#9c179e"
             ],
             [
              0.4444444444444444,
              "#bd3786"
             ],
             [
              0.5555555555555556,
              "#d8576b"
             ],
             [
              0.6666666666666666,
              "#ed7953"
             ],
             [
              0.7777777777777778,
              "#fb9f3a"
             ],
             [
              0.8888888888888888,
              "#fdca26"
             ],
             [
              1,
              "#f0f921"
             ]
            ],
            "type": "histogram2d"
           }
          ],
          "histogram2dcontour": [
           {
            "colorbar": {
             "outlinewidth": 0,
             "ticks": ""
            },
            "colorscale": [
             [
              0,
              "#0d0887"
             ],
             [
              0.1111111111111111,
              "#46039f"
             ],
             [
              0.2222222222222222,
              "#7201a8"
             ],
             [
              0.3333333333333333,
              "#9c179e"
             ],
             [
              0.4444444444444444,
              "#bd3786"
             ],
             [
              0.5555555555555556,
              "#d8576b"
             ],
             [
              0.6666666666666666,
              "#ed7953"
             ],
             [
              0.7777777777777778,
              "#fb9f3a"
             ],
             [
              0.8888888888888888,
              "#fdca26"
             ],
             [
              1,
              "#f0f921"
             ]
            ],
            "type": "histogram2dcontour"
           }
          ],
          "mesh3d": [
           {
            "colorbar": {
             "outlinewidth": 0,
             "ticks": ""
            },
            "type": "mesh3d"
           }
          ],
          "parcoords": [
           {
            "line": {
             "colorbar": {
              "outlinewidth": 0,
              "ticks": ""
             }
            },
            "type": "parcoords"
           }
          ],
          "pie": [
           {
            "automargin": true,
            "type": "pie"
           }
          ],
          "scatter": [
           {
            "fillpattern": {
             "fillmode": "overlay",
             "size": 10,
             "solidity": 0.2
            },
            "type": "scatter"
           }
          ],
          "scatter3d": [
           {
            "line": {
             "colorbar": {
              "outlinewidth": 0,
              "ticks": ""
             }
            },
            "marker": {
             "colorbar": {
              "outlinewidth": 0,
              "ticks": ""
             }
            },
            "type": "scatter3d"
           }
          ],
          "scattercarpet": [
           {
            "marker": {
             "colorbar": {
              "outlinewidth": 0,
              "ticks": ""
             }
            },
            "type": "scattercarpet"
           }
          ],
          "scattergeo": [
           {
            "marker": {
             "colorbar": {
              "outlinewidth": 0,
              "ticks": ""
             }
            },
            "type": "scattergeo"
           }
          ],
          "scattergl": [
           {
            "marker": {
             "colorbar": {
              "outlinewidth": 0,
              "ticks": ""
             }
            },
            "type": "scattergl"
           }
          ],
          "scattermapbox": [
           {
            "marker": {
             "colorbar": {
              "outlinewidth": 0,
              "ticks": ""
             }
            },
            "type": "scattermapbox"
           }
          ],
          "scatterpolar": [
           {
            "marker": {
             "colorbar": {
              "outlinewidth": 0,
              "ticks": ""
             }
            },
            "type": "scatterpolar"
           }
          ],
          "scatterpolargl": [
           {
            "marker": {
             "colorbar": {
              "outlinewidth": 0,
              "ticks": ""
             }
            },
            "type": "scatterpolargl"
           }
          ],
          "scatterternary": [
           {
            "marker": {
             "colorbar": {
              "outlinewidth": 0,
              "ticks": ""
             }
            },
            "type": "scatterternary"
           }
          ],
          "surface": [
           {
            "colorbar": {
             "outlinewidth": 0,
             "ticks": ""
            },
            "colorscale": [
             [
              0,
              "#0d0887"
             ],
             [
              0.1111111111111111,
              "#46039f"
             ],
             [
              0.2222222222222222,
              "#7201a8"
             ],
             [
              0.3333333333333333,
              "#9c179e"
             ],
             [
              0.4444444444444444,
              "#bd3786"
             ],
             [
              0.5555555555555556,
              "#d8576b"
             ],
             [
              0.6666666666666666,
              "#ed7953"
             ],
             [
              0.7777777777777778,
              "#fb9f3a"
             ],
             [
              0.8888888888888888,
              "#fdca26"
             ],
             [
              1,
              "#f0f921"
             ]
            ],
            "type": "surface"
           }
          ],
          "table": [
           {
            "cells": {
             "fill": {
              "color": "#EBF0F8"
             },
             "line": {
              "color": "white"
             }
            },
            "header": {
             "fill": {
              "color": "#C8D4E3"
             },
             "line": {
              "color": "white"
             }
            },
            "type": "table"
           }
          ]
         },
         "layout": {
          "annotationdefaults": {
           "arrowcolor": "#2a3f5f",
           "arrowhead": 0,
           "arrowwidth": 1
          },
          "autotypenumbers": "strict",
          "coloraxis": {
           "colorbar": {
            "outlinewidth": 0,
            "ticks": ""
           }
          },
          "colorscale": {
           "diverging": [
            [
             0,
             "#8e0152"
            ],
            [
             0.1,
             "#c51b7d"
            ],
            [
             0.2,
             "#de77ae"
            ],
            [
             0.3,
             "#f1b6da"
            ],
            [
             0.4,
             "#fde0ef"
            ],
            [
             0.5,
             "#f7f7f7"
            ],
            [
             0.6,
             "#e6f5d0"
            ],
            [
             0.7,
             "#b8e186"
            ],
            [
             0.8,
             "#7fbc41"
            ],
            [
             0.9,
             "#4d9221"
            ],
            [
             1,
             "#276419"
            ]
           ],
           "sequential": [
            [
             0,
             "#0d0887"
            ],
            [
             0.1111111111111111,
             "#46039f"
            ],
            [
             0.2222222222222222,
             "#7201a8"
            ],
            [
             0.3333333333333333,
             "#9c179e"
            ],
            [
             0.4444444444444444,
             "#bd3786"
            ],
            [
             0.5555555555555556,
             "#d8576b"
            ],
            [
             0.6666666666666666,
             "#ed7953"
            ],
            [
             0.7777777777777778,
             "#fb9f3a"
            ],
            [
             0.8888888888888888,
             "#fdca26"
            ],
            [
             1,
             "#f0f921"
            ]
           ],
           "sequentialminus": [
            [
             0,
             "#0d0887"
            ],
            [
             0.1111111111111111,
             "#46039f"
            ],
            [
             0.2222222222222222,
             "#7201a8"
            ],
            [
             0.3333333333333333,
             "#9c179e"
            ],
            [
             0.4444444444444444,
             "#bd3786"
            ],
            [
             0.5555555555555556,
             "#d8576b"
            ],
            [
             0.6666666666666666,
             "#ed7953"
            ],
            [
             0.7777777777777778,
             "#fb9f3a"
            ],
            [
             0.8888888888888888,
             "#fdca26"
            ],
            [
             1,
             "#f0f921"
            ]
           ]
          },
          "colorway": [
           "#636efa",
           "#EF553B",
           "#00cc96",
           "#ab63fa",
           "#FFA15A",
           "#19d3f3",
           "#FF6692",
           "#B6E880",
           "#FF97FF",
           "#FECB52"
          ],
          "font": {
           "color": "#2a3f5f"
          },
          "geo": {
           "bgcolor": "white",
           "lakecolor": "white",
           "landcolor": "#E5ECF6",
           "showlakes": true,
           "showland": true,
           "subunitcolor": "white"
          },
          "hoverlabel": {
           "align": "left"
          },
          "hovermode": "closest",
          "mapbox": {
           "style": "light"
          },
          "paper_bgcolor": "white",
          "plot_bgcolor": "#E5ECF6",
          "polar": {
           "angularaxis": {
            "gridcolor": "white",
            "linecolor": "white",
            "ticks": ""
           },
           "bgcolor": "#E5ECF6",
           "radialaxis": {
            "gridcolor": "white",
            "linecolor": "white",
            "ticks": ""
           }
          },
          "scene": {
           "xaxis": {
            "backgroundcolor": "#E5ECF6",
            "gridcolor": "white",
            "gridwidth": 2,
            "linecolor": "white",
            "showbackground": true,
            "ticks": "",
            "zerolinecolor": "white"
           },
           "yaxis": {
            "backgroundcolor": "#E5ECF6",
            "gridcolor": "white",
            "gridwidth": 2,
            "linecolor": "white",
            "showbackground": true,
            "ticks": "",
            "zerolinecolor": "white"
           },
           "zaxis": {
            "backgroundcolor": "#E5ECF6",
            "gridcolor": "white",
            "gridwidth": 2,
            "linecolor": "white",
            "showbackground": true,
            "ticks": "",
            "zerolinecolor": "white"
           }
          },
          "shapedefaults": {
           "line": {
            "color": "#2a3f5f"
           }
          },
          "ternary": {
           "aaxis": {
            "gridcolor": "white",
            "linecolor": "white",
            "ticks": ""
           },
           "baxis": {
            "gridcolor": "white",
            "linecolor": "white",
            "ticks": ""
           },
           "bgcolor": "#E5ECF6",
           "caxis": {
            "gridcolor": "white",
            "linecolor": "white",
            "ticks": ""
           }
          },
          "title": {
           "x": 0.05
          },
          "xaxis": {
           "automargin": true,
           "gridcolor": "white",
           "linecolor": "white",
           "ticks": "",
           "title": {
            "standoff": 15
           },
           "zerolinecolor": "white",
           "zerolinewidth": 2
          },
          "yaxis": {
           "automargin": true,
           "gridcolor": "white",
           "linecolor": "white",
           "ticks": "",
           "title": {
            "standoff": 15
           },
           "zerolinecolor": "white",
           "zerolinewidth": 2
          }
         }
        },
        "title": {
         "text": "Hyperparameter Importances"
        },
        "xaxis": {
         "title": {
          "text": "Hyperparameter Importance"
         }
        },
        "yaxis": {
         "title": {
          "text": "Hyperparameter"
         }
        }
       }
      }
     },
     "metadata": {},
     "output_type": "display_data"
    }
   ],
   "source": [
    "# построим график важности гиперпарметров\n",
    "optuna.visualization.plot_param_importances(optuna_study_gb_meta, target_name='Score')"
   ]
  },
  {
   "cell_type": "code",
   "execution_count": 66,
   "metadata": {},
   "outputs": [
    {
     "data": {
      "application/vnd.plotly.v1+json": {
       "config": {
        "plotlyServerURL": "https://plot.ly"
       },
       "data": [
        {
         "hovertemplate": "variable=roc_train<br>precision_1=%{x}<br>value=%{y}<extra></extra>",
         "legendgroup": "roc_train",
         "marker": {
          "color": "#636efa",
          "symbol": "circle"
         },
         "mode": "markers",
         "name": "roc_train",
         "showlegend": true,
         "type": "scattergl",
         "x": [
          0.11886474334956913,
          0.040815010638983816,
          0.32142857142857145,
          0.3333333333333333,
          0.16383307573415765,
          0.0349874686716792,
          0.0349874686716792,
          0.11725080542809724,
          0.04606877874009084,
          0.12367205542725174,
          0.13283740701381508,
          0,
          0.03891834570519618,
          0.08867579289780428,
          0.04873694090760692,
          0.07308717167872097,
          0.0349874686716792,
          0.18097591105620753,
          0.0899625601711535,
          0.06437383809362852,
          0.0349874686716792,
          0.1694915254237288,
          0.0528866266908381,
          0.03828294217132006,
          0.75,
          0.06650375876054235,
          0.04680392156862745,
          0.10672214733634179,
          0.07311885685966796,
          0.06391968739079328,
          0.04278038321245825,
          0.0668350862720836,
          0.12566870014077897,
          0.1316546762589928,
          0.13789124477138323,
          0.0710868079289132,
          0.12719298245614036,
          0.20588235294117646,
          0.10715506437279253,
          0.07347226325477808,
          0.09312730280472216,
          0.12829787234042553,
          0.035964531530972906,
          0.11811708860759494,
          0.1141280023869909,
          0,
          0.07974858579509743,
          0.07759219764683328,
          0.0533716918742763,
          0.045375089020634286,
          0.07967823878069433,
          0.13347048990613347,
          0.07942256300107395,
          0.17761194029850746,
          0.11659970062239029,
          0.06269741482412831,
          0.1642512077294686,
          0.20809248554913296,
          0.09612409583141698,
          0.08009153318077804,
          0.08498813350557274,
          0.1000770935723234,
          0.11134060543471246,
          0.0901374859708193,
          0.09734047221978408,
          0.08468425592670811,
          0.10898899730122483,
          0.22567567567567567,
          0.059469723609255225,
          0.08532388663967612,
          0.09848096068972596,
          0.06114508879227765,
          0.10987182647276313,
          0.11725985457328741,
          0.10238974159704682,
          0.12404836542767578,
          0.04877320818410111,
          0.169831223628692,
          0.171875,
          0.21428571428571427,
          0.13297096645896858,
          0.12214073686048542,
          0.2006841505131129,
          0.11494442157266364,
          0.22477064220183487,
          0.16579973992197658,
          0.0857796665576986,
          0.13671497584541062,
          0.2468354430379747,
          0.11910766246362754,
          0.08308258596009466,
          0.052676422839115264,
          0.10999160369437448,
          0.053662631230492766,
          0.04542506069648053,
          0.03688667125650325,
          0.04462844206329879,
          0.07735999624466038,
          0.035111143913419796,
          0.13881869867340493,
          0.10476072402677908,
          0.053509774577849,
          0.0924616784489396,
          0.18311403508771928,
          0.04657125363538956,
          0.08443635723299973,
          0.07973573878795578,
          0.14120481927710843,
          0.14842419080068142,
          0.10617879791234076,
          0.19270833333333334,
          0.09801580011023332,
          0.11672997784108895,
          0.08809531733617333,
          0.09166534622088417,
          0.1179731417863835,
          0.11739509796144999,
          0.09391579185009595,
          0.10023470937456855,
          0.08465035722017752,
          0.069890959593116,
          0.09227491871286018,
          0.14235746764603008,
          0.12203360471158843,
          0,
          0.08714384552487578,
          0.042211722769613616,
          0.08283716611132354,
          0.09696025597844392,
          0.09099363330710351,
          0.0711471793255594,
          0.2185430463576159,
          0.05323778134859663,
          0.08620320200814277,
          0.06568122307627333,
          0.20340788072417465,
          0.1918194640338505,
          0.1295400877094344,
          0.12183868762816132,
          0.148108797280068,
          0.13823529411764707,
          0.12393972657419419,
          0.09207323922567118,
          0.22474226804123712,
          0.14175491679273827,
          0.11807425540595676,
          0.16245047241694605,
          0.11650755399017518,
          0,
          0.05464737838607086,
          0.22344322344322345,
          0.049853341381026504,
          0.05524219484439167,
          0.11407257188382705,
          0.13305945452470616,
          0.11354867993040321,
          0.08022349805208119,
          0.08018231354874851,
          0.07991148884809776,
          0.13909661980257254,
          0.08030090526584215,
          0.12598744176625482,
          0.07707882098126001,
          0.1372864028041478,
          0.0732761562436017,
          0.1136331494838071,
          0.17930688096433953,
          0.1720164609053498,
          0.07703337110612613,
          0.08179683071025565,
          0.07200419727177335,
          0.09064703226478658,
          0.11286600317322948,
          0.10609140003484119,
          0.09501314492277357,
          0.13194751584844464,
          0.03542594513249141,
          0.10644592365022472,
          0.0349874686716792,
          0.13426906779661016,
          0.16292134831460675,
          0.17190196755264067,
          0.15045949989313956,
          0.14434696242343983,
          0.10677466863033873,
          0.09902966711546497,
          0.1122595839330106,
          0.10885586565180622,
          0.18410041841004185,
          0.13017555481947665,
          0.15442278860569716,
          0.18786127167630057,
          0.17247774480712166,
          0.113565757680359,
          0.23636363636363636,
          0.06751277983430284,
          0.5714285714285714,
          0.13385242862439747,
          0.1256575102279369,
          0.0970659607324068,
          0.1110171696149844,
          0.1014853857211308,
          0.10341251419823201,
          0.09854807859502696,
          0.09950016349792123,
          0.07739793293738016,
          0.12362994612669514,
          0.22364217252396165,
          0.04998022173043822,
          0.10043170928412164,
          0.06055975199755491,
          0.04289170634954561,
          0.26523297491039427,
          0.1580246913580247,
          0.04695813989551935,
          0.15977681968044635,
          0.06831005204053683,
          0.08795479783134104,
          0.07649453123223503,
          0.07808700351256417,
          0.07210075852837383,
          0.08002363458870677,
          0.15616702872314747,
          0.12716343662555704,
          0.08805356969559733,
          0.12716996366572467,
          0.18352059925093633,
          0.08113601112477938,
          0.13949219944937288,
          0.10989149634115569,
          0.12324979934005173,
          0.08981148061851303,
          0.08894754206532497,
          0.19216823785351705,
          0.09613928841786526,
          0.06565242832065535,
          0.061124118331345435,
          0.08985651370933372,
          0.05274382553259798,
          0.049914504654746575,
          0.11375789985415653,
          0.08766457509702223,
          0.13295902520606856,
          0.05341822504148474,
          0.14217791411042946,
          0.14587295549638646,
          0.06607348264429258,
          0.049057341621043096,
          0.05233632072244647,
          0.20838627700127066,
          0.09102902374670185,
          0.07181790955375861,
          0.07532893259688356,
          0.07402712637850171,
          0.3548387096774194,
          0.08012295081967213,
          0.12164674634794156,
          0.1362322829228017,
          0.04802842273819055,
          0.051084268802380796,
          0.07637161337012077,
          0.06550595584204143,
          0.06451186899534485,
          0.09028553812955185,
          0.1593200806683953,
          0.06623960980971354,
          0.06814970472084345,
          0.09690074539034915,
          0.07107116739155536,
          0.03636693863864983,
          0.06098627610005884,
          0.04599063311780656,
          0.09364194768742627,
          0.03561051468481864,
          0.05195767908888739,
          0.07004840123480316,
          0.12614727854855923,
          0.047903771808585224,
          0.1493896130767639,
          0.1968954248366013,
          0.048483060931826735,
          0.04673932945926933,
          0.04361100904589436,
          0.1230105206366334,
          0.1475099412989964,
          0.1648634724368882,
          0.14587295549638646,
          0.034991444307791025,
          0.09642024994704512,
          0.1446555275806821,
          0.2222222222222222,
          0.07725026743416026,
          0.1691927002783792,
          0.16588602654176424,
          0.14925106990014264,
          0.13722372396247415,
          0.1277633289986996,
          0.1198832779443949,
          0.13904734740444952,
          0.1226321036889332
         ],
         "xaxis": "x",
         "y": [
          0.762448582997421,
          0.7488905365136755,
          0.7572016093306959,
          0.7432761659433709,
          0.6956347997459954,
          0.7454036903892656,
          0.6704373006197714,
          0.7426513367145279,
          0.7803064973595301,
          0.7618139717883301,
          0.7485659366428634,
          0.7832583571318179,
          0.7550423210900363,
          0.7624055898037421,
          0.7625673261424993,
          0.743380636430286,
          0.7019426771312075,
          0.7592555145133009,
          0.7608796774951895,
          0.7626304173715934,
          0.6939607299962123,
          0.7613653413738071,
          0.758718093147144,
          0.7646359906038374,
          0.7843007595907341,
          0.7774715953996463,
          0.7538949650613633,
          0.7559375561429028,
          0.783838387705856,
          0.7740510097798868,
          0.7714247464197582,
          0.7844627265730838,
          0.7801140362607533,
          0.7805745856464825,
          0.7794162872628163,
          0.7785352426464376,
          0.7608212143867723,
          0.795909719133374,
          0.7641773755013251,
          0.7441072102250523,
          0.7885040028086905,
          0.7784402459508091,
          0.7623421241854456,
          0.7811644633437578,
          0.779674741706793,
          0.7652339111424663,
          0.7863867799417434,
          0.7812461180069735,
          0.7538510112729055,
          0.7671377039028824,
          0.7643819306278431,
          0.7782751377914086,
          0.785985052682816,
          0.7753823914595152,
          0.7805010756054583,
          0.7729328973824934,
          0.7843294510518194,
          0.7890637145036339,
          0.7721223245901684,
          0.7639996003649208,
          0.7868559349522044,
          0.7733459734284849,
          0.7639264284005588,
          0.7684866878119003,
          0.7718009346177879,
          0.7814992485771233,
          0.7497407472290964,
          0.7647890517018843,
          0.7614882893321226,
          0.748375012544529,
          0.767355437025097,
          0.7777842433211222,
          0.779541784581038,
          0.7825908790074796,
          0.7837034997532847,
          0.787216383798887,
          0.7733456093678214,
          0.7908383591733081,
          0.7879230854441965,
          0.8106088667802431,
          0.795231471636737,
          0.7871212417311073,
          0.7857245195187321,
          0.7797995388395389,
          0.7838738835188915,
          0.7972634851558908,
          0.7769703081827583,
          0.7899137957463469,
          0.7850361901482481,
          0.7803037254887393,
          0.7744732546812869,
          0.781693582069211,
          0.7886664313222065,
          0.774905093819376,
          0.7788467769155742,
          0.7676452812812716,
          0.766161703701713,
          0.7798567118158583,
          0.7539719916039022,
          0.7934354072853071,
          0.7664390464001598,
          0.7717435548673733,
          0.7147856491436719,
          0.7886292335367513,
          0.7758513864182871,
          0.7811610491517069,
          0.7830516862000454,
          0.8023256432417545,
          0.8075446177034801,
          0.7581519804012289,
          0.8019183758603005,
          0.7938272500512051,
          0.8063797134465969,
          0.793223682282288,
          0.7493585671366231,
          0.7974168963670074,
          0.787193341682594,
          0.7695872370982285,
          0.7878841907286007,
          0.7788219610150517,
          0.7730182518991207,
          0.7908526088565719,
          0.7920194129953184,
          0.797256067963746,
          0.7660564439355083,
          0.7849704614006957,
          0.7720528117750154,
          0.7865993649786096,
          0.7921051289294792,
          0.7838285288308562,
          0.7840789929707714,
          0.8020254371432678,
          0.7672654164080477,
          0.7909527836472404,
          0.7824224174073552,
          0.801185843393202,
          0.7892743293107147,
          0.8025828556179364,
          0.7968211810120914,
          0.791302494025914,
          0.7862541020525098,
          0.7910056673114888,
          0.7879338237495517,
          0.8058053432778334,
          0.7912178524631138,
          0.7912796625874157,
          0.7899165313045975,
          0.7840337052555846,
          0.8043614670971547,
          0.773943355947831,
          0.7884489247772304,
          0.7786948479717766,
          0.7793775642693451,
          0.7853701396645627,
          0.7987163459454834,
          0.7807151252210042,
          0.785539380459419,
          0.7890601833632452,
          0.7936883965903228,
          0.7908577118867193,
          0.7932459059635344,
          0.7981924443927311,
          0.7913114025126833,
          0.8082943741070663,
          0.7695760454350786,
          0.7766878396012552,
          0.7975283663908592,
          0.7977363840990392,
          0.7892907662857345,
          0.7855877317249611,
          0.7576445432307217,
          0.7916281643643869,
          0.8021477011001958,
          0.7809296965497539,
          0.7553459064099304,
          0.7826417836179547,
          0.7695455855980147,
          0.7911433718240802,
          0.7463172723835728,
          0.7717363342834391,
          0.7921051082724013,
          0.8050544944889388,
          0.7888578926672165,
          0.7902501202166494,
          0.7877231299738783,
          0.7931172257474709,
          0.7825012517695054,
          0.7869503388547631,
          0.7943047201860762,
          0.793977999793039,
          0.7967408893093717,
          0.7961386272466877,
          0.7879061287891499,
          0.7832304498264162,
          0.7970817256839569,
          0.7860327690685256,
          0.7990958200420988,
          0.7891169007859385,
          0.7888219901374651,
          0.7976943909031085,
          0.7905395807716712,
          0.7894518566435131,
          0.7860966397363329,
          0.792649414463652,
          0.785042929275882,
          0.7886080775173817,
          0.8050719576896893,
          0.7896335778103933,
          0.7789866458263492,
          0.7830041405605355,
          0.7844454371276351,
          0.7837870300628945,
          0.8107436383944298,
          0.7266971340704018,
          0.7640602314499131,
          0.7933809580748121,
          0.7629044595732442,
          0.7909580129783396,
          0.7901522997635546,
          0.7815944887253589,
          0.781959634698744,
          0.7835965348022409,
          0.7986268042229314,
          0.7910364081336062,
          0.7863367981496197,
          0.7972542191959512,
          0.7924442778078646,
          0.7903377490856693,
          0.788018023584329,
          0.7867852276862606,
          0.7913774547386875,
          0.7767311229292839,
          0.7857314796120363,
          0.8006555008985463,
          0.7851477824880251,
          0.7882166021872209,
          0.777656071724603,
          0.796176534814214,
          0.7810147804911933,
          0.7806219067825942,
          0.790235261068265,
          0.7638182310596424,
          0.7639728137873141,
          0.7778900013376686,
          0.8010322376477154,
          0.8066135696213114,
          0.7650843626015709,
          0.7846342277320755,
          0.776152708283617,
          0.807597152027266,
          0.8005993779361277,
          0.7953420374661386,
          0.7922374197831497,
          0.7944763858290826,
          0.7707964566424299,
          0.7959957818461942,
          0.7860624389350197,
          0.7963868715233523,
          0.7845564424485647,
          0.775409430761016,
          0.803965384832021,
          0.7869455011135433,
          0.7899074046986057,
          0.7476400961368004,
          0.7812748618426969,
          0.7597343525696196,
          0.7918644996324122,
          0.7869926375965252,
          0.7912254707364582,
          0.7755525010308795,
          0.7475885918611177,
          0.7766711998778305,
          0.7704419194610286,
          0.7744714218535993,
          0.7733741238205218,
          0.7887400479423661,
          0.8057593569630487,
          0.7834724806736774,
          0.7999275787414946,
          0.79444356205785,
          0.7925659634072795,
          0.7577822422943989,
          0.7870498024808001,
          0.7825073616288751,
          0.7924994896223677,
          0.7734078593089596,
          0.7950454759999775,
          0.7354279428484738,
          0.7862288858194472,
          0.7837546028424929,
          0.7949103556552815,
          0.7776900154103598,
          0.8021256067696667,
          0.8091553132466022,
          0.7924606085697209,
          0.7955643199437554,
          0.7615048813978798,
          0.7981460662034223,
          0.8013527915370731,
          0.7834169740891811
         ],
         "yaxis": "y"
        },
        {
         "hovertemplate": "variable=roc_valid<br>precision_1=%{x}<br>value=%{y}<extra></extra>",
         "legendgroup": "roc_valid",
         "marker": {
          "color": "#EF553B",
          "symbol": "circle"
         },
         "mode": "markers",
         "name": "roc_valid",
         "showlegend": true,
         "type": "scattergl",
         "x": [
          0.11886474334956913,
          0.040815010638983816,
          0.32142857142857145,
          0.3333333333333333,
          0.16383307573415765,
          0.0349874686716792,
          0.0349874686716792,
          0.11725080542809724,
          0.04606877874009084,
          0.12367205542725174,
          0.13283740701381508,
          0,
          0.03891834570519618,
          0.08867579289780428,
          0.04873694090760692,
          0.07308717167872097,
          0.0349874686716792,
          0.18097591105620753,
          0.0899625601711535,
          0.06437383809362852,
          0.0349874686716792,
          0.1694915254237288,
          0.0528866266908381,
          0.03828294217132006,
          0.75,
          0.06650375876054235,
          0.04680392156862745,
          0.10672214733634179,
          0.07311885685966796,
          0.06391968739079328,
          0.04278038321245825,
          0.0668350862720836,
          0.12566870014077897,
          0.1316546762589928,
          0.13789124477138323,
          0.0710868079289132,
          0.12719298245614036,
          0.20588235294117646,
          0.10715506437279253,
          0.07347226325477808,
          0.09312730280472216,
          0.12829787234042553,
          0.035964531530972906,
          0.11811708860759494,
          0.1141280023869909,
          0,
          0.07974858579509743,
          0.07759219764683328,
          0.0533716918742763,
          0.045375089020634286,
          0.07967823878069433,
          0.13347048990613347,
          0.07942256300107395,
          0.17761194029850746,
          0.11659970062239029,
          0.06269741482412831,
          0.1642512077294686,
          0.20809248554913296,
          0.09612409583141698,
          0.08009153318077804,
          0.08498813350557274,
          0.1000770935723234,
          0.11134060543471246,
          0.0901374859708193,
          0.09734047221978408,
          0.08468425592670811,
          0.10898899730122483,
          0.22567567567567567,
          0.059469723609255225,
          0.08532388663967612,
          0.09848096068972596,
          0.06114508879227765,
          0.10987182647276313,
          0.11725985457328741,
          0.10238974159704682,
          0.12404836542767578,
          0.04877320818410111,
          0.169831223628692,
          0.171875,
          0.21428571428571427,
          0.13297096645896858,
          0.12214073686048542,
          0.2006841505131129,
          0.11494442157266364,
          0.22477064220183487,
          0.16579973992197658,
          0.0857796665576986,
          0.13671497584541062,
          0.2468354430379747,
          0.11910766246362754,
          0.08308258596009466,
          0.052676422839115264,
          0.10999160369437448,
          0.053662631230492766,
          0.04542506069648053,
          0.03688667125650325,
          0.04462844206329879,
          0.07735999624466038,
          0.035111143913419796,
          0.13881869867340493,
          0.10476072402677908,
          0.053509774577849,
          0.0924616784489396,
          0.18311403508771928,
          0.04657125363538956,
          0.08443635723299973,
          0.07973573878795578,
          0.14120481927710843,
          0.14842419080068142,
          0.10617879791234076,
          0.19270833333333334,
          0.09801580011023332,
          0.11672997784108895,
          0.08809531733617333,
          0.09166534622088417,
          0.1179731417863835,
          0.11739509796144999,
          0.09391579185009595,
          0.10023470937456855,
          0.08465035722017752,
          0.069890959593116,
          0.09227491871286018,
          0.14235746764603008,
          0.12203360471158843,
          0,
          0.08714384552487578,
          0.042211722769613616,
          0.08283716611132354,
          0.09696025597844392,
          0.09099363330710351,
          0.0711471793255594,
          0.2185430463576159,
          0.05323778134859663,
          0.08620320200814277,
          0.06568122307627333,
          0.20340788072417465,
          0.1918194640338505,
          0.1295400877094344,
          0.12183868762816132,
          0.148108797280068,
          0.13823529411764707,
          0.12393972657419419,
          0.09207323922567118,
          0.22474226804123712,
          0.14175491679273827,
          0.11807425540595676,
          0.16245047241694605,
          0.11650755399017518,
          0,
          0.05464737838607086,
          0.22344322344322345,
          0.049853341381026504,
          0.05524219484439167,
          0.11407257188382705,
          0.13305945452470616,
          0.11354867993040321,
          0.08022349805208119,
          0.08018231354874851,
          0.07991148884809776,
          0.13909661980257254,
          0.08030090526584215,
          0.12598744176625482,
          0.07707882098126001,
          0.1372864028041478,
          0.0732761562436017,
          0.1136331494838071,
          0.17930688096433953,
          0.1720164609053498,
          0.07703337110612613,
          0.08179683071025565,
          0.07200419727177335,
          0.09064703226478658,
          0.11286600317322948,
          0.10609140003484119,
          0.09501314492277357,
          0.13194751584844464,
          0.03542594513249141,
          0.10644592365022472,
          0.0349874686716792,
          0.13426906779661016,
          0.16292134831460675,
          0.17190196755264067,
          0.15045949989313956,
          0.14434696242343983,
          0.10677466863033873,
          0.09902966711546497,
          0.1122595839330106,
          0.10885586565180622,
          0.18410041841004185,
          0.13017555481947665,
          0.15442278860569716,
          0.18786127167630057,
          0.17247774480712166,
          0.113565757680359,
          0.23636363636363636,
          0.06751277983430284,
          0.5714285714285714,
          0.13385242862439747,
          0.1256575102279369,
          0.0970659607324068,
          0.1110171696149844,
          0.1014853857211308,
          0.10341251419823201,
          0.09854807859502696,
          0.09950016349792123,
          0.07739793293738016,
          0.12362994612669514,
          0.22364217252396165,
          0.04998022173043822,
          0.10043170928412164,
          0.06055975199755491,
          0.04289170634954561,
          0.26523297491039427,
          0.1580246913580247,
          0.04695813989551935,
          0.15977681968044635,
          0.06831005204053683,
          0.08795479783134104,
          0.07649453123223503,
          0.07808700351256417,
          0.07210075852837383,
          0.08002363458870677,
          0.15616702872314747,
          0.12716343662555704,
          0.08805356969559733,
          0.12716996366572467,
          0.18352059925093633,
          0.08113601112477938,
          0.13949219944937288,
          0.10989149634115569,
          0.12324979934005173,
          0.08981148061851303,
          0.08894754206532497,
          0.19216823785351705,
          0.09613928841786526,
          0.06565242832065535,
          0.061124118331345435,
          0.08985651370933372,
          0.05274382553259798,
          0.049914504654746575,
          0.11375789985415653,
          0.08766457509702223,
          0.13295902520606856,
          0.05341822504148474,
          0.14217791411042946,
          0.14587295549638646,
          0.06607348264429258,
          0.049057341621043096,
          0.05233632072244647,
          0.20838627700127066,
          0.09102902374670185,
          0.07181790955375861,
          0.07532893259688356,
          0.07402712637850171,
          0.3548387096774194,
          0.08012295081967213,
          0.12164674634794156,
          0.1362322829228017,
          0.04802842273819055,
          0.051084268802380796,
          0.07637161337012077,
          0.06550595584204143,
          0.06451186899534485,
          0.09028553812955185,
          0.1593200806683953,
          0.06623960980971354,
          0.06814970472084345,
          0.09690074539034915,
          0.07107116739155536,
          0.03636693863864983,
          0.06098627610005884,
          0.04599063311780656,
          0.09364194768742627,
          0.03561051468481864,
          0.05195767908888739,
          0.07004840123480316,
          0.12614727854855923,
          0.047903771808585224,
          0.1493896130767639,
          0.1968954248366013,
          0.048483060931826735,
          0.04673932945926933,
          0.04361100904589436,
          0.1230105206366334,
          0.1475099412989964,
          0.1648634724368882,
          0.14587295549638646,
          0.034991444307791025,
          0.09642024994704512,
          0.1446555275806821,
          0.2222222222222222,
          0.07725026743416026,
          0.1691927002783792,
          0.16588602654176424,
          0.14925106990014264,
          0.13722372396247415,
          0.1277633289986996,
          0.1198832779443949,
          0.13904734740444952,
          0.1226321036889332
         ],
         "xaxis": "x",
         "y": [
          0.7356776745407168,
          0.7310752814279855,
          0.7417300109084537,
          0.7276894789018888,
          0.686732296649879,
          0.7312807633311378,
          0.6582218009922585,
          0.7268185740452888,
          0.7425369692464422,
          0.7363125232633971,
          0.7312119079752764,
          0.7457734315947476,
          0.7348644830840914,
          0.7424094281161608,
          0.7431674369922858,
          0.7309264902779422,
          0.6921029886093941,
          0.7364305787817444,
          0.7406735399648874,
          0.7346825908526817,
          0.6860448160105488,
          0.7359085466620336,
          0.740687381417448,
          0.7431795705055149,
          0.7378960350472855,
          0.7450484331773368,
          0.7273435742222343,
          0.7401771117211272,
          0.744508359873533,
          0.7448349943407147,
          0.740973268103545,
          0.7448505549777535,
          0.7452227025222797,
          0.7453906262971194,
          0.7448833345802217,
          0.7439636634915003,
          0.7345999892972663,
          0.7451366063721748,
          0.7434249019009789,
          0.7318902959213258,
          0.7450561996047926,
          0.7438823075014456,
          0.7352400054955692,
          0.7455987415490243,
          0.7437532615059512,
          0.7295650641869662,
          0.7428994287663948,
          0.7428511579822052,
          0.7341600169814945,
          0.7395271660583375,
          0.729858037961366,
          0.7454612147285227,
          0.7440964779340787,
          0.736217373447285,
          0.7452745631541657,
          0.7432408790450198,
          0.7451544828479432,
          0.7451321056676001,
          0.7453454499126946,
          0.7350278505901022,
          0.7449795784829544,
          0.7434409189586756,
          0.7431287622870592,
          0.7434037762393093,
          0.7446736476537035,
          0.745063803969841,
          0.7370890667871088,
          0.7441180395105503,
          0.7416340342433237,
          0.7322563042772636,
          0.7343290282281625,
          0.7446608830893038,
          0.7439131311098768,
          0.7451055214794539,
          0.7448139857608662,
          0.7449716949736775,
          0.7358740392758576,
          0.7447912804868329,
          0.7448649547187711,
          0.7451575878313754,
          0.7455911266003084,
          0.7449935469395242,
          0.7449153389290506,
          0.7380016825385297,
          0.7449545633235044,
          0.7454611287362247,
          0.7368212662656912,
          0.7455778103622439,
          0.7445796832083436,
          0.7385972175670622,
          0.7373706968544613,
          0.744242258030738,
          0.7443179233151116,
          0.7431411967733309,
          0.7418322101085533,
          0.7398857975980765,
          0.7382728989386104,
          0.7448109145128738,
          0.7236562985753128,
          0.7441057333512462,
          0.7309676170866167,
          0.7417184145163466,
          0.6872067161572185,
          0.7451355063322413,
          0.7431817560328393,
          0.7444746542001648,
          0.7453107983240499,
          0.7444896823464361,
          0.7447338177874804,
          0.7410459613618086,
          0.7301988022860458,
          0.7440955452483864,
          0.7439086132068427,
          0.7429655594893725,
          0.736175386715632,
          0.7454626501384178,
          0.7438272909522278,
          0.7442993575780019,
          0.7449371075485163,
          0.7363694680245247,
          0.7428717577678994,
          0.7446379198383768,
          0.7428397501116744,
          0.7444538685388116,
          0.7414271526501537,
          0.7443694717288083,
          0.7411894097442371,
          0.7429297648646451,
          0.7436420271612626,
          0.7437468425116551,
          0.743086327733978,
          0.7444087536719538,
          0.7392507100813996,
          0.7451817801106828,
          0.7442150679276314,
          0.7457408504360437,
          0.7452508901360417,
          0.7450862009945605,
          0.7460969756310396,
          0.7444247250875848,
          0.7429881933236506,
          0.7443298967503709,
          0.7454855657628413,
          0.7451844392571245,
          0.7450973277364255,
          0.7444863015261715,
          0.7372875231195255,
          0.7383491106048149,
          0.744936890583334,
          0.7355990094481061,
          0.7439304307757701,
          0.7425769199450735,
          0.7451284529793785,
          0.7446823249380378,
          0.7448049790598832,
          0.7437148672679116,
          0.7444373494183911,
          0.7446741219343002,
          0.7448741115755357,
          0.7453541761464907,
          0.745571398644219,
          0.7454647060158159,
          0.7436943647196621,
          0.7440035824391291,
          0.7294376619673199,
          0.7451182853823743,
          0.7447223312009228,
          0.7455528765647373,
          0.7461441701885474,
          0.7443187428878582,
          0.7360064779982423,
          0.7463974452878965,
          0.7444913671339952,
          0.7445097271510692,
          0.74086048986637,
          0.7376327378763594,
          0.7398576331360869,
          0.7459404980925255,
          0.7358889992897698,
          0.7448487848593757,
          0.7439549346117874,
          0.7454130835164472,
          0.7458369759339971,
          0.7447237963773826,
          0.7452773698104723,
          0.7448556642432054,
          0.743986638649053,
          0.745471176605491,
          0.7451663934426771,
          0.7457976371036392,
          0.746388288431132,
          0.745039908033222,
          0.7458906080072191,
          0.7447408082998178,
          0.7462855937831009,
          0.7445255140139995,
          0.7444662097565142,
          0.745521361710527,
          0.745350919022839,
          0.7444640361358157,
          0.7457151129412918,
          0.7457756369664484,
          0.7453116661847791,
          0.7457818449488753,
          0.7446318983930884,
          0.7446881036204543,
          0.7450186480912719,
          0.7454168539479692,
          0.7429753480587867,
          0.7443645331249938,
          0.7427806648038089,
          0.7432812048023655,
          0.746122458456294,
          0.6865857009493483,
          0.7415755356675215,
          0.7447459526236679,
          0.7427721125390463,
          0.7451105645969842,
          0.7451574694265961,
          0.7438281991631891,
          0.7438412395644212,
          0.7442658609320653,
          0.7455967372670047,
          0.7447172292117423,
          0.7455199970789078,
          0.7455263181742804,
          0.7444747878189661,
          0.7454441498877502,
          0.745619615187113,
          0.7455303426138207,
          0.7451422514357903,
          0.7438527843611498,
          0.7452598697163769,
          0.745102683072145,
          0.7442232768846817,
          0.7454120443326016,
          0.7438297139505899,
          0.7453872732589817,
          0.7431377762643134,
          0.7437423656203324,
          0.7453592060344367,
          0.7336365520978052,
          0.7430661340965217,
          0.74387523959604,
          0.7448113927623458,
          0.7441280900257335,
          0.7431769007754058,
          0.7419129879657749,
          0.7429328050231143,
          0.7456789419348916,
          0.7450562650912348,
          0.7441979091568105,
          0.743236547017645,
          0.7453324941808019,
          0.7445212567337758,
          0.7435362936777206,
          0.7442426006769711,
          0.7451758678094647,
          0.7421455766256531,
          0.7415712982316742,
          0.7440491305748724,
          0.7435824292070061,
          0.7429600460601207,
          0.7350258615221048,
          0.7430121011668956,
          0.7424660851338302,
          0.7438479906212832,
          0.7428927008613053,
          0.7448056656753077,
          0.7396977370729929,
          0.7204475059025444,
          0.7310195637108005,
          0.7416216083562817,
          0.7416951655063989,
          0.7414231996503686,
          0.7445904600277041,
          0.7457361459958711,
          0.7389069108900844,
          0.7457228734154349,
          0.7364566867048564,
          0.7432079717770632,
          0.7419372239027101,
          0.7410992540961935,
          0.7453247853020377,
          0.7458365208362976,
          0.7295467749481681,
          0.746627359587311,
          0.7119590599930559,
          0.7446324183157509,
          0.7352438519972009,
          0.7438300718108448,
          0.7330176906662571,
          0.7472434057633228,
          0.7450908690533763,
          0.7458317403260155,
          0.7442430312999396,
          0.7425695246074566,
          0.7464948408259414,
          0.7462679878523312,
          0.7454744754023331
         ],
         "yaxis": "y"
        },
        {
         "hovertemplate": "variable=recall_1<br>precision_1=%{x}<br>value=%{y}<extra></extra>",
         "legendgroup": "recall_1",
         "marker": {
          "color": "#00cc96",
          "symbol": "circle"
         },
         "mode": "markers",
         "name": "recall_1",
         "showlegend": true,
         "type": "scattergl",
         "x": [
          0.11886474334956913,
          0.040815010638983816,
          0.32142857142857145,
          0.3333333333333333,
          0.16383307573415765,
          0.0349874686716792,
          0.0349874686716792,
          0.11725080542809724,
          0.04606877874009084,
          0.12367205542725174,
          0.13283740701381508,
          0,
          0.03891834570519618,
          0.08867579289780428,
          0.04873694090760692,
          0.07308717167872097,
          0.0349874686716792,
          0.18097591105620753,
          0.0899625601711535,
          0.06437383809362852,
          0.0349874686716792,
          0.1694915254237288,
          0.0528866266908381,
          0.03828294217132006,
          0.75,
          0.06650375876054235,
          0.04680392156862745,
          0.10672214733634179,
          0.07311885685966796,
          0.06391968739079328,
          0.04278038321245825,
          0.0668350862720836,
          0.12566870014077897,
          0.1316546762589928,
          0.13789124477138323,
          0.0710868079289132,
          0.12719298245614036,
          0.20588235294117646,
          0.10715506437279253,
          0.07347226325477808,
          0.09312730280472216,
          0.12829787234042553,
          0.035964531530972906,
          0.11811708860759494,
          0.1141280023869909,
          0,
          0.07974858579509743,
          0.07759219764683328,
          0.0533716918742763,
          0.045375089020634286,
          0.07967823878069433,
          0.13347048990613347,
          0.07942256300107395,
          0.17761194029850746,
          0.11659970062239029,
          0.06269741482412831,
          0.1642512077294686,
          0.20809248554913296,
          0.09612409583141698,
          0.08009153318077804,
          0.08498813350557274,
          0.1000770935723234,
          0.11134060543471246,
          0.0901374859708193,
          0.09734047221978408,
          0.08468425592670811,
          0.10898899730122483,
          0.22567567567567567,
          0.059469723609255225,
          0.08532388663967612,
          0.09848096068972596,
          0.06114508879227765,
          0.10987182647276313,
          0.11725985457328741,
          0.10238974159704682,
          0.12404836542767578,
          0.04877320818410111,
          0.169831223628692,
          0.171875,
          0.21428571428571427,
          0.13297096645896858,
          0.12214073686048542,
          0.2006841505131129,
          0.11494442157266364,
          0.22477064220183487,
          0.16579973992197658,
          0.0857796665576986,
          0.13671497584541062,
          0.2468354430379747,
          0.11910766246362754,
          0.08308258596009466,
          0.052676422839115264,
          0.10999160369437448,
          0.053662631230492766,
          0.04542506069648053,
          0.03688667125650325,
          0.04462844206329879,
          0.07735999624466038,
          0.035111143913419796,
          0.13881869867340493,
          0.10476072402677908,
          0.053509774577849,
          0.0924616784489396,
          0.18311403508771928,
          0.04657125363538956,
          0.08443635723299973,
          0.07973573878795578,
          0.14120481927710843,
          0.14842419080068142,
          0.10617879791234076,
          0.19270833333333334,
          0.09801580011023332,
          0.11672997784108895,
          0.08809531733617333,
          0.09166534622088417,
          0.1179731417863835,
          0.11739509796144999,
          0.09391579185009595,
          0.10023470937456855,
          0.08465035722017752,
          0.069890959593116,
          0.09227491871286018,
          0.14235746764603008,
          0.12203360471158843,
          0,
          0.08714384552487578,
          0.042211722769613616,
          0.08283716611132354,
          0.09696025597844392,
          0.09099363330710351,
          0.0711471793255594,
          0.2185430463576159,
          0.05323778134859663,
          0.08620320200814277,
          0.06568122307627333,
          0.20340788072417465,
          0.1918194640338505,
          0.1295400877094344,
          0.12183868762816132,
          0.148108797280068,
          0.13823529411764707,
          0.12393972657419419,
          0.09207323922567118,
          0.22474226804123712,
          0.14175491679273827,
          0.11807425540595676,
          0.16245047241694605,
          0.11650755399017518,
          0,
          0.05464737838607086,
          0.22344322344322345,
          0.049853341381026504,
          0.05524219484439167,
          0.11407257188382705,
          0.13305945452470616,
          0.11354867993040321,
          0.08022349805208119,
          0.08018231354874851,
          0.07991148884809776,
          0.13909661980257254,
          0.08030090526584215,
          0.12598744176625482,
          0.07707882098126001,
          0.1372864028041478,
          0.0732761562436017,
          0.1136331494838071,
          0.17930688096433953,
          0.1720164609053498,
          0.07703337110612613,
          0.08179683071025565,
          0.07200419727177335,
          0.09064703226478658,
          0.11286600317322948,
          0.10609140003484119,
          0.09501314492277357,
          0.13194751584844464,
          0.03542594513249141,
          0.10644592365022472,
          0.0349874686716792,
          0.13426906779661016,
          0.16292134831460675,
          0.17190196755264067,
          0.15045949989313956,
          0.14434696242343983,
          0.10677466863033873,
          0.09902966711546497,
          0.1122595839330106,
          0.10885586565180622,
          0.18410041841004185,
          0.13017555481947665,
          0.15442278860569716,
          0.18786127167630057,
          0.17247774480712166,
          0.113565757680359,
          0.23636363636363636,
          0.06751277983430284,
          0.5714285714285714,
          0.13385242862439747,
          0.1256575102279369,
          0.0970659607324068,
          0.1110171696149844,
          0.1014853857211308,
          0.10341251419823201,
          0.09854807859502696,
          0.09950016349792123,
          0.07739793293738016,
          0.12362994612669514,
          0.22364217252396165,
          0.04998022173043822,
          0.10043170928412164,
          0.06055975199755491,
          0.04289170634954561,
          0.26523297491039427,
          0.1580246913580247,
          0.04695813989551935,
          0.15977681968044635,
          0.06831005204053683,
          0.08795479783134104,
          0.07649453123223503,
          0.07808700351256417,
          0.07210075852837383,
          0.08002363458870677,
          0.15616702872314747,
          0.12716343662555704,
          0.08805356969559733,
          0.12716996366572467,
          0.18352059925093633,
          0.08113601112477938,
          0.13949219944937288,
          0.10989149634115569,
          0.12324979934005173,
          0.08981148061851303,
          0.08894754206532497,
          0.19216823785351705,
          0.09613928841786526,
          0.06565242832065535,
          0.061124118331345435,
          0.08985651370933372,
          0.05274382553259798,
          0.049914504654746575,
          0.11375789985415653,
          0.08766457509702223,
          0.13295902520606856,
          0.05341822504148474,
          0.14217791411042946,
          0.14587295549638646,
          0.06607348264429258,
          0.049057341621043096,
          0.05233632072244647,
          0.20838627700127066,
          0.09102902374670185,
          0.07181790955375861,
          0.07532893259688356,
          0.07402712637850171,
          0.3548387096774194,
          0.08012295081967213,
          0.12164674634794156,
          0.1362322829228017,
          0.04802842273819055,
          0.051084268802380796,
          0.07637161337012077,
          0.06550595584204143,
          0.06451186899534485,
          0.09028553812955185,
          0.1593200806683953,
          0.06623960980971354,
          0.06814970472084345,
          0.09690074539034915,
          0.07107116739155536,
          0.03636693863864983,
          0.06098627610005884,
          0.04599063311780656,
          0.09364194768742627,
          0.03561051468481864,
          0.05195767908888739,
          0.07004840123480316,
          0.12614727854855923,
          0.047903771808585224,
          0.1493896130767639,
          0.1968954248366013,
          0.048483060931826735,
          0.04673932945926933,
          0.04361100904589436,
          0.1230105206366334,
          0.1475099412989964,
          0.1648634724368882,
          0.14587295549638646,
          0.034991444307791025,
          0.09642024994704512,
          0.1446555275806821,
          0.2222222222222222,
          0.07725026743416026,
          0.1691927002783792,
          0.16588602654176424,
          0.14925106990014264,
          0.13722372396247415,
          0.1277633289986996,
          0.1198832779443949,
          0.13904734740444952,
          0.1226321036889332
         ],
         "xaxis": "x",
         "y": [
          0.24240687679083095,
          0.9673352435530086,
          0.0017191977077363897,
          0.00019102196752626553,
          0.020248328557784145,
          1,
          1,
          0.22941738299904488,
          0.9358166189111747,
          0.20458452722063036,
          0.14326647564469913,
          0,
          0.9814708691499523,
          0.49990448901623685,
          0.9125119388729704,
          0.6234957020057307,
          1,
          0.0559694364851958,
          0.4819484240687679,
          0.7276026743075453,
          1,
          0.06685768863419293,
          0.8693409742120344,
          0.9858643744030563,
          0.0005730659025787965,
          0.7486150907354345,
          0.9119388729703916,
          0.3478510028653295,
          0.6764087870105062,
          0.7686723973256925,
          0.9566380133715378,
          0.7428844317096466,
          0.25577841451766953,
          0.20974212034383954,
          0.18261700095510983,
          0.6953199617956065,
          0.1828080229226361,
          0.0013371537726838587,
          0.35931232091690546,
          0.6175740210124164,
          0.4731614135625597,
          0.2303724928366762,
          0.997134670487106,
          0.2851957975167144,
          0.2922636103151863,
          0,
          0.6059216809933142,
          0.6185291308500478,
          0.8540592168099331,
          0.9371537726838587,
          0.5392550143266476,
          0.1982808022922636,
          0.6074498567335244,
          0.06819484240687679,
          0.282712511938873,
          0.7810888252148998,
          0.09742120343839542,
          0.020630372492836675,
          0.43915950334288445,
          0.5616045845272206,
          0.5404011461318051,
          0.3967526265520535,
          0.32951289398280803,
          0.4909264565425024,
          0.4236867239732569,
          0.543839541547278,
          0.3008595988538682,
          0.031900668576886344,
          0.8076408787010506,
          0.4830945558739255,
          0.36657115568290355,
          0.7925501432664757,
          0.3405921680993314,
          0.29264565425023875,
          0.4026743075453677,
          0.26456542502387775,
          0.9052531041069724,
          0.09226361031518625,
          0.08194842406876791,
          0.006876790830945559,
          0.19159503342884432,
          0.26723973256924544,
          0.03361986628462273,
          0.26666666666666666,
          0.009360076408787011,
          0.09742120343839542,
          0.5012416427889207,
          0.16217765042979942,
          0.007449856733524355,
          0.23457497612225406,
          0.5432664756446991,
          0.8739255014326648,
          0.32531041069723016,
          0.8670487106017192,
          0.9363896848137536,
          0.9927411652340019,
          0.9451766953199618,
          0.6296084049665711,
          0.9996179560649475,
          0.16790830945558738,
          0.3228271251193887,
          0.8674307545367718,
          0.2523400191021968,
          0.06380133715377269,
          0.9298949379178606,
          0.5495702005730659,
          0.5994269340974212,
          0.16790830945558738,
          0.13314231136580706,
          0.36141356255969437,
          0.03533906399235912,
          0.40764087870105065,
          0.2817574021012416,
          0.5056351480420248,
          0.4420248328557784,
          0.28863419293218723,
          0.282712511938873,
          0.47679083094555874,
          0.4160458452722063,
          0.5228271251193888,
          0.7113658070678128,
          0.47163323782234956,
          0.15549188156638014,
          0.2691499522445081,
          0,
          0.5293218720152818,
          0.9591212989493791,
          0.5793696275071634,
          0.4399235912129895,
          0.4859598853868195,
          0.689971346704871,
          0.018911174785100286,
          0.8670487106017192,
          0.5379178605539637,
          0.7426934097421204,
          0.03648519579751672,
          0.05195797516714422,
          0.22005730659025788,
          0.2723973256924546,
          0.13314231136580706,
          0.17956064947468958,
          0.23724928366762177,
          0.4697230181470869,
          0.020821394460362942,
          0.17898758357211078,
          0.2764087870105062,
          0.10181470869149953,
          0.24011461318051575,
          0,
          0.8435530085959886,
          0.011652340019102196,
          0.8993314231136581,
          0.8531041069723018,
          0.3008595988538682,
          0.2227316141356256,
          0.28672397325692456,
          0.5978987583572111,
          0.6015281757402101,
          0.6070678127984718,
          0.17765042979942694,
          0.6015281757402101,
          0.2376313276026743,
          0.6254059216809933,
          0.17956064947468958,
          0.6152817574021012,
          0.3069723018147087,
          0.06819484240687679,
          0.07984718242597899,
          0.6362941738299904,
          0.5787965616045845,
          0.655396370582617,
          0.498567335243553,
          0.29894937917860553,
          0.3489971346704871,
          0.44183381088825213,
          0.17096466093600765,
          0.9982808022922636,
          0.3574021012416428,
          1,
          0.19369627507163323,
          0.0775549188156638,
          0.09512893982808023,
          0.13447946513849093,
          0.16657115568290354,
          0.3600764087870105,
          0.40744985673352435,
          0.32779369627507166,
          0.34422158548233045,
          0.05883476599808978,
          0.22521489971346706,
          0.13772683858643744,
          0.07449856733524356,
          0.08882521489971347,
          0.3142311365807068,
          0.009933142311365807,
          0.731614135625597,
          0.0007640878701050621,
          0.20687679083094557,
          0.24641833810888253,
          0.42024832855778416,
          0.3260744985673352,
          0.4045845272206304,
          0.4,
          0.43304680038204396,
          0.4068767908309456,
          0.6322827125119389,
          0.2542502387774594,
          0.026743075453677174,
          0.8930276981852913,
          0.4043935052531041,
          0.7948424068767909,
          0.9583572110792741,
          0.014135625596943648,
          0.024450811843361987,
          0.9255014326647565,
          0.12034383954154727,
          0.7146131805157593,
          0.514422158548233,
          0.6425978987583573,
          0.6072588347659981,
          0.6790830945558739,
          0.5950334288443171,
          0.1235912129894938,
          0.2343839541547278,
          0.5199617956064947,
          0.24068767908309455,
          0.056160458452722065,
          0.5795606494746895,
          0.17421203438395416,
          0.33276026743075454,
          0.2639923591212989,
          0.4859598853868195,
          0.5149952244508118,
          0.050620821394460364,
          0.436676217765043,
          0.7501432664756447,
          0.7929321872015281,
          0.48328557784145176,
          0.8787010506208214,
          0.9033428844317096,
          0.31289398280802294,
          0.4617000955109838,
          0.21260744985673352,
          0.8670487106017192,
          0.17707736389684814,
          0.14651384909264564,
          0.7461318051575931,
          0.9106017191977077,
          0.8767908309455588,
          0.03132760267430754,
          0.4876790830945559,
          0.6871060171919771,
          0.6408787010506208,
          0.6693409742120344,
          0.002101241642788921,
          0.5975167144221586,
          0.26246418338108884,
          0.18911174785100288,
          0.9167144221585483,
          0.8918815663801337,
          0.6450811843361987,
          0.7531996179560649,
          0.7465138490926456,
          0.44756446991404014,
          0.10563514804202483,
          0.7367717287488061,
          0.7186246418338109,
          0.42464183381088827,
          0.7054441260744986,
          0.9944603629417383,
          0.7325692454632283,
          0.926647564469914,
          0.4397325692454632,
          0.9973256924546323,
          0.8836676217765043,
          0.702196752626552,
          0.22578796561604583,
          0.913658070678128,
          0.1379178605539637,
          0.04603629417382999,
          0.9106017191977077,
          0.9264565425023877,
          0.9522445081184336,
          0.26131805157593124,
          0.14880611270296085,
          0.061127029608404965,
          0.14651384909264564,
          1,
          0.43476599808978034,
          0.12072588347659981,
          0.02597898758357211,
          0.5793696275071634,
          0.10448901623686724,
          0.08118433619866285,
          0.15988538681948425,
          0.16485195797516713,
          0.22521489971346706,
          0.2825214899713467,
          0.18624641833810887,
          0.25845272206303727
         ],
         "yaxis": "y"
        },
        {
         "hovertemplate": "variable=f1_score<br>precision_1=%{x}<br>value=%{y}<extra></extra>",
         "legendgroup": "f1_score",
         "marker": {
          "color": "#ab63fa",
          "symbol": "circle"
         },
         "mode": "markers",
         "name": "f1_score",
         "showlegend": true,
         "type": "scattergl",
         "x": [
          0.11886474334956913,
          0.040815010638983816,
          0.32142857142857145,
          0.3333333333333333,
          0.16383307573415765,
          0.0349874686716792,
          0.0349874686716792,
          0.11725080542809724,
          0.04606877874009084,
          0.12367205542725174,
          0.13283740701381508,
          0,
          0.03891834570519618,
          0.08867579289780428,
          0.04873694090760692,
          0.07308717167872097,
          0.0349874686716792,
          0.18097591105620753,
          0.0899625601711535,
          0.06437383809362852,
          0.0349874686716792,
          0.1694915254237288,
          0.0528866266908381,
          0.03828294217132006,
          0.75,
          0.06650375876054235,
          0.04680392156862745,
          0.10672214733634179,
          0.07311885685966796,
          0.06391968739079328,
          0.04278038321245825,
          0.0668350862720836,
          0.12566870014077897,
          0.1316546762589928,
          0.13789124477138323,
          0.0710868079289132,
          0.12719298245614036,
          0.20588235294117646,
          0.10715506437279253,
          0.07347226325477808,
          0.09312730280472216,
          0.12829787234042553,
          0.035964531530972906,
          0.11811708860759494,
          0.1141280023869909,
          0,
          0.07974858579509743,
          0.07759219764683328,
          0.0533716918742763,
          0.045375089020634286,
          0.07967823878069433,
          0.13347048990613347,
          0.07942256300107395,
          0.17761194029850746,
          0.11659970062239029,
          0.06269741482412831,
          0.1642512077294686,
          0.20809248554913296,
          0.09612409583141698,
          0.08009153318077804,
          0.08498813350557274,
          0.1000770935723234,
          0.11134060543471246,
          0.0901374859708193,
          0.09734047221978408,
          0.08468425592670811,
          0.10898899730122483,
          0.22567567567567567,
          0.059469723609255225,
          0.08532388663967612,
          0.09848096068972596,
          0.06114508879227765,
          0.10987182647276313,
          0.11725985457328741,
          0.10238974159704682,
          0.12404836542767578,
          0.04877320818410111,
          0.169831223628692,
          0.171875,
          0.21428571428571427,
          0.13297096645896858,
          0.12214073686048542,
          0.2006841505131129,
          0.11494442157266364,
          0.22477064220183487,
          0.16579973992197658,
          0.0857796665576986,
          0.13671497584541062,
          0.2468354430379747,
          0.11910766246362754,
          0.08308258596009466,
          0.052676422839115264,
          0.10999160369437448,
          0.053662631230492766,
          0.04542506069648053,
          0.03688667125650325,
          0.04462844206329879,
          0.07735999624466038,
          0.035111143913419796,
          0.13881869867340493,
          0.10476072402677908,
          0.053509774577849,
          0.0924616784489396,
          0.18311403508771928,
          0.04657125363538956,
          0.08443635723299973,
          0.07973573878795578,
          0.14120481927710843,
          0.14842419080068142,
          0.10617879791234076,
          0.19270833333333334,
          0.09801580011023332,
          0.11672997784108895,
          0.08809531733617333,
          0.09166534622088417,
          0.1179731417863835,
          0.11739509796144999,
          0.09391579185009595,
          0.10023470937456855,
          0.08465035722017752,
          0.069890959593116,
          0.09227491871286018,
          0.14235746764603008,
          0.12203360471158843,
          0,
          0.08714384552487578,
          0.042211722769613616,
          0.08283716611132354,
          0.09696025597844392,
          0.09099363330710351,
          0.0711471793255594,
          0.2185430463576159,
          0.05323778134859663,
          0.08620320200814277,
          0.06568122307627333,
          0.20340788072417465,
          0.1918194640338505,
          0.1295400877094344,
          0.12183868762816132,
          0.148108797280068,
          0.13823529411764707,
          0.12393972657419419,
          0.09207323922567118,
          0.22474226804123712,
          0.14175491679273827,
          0.11807425540595676,
          0.16245047241694605,
          0.11650755399017518,
          0,
          0.05464737838607086,
          0.22344322344322345,
          0.049853341381026504,
          0.05524219484439167,
          0.11407257188382705,
          0.13305945452470616,
          0.11354867993040321,
          0.08022349805208119,
          0.08018231354874851,
          0.07991148884809776,
          0.13909661980257254,
          0.08030090526584215,
          0.12598744176625482,
          0.07707882098126001,
          0.1372864028041478,
          0.0732761562436017,
          0.1136331494838071,
          0.17930688096433953,
          0.1720164609053498,
          0.07703337110612613,
          0.08179683071025565,
          0.07200419727177335,
          0.09064703226478658,
          0.11286600317322948,
          0.10609140003484119,
          0.09501314492277357,
          0.13194751584844464,
          0.03542594513249141,
          0.10644592365022472,
          0.0349874686716792,
          0.13426906779661016,
          0.16292134831460675,
          0.17190196755264067,
          0.15045949989313956,
          0.14434696242343983,
          0.10677466863033873,
          0.09902966711546497,
          0.1122595839330106,
          0.10885586565180622,
          0.18410041841004185,
          0.13017555481947665,
          0.15442278860569716,
          0.18786127167630057,
          0.17247774480712166,
          0.113565757680359,
          0.23636363636363636,
          0.06751277983430284,
          0.5714285714285714,
          0.13385242862439747,
          0.1256575102279369,
          0.0970659607324068,
          0.1110171696149844,
          0.1014853857211308,
          0.10341251419823201,
          0.09854807859502696,
          0.09950016349792123,
          0.07739793293738016,
          0.12362994612669514,
          0.22364217252396165,
          0.04998022173043822,
          0.10043170928412164,
          0.06055975199755491,
          0.04289170634954561,
          0.26523297491039427,
          0.1580246913580247,
          0.04695813989551935,
          0.15977681968044635,
          0.06831005204053683,
          0.08795479783134104,
          0.07649453123223503,
          0.07808700351256417,
          0.07210075852837383,
          0.08002363458870677,
          0.15616702872314747,
          0.12716343662555704,
          0.08805356969559733,
          0.12716996366572467,
          0.18352059925093633,
          0.08113601112477938,
          0.13949219944937288,
          0.10989149634115569,
          0.12324979934005173,
          0.08981148061851303,
          0.08894754206532497,
          0.19216823785351705,
          0.09613928841786526,
          0.06565242832065535,
          0.061124118331345435,
          0.08985651370933372,
          0.05274382553259798,
          0.049914504654746575,
          0.11375789985415653,
          0.08766457509702223,
          0.13295902520606856,
          0.05341822504148474,
          0.14217791411042946,
          0.14587295549638646,
          0.06607348264429258,
          0.049057341621043096,
          0.05233632072244647,
          0.20838627700127066,
          0.09102902374670185,
          0.07181790955375861,
          0.07532893259688356,
          0.07402712637850171,
          0.3548387096774194,
          0.08012295081967213,
          0.12164674634794156,
          0.1362322829228017,
          0.04802842273819055,
          0.051084268802380796,
          0.07637161337012077,
          0.06550595584204143,
          0.06451186899534485,
          0.09028553812955185,
          0.1593200806683953,
          0.06623960980971354,
          0.06814970472084345,
          0.09690074539034915,
          0.07107116739155536,
          0.03636693863864983,
          0.06098627610005884,
          0.04599063311780656,
          0.09364194768742627,
          0.03561051468481864,
          0.05195767908888739,
          0.07004840123480316,
          0.12614727854855923,
          0.047903771808585224,
          0.1493896130767639,
          0.1968954248366013,
          0.048483060931826735,
          0.04673932945926933,
          0.04361100904589436,
          0.1230105206366334,
          0.1475099412989964,
          0.1648634724368882,
          0.14587295549638646,
          0.034991444307791025,
          0.09642024994704512,
          0.1446555275806821,
          0.2222222222222222,
          0.07725026743416026,
          0.1691927002783792,
          0.16588602654176424,
          0.14925106990014264,
          0.13722372396247415,
          0.1277633289986996,
          0.1198832779443949,
          0.13904734740444952,
          0.1226321036889332
         ],
         "xaxis": "x",
         "y": [
          0.15951228709697693,
          0.07832522601251286,
          0.003420102603078092,
          0.00038182512409316535,
          0.03604216252975179,
          0.06760945370011623,
          0.06760945370011623,
          0.15518800878666494,
          0.08781458378145837,
          0.15415617128463477,
          0.13785497656465398,
          0,
          0.07486794652289534,
          0.1506317092123061,
          0.09253179145964688,
          0.13083737523549926,
          0.06760945370011623,
          0.08549751969652758,
          0.15162259615384616,
          0.11828274202313485,
          0.06760945370011623,
          0.0958904109589041,
          0.09970751585658418,
          0.0737038280005998,
          0.0011452567283832794,
          0.12215572595224737,
          0.08903809390590758,
          0.16333303435285676,
          0.13197174962264502,
          0.11802490137705494,
          0.08189831395443915,
          0.12263689828611071,
          0.1685336689741976,
          0.16176795580110498,
          0.1571334648257725,
          0.12898653437278526,
          0.15001175640724196,
          0.002657050673752135,
          0.16507964368774408,
          0.1313213371786019,
          0.1556246662268715,
          0.1648103860608131,
          0.06942504887683039,
          0.16704895104895104,
          0.16415428356847808,
          0,
          0.14094645634303488,
          0.1378869820721373,
          0.10046513718176303,
          0.086559158756484,
          0.13884175580966432,
          0.15954503535198278,
          0.14047797853072402,
          0.09855072463768116,
          0.1651048639000446,
          0.11607738492328219,
          0.1223021582733813,
          0.03753910323253389,
          0.15772502744237102,
          0.14019025820756742,
          0.14687710918436217,
          0.15983685405363807,
          0.1664415283674257,
          0.1523098349482917,
          0.15830983904928447,
          0.14654861790291862,
          0.16001219140505943,
          0.05589958158995816,
          0.11078213022402725,
          0.14503225806451614,
          0.15525261923061365,
          0.11353126282665207,
          0.16614639146438057,
          0.16743169398907104,
          0.16326530612244897,
          0.16890243902439026,
          0.09255949765134425,
          0.11956925362049758,
          0.11098176173845557,
          0.013325930038867296,
          0.15698857411175457,
          0.16765534184193182,
          0.05759162303664921,
          0.16064441887226696,
          0.01797175866495507,
          0.12272891348814824,
          0.14648988136775995,
          0.14836173001310615,
          0.014463193027999258,
          0.15799292376970087,
          0.1441240561495971,
          0.09936363833807528,
          0.16439810792547543,
          0.10106992952493347,
          0.08664681084234063,
          0.07113039431723307,
          0.08523245999345426,
          0.1377897619196923,
          0.0678394565583759,
          0.15198409267744445,
          0.15818785978377872,
          0.10080134964150148,
          0.13533449441655568,
          0.09463096755914435,
          0.0887001995207857,
          0.14638241579322275,
          0.14074904687149586,
          0.15340314136125655,
          0.14036854294632967,
          0.16413637546629653,
          0.05972558514931396,
          0.15803310252897396,
          0.165071904202339,
          0.15004818320956861,
          0.15184225204238985,
          0.16748877681095162,
          0.16590068377984532,
          0.15692191625801585,
          0.16154873164218958,
          0.14570911413969337,
          0.12727707713865818,
          0.15435108777194298,
          0.14863507714781338,
          0.1679280138251594,
          0,
          0.14965031188399536,
          0.0808645305718174,
          0.14494970011230854,
          0.1588988167109394,
          0.15328533124453952,
          0.1289930896559113,
          0.03481012658227848,
          0.10031604305257807,
          0.1485937417550525,
          0.12068911997516685,
          0.061872367994816976,
          0.0817676236284383,
          0.16308040770101925,
          0.16836885294291282,
          0.14022734131375114,
          0.15621105110095554,
          0.16282118510749868,
          0.15396656439797132,
          0.03811188811188811,
          0.15821021528070917,
          0.1654659805603202,
          0.1251761390324096,
          0.15688966550174738,
          0,
          0.10264515829110687,
          0.02214960058097313,
          0.09446986114455413,
          0.10376514597056193,
          0.1654238000210062,
          0.16659522788969852,
          0.1626747588598678,
          0.1414657295880319,
          0.14150265120877145,
          0.14123189049862234,
          0.1560271789279423,
          0.14168728908886388,
          0.1646700642001456,
          0.1372429837982855,
          0.15560337692435028,
          0.1309562530492763,
          0.16586674923878825,
          0.0988098533075007,
          0.10906718851924331,
          0.137428830761614,
          0.14333696012110317,
          0.12975323815826795,
          0.1534030798166216,
          0.1638657661902518,
          0.16271820448877805,
          0.15639473951113966,
          0.14894325178898318,
          0.06842374013119133,
          0.1640364720322637,
          0.06760945370011623,
          0.15859857667944005,
          0.10508606186100686,
          0.12247909493359567,
          0.14202138390155336,
          0.1546647747428166,
          0.16470793831097907,
          0.1593336819302308,
          0.16724331172944787,
          0.16540456193492128,
          0.08917197452229299,
          0.16498740554156172,
          0.1455977382875606,
          0.10668855149774313,
          0.11726137939730173,
          0.16683569979716023,
          0.01906507791017415,
          0.12361817154845477,
          0.0015261350629530714,
          0.1625393966681675,
          0.16644087478227212,
          0.15770609318996415,
          0.16563970695259814,
          0.1622677647960161,
          0.16433840841312197,
          0.1605580934169057,
          0.15989790556264544,
          0.13791379346263619,
          0.16636460221236174,
          0.04777341750554513,
          0.09466245494674604,
          0.1609029414000152,
          0.11254462836741318,
          0.08210860528296945,
          0.02684076895175916,
          0.042349048800661704,
          0.08938124930819466,
          0.13728481150577468,
          0.1247,
          0.15022452793350627,
          0.136714622449809,
          0.13837983720019154,
          0.1303606461194331,
          0.14107470392427707,
          0.13798251226274258,
          0.16487503359312014,
          0.15060307624211575,
          0.1664135244007132,
          0.08600263273365512,
          0.14234441342747894,
          0.15493077380446785,
          0.16522027789633423,
          0.16804474708171208,
          0.15160454098507195,
          0.1516950344633563,
          0.08013305110371938,
          0.15758453107227793,
          0.12073789392774789,
          0.11349902933858311,
          0.15153783953759994,
          0.0995143268180294,
          0.09460175840443302,
          0.1668534175410003,
          0.1473510943120161,
          0.16360429222401882,
          0.10063632130900384,
          0.15772011909825606,
          0.1461926998951682,
          0.12139671489176547,
          0.09309910455339968,
          0.09877659059362794,
          0.05446695450016606,
          0.15342087076710437,
          0.13004338394793927,
          0.1348120466919816,
          0.13331050619186213,
          0.004177744018230156,
          0.1412987012987013,
          0.16624319419237749,
          0.1583746600543913,
          0.09127478484142457,
          0.09663365516955906,
          0.13657412088245405,
          0.12052943693831387,
          0.11876073116253627,
          0.15025973193099468,
          0.12703882379967837,
          0.12155114003435072,
          0.12449327398778894,
          0.157793867120954,
          0.12913264681714076,
          0.07016787184861208,
          0.11259872574062656,
          0.08763198540370146,
          0.15440338050841773,
          0.06876568169694894,
          0.09814467110078605,
          0.12738897648709996,
          0.16186237589866484,
          0.0910345352632731,
          0.14342471195868098,
          0.07462455488465707,
          0.09206435041232933,
          0.08898919285884663,
          0.08340234731180098,
          0.1672780630961115,
          0.14815519208824648,
          0.08918617614269789,
          0.1461926998951682,
          0.06761687644904839,
          0.1578363384188627,
          0.13161182840483132,
          0.04651958269197879,
          0.13632379710991752,
          0.12919225318847424,
          0.10901628831601898,
          0.15438531771649913,
          0.14977438389448108,
          0.16303671437461106,
          0.16833598907352607,
          0.15922266677553687,
          0.1663388246865011
         ],
         "yaxis": "y"
        }
       ],
       "layout": {
        "bargap": 0.2,
        "height": 800,
        "legend": {
         "title": {
          "text": "variable"
         },
         "tracegroupgap": 0
        },
        "margin": {
         "t": 60
        },
        "template": {
         "data": {
          "bar": [
           {
            "error_x": {
             "color": "#2a3f5f"
            },
            "error_y": {
             "color": "#2a3f5f"
            },
            "marker": {
             "line": {
              "color": "#E5ECF6",
              "width": 0.5
             },
             "pattern": {
              "fillmode": "overlay",
              "size": 10,
              "solidity": 0.2
             }
            },
            "type": "bar"
           }
          ],
          "barpolar": [
           {
            "marker": {
             "line": {
              "color": "#E5ECF6",
              "width": 0.5
             },
             "pattern": {
              "fillmode": "overlay",
              "size": 10,
              "solidity": 0.2
             }
            },
            "type": "barpolar"
           }
          ],
          "carpet": [
           {
            "aaxis": {
             "endlinecolor": "#2a3f5f",
             "gridcolor": "white",
             "linecolor": "white",
             "minorgridcolor": "white",
             "startlinecolor": "#2a3f5f"
            },
            "baxis": {
             "endlinecolor": "#2a3f5f",
             "gridcolor": "white",
             "linecolor": "white",
             "minorgridcolor": "white",
             "startlinecolor": "#2a3f5f"
            },
            "type": "carpet"
           }
          ],
          "choropleth": [
           {
            "colorbar": {
             "outlinewidth": 0,
             "ticks": ""
            },
            "type": "choropleth"
           }
          ],
          "contour": [
           {
            "colorbar": {
             "outlinewidth": 0,
             "ticks": ""
            },
            "colorscale": [
             [
              0,
              "#0d0887"
             ],
             [
              0.1111111111111111,
              "#46039f"
             ],
             [
              0.2222222222222222,
              "#7201a8"
             ],
             [
              0.3333333333333333,
              "#9c179e"
             ],
             [
              0.4444444444444444,
              "#bd3786"
             ],
             [
              0.5555555555555556,
              "#d8576b"
             ],
             [
              0.6666666666666666,
              "#ed7953"
             ],
             [
              0.7777777777777778,
              "#fb9f3a"
             ],
             [
              0.8888888888888888,
              "#fdca26"
             ],
             [
              1,
              "#f0f921"
             ]
            ],
            "type": "contour"
           }
          ],
          "contourcarpet": [
           {
            "colorbar": {
             "outlinewidth": 0,
             "ticks": ""
            },
            "type": "contourcarpet"
           }
          ],
          "heatmap": [
           {
            "colorbar": {
             "outlinewidth": 0,
             "ticks": ""
            },
            "colorscale": [
             [
              0,
              "#0d0887"
             ],
             [
              0.1111111111111111,
              "#46039f"
             ],
             [
              0.2222222222222222,
              "#7201a8"
             ],
             [
              0.3333333333333333,
              "#9c179e"
             ],
             [
              0.4444444444444444,
              "#bd3786"
             ],
             [
              0.5555555555555556,
              "#d8576b"
             ],
             [
              0.6666666666666666,
              "#ed7953"
             ],
             [
              0.7777777777777778,
              "#fb9f3a"
             ],
             [
              0.8888888888888888,
              "#fdca26"
             ],
             [
              1,
              "#f0f921"
             ]
            ],
            "type": "heatmap"
           }
          ],
          "heatmapgl": [
           {
            "colorbar": {
             "outlinewidth": 0,
             "ticks": ""
            },
            "colorscale": [
             [
              0,
              "#0d0887"
             ],
             [
              0.1111111111111111,
              "#46039f"
             ],
             [
              0.2222222222222222,
              "#7201a8"
             ],
             [
              0.3333333333333333,
              "#9c179e"
             ],
             [
              0.4444444444444444,
              "#bd3786"
             ],
             [
              0.5555555555555556,
              "#d8576b"
             ],
             [
              0.6666666666666666,
              "#ed7953"
             ],
             [
              0.7777777777777778,
              "#fb9f3a"
             ],
             [
              0.8888888888888888,
              "#fdca26"
             ],
             [
              1,
              "#f0f921"
             ]
            ],
            "type": "heatmapgl"
           }
          ],
          "histogram": [
           {
            "marker": {
             "pattern": {
              "fillmode": "overlay",
              "size": 10,
              "solidity": 0.2
             }
            },
            "type": "histogram"
           }
          ],
          "histogram2d": [
           {
            "colorbar": {
             "outlinewidth": 0,
             "ticks": ""
            },
            "colorscale": [
             [
              0,
              "#0d0887"
             ],
             [
              0.1111111111111111,
              "#46039f"
             ],
             [
              0.2222222222222222,
              "#7201a8"
             ],
             [
              0.3333333333333333,
              "#9c179e"
             ],
             [
              0.4444444444444444,
              "#bd3786"
             ],
             [
              0.5555555555555556,
              "#d8576b"
             ],
             [
              0.6666666666666666,
              "#ed7953"
             ],
             [
              0.7777777777777778,
              "#fb9f3a"
             ],
             [
              0.8888888888888888,
              "#fdca26"
             ],
             [
              1,
              "#f0f921"
             ]
            ],
            "type": "histogram2d"
           }
          ],
          "histogram2dcontour": [
           {
            "colorbar": {
             "outlinewidth": 0,
             "ticks": ""
            },
            "colorscale": [
             [
              0,
              "#0d0887"
             ],
             [
              0.1111111111111111,
              "#46039f"
             ],
             [
              0.2222222222222222,
              "#7201a8"
             ],
             [
              0.3333333333333333,
              "#9c179e"
             ],
             [
              0.4444444444444444,
              "#bd3786"
             ],
             [
              0.5555555555555556,
              "#d8576b"
             ],
             [
              0.6666666666666666,
              "#ed7953"
             ],
             [
              0.7777777777777778,
              "#fb9f3a"
             ],
             [
              0.8888888888888888,
              "#fdca26"
             ],
             [
              1,
              "#f0f921"
             ]
            ],
            "type": "histogram2dcontour"
           }
          ],
          "mesh3d": [
           {
            "colorbar": {
             "outlinewidth": 0,
             "ticks": ""
            },
            "type": "mesh3d"
           }
          ],
          "parcoords": [
           {
            "line": {
             "colorbar": {
              "outlinewidth": 0,
              "ticks": ""
             }
            },
            "type": "parcoords"
           }
          ],
          "pie": [
           {
            "automargin": true,
            "type": "pie"
           }
          ],
          "scatter": [
           {
            "fillpattern": {
             "fillmode": "overlay",
             "size": 10,
             "solidity": 0.2
            },
            "type": "scatter"
           }
          ],
          "scatter3d": [
           {
            "line": {
             "colorbar": {
              "outlinewidth": 0,
              "ticks": ""
             }
            },
            "marker": {
             "colorbar": {
              "outlinewidth": 0,
              "ticks": ""
             }
            },
            "type": "scatter3d"
           }
          ],
          "scattercarpet": [
           {
            "marker": {
             "colorbar": {
              "outlinewidth": 0,
              "ticks": ""
             }
            },
            "type": "scattercarpet"
           }
          ],
          "scattergeo": [
           {
            "marker": {
             "colorbar": {
              "outlinewidth": 0,
              "ticks": ""
             }
            },
            "type": "scattergeo"
           }
          ],
          "scattergl": [
           {
            "marker": {
             "colorbar": {
              "outlinewidth": 0,
              "ticks": ""
             }
            },
            "type": "scattergl"
           }
          ],
          "scattermapbox": [
           {
            "marker": {
             "colorbar": {
              "outlinewidth": 0,
              "ticks": ""
             }
            },
            "type": "scattermapbox"
           }
          ],
          "scatterpolar": [
           {
            "marker": {
             "colorbar": {
              "outlinewidth": 0,
              "ticks": ""
             }
            },
            "type": "scatterpolar"
           }
          ],
          "scatterpolargl": [
           {
            "marker": {
             "colorbar": {
              "outlinewidth": 0,
              "ticks": ""
             }
            },
            "type": "scatterpolargl"
           }
          ],
          "scatterternary": [
           {
            "marker": {
             "colorbar": {
              "outlinewidth": 0,
              "ticks": ""
             }
            },
            "type": "scatterternary"
           }
          ],
          "surface": [
           {
            "colorbar": {
             "outlinewidth": 0,
             "ticks": ""
            },
            "colorscale": [
             [
              0,
              "#0d0887"
             ],
             [
              0.1111111111111111,
              "#46039f"
             ],
             [
              0.2222222222222222,
              "#7201a8"
             ],
             [
              0.3333333333333333,
              "#9c179e"
             ],
             [
              0.4444444444444444,
              "#bd3786"
             ],
             [
              0.5555555555555556,
              "#d8576b"
             ],
             [
              0.6666666666666666,
              "#ed7953"
             ],
             [
              0.7777777777777778,
              "#fb9f3a"
             ],
             [
              0.8888888888888888,
              "#fdca26"
             ],
             [
              1,
              "#f0f921"
             ]
            ],
            "type": "surface"
           }
          ],
          "table": [
           {
            "cells": {
             "fill": {
              "color": "#EBF0F8"
             },
             "line": {
              "color": "white"
             }
            },
            "header": {
             "fill": {
              "color": "#C8D4E3"
             },
             "line": {
              "color": "white"
             }
            },
            "type": "table"
           }
          ]
         },
         "layout": {
          "annotationdefaults": {
           "arrowcolor": "#2a3f5f",
           "arrowhead": 0,
           "arrowwidth": 1
          },
          "autotypenumbers": "strict",
          "coloraxis": {
           "colorbar": {
            "outlinewidth": 0,
            "ticks": ""
           }
          },
          "colorscale": {
           "diverging": [
            [
             0,
             "#8e0152"
            ],
            [
             0.1,
             "#c51b7d"
            ],
            [
             0.2,
             "#de77ae"
            ],
            [
             0.3,
             "#f1b6da"
            ],
            [
             0.4,
             "#fde0ef"
            ],
            [
             0.5,
             "#f7f7f7"
            ],
            [
             0.6,
             "#e6f5d0"
            ],
            [
             0.7,
             "#b8e186"
            ],
            [
             0.8,
             "#7fbc41"
            ],
            [
             0.9,
             "#4d9221"
            ],
            [
             1,
             "#276419"
            ]
           ],
           "sequential": [
            [
             0,
             "#0d0887"
            ],
            [
             0.1111111111111111,
             "#46039f"
            ],
            [
             0.2222222222222222,
             "#7201a8"
            ],
            [
             0.3333333333333333,
             "#9c179e"
            ],
            [
             0.4444444444444444,
             "#bd3786"
            ],
            [
             0.5555555555555556,
             "#d8576b"
            ],
            [
             0.6666666666666666,
             "#ed7953"
            ],
            [
             0.7777777777777778,
             "#fb9f3a"
            ],
            [
             0.8888888888888888,
             "#fdca26"
            ],
            [
             1,
             "#f0f921"
            ]
           ],
           "sequentialminus": [
            [
             0,
             "#0d0887"
            ],
            [
             0.1111111111111111,
             "#46039f"
            ],
            [
             0.2222222222222222,
             "#7201a8"
            ],
            [
             0.3333333333333333,
             "#9c179e"
            ],
            [
             0.4444444444444444,
             "#bd3786"
            ],
            [
             0.5555555555555556,
             "#d8576b"
            ],
            [
             0.6666666666666666,
             "#ed7953"
            ],
            [
             0.7777777777777778,
             "#fb9f3a"
            ],
            [
             0.8888888888888888,
             "#fdca26"
            ],
            [
             1,
             "#f0f921"
            ]
           ]
          },
          "colorway": [
           "#636efa",
           "#EF553B",
           "#00cc96",
           "#ab63fa",
           "#FFA15A",
           "#19d3f3",
           "#FF6692",
           "#B6E880",
           "#FF97FF",
           "#FECB52"
          ],
          "font": {
           "color": "#2a3f5f"
          },
          "geo": {
           "bgcolor": "white",
           "lakecolor": "white",
           "landcolor": "#E5ECF6",
           "showlakes": true,
           "showland": true,
           "subunitcolor": "white"
          },
          "hoverlabel": {
           "align": "left"
          },
          "hovermode": "closest",
          "mapbox": {
           "style": "light"
          },
          "paper_bgcolor": "white",
          "plot_bgcolor": "#E5ECF6",
          "polar": {
           "angularaxis": {
            "gridcolor": "white",
            "linecolor": "white",
            "ticks": ""
           },
           "bgcolor": "#E5ECF6",
           "radialaxis": {
            "gridcolor": "white",
            "linecolor": "white",
            "ticks": ""
           }
          },
          "scene": {
           "xaxis": {
            "backgroundcolor": "#E5ECF6",
            "gridcolor": "white",
            "gridwidth": 2,
            "linecolor": "white",
            "showbackground": true,
            "ticks": "",
            "zerolinecolor": "white"
           },
           "yaxis": {
            "backgroundcolor": "#E5ECF6",
            "gridcolor": "white",
            "gridwidth": 2,
            "linecolor": "white",
            "showbackground": true,
            "ticks": "",
            "zerolinecolor": "white"
           },
           "zaxis": {
            "backgroundcolor": "#E5ECF6",
            "gridcolor": "white",
            "gridwidth": 2,
            "linecolor": "white",
            "showbackground": true,
            "ticks": "",
            "zerolinecolor": "white"
           }
          },
          "shapedefaults": {
           "line": {
            "color": "#2a3f5f"
           }
          },
          "ternary": {
           "aaxis": {
            "gridcolor": "white",
            "linecolor": "white",
            "ticks": ""
           },
           "baxis": {
            "gridcolor": "white",
            "linecolor": "white",
            "ticks": ""
           },
           "bgcolor": "#E5ECF6",
           "caxis": {
            "gridcolor": "white",
            "linecolor": "white",
            "ticks": ""
           }
          },
          "title": {
           "x": 0.05
          },
          "xaxis": {
           "automargin": true,
           "gridcolor": "white",
           "linecolor": "white",
           "ticks": "",
           "title": {
            "standoff": 15
           },
           "zerolinecolor": "white",
           "zerolinewidth": 2
          },
          "yaxis": {
           "automargin": true,
           "gridcolor": "white",
           "linecolor": "white",
           "ticks": "",
           "title": {
            "standoff": 15
           },
           "zerolinecolor": "white",
           "zerolinewidth": 2
          }
         }
        },
        "title": {
         "font": {
          "family": "Times New Roman",
          "size": 35
         },
         "text": "Зависимость precision класса 1 от гиперпараметров модели",
         "x": 0.5
        },
        "width": 1350,
        "xaxis": {
         "anchor": "y",
         "domain": [
          0,
          1
         ],
         "showspikes": true,
         "title": {
          "text": "Величина метрики precision класса 1"
         }
        },
        "yaxis": {
         "anchor": "x",
         "domain": [
          0,
          1
         ],
         "showspikes": true,
         "title": {
          "text": "Величина параметра"
         }
        }
       }
      }
     },
     "metadata": {},
     "output_type": "display_data"
    }
   ],
   "source": [
    "# Построим зависимость метрики precision_1 от гиперпараметров\n",
    "fig = px.scatter(\n",
    "    data_frame=optuna_study_gb_meta_pd,\n",
    "    x='precision_1', #ось абсцисс\n",
    "    y=['roc_train', 'roc_valid', 'recall_1','f1_score'], #ось ординат\n",
    ")\n",
    "fig.update_layout(\n",
    "    title ={\n",
    "        'text':'Зависимость precision класса 1 от гиперпараметров модели', # Имя рабочей плоскости\n",
    "        'font':{'size':35,'family':\"Times New Roman\"}, # размер и стиль написания имени рабочей плоскости\n",
    "        'x':0.5, # Смешение имени по оси \"x\" на половину рабочей плоскости\n",
    "        },\n",
    "    height =800,# Высота рабочей плоскости\n",
    "    width = 1350, # Ширина рабочей плоскости\n",
    "    bargap=0.2, # Добавил расстояния между столбами гистограммы\n",
    "    xaxis_title='Величина метрики precision класса 1',\n",
    "    yaxis_title='Величина параметра')\n",
    "fig.update_xaxes(showspikes=True)\n",
    "fig.update_yaxes(showspikes=True)\n",
    "\n",
    "fig.show()"
   ]
  },
  {
   "cell_type": "code",
   "execution_count": 107,
   "metadata": {},
   "outputs": [
    {
     "data": {
      "application/vnd.plotly.v1+json": {
       "config": {
        "plotlyServerURL": "https://plot.ly"
       },
       "data": [
        {
         "hovertemplate": "variable=roc_train<br>number=%{x}<br>value=%{y}<extra></extra>",
         "legendgroup": "roc_train",
         "marker": {
          "color": "#636efa",
          "symbol": "circle"
         },
         "mode": "markers",
         "name": "roc_train",
         "orientation": "v",
         "showlegend": true,
         "type": "scatter",
         "x": [
          272
         ],
         "xaxis": "x",
         "y": [
          0.7877118750382619
         ],
         "yaxis": "y"
        },
        {
         "hovertemplate": "variable=roc_valid<br>number=%{x}<br>value=%{y}<extra></extra>",
         "legendgroup": "roc_valid",
         "marker": {
          "color": "#EF553B",
          "symbol": "circle"
         },
         "mode": "markers",
         "name": "roc_valid",
         "orientation": "v",
         "showlegend": true,
         "type": "scatter",
         "x": [
          272
         ],
         "xaxis": "x",
         "y": [
          0.736182774115498
         ],
         "yaxis": "y"
        },
        {
         "hovertemplate": "variable=recall_1<br>number=%{x}<br>value=%{y}<extra></extra>",
         "legendgroup": "recall_1",
         "marker": {
          "color": "#00cc96",
          "symbol": "circle"
         },
         "mode": "markers",
         "name": "recall_1",
         "orientation": "v",
         "showlegend": true,
         "type": "scatter",
         "x": [
          272
         ],
         "xaxis": "x",
         "y": [
          0.33276026743075454
         ],
         "yaxis": "y"
        },
        {
         "hovertemplate": "variable=precision_1<br>number=%{x}<br>value=%{y}<extra></extra>",
         "legendgroup": "precision_1",
         "marker": {
          "color": "#ab63fa",
          "symbol": "circle"
         },
         "mode": "markers",
         "name": "precision_1",
         "orientation": "v",
         "showlegend": true,
         "type": "scatter",
         "x": [
          272
         ],
         "xaxis": "x",
         "y": [
          0.10313184536143509
         ],
         "yaxis": "y"
        }
       ],
       "layout": {
        "bargap": 0.2,
        "height": 800,
        "legend": {
         "title": {
          "text": "variable"
         },
         "tracegroupgap": 0
        },
        "margin": {
         "t": 60
        },
        "template": {
         "data": {
          "bar": [
           {
            "error_x": {
             "color": "#2a3f5f"
            },
            "error_y": {
             "color": "#2a3f5f"
            },
            "marker": {
             "line": {
              "color": "#E5ECF6",
              "width": 0.5
             },
             "pattern": {
              "fillmode": "overlay",
              "size": 10,
              "solidity": 0.2
             }
            },
            "type": "bar"
           }
          ],
          "barpolar": [
           {
            "marker": {
             "line": {
              "color": "#E5ECF6",
              "width": 0.5
             },
             "pattern": {
              "fillmode": "overlay",
              "size": 10,
              "solidity": 0.2
             }
            },
            "type": "barpolar"
           }
          ],
          "carpet": [
           {
            "aaxis": {
             "endlinecolor": "#2a3f5f",
             "gridcolor": "white",
             "linecolor": "white",
             "minorgridcolor": "white",
             "startlinecolor": "#2a3f5f"
            },
            "baxis": {
             "endlinecolor": "#2a3f5f",
             "gridcolor": "white",
             "linecolor": "white",
             "minorgridcolor": "white",
             "startlinecolor": "#2a3f5f"
            },
            "type": "carpet"
           }
          ],
          "choropleth": [
           {
            "colorbar": {
             "outlinewidth": 0,
             "ticks": ""
            },
            "type": "choropleth"
           }
          ],
          "contour": [
           {
            "colorbar": {
             "outlinewidth": 0,
             "ticks": ""
            },
            "colorscale": [
             [
              0,
              "#0d0887"
             ],
             [
              0.1111111111111111,
              "#46039f"
             ],
             [
              0.2222222222222222,
              "#7201a8"
             ],
             [
              0.3333333333333333,
              "#9c179e"
             ],
             [
              0.4444444444444444,
              "#bd3786"
             ],
             [
              0.5555555555555556,
              "#d8576b"
             ],
             [
              0.6666666666666666,
              "#ed7953"
             ],
             [
              0.7777777777777778,
              "#fb9f3a"
             ],
             [
              0.8888888888888888,
              "#fdca26"
             ],
             [
              1,
              "#f0f921"
             ]
            ],
            "type": "contour"
           }
          ],
          "contourcarpet": [
           {
            "colorbar": {
             "outlinewidth": 0,
             "ticks": ""
            },
            "type": "contourcarpet"
           }
          ],
          "heatmap": [
           {
            "colorbar": {
             "outlinewidth": 0,
             "ticks": ""
            },
            "colorscale": [
             [
              0,
              "#0d0887"
             ],
             [
              0.1111111111111111,
              "#46039f"
             ],
             [
              0.2222222222222222,
              "#7201a8"
             ],
             [
              0.3333333333333333,
              "#9c179e"
             ],
             [
              0.4444444444444444,
              "#bd3786"
             ],
             [
              0.5555555555555556,
              "#d8576b"
             ],
             [
              0.6666666666666666,
              "#ed7953"
             ],
             [
              0.7777777777777778,
              "#fb9f3a"
             ],
             [
              0.8888888888888888,
              "#fdca26"
             ],
             [
              1,
              "#f0f921"
             ]
            ],
            "type": "heatmap"
           }
          ],
          "heatmapgl": [
           {
            "colorbar": {
             "outlinewidth": 0,
             "ticks": ""
            },
            "colorscale": [
             [
              0,
              "#0d0887"
             ],
             [
              0.1111111111111111,
              "#46039f"
             ],
             [
              0.2222222222222222,
              "#7201a8"
             ],
             [
              0.3333333333333333,
              "#9c179e"
             ],
             [
              0.4444444444444444,
              "#bd3786"
             ],
             [
              0.5555555555555556,
              "#d8576b"
             ],
             [
              0.6666666666666666,
              "#ed7953"
             ],
             [
              0.7777777777777778,
              "#fb9f3a"
             ],
             [
              0.8888888888888888,
              "#fdca26"
             ],
             [
              1,
              "#f0f921"
             ]
            ],
            "type": "heatmapgl"
           }
          ],
          "histogram": [
           {
            "marker": {
             "pattern": {
              "fillmode": "overlay",
              "size": 10,
              "solidity": 0.2
             }
            },
            "type": "histogram"
           }
          ],
          "histogram2d": [
           {
            "colorbar": {
             "outlinewidth": 0,
             "ticks": ""
            },
            "colorscale": [
             [
              0,
              "#0d0887"
             ],
             [
              0.1111111111111111,
              "#46039f"
             ],
             [
              0.2222222222222222,
              "#7201a8"
             ],
             [
              0.3333333333333333,
              "#9c179e"
             ],
             [
              0.4444444444444444,
              "#bd3786"
             ],
             [
              0.5555555555555556,
              "#d8576b"
             ],
             [
              0.6666666666666666,
              "#ed7953"
             ],
             [
              0.7777777777777778,
              "#fb9f3a"
             ],
             [
              0.8888888888888888,
              "#fdca26"
             ],
             [
              1,
              "#f0f921"
             ]
            ],
            "type": "histogram2d"
           }
          ],
          "histogram2dcontour": [
           {
            "colorbar": {
             "outlinewidth": 0,
             "ticks": ""
            },
            "colorscale": [
             [
              0,
              "#0d0887"
             ],
             [
              0.1111111111111111,
              "#46039f"
             ],
             [
              0.2222222222222222,
              "#7201a8"
             ],
             [
              0.3333333333333333,
              "#9c179e"
             ],
             [
              0.4444444444444444,
              "#bd3786"
             ],
             [
              0.5555555555555556,
              "#d8576b"
             ],
             [
              0.6666666666666666,
              "#ed7953"
             ],
             [
              0.7777777777777778,
              "#fb9f3a"
             ],
             [
              0.8888888888888888,
              "#fdca26"
             ],
             [
              1,
              "#f0f921"
             ]
            ],
            "type": "histogram2dcontour"
           }
          ],
          "mesh3d": [
           {
            "colorbar": {
             "outlinewidth": 0,
             "ticks": ""
            },
            "type": "mesh3d"
           }
          ],
          "parcoords": [
           {
            "line": {
             "colorbar": {
              "outlinewidth": 0,
              "ticks": ""
             }
            },
            "type": "parcoords"
           }
          ],
          "pie": [
           {
            "automargin": true,
            "type": "pie"
           }
          ],
          "scatter": [
           {
            "fillpattern": {
             "fillmode": "overlay",
             "size": 10,
             "solidity": 0.2
            },
            "type": "scatter"
           }
          ],
          "scatter3d": [
           {
            "line": {
             "colorbar": {
              "outlinewidth": 0,
              "ticks": ""
             }
            },
            "marker": {
             "colorbar": {
              "outlinewidth": 0,
              "ticks": ""
             }
            },
            "type": "scatter3d"
           }
          ],
          "scattercarpet": [
           {
            "marker": {
             "colorbar": {
              "outlinewidth": 0,
              "ticks": ""
             }
            },
            "type": "scattercarpet"
           }
          ],
          "scattergeo": [
           {
            "marker": {
             "colorbar": {
              "outlinewidth": 0,
              "ticks": ""
             }
            },
            "type": "scattergeo"
           }
          ],
          "scattergl": [
           {
            "marker": {
             "colorbar": {
              "outlinewidth": 0,
              "ticks": ""
             }
            },
            "type": "scattergl"
           }
          ],
          "scattermapbox": [
           {
            "marker": {
             "colorbar": {
              "outlinewidth": 0,
              "ticks": ""
             }
            },
            "type": "scattermapbox"
           }
          ],
          "scatterpolar": [
           {
            "marker": {
             "colorbar": {
              "outlinewidth": 0,
              "ticks": ""
             }
            },
            "type": "scatterpolar"
           }
          ],
          "scatterpolargl": [
           {
            "marker": {
             "colorbar": {
              "outlinewidth": 0,
              "ticks": ""
             }
            },
            "type": "scatterpolargl"
           }
          ],
          "scatterternary": [
           {
            "marker": {
             "colorbar": {
              "outlinewidth": 0,
              "ticks": ""
             }
            },
            "type": "scatterternary"
           }
          ],
          "surface": [
           {
            "colorbar": {
             "outlinewidth": 0,
             "ticks": ""
            },
            "colorscale": [
             [
              0,
              "#0d0887"
             ],
             [
              0.1111111111111111,
              "#46039f"
             ],
             [
              0.2222222222222222,
              "#7201a8"
             ],
             [
              0.3333333333333333,
              "#9c179e"
             ],
             [
              0.4444444444444444,
              "#bd3786"
             ],
             [
              0.5555555555555556,
              "#d8576b"
             ],
             [
              0.6666666666666666,
              "#ed7953"
             ],
             [
              0.7777777777777778,
              "#fb9f3a"
             ],
             [
              0.8888888888888888,
              "#fdca26"
             ],
             [
              1,
              "#f0f921"
             ]
            ],
            "type": "surface"
           }
          ],
          "table": [
           {
            "cells": {
             "fill": {
              "color": "#EBF0F8"
             },
             "line": {
              "color": "white"
             }
            },
            "header": {
             "fill": {
              "color": "#C8D4E3"
             },
             "line": {
              "color": "white"
             }
            },
            "type": "table"
           }
          ]
         },
         "layout": {
          "annotationdefaults": {
           "arrowcolor": "#2a3f5f",
           "arrowhead": 0,
           "arrowwidth": 1
          },
          "autotypenumbers": "strict",
          "coloraxis": {
           "colorbar": {
            "outlinewidth": 0,
            "ticks": ""
           }
          },
          "colorscale": {
           "diverging": [
            [
             0,
             "#8e0152"
            ],
            [
             0.1,
             "#c51b7d"
            ],
            [
             0.2,
             "#de77ae"
            ],
            [
             0.3,
             "#f1b6da"
            ],
            [
             0.4,
             "#fde0ef"
            ],
            [
             0.5,
             "#f7f7f7"
            ],
            [
             0.6,
             "#e6f5d0"
            ],
            [
             0.7,
             "#b8e186"
            ],
            [
             0.8,
             "#7fbc41"
            ],
            [
             0.9,
             "#4d9221"
            ],
            [
             1,
             "#276419"
            ]
           ],
           "sequential": [
            [
             0,
             "#0d0887"
            ],
            [
             0.1111111111111111,
             "#46039f"
            ],
            [
             0.2222222222222222,
             "#7201a8"
            ],
            [
             0.3333333333333333,
             "#9c179e"
            ],
            [
             0.4444444444444444,
             "#bd3786"
            ],
            [
             0.5555555555555556,
             "#d8576b"
            ],
            [
             0.6666666666666666,
             "#ed7953"
            ],
            [
             0.7777777777777778,
             "#fb9f3a"
            ],
            [
             0.8888888888888888,
             "#fdca26"
            ],
            [
             1,
             "#f0f921"
            ]
           ],
           "sequentialminus": [
            [
             0,
             "#0d0887"
            ],
            [
             0.1111111111111111,
             "#46039f"
            ],
            [
             0.2222222222222222,
             "#7201a8"
            ],
            [
             0.3333333333333333,
             "#9c179e"
            ],
            [
             0.4444444444444444,
             "#bd3786"
            ],
            [
             0.5555555555555556,
             "#d8576b"
            ],
            [
             0.6666666666666666,
             "#ed7953"
            ],
            [
             0.7777777777777778,
             "#fb9f3a"
            ],
            [
             0.8888888888888888,
             "#fdca26"
            ],
            [
             1,
             "#f0f921"
            ]
           ]
          },
          "colorway": [
           "#636efa",
           "#EF553B",
           "#00cc96",
           "#ab63fa",
           "#FFA15A",
           "#19d3f3",
           "#FF6692",
           "#B6E880",
           "#FF97FF",
           "#FECB52"
          ],
          "font": {
           "color": "#2a3f5f"
          },
          "geo": {
           "bgcolor": "white",
           "lakecolor": "white",
           "landcolor": "#E5ECF6",
           "showlakes": true,
           "showland": true,
           "subunitcolor": "white"
          },
          "hoverlabel": {
           "align": "left"
          },
          "hovermode": "closest",
          "mapbox": {
           "style": "light"
          },
          "paper_bgcolor": "white",
          "plot_bgcolor": "#E5ECF6",
          "polar": {
           "angularaxis": {
            "gridcolor": "white",
            "linecolor": "white",
            "ticks": ""
           },
           "bgcolor": "#E5ECF6",
           "radialaxis": {
            "gridcolor": "white",
            "linecolor": "white",
            "ticks": ""
           }
          },
          "scene": {
           "xaxis": {
            "backgroundcolor": "#E5ECF6",
            "gridcolor": "white",
            "gridwidth": 2,
            "linecolor": "white",
            "showbackground": true,
            "ticks": "",
            "zerolinecolor": "white"
           },
           "yaxis": {
            "backgroundcolor": "#E5ECF6",
            "gridcolor": "white",
            "gridwidth": 2,
            "linecolor": "white",
            "showbackground": true,
            "ticks": "",
            "zerolinecolor": "white"
           },
           "zaxis": {
            "backgroundcolor": "#E5ECF6",
            "gridcolor": "white",
            "gridwidth": 2,
            "linecolor": "white",
            "showbackground": true,
            "ticks": "",
            "zerolinecolor": "white"
           }
          },
          "shapedefaults": {
           "line": {
            "color": "#2a3f5f"
           }
          },
          "ternary": {
           "aaxis": {
            "gridcolor": "white",
            "linecolor": "white",
            "ticks": ""
           },
           "baxis": {
            "gridcolor": "white",
            "linecolor": "white",
            "ticks": ""
           },
           "bgcolor": "#E5ECF6",
           "caxis": {
            "gridcolor": "white",
            "linecolor": "white",
            "ticks": ""
           }
          },
          "title": {
           "x": 0.05
          },
          "xaxis": {
           "automargin": true,
           "gridcolor": "white",
           "linecolor": "white",
           "ticks": "",
           "title": {
            "standoff": 15
           },
           "zerolinecolor": "white",
           "zerolinewidth": 2
          },
          "yaxis": {
           "automargin": true,
           "gridcolor": "white",
           "linecolor": "white",
           "ticks": "",
           "title": {
            "standoff": 15
           },
           "zerolinecolor": "white",
           "zerolinewidth": 2
          }
         }
        },
        "title": {
         "font": {
          "family": "Times New Roman",
          "size": 35
         },
         "text": "Зависимость precision от гиперпараметров модели",
         "x": 0.5
        },
        "width": 1350,
        "xaxis": {
         "anchor": "y",
         "domain": [
          0,
          1
         ],
         "showspikes": true,
         "title": {
          "text": "Величина метрики precision_1"
         }
        },
        "yaxis": {
         "anchor": "x",
         "domain": [
          0,
          1
         ],
         "showspikes": true,
         "title": {
          "text": "Величина параметра"
         }
        }
       }
      }
     },
     "metadata": {},
     "output_type": "display_data"
    }
   ],
   "source": [
    "# Построим зависимость метрик качества модели от number\n",
    "\n",
    "fig = px.scatter(\n",
    "    data_frame=optuna_study_gb_meta_pd[optuna_study_gb_meta_pd['roc_valid']>0.9999*(optuna_study_gb_meta_pd['roc_valid'].max())],\n",
    "    x='number', #ось абсцисс\n",
    "    y=['roc_train','roc_valid','recall_1','precision_1'], #ось ординат\n",
    ")\n",
    "fig.update_layout(\n",
    "    title ={\n",
    "        'text':'Зависимость precision от гиперпараметров модели', # Имя рабочей плоскости\n",
    "        'font':{'size':35,'family':\"Times New Roman\"}, # размер и стиль написания имени рабочей плоскости\n",
    "        'x':0.5, # Смешение имени по оси \"x\" на половину рабочей плоскости\n",
    "        },\n",
    "    height =800,# Высота рабочей плоскости\n",
    "    width = 1350, # Ширина рабочей плоскости\n",
    "    bargap=0.2, # Добавил расстояния между столбами гистограммы\n",
    "    xaxis_title='Величина метрики precision_1',\n",
    "    yaxis_title='Величина параметра')\n",
    "fig.update_xaxes(showspikes=True)\n",
    "fig.update_yaxes(showspikes=True)\n",
    "\n",
    "fig.show()"
   ]
  },
  {
   "cell_type": "markdown",
   "metadata": {},
   "source": [
    "<span style=\"color:Blue\">\n",
    "\n",
    "Вывод:  \n",
    "\n",
    "Их всех выбираем точку $number =272$.   \n",
    "В этой точке оптимальные значения метрик $recall_1$ и $precision_1$, а  \n",
    "также относительно высокая метрика $ROC AUC$.   \n",
    "Посмотрим каким значениям гиперпараметров соотвествует выбранная точка."
   ]
  },
  {
   "cell_type": "code",
   "execution_count": 108,
   "metadata": {},
   "outputs": [
    {
     "name": "stdout",
     "output_type": "stream",
     "text": [
      "best learning rate: 0.025\n",
      "best max iter: 232\n",
      "best max leaf nodes: 58\n",
      "best max depth: 9\n",
      "best min samples leaf: 7\n",
      "best max features: 0.346\n",
      "best l2 regularization: 0.688\n",
      "best class 0 weight: 0.233\n",
      "best class 1 weight: 0.616\n",
      "best class 1 percent: 0.15\n",
      "best k features: 334\n",
      "best random state: 975267\n",
      "time for best train: 0 minutes\n",
      "\n",
      "ROC AUC на обучающем наборе: 0.788\n",
      "ROC AUC на валидационном наборе: 0.736\n",
      "precision класса 1: 0.103\n",
      "recall класса 1: 0.333\n"
     ]
    }
   ],
   "source": [
    "# определим номер лучшге варианта\n",
    "best_optuna_number = 272\n",
    "\n",
    "# сформируем словарь лучших гипирпарметров HistGradientBoostingClassifier\n",
    "best_param_hgbc = {\n",
    "    'learning_rate' : optuna_study_gb_meta_pd[optuna_study_gb_meta_pd['number']==best_optuna_number]['params_learning_rate'].iloc[0],\n",
    "    'max_iter' : optuna_study_gb_meta_pd[optuna_study_gb_meta_pd['number']==best_optuna_number]['params_max_iter'].iloc[0],\n",
    "    'max_leaf_nodes' : optuna_study_gb_meta_pd[optuna_study_gb_meta_pd['number']==best_optuna_number]['params_max_leaf_nodes'].iloc[0],\n",
    "    'max_depth' : optuna_study_gb_meta_pd[optuna_study_gb_meta_pd['number']==best_optuna_number]['params_max_depth'].iloc[0],\n",
    "    'min_samples_leaf' : optuna_study_gb_meta_pd[optuna_study_gb_meta_pd['number']==best_optuna_number]['params_min_samples_leaf'].iloc[0],\n",
    "    'max_features' : optuna_study_gb_meta_pd[optuna_study_gb_meta_pd['number']==best_optuna_number]['params_max_features'].iloc[0],\n",
    "    'l2_regularization' : optuna_study_gb_meta_pd[optuna_study_gb_meta_pd['number']==best_optuna_number]['params_l2_regularization'].iloc[0],\n",
    "    'class_weight' : {0: optuna_study_gb_meta_pd[optuna_study_gb_meta_pd['number']==best_optuna_number]['params_class_0_weight'].iloc[0],\n",
    "                      1: optuna_study_gb_meta_pd[optuna_study_gb_meta_pd['number']==best_optuna_number]['params_class_1_weight'].iloc[0],}\n",
    "    }\n",
    "\n",
    "# определим перменные для лучших значений параметров\n",
    "best_k_features = optuna_study_gb_meta_pd[optuna_study_gb_meta_pd['number']==best_optuna_number]['params_k_features'].iloc[0]\n",
    "best_random_state = optuna_study_gb_meta_pd[optuna_study_gb_meta_pd['number']==best_optuna_number]['params_random_state'].iloc[0]\n",
    "best_class_1_percent = optuna_study_gb_meta_pd[optuna_study_gb_meta_pd['number']==best_optuna_number]['params_class_1_percent'].iloc[0]\n",
    "\n",
    "\n",
    "# Выведем принятые наилучшие параметры\n",
    "print('best learning rate:',round(best_param_hgbc['learning_rate'],3))\n",
    "print('best max iter:',best_param_hgbc['max_iter'])\n",
    "print('best max leaf nodes:',best_param_hgbc['max_leaf_nodes'])\n",
    "print('best max depth:',best_param_hgbc['max_depth'])\n",
    "print('best min samples leaf:',best_param_hgbc['min_samples_leaf'])\n",
    "print('best max features:',round(best_param_hgbc['max_features'],3))\n",
    "print('best l2 regularization:',round(best_param_hgbc['l2_regularization'],3))\n",
    "print('best class 0 weight:',round(best_param_hgbc['class_weight'][0],3))\n",
    "print('best class 1 weight:',round(best_param_hgbc['class_weight'][1],3))\n",
    "\n",
    "print('best class 1 percent:',round(best_class_1_percent,3))\n",
    "print('best k features:',best_k_features)\n",
    "print('best random state:',best_random_state)\n",
    "print('time for best train:',round(optuna_study_gb_meta_pd[optuna_study_gb_meta_pd['number']==best_optuna_number]['duration'].iloc[0].seconds/60),'minutes')\n",
    "\n",
    "print()\n",
    "print('ROC AUC на обучающем наборе:', round(optuna_study_gb_meta_pd[optuna_study_gb_meta_pd['number']==best_optuna_number]['roc_train'].iloc[0],3))\n",
    "print('ROC AUC на валидационном наборе:', round(optuna_study_gb_meta_pd[optuna_study_gb_meta_pd['number']==best_optuna_number]['roc_valid'].iloc[0],3))\n",
    "print('precision класса 1:', round(optuna_study_gb_meta_pd[optuna_study_gb_meta_pd['number']==best_optuna_number]['precision_1'].iloc[0],3))\n",
    "print('recall класса 1:', round(optuna_study_gb_meta_pd[optuna_study_gb_meta_pd['number']==best_optuna_number]['recall_1'].iloc[0],3))"
   ]
  },
  {
   "cell_type": "markdown",
   "metadata": {},
   "source": [
    "##### <span style=\"color:MediumSlateBlue\">Обучение модели с лучшими параметрами</span>"
   ]
  },
  {
   "cell_type": "code",
   "execution_count": 109,
   "metadata": {},
   "outputs": [
    {
     "name": "stdout",
     "output_type": "stream",
     "text": [
      "ROC AUC на обучающем наборе 0.801\n",
      "ROC AUC на валидационном наборе 0.747\n",
      "Основные метрики на валидационом наборе:\n",
      "              precision    recall  f1-score   support\n",
      "\n",
      "           0       0.97      0.89      0.93    144390\n",
      "           1       0.11      0.37      0.16      5235\n",
      "\n",
      "    accuracy                           0.87    149625\n",
      "   macro avg       0.54      0.63      0.55    149625\n",
      "weighted avg       0.94      0.87      0.90    149625\n",
      "\n"
     ]
    }
   ],
   "source": [
    "# Загружаем обучающие наборы\n",
    "MX_train_pd = fp.ParquetFile('features/firstmeta/features_first_meta_torow_train').to_pandas()\n",
    "my_train_pd = pd.read_csv('features/firstmeta/mfy_train.csv')\n",
    "\n",
    "# поготовим данные my_train_pd к работе с функцией class_1_percent_samples\n",
    "my_train_pd.set_index('id',drop=False,inplace=True)\n",
    "\n",
    "# с помощью функции class_1_percent_samples зададим долю класса 1\n",
    "list_c1_percent_id = class_1_percent_samples(my_train_pd,best_class_1_percent,random_state=best_random_state)[:1000000]\n",
    "\n",
    "# подготовим данные для обучения\n",
    "MX_train_balanced = MX_train_pd.loc[list_c1_percent_id]\n",
    "my_train_balanced = my_train_pd.loc[list_c1_percent_id]['flag'].to_numpy()\n",
    "\n",
    "# освободим память от \"тяжелых\" и ненужных файлов\n",
    "del MX_train_pd, my_train_pd\n",
    "gc.collect()\n",
    "\n",
    "# с помощью класса SelectKBest получим список лучших признаков\n",
    "selector = SelectKBest(f_classif, k=best_k_features)\n",
    "selector.fit(MX_train_balanced, my_train_balanced)\n",
    "list_best_features = selector.get_feature_names_out()\n",
    "\n",
    "MX_train_balanced = MX_train_balanced[list_best_features].to_numpy()\n",
    "\n",
    "# обучаем модель HistGradientBoostingClassifier с наилучшеми параметрами\n",
    "gradient_boosting = HistGradientBoostingClassifier(\n",
    "        **best_param_hgbc,\n",
    "        random_state=best_random_state)\n",
    "gradient_boosting.fit(MX_train_balanced,my_train_balanced)\n",
    "\n",
    "# удаляем крупные файлы чтобы высвободить память \n",
    "del MX_train_balanced, my_train_balanced\n",
    "gc.collect()\n",
    "\n",
    "# загружаем тестовые наборы\n",
    "MX_train = fp.ParquetFile('features/firstmeta/features_first_meta_torow_train').to_pandas()[list_best_features].to_numpy()\n",
    "MX_valid = fp.ParquetFile('features/firstmeta/features_first_meta_torow_valid').to_pandas()[list_best_features].to_numpy()\n",
    "my_train = pd.read_csv('features/firstmeta/mfy_train.csv')['flag'].to_numpy()\n",
    "my_valid = pd.read_csv('features/firstmeta/mfy_valid.csv')['flag'].to_numpy()\n",
    "\n",
    "# для метрик ROC AUC делаем предсказание модели в виде вероятности\n",
    "my_train_gb_pred_proba = gradient_boosting.predict_proba(MX_train)[:,1]\n",
    "my_valid_gb_pred_proba = gradient_boosting.predict_proba(MX_valid)[:,1]\n",
    "\n",
    "# Делаем предсказание для валидационной выборки\n",
    "my_valid_gb_pred = gradient_boosting.predict(MX_valid)\n",
    "\n",
    "#Выводим значения метрик\n",
    "print('ROC AUC на обучающем наборе', round(metrics.roc_auc_score(my_train, my_train_gb_pred_proba),3))\n",
    "print('ROC AUC на валидационном наборе', round(metrics.roc_auc_score(my_valid, my_valid_gb_pred_proba),3))\n",
    "\n",
    "print('Основные метрики на валидационом наборе:')\n",
    "print(metrics.classification_report(my_valid,my_valid_gb_pred,zero_division=0))\n",
    "\n",
    "# time: 1m 40s"
   ]
  },
  {
   "cell_type": "markdown",
   "metadata": {},
   "source": [
    "### <span style=\"color:RoyalBlue\">Построение блендинга из базовых моделей обученных на transform data stat данных</span>"
   ]
  },
  {
   "cell_type": "markdown",
   "metadata": {},
   "source": [
    "#### <span style=\"color:MediumBlue\">Построение метамодели Logistic Regression</span>"
   ]
  },
  {
   "cell_type": "markdown",
   "metadata": {},
   "source": [
    "##### <span style=\"color:MediumSlateBlue\">Baseline обучение метамодели LogisticRegression</span>"
   ]
  },
  {
   "cell_type": "code",
   "execution_count": 70,
   "metadata": {},
   "outputs": [],
   "source": [
    "MX_train = fp.ParquetFile('features/firstmeta/features_first_meta_stat_train').to_pandas()\n",
    "my_train = pd.read_csv('features/firstmeta/mfy_train.csv').set_index('id')['flag']\n",
    "MX_valid = fp.ParquetFile('features/firstmeta/features_first_meta_stat_valid').to_pandas()\n",
    "my_valid = pd.read_csv('features/firstmeta/mfy_valid.csv').set_index('id')['flag']"
   ]
  },
  {
   "cell_type": "code",
   "execution_count": 71,
   "metadata": {},
   "outputs": [
    {
     "name": "stdout",
     "output_type": "stream",
     "text": [
      "ROC AUC на обучающем наборе 0.736\n",
      "ROC AUC на тестовом наборе 0.727\n",
      "Основные метрики на тестовом наборе:\n",
      "              precision    recall  f1-score   support\n",
      "\n",
      "           0       0.97      1.00      0.98    144390\n",
      "           1       0.13      0.00      0.00      5235\n",
      "\n",
      "    accuracy                           0.96    149625\n",
      "   macro avg       0.55      0.50      0.49    149625\n",
      "weighted avg       0.94      0.96      0.95    149625\n",
      "\n"
     ]
    }
   ],
   "source": [
    "# обучаем модель логистической регрессии\n",
    "logistic_regression = linear_model.LogisticRegression(random_state=42, max_iter=10000)\n",
    "logistic_regression.fit(MX_train,my_train)\n",
    "\n",
    "# для метрик ROC AUC делаем предсказание модели в виде вероятности\n",
    "my_train_LR_pred_proba = logistic_regression.predict_proba(MX_train)[:,1]\n",
    "my_valid_LR_pred_proba = logistic_regression.predict_proba(MX_valid)[:,1]\n",
    "\n",
    "# Делаем предсказание для валидационной выборки\n",
    "my_valid_LR_pred = logistic_regression.predict(MX_valid)\n",
    "\n",
    "#Выводим значения метрик\n",
    "print('ROC AUC на обучающем наборе', round(metrics.roc_auc_score(my_train, my_train_LR_pred_proba),3))\n",
    "print('ROC AUC на тестовом наборе', round(metrics.roc_auc_score(my_valid, my_valid_LR_pred_proba),3))\n",
    "\n",
    "print('Основные метрики на тестовом наборе:')\n",
    "print(metrics.classification_report(my_valid,my_valid_LR_pred,zero_division=0))\n",
    "\n",
    "# time: 3m 5s"
   ]
  },
  {
   "cell_type": "markdown",
   "metadata": {},
   "source": [
    "##### <span style=\"color:MediumSlateBlue\">Подбор гиперпараметров модели</span>"
   ]
  },
  {
   "cell_type": "code",
   "execution_count": 72,
   "metadata": {},
   "outputs": [],
   "source": [
    "# настроим оптимизацию гипер параметров\n",
    "def optuna_lg_meta(trial):\n",
    "  # задаем пространства поиска гиперпараметров\n",
    "  C = trial.suggest_float('C',0.01,1)\n",
    "  class_0_weight = trial.suggest_float('class_0_weight',0.01,1)\n",
    "  class_1_weight = trial.suggest_float('class_1_weight',0.01,1)\n",
    "  k_features = trial.suggest_int('k_features', 20, 342,step = 1)\n",
    "  class_1_percent = trial.suggest_float('class_1_percent',0.1,1)\n",
    "  random_state = trial.suggest_int('random_state', 1, 1000000)\n",
    "\n",
    "\n",
    "  # создаем модель\n",
    "  optuna_log_reg_meta = linear_model.LogisticRegression(\n",
    "      C=C,\n",
    "      class_weight={0:class_0_weight,1:class_1_weight},\n",
    "      random_state=random_state,\n",
    "      max_iter=10000)\n",
    "\n",
    "  # Загружаем обучающие наборы\n",
    "  MX_train_pd = fp.ParquetFile('features/firstmeta/features_first_meta_stat_train').to_pandas()\n",
    "  my_train_pd = pd.read_csv('features/firstmeta/mfy_train.csv')\n",
    "\n",
    "  # поготовим данные my_train_pd к работе с функцией class_1_percent_samples\n",
    "  my_train_pd.set_index('id',drop=False,inplace=True)\n",
    "\n",
    "  # с помощью функции class_1_percent_samples зададим долю класса 1\n",
    "  list_c1_percent_id = class_1_percent_samples(my_train_pd,class_1_percent,random_state=random_state)[:1000000]\n",
    "\n",
    "  # подготовим данные для обучения\n",
    "  MX_train_balanced = MX_train_pd.loc[list_c1_percent_id]\n",
    "  my_train_balanced = my_train_pd.loc[list_c1_percent_id]['flag'].to_numpy()\n",
    "\n",
    "  # освободим память от \"тяжелых\" и ненужных файлов\n",
    "  del MX_train_pd, my_train_pd\n",
    "  gc.collect()\n",
    "  \n",
    "  # с помощью класса SelectKBest получим список лучших признаков\n",
    "  selector = SelectKBest(f_classif, k=k_features)\n",
    "  selector.fit(MX_train_balanced, my_train_balanced)\n",
    "  list_best_features = selector.get_feature_names_out()\n",
    "\n",
    "  MX_train_balanced = MX_train_balanced[list_best_features].to_numpy()\n",
    "\n",
    "  # я не воспользовался параметром timeout метода optimize потому, что  \n",
    "  # optimize отставливает поиск параметров, если время обучения \n",
    "  # превышает timeout. Мне нужно чтобы поиск параметров продолжился.\n",
    "  try:\n",
    "    # для модуля func_time_out упакуем обучение модели в функцию try_func\n",
    "    def try_func():\n",
    "            return optuna_log_reg_meta.fit(MX_train_balanced, my_train_balanced)\n",
    "    # обучаем модель с ограничением по времени 10 минут (600 секунд)\n",
    "    optuna_log_reg_meta = func_timeout.func_timeout(600, try_func)\n",
    "\n",
    "    # удаляем крупные файлы чтобы высвободить память \n",
    "    del MX_train_balanced, my_train_balanced\n",
    "    gc.collect()\n",
    "\n",
    "    # загружаем тестовые наборы\n",
    "    MX_train = fp.ParquetFile('features/firstmeta/features_first_meta_stat_train').to_pandas()[list_best_features].to_numpy()\n",
    "    MX_valid = fp.ParquetFile('features/firstmeta/features_first_meta_stat_valid').to_pandas()[list_best_features].to_numpy()\n",
    "    my_train = pd.read_csv('features/firstmeta/mfy_train.csv')['flag'].to_numpy()\n",
    "    my_valid = pd.read_csv('features/firstmeta/mfy_valid.csv')['flag'].to_numpy()\n",
    "    \n",
    "    # делаем предсказание на обучающем и валидационном наборе и считаем метрики\n",
    "    roc_train = metrics.roc_auc_score(my_train, optuna_log_reg_meta.predict_proba(MX_train)[:,1])\n",
    "    roc_valid = metrics.roc_auc_score(my_valid, optuna_log_reg_meta.predict_proba(MX_valid)[:,1])\n",
    "    f1_score = metrics.f1_score(my_valid, optuna_log_reg_meta.predict(MX_valid))\n",
    "    recall_1 = metrics.recall_score(my_valid, optuna_log_reg_meta.predict(MX_valid),average=None,zero_division=0)[1]\n",
    "    precision_1 = metrics.precision_score(my_valid, optuna_log_reg_meta.predict(MX_valid),average=None,zero_division=0)[1]\n",
    "\n",
    "    # удаляем крупные файлы чтобы высвободить память \n",
    "    del MX_train, MX_valid, my_train, my_valid\n",
    "    gc.collect()\n",
    "\n",
    "  except func_timeout.FunctionTimedOut:\n",
    "    # удаляем крупные файлы чтобы высвободить память \n",
    "    del MX_train_balanced, my_train_balanced\n",
    "    gc.collect()\n",
    "    \n",
    "    # фиксируем пустые значения метрик\n",
    "    roc_train = 0\n",
    "    roc_valid = 0\n",
    "    f1_score = 0\n",
    "    recall_1 = 0\n",
    "    precision_1 = 0\n",
    "    pass\n",
    "\n",
    "  return roc_train, roc_valid, f1_score, recall_1, precision_1"
   ]
  },
  {
   "cell_type": "code",
   "execution_count": null,
   "metadata": {},
   "outputs": [
    {
     "name": "stderr",
     "output_type": "stream",
     "text": [
      "[I 2025-04-20 18:53:11,260] A new study created in RDB with name: LogisticRegression_meta_first_stat\n"
     ]
    }
   ],
   "source": [
    "# на случай удаления\n",
    "# optuna.delete_study(study_name=\"LogisticRegression_meta_first_stat\", storage='sqlite:///optuna_studies.db')\n",
    "\n",
    "# cоздаем объект исследования\n",
    "# чтобы модель не переобучалась минимизируем roc_train \n",
    "# и максимизируем roc_valid\n",
    "optuna_study_lg_meta = optuna.create_study(study_name=\"LogisticRegression_meta_first_stat\", \n",
    "                               directions=['maximize','maximize','maximize','maximize','maximize'], \n",
    "                               sampler=optuna.samplers.TPESampler(),\n",
    "                               pruner='Hyperband',\n",
    "                               storage='sqlite:///optuna_studies.db',\n",
    "                               load_if_exists=True)"
   ]
  },
  {
   "cell_type": "code",
   "execution_count": null,
   "metadata": {},
   "outputs": [],
   "source": [
    "# ищем лучшую комбинацию гиперпараметров n_trials раз\n",
    "optuna_study_lg_meta.optimize(optuna_lg_meta, n_trials=300)"
   ]
  },
  {
   "cell_type": "markdown",
   "metadata": {},
   "source": [
    "##### <span style=\"color:MediumSlateBlue\">Анализ гиперпараметров</span>"
   ]
  },
  {
   "cell_type": "code",
   "execution_count": 75,
   "metadata": {},
   "outputs": [
    {
     "data": {
      "text/html": [
       "<div>\n",
       "<style scoped>\n",
       "    .dataframe tbody tr th:only-of-type {\n",
       "        vertical-align: middle;\n",
       "    }\n",
       "\n",
       "    .dataframe tbody tr th {\n",
       "        vertical-align: top;\n",
       "    }\n",
       "\n",
       "    .dataframe thead th {\n",
       "        text-align: right;\n",
       "    }\n",
       "</style>\n",
       "<table border=\"1\" class=\"dataframe\">\n",
       "  <thead>\n",
       "    <tr style=\"text-align: right;\">\n",
       "      <th></th>\n",
       "      <th>number</th>\n",
       "      <th>roc_train</th>\n",
       "      <th>roc_valid</th>\n",
       "      <th>f1_score</th>\n",
       "      <th>recall_1</th>\n",
       "      <th>precision_1</th>\n",
       "      <th>datetime_start</th>\n",
       "      <th>datetime_complete</th>\n",
       "      <th>duration</th>\n",
       "      <th>params_C</th>\n",
       "      <th>params_class_0_weight</th>\n",
       "      <th>params_class_1_percent</th>\n",
       "      <th>params_class_1_weight</th>\n",
       "      <th>params_k_features</th>\n",
       "      <th>params_random_state</th>\n",
       "      <th>state</th>\n",
       "    </tr>\n",
       "  </thead>\n",
       "  <tbody>\n",
       "    <tr>\n",
       "      <th>295</th>\n",
       "      <td>295</td>\n",
       "      <td>0.738451</td>\n",
       "      <td>0.727707</td>\n",
       "      <td>0.144222</td>\n",
       "      <td>0.158548</td>\n",
       "      <td>0.132271</td>\n",
       "      <td>2025-04-20 19:21:52.633749</td>\n",
       "      <td>2025-04-20 19:22:01.731859</td>\n",
       "      <td>0 days 00:00:09.098110</td>\n",
       "      <td>0.978021</td>\n",
       "      <td>0.366845</td>\n",
       "      <td>0.132793</td>\n",
       "      <td>0.694424</td>\n",
       "      <td>308</td>\n",
       "      <td>471344</td>\n",
       "      <td>COMPLETE</td>\n",
       "    </tr>\n",
       "    <tr>\n",
       "      <th>296</th>\n",
       "      <td>296</td>\n",
       "      <td>0.728412</td>\n",
       "      <td>0.719076</td>\n",
       "      <td>0.126981</td>\n",
       "      <td>0.126266</td>\n",
       "      <td>0.127705</td>\n",
       "      <td>2025-04-20 19:22:01.737773</td>\n",
       "      <td>2025-04-20 19:22:07.879444</td>\n",
       "      <td>0 days 00:00:06.141671</td>\n",
       "      <td>0.967208</td>\n",
       "      <td>0.364108</td>\n",
       "      <td>0.138004</td>\n",
       "      <td>0.637043</td>\n",
       "      <td>182</td>\n",
       "      <td>470174</td>\n",
       "      <td>COMPLETE</td>\n",
       "    </tr>\n",
       "    <tr>\n",
       "      <th>297</th>\n",
       "      <td>297</td>\n",
       "      <td>0.738185</td>\n",
       "      <td>0.727341</td>\n",
       "      <td>0.121309</td>\n",
       "      <td>0.108309</td>\n",
       "      <td>0.137856</td>\n",
       "      <td>2025-04-20 19:22:07.884179</td>\n",
       "      <td>2025-04-20 19:22:15.867755</td>\n",
       "      <td>0 days 00:00:07.983576</td>\n",
       "      <td>0.982616</td>\n",
       "      <td>0.401983</td>\n",
       "      <td>0.126507</td>\n",
       "      <td>0.690340</td>\n",
       "      <td>296</td>\n",
       "      <td>489837</td>\n",
       "      <td>COMPLETE</td>\n",
       "    </tr>\n",
       "    <tr>\n",
       "      <th>298</th>\n",
       "      <td>298</td>\n",
       "      <td>0.734438</td>\n",
       "      <td>0.726052</td>\n",
       "      <td>0.135716</td>\n",
       "      <td>0.140019</td>\n",
       "      <td>0.131669</td>\n",
       "      <td>2025-04-20 19:22:15.873917</td>\n",
       "      <td>2025-04-20 19:22:23.792801</td>\n",
       "      <td>0 days 00:00:07.918884</td>\n",
       "      <td>0.044228</td>\n",
       "      <td>0.379585</td>\n",
       "      <td>0.153891</td>\n",
       "      <td>0.601334</td>\n",
       "      <td>303</td>\n",
       "      <td>437409</td>\n",
       "      <td>COMPLETE</td>\n",
       "    </tr>\n",
       "    <tr>\n",
       "      <th>299</th>\n",
       "      <td>299</td>\n",
       "      <td>0.738595</td>\n",
       "      <td>0.728156</td>\n",
       "      <td>0.126694</td>\n",
       "      <td>0.637440</td>\n",
       "      <td>0.070337</td>\n",
       "      <td>2025-04-20 19:22:23.798719</td>\n",
       "      <td>2025-04-20 19:22:31.879695</td>\n",
       "      <td>0 days 00:00:08.080976</td>\n",
       "      <td>0.972004</td>\n",
       "      <td>0.136477</td>\n",
       "      <td>0.167092</td>\n",
       "      <td>0.651310</td>\n",
       "      <td>308</td>\n",
       "      <td>504329</td>\n",
       "      <td>COMPLETE</td>\n",
       "    </tr>\n",
       "  </tbody>\n",
       "</table>\n",
       "</div>"
      ],
      "text/plain": [
       "     number  roc_train  roc_valid  f1_score  recall_1  precision_1  \\\n",
       "295     295   0.738451   0.727707  0.144222  0.158548     0.132271   \n",
       "296     296   0.728412   0.719076  0.126981  0.126266     0.127705   \n",
       "297     297   0.738185   0.727341  0.121309  0.108309     0.137856   \n",
       "298     298   0.734438   0.726052  0.135716  0.140019     0.131669   \n",
       "299     299   0.738595   0.728156  0.126694  0.637440     0.070337   \n",
       "\n",
       "                datetime_start          datetime_complete  \\\n",
       "295 2025-04-20 19:21:52.633749 2025-04-20 19:22:01.731859   \n",
       "296 2025-04-20 19:22:01.737773 2025-04-20 19:22:07.879444   \n",
       "297 2025-04-20 19:22:07.884179 2025-04-20 19:22:15.867755   \n",
       "298 2025-04-20 19:22:15.873917 2025-04-20 19:22:23.792801   \n",
       "299 2025-04-20 19:22:23.798719 2025-04-20 19:22:31.879695   \n",
       "\n",
       "                  duration  params_C  params_class_0_weight  \\\n",
       "295 0 days 00:00:09.098110  0.978021               0.366845   \n",
       "296 0 days 00:00:06.141671  0.967208               0.364108   \n",
       "297 0 days 00:00:07.983576  0.982616               0.401983   \n",
       "298 0 days 00:00:07.918884  0.044228               0.379585   \n",
       "299 0 days 00:00:08.080976  0.972004               0.136477   \n",
       "\n",
       "     params_class_1_percent  params_class_1_weight  params_k_features  \\\n",
       "295                0.132793               0.694424                308   \n",
       "296                0.138004               0.637043                182   \n",
       "297                0.126507               0.690340                296   \n",
       "298                0.153891               0.601334                303   \n",
       "299                0.167092               0.651310                308   \n",
       "\n",
       "     params_random_state     state  \n",
       "295               471344  COMPLETE  \n",
       "296               470174  COMPLETE  \n",
       "297               489837  COMPLETE  \n",
       "298               437409  COMPLETE  \n",
       "299               504329  COMPLETE  "
      ]
     },
     "execution_count": 75,
     "metadata": {},
     "output_type": "execute_result"
    }
   ],
   "source": [
    "# из полученного результат соврмируем Data Frame\n",
    "optuna_study_lg_pd = optuna_study_lg_meta.trials_dataframe().dropna()\n",
    "# переименуем столбы\n",
    "optuna_study_lg_pd.rename(columns={\n",
    "    'values_0': 'roc_train',\n",
    "    'values_1': 'roc_valid',\n",
    "    'values_2': 'f1_score',\n",
    "    'values_3': 'recall_1',\n",
    "    'values_4': 'precision_1'\n",
    "},inplace=True)\n",
    "# Выделим время потраченное на обучение модели\n",
    "optuna_study_lg_pd.tail()"
   ]
  },
  {
   "cell_type": "code",
   "execution_count": 76,
   "metadata": {},
   "outputs": [
    {
     "name": "stdout",
     "output_type": "stream",
     "text": [
      "Максимальное значение метрики ROC AUC на валидационном наборе: 0.73\n",
      "Среднее значение метрики ROC AUC на валидационном наборе: 0.725\n",
      "Максимальное значение метрики recall_1 на валидационном наборе: 1.0\n",
      "Среднее значение метрики recall_1 на валидационном наборе: 0.462\n",
      "Максимальное значение метрики precision_1 на валидационном наборе: 0.214\n",
      "Среднее значение метрики precision_1 на валидационном наборе: 0.091\n"
     ]
    }
   ],
   "source": [
    "# покаждем статистику обучения\n",
    "print('Максимальное значение метрики ROC AUC на валидационном наборе:',round(optuna_study_lg_pd['roc_valid'].max(),3))\n",
    "print('Среднее значение метрики ROC AUC на валидационном наборе:',round(optuna_study_lg_pd['roc_valid'].mean(),3))\n",
    "print('Максимальное значение метрики recall_1 на валидационном наборе:',round(optuna_study_lg_pd['recall_1'].max(),3))\n",
    "print('Среднее значение метрики recall_1 на валидационном наборе:',round(optuna_study_lg_pd['recall_1'].mean(),3))\n",
    "print('Максимальное значение метрики precision_1 на валидационном наборе:',round(optuna_study_lg_pd['precision_1'].max(),3))\n",
    "print('Среднее значение метрики precision_1 на валидационном наборе:',round(optuna_study_lg_pd['precision_1'].mean(),3))"
   ]
  },
  {
   "cell_type": "code",
   "execution_count": 78,
   "metadata": {},
   "outputs": [
    {
     "data": {
      "application/vnd.plotly.v1+json": {
       "config": {
        "plotlyServerURL": "https://plot.ly"
       },
       "data": [
        {
         "cliponaxis": false,
         "hovertemplate": [
          "class_1_weight (FloatDistribution): 0.001017086678154261<extra></extra>",
          "class_0_weight (FloatDistribution): 0.0046052298128628055<extra></extra>",
          "random_state (IntDistribution): 0.010177124840944938<extra></extra>",
          "C (FloatDistribution): 0.013517976732130791<extra></extra>",
          "class_1_percent (FloatDistribution): 0.01664711615404767<extra></extra>",
          "k_features (IntDistribution): 0.9540354657818597<extra></extra>"
         ],
         "name": "Score 0",
         "orientation": "h",
         "text": [
          "<0.01",
          "<0.01",
          "0.01",
          "0.01",
          "0.02",
          "0.95"
         ],
         "textposition": "outside",
         "type": "bar",
         "x": [
          0.001017086678154261,
          0.0046052298128628055,
          0.010177124840944938,
          0.013517976732130791,
          0.01664711615404767,
          0.9540354657818597
         ],
         "y": [
          "class_1_weight",
          "class_0_weight",
          "random_state",
          "C",
          "class_1_percent",
          "k_features"
         ]
        },
        {
         "cliponaxis": false,
         "hovertemplate": [
          "class_1_weight (FloatDistribution): 0.003232811415465949<extra></extra>",
          "random_state (IntDistribution): 0.0041975982207643845<extra></extra>",
          "class_0_weight (FloatDistribution): 0.006222217221271708<extra></extra>",
          "class_1_percent (FloatDistribution): 0.012748618079519713<extra></extra>",
          "C (FloatDistribution): 0.014736131898736534<extra></extra>",
          "k_features (IntDistribution): 0.9588626231642418<extra></extra>"
         ],
         "name": "Score 1",
         "orientation": "h",
         "text": [
          "<0.01",
          "<0.01",
          "<0.01",
          "0.01",
          "0.01",
          "0.96"
         ],
         "textposition": "outside",
         "type": "bar",
         "x": [
          0.003232811415465949,
          0.0041975982207643845,
          0.006222217221271708,
          0.012748618079519713,
          0.014736131898736534,
          0.9588626231642418
         ],
         "y": [
          "class_1_weight",
          "random_state",
          "class_0_weight",
          "class_1_percent",
          "C",
          "k_features"
         ]
        },
        {
         "cliponaxis": false,
         "hovertemplate": [
          "k_features (IntDistribution): 0.01586364344405293<extra></extra>",
          "C (FloatDistribution): 0.016133320822828826<extra></extra>",
          "random_state (IntDistribution): 0.021631292931777027<extra></extra>",
          "class_0_weight (FloatDistribution): 0.08045795954670285<extra></extra>",
          "class_1_percent (FloatDistribution): 0.3310362757261808<extra></extra>",
          "class_1_weight (FloatDistribution): 0.5348775075284574<extra></extra>"
         ],
         "name": "Score 2",
         "orientation": "h",
         "text": [
          "0.02",
          "0.02",
          "0.02",
          "0.08",
          "0.33",
          "0.53"
         ],
         "textposition": "outside",
         "type": "bar",
         "x": [
          0.01586364344405293,
          0.016133320822828826,
          0.021631292931777027,
          0.08045795954670285,
          0.3310362757261808,
          0.5348775075284574
         ],
         "y": [
          "k_features",
          "C",
          "random_state",
          "class_0_weight",
          "class_1_percent",
          "class_1_weight"
         ]
        },
        {
         "cliponaxis": false,
         "hovertemplate": [
          "k_features (IntDistribution): 0.0015882601979487182<extra></extra>",
          "random_state (IntDistribution): 0.0030436486012782155<extra></extra>",
          "C (FloatDistribution): 0.004555719775296529<extra></extra>",
          "class_1_weight (FloatDistribution): 0.16703367236695604<extra></extra>",
          "class_0_weight (FloatDistribution): 0.18309388331968654<extra></extra>",
          "class_1_percent (FloatDistribution): 0.6406848157388338<extra></extra>"
         ],
         "name": "Score 3",
         "orientation": "h",
         "text": [
          "<0.01",
          "<0.01",
          "<0.01",
          "0.17",
          "0.18",
          "0.64"
         ],
         "textposition": "outside",
         "type": "bar",
         "x": [
          0.0015882601979487182,
          0.0030436486012782155,
          0.004555719775296529,
          0.16703367236695604,
          0.18309388331968654,
          0.6406848157388338
         ],
         "y": [
          "k_features",
          "random_state",
          "C",
          "class_1_weight",
          "class_0_weight",
          "class_1_percent"
         ]
        },
        {
         "cliponaxis": false,
         "hovertemplate": [
          "C (FloatDistribution): 0.0014065394049847665<extra></extra>",
          "random_state (IntDistribution): 0.0019452558654505043<extra></extra>",
          "k_features (IntDistribution): 0.007385495650192228<extra></extra>",
          "class_1_weight (FloatDistribution): 0.13990955855550685<extra></extra>",
          "class_0_weight (FloatDistribution): 0.2625161835968103<extra></extra>",
          "class_1_percent (FloatDistribution): 0.5868369669270552<extra></extra>"
         ],
         "name": "Score 4",
         "orientation": "h",
         "text": [
          "<0.01",
          "<0.01",
          "<0.01",
          "0.14",
          "0.26",
          "0.59"
         ],
         "textposition": "outside",
         "type": "bar",
         "x": [
          0.0014065394049847665,
          0.0019452558654505043,
          0.007385495650192228,
          0.13990955855550685,
          0.2625161835968103,
          0.5868369669270552
         ],
         "y": [
          "C",
          "random_state",
          "k_features",
          "class_1_weight",
          "class_0_weight",
          "class_1_percent"
         ]
        }
       ],
       "layout": {
        "template": {
         "data": {
          "bar": [
           {
            "error_x": {
             "color": "#2a3f5f"
            },
            "error_y": {
             "color": "#2a3f5f"
            },
            "marker": {
             "line": {
              "color": "#E5ECF6",
              "width": 0.5
             },
             "pattern": {
              "fillmode": "overlay",
              "size": 10,
              "solidity": 0.2
             }
            },
            "type": "bar"
           }
          ],
          "barpolar": [
           {
            "marker": {
             "line": {
              "color": "#E5ECF6",
              "width": 0.5
             },
             "pattern": {
              "fillmode": "overlay",
              "size": 10,
              "solidity": 0.2
             }
            },
            "type": "barpolar"
           }
          ],
          "carpet": [
           {
            "aaxis": {
             "endlinecolor": "#2a3f5f",
             "gridcolor": "white",
             "linecolor": "white",
             "minorgridcolor": "white",
             "startlinecolor": "#2a3f5f"
            },
            "baxis": {
             "endlinecolor": "#2a3f5f",
             "gridcolor": "white",
             "linecolor": "white",
             "minorgridcolor": "white",
             "startlinecolor": "#2a3f5f"
            },
            "type": "carpet"
           }
          ],
          "choropleth": [
           {
            "colorbar": {
             "outlinewidth": 0,
             "ticks": ""
            },
            "type": "choropleth"
           }
          ],
          "contour": [
           {
            "colorbar": {
             "outlinewidth": 0,
             "ticks": ""
            },
            "colorscale": [
             [
              0,
              "#0d0887"
             ],
             [
              0.1111111111111111,
              "#46039f"
             ],
             [
              0.2222222222222222,
              "#7201a8"
             ],
             [
              0.3333333333333333,
              "#9c179e"
             ],
             [
              0.4444444444444444,
              "#bd3786"
             ],
             [
              0.5555555555555556,
              "#d8576b"
             ],
             [
              0.6666666666666666,
              "#ed7953"
             ],
             [
              0.7777777777777778,
              "#fb9f3a"
             ],
             [
              0.8888888888888888,
              "#fdca26"
             ],
             [
              1,
              "#f0f921"
             ]
            ],
            "type": "contour"
           }
          ],
          "contourcarpet": [
           {
            "colorbar": {
             "outlinewidth": 0,
             "ticks": ""
            },
            "type": "contourcarpet"
           }
          ],
          "heatmap": [
           {
            "colorbar": {
             "outlinewidth": 0,
             "ticks": ""
            },
            "colorscale": [
             [
              0,
              "#0d0887"
             ],
             [
              0.1111111111111111,
              "#46039f"
             ],
             [
              0.2222222222222222,
              "#7201a8"
             ],
             [
              0.3333333333333333,
              "#9c179e"
             ],
             [
              0.4444444444444444,
              "#bd3786"
             ],
             [
              0.5555555555555556,
              "#d8576b"
             ],
             [
              0.6666666666666666,
              "#ed7953"
             ],
             [
              0.7777777777777778,
              "#fb9f3a"
             ],
             [
              0.8888888888888888,
              "#fdca26"
             ],
             [
              1,
              "#f0f921"
             ]
            ],
            "type": "heatmap"
           }
          ],
          "heatmapgl": [
           {
            "colorbar": {
             "outlinewidth": 0,
             "ticks": ""
            },
            "colorscale": [
             [
              0,
              "#0d0887"
             ],
             [
              0.1111111111111111,
              "#46039f"
             ],
             [
              0.2222222222222222,
              "#7201a8"
             ],
             [
              0.3333333333333333,
              "#9c179e"
             ],
             [
              0.4444444444444444,
              "#bd3786"
             ],
             [
              0.5555555555555556,
              "#d8576b"
             ],
             [
              0.6666666666666666,
              "#ed7953"
             ],
             [
              0.7777777777777778,
              "#fb9f3a"
             ],
             [
              0.8888888888888888,
              "#fdca26"
             ],
             [
              1,
              "#f0f921"
             ]
            ],
            "type": "heatmapgl"
           }
          ],
          "histogram": [
           {
            "marker": {
             "pattern": {
              "fillmode": "overlay",
              "size": 10,
              "solidity": 0.2
             }
            },
            "type": "histogram"
           }
          ],
          "histogram2d": [
           {
            "colorbar": {
             "outlinewidth": 0,
             "ticks": ""
            },
            "colorscale": [
             [
              0,
              "#0d0887"
             ],
             [
              0.1111111111111111,
              "#46039f"
             ],
             [
              0.2222222222222222,
              "#7201a8"
             ],
             [
              0.3333333333333333,
              "#9c179e"
             ],
             [
              0.4444444444444444,
              "#bd3786"
             ],
             [
              0.5555555555555556,
              "#d8576b"
             ],
             [
              0.6666666666666666,
              "#ed7953"
             ],
             [
              0.7777777777777778,
              "#fb9f3a"
             ],
             [
              0.8888888888888888,
              "#fdca26"
             ],
             [
              1,
              "#f0f921"
             ]
            ],
            "type": "histogram2d"
           }
          ],
          "histogram2dcontour": [
           {
            "colorbar": {
             "outlinewidth": 0,
             "ticks": ""
            },
            "colorscale": [
             [
              0,
              "#0d0887"
             ],
             [
              0.1111111111111111,
              "#46039f"
             ],
             [
              0.2222222222222222,
              "#7201a8"
             ],
             [
              0.3333333333333333,
              "#9c179e"
             ],
             [
              0.4444444444444444,
              "#bd3786"
             ],
             [
              0.5555555555555556,
              "#d8576b"
             ],
             [
              0.6666666666666666,
              "#ed7953"
             ],
             [
              0.7777777777777778,
              "#fb9f3a"
             ],
             [
              0.8888888888888888,
              "#fdca26"
             ],
             [
              1,
              "#f0f921"
             ]
            ],
            "type": "histogram2dcontour"
           }
          ],
          "mesh3d": [
           {
            "colorbar": {
             "outlinewidth": 0,
             "ticks": ""
            },
            "type": "mesh3d"
           }
          ],
          "parcoords": [
           {
            "line": {
             "colorbar": {
              "outlinewidth": 0,
              "ticks": ""
             }
            },
            "type": "parcoords"
           }
          ],
          "pie": [
           {
            "automargin": true,
            "type": "pie"
           }
          ],
          "scatter": [
           {
            "fillpattern": {
             "fillmode": "overlay",
             "size": 10,
             "solidity": 0.2
            },
            "type": "scatter"
           }
          ],
          "scatter3d": [
           {
            "line": {
             "colorbar": {
              "outlinewidth": 0,
              "ticks": ""
             }
            },
            "marker": {
             "colorbar": {
              "outlinewidth": 0,
              "ticks": ""
             }
            },
            "type": "scatter3d"
           }
          ],
          "scattercarpet": [
           {
            "marker": {
             "colorbar": {
              "outlinewidth": 0,
              "ticks": ""
             }
            },
            "type": "scattercarpet"
           }
          ],
          "scattergeo": [
           {
            "marker": {
             "colorbar": {
              "outlinewidth": 0,
              "ticks": ""
             }
            },
            "type": "scattergeo"
           }
          ],
          "scattergl": [
           {
            "marker": {
             "colorbar": {
              "outlinewidth": 0,
              "ticks": ""
             }
            },
            "type": "scattergl"
           }
          ],
          "scattermapbox": [
           {
            "marker": {
             "colorbar": {
              "outlinewidth": 0,
              "ticks": ""
             }
            },
            "type": "scattermapbox"
           }
          ],
          "scatterpolar": [
           {
            "marker": {
             "colorbar": {
              "outlinewidth": 0,
              "ticks": ""
             }
            },
            "type": "scatterpolar"
           }
          ],
          "scatterpolargl": [
           {
            "marker": {
             "colorbar": {
              "outlinewidth": 0,
              "ticks": ""
             }
            },
            "type": "scatterpolargl"
           }
          ],
          "scatterternary": [
           {
            "marker": {
             "colorbar": {
              "outlinewidth": 0,
              "ticks": ""
             }
            },
            "type": "scatterternary"
           }
          ],
          "surface": [
           {
            "colorbar": {
             "outlinewidth": 0,
             "ticks": ""
            },
            "colorscale": [
             [
              0,
              "#0d0887"
             ],
             [
              0.1111111111111111,
              "#46039f"
             ],
             [
              0.2222222222222222,
              "#7201a8"
             ],
             [
              0.3333333333333333,
              "#9c179e"
             ],
             [
              0.4444444444444444,
              "#bd3786"
             ],
             [
              0.5555555555555556,
              "#d8576b"
             ],
             [
              0.6666666666666666,
              "#ed7953"
             ],
             [
              0.7777777777777778,
              "#fb9f3a"
             ],
             [
              0.8888888888888888,
              "#fdca26"
             ],
             [
              1,
              "#f0f921"
             ]
            ],
            "type": "surface"
           }
          ],
          "table": [
           {
            "cells": {
             "fill": {
              "color": "#EBF0F8"
             },
             "line": {
              "color": "white"
             }
            },
            "header": {
             "fill": {
              "color": "#C8D4E3"
             },
             "line": {
              "color": "white"
             }
            },
            "type": "table"
           }
          ]
         },
         "layout": {
          "annotationdefaults": {
           "arrowcolor": "#2a3f5f",
           "arrowhead": 0,
           "arrowwidth": 1
          },
          "autotypenumbers": "strict",
          "coloraxis": {
           "colorbar": {
            "outlinewidth": 0,
            "ticks": ""
           }
          },
          "colorscale": {
           "diverging": [
            [
             0,
             "#8e0152"
            ],
            [
             0.1,
             "#c51b7d"
            ],
            [
             0.2,
             "#de77ae"
            ],
            [
             0.3,
             "#f1b6da"
            ],
            [
             0.4,
             "#fde0ef"
            ],
            [
             0.5,
             "#f7f7f7"
            ],
            [
             0.6,
             "#e6f5d0"
            ],
            [
             0.7,
             "#b8e186"
            ],
            [
             0.8,
             "#7fbc41"
            ],
            [
             0.9,
             "#4d9221"
            ],
            [
             1,
             "#276419"
            ]
           ],
           "sequential": [
            [
             0,
             "#0d0887"
            ],
            [
             0.1111111111111111,
             "#46039f"
            ],
            [
             0.2222222222222222,
             "#7201a8"
            ],
            [
             0.3333333333333333,
             "#9c179e"
            ],
            [
             0.4444444444444444,
             "#bd3786"
            ],
            [
             0.5555555555555556,
             "#d8576b"
            ],
            [
             0.6666666666666666,
             "#ed7953"
            ],
            [
             0.7777777777777778,
             "#fb9f3a"
            ],
            [
             0.8888888888888888,
             "#fdca26"
            ],
            [
             1,
             "#f0f921"
            ]
           ],
           "sequentialminus": [
            [
             0,
             "#0d0887"
            ],
            [
             0.1111111111111111,
             "#46039f"
            ],
            [
             0.2222222222222222,
             "#7201a8"
            ],
            [
             0.3333333333333333,
             "#9c179e"
            ],
            [
             0.4444444444444444,
             "#bd3786"
            ],
            [
             0.5555555555555556,
             "#d8576b"
            ],
            [
             0.6666666666666666,
             "#ed7953"
            ],
            [
             0.7777777777777778,
             "#fb9f3a"
            ],
            [
             0.8888888888888888,
             "#fdca26"
            ],
            [
             1,
             "#f0f921"
            ]
           ]
          },
          "colorway": [
           "#636efa",
           "#EF553B",
           "#00cc96",
           "#ab63fa",
           "#FFA15A",
           "#19d3f3",
           "#FF6692",
           "#B6E880",
           "#FF97FF",
           "#FECB52"
          ],
          "font": {
           "color": "#2a3f5f"
          },
          "geo": {
           "bgcolor": "white",
           "lakecolor": "white",
           "landcolor": "#E5ECF6",
           "showlakes": true,
           "showland": true,
           "subunitcolor": "white"
          },
          "hoverlabel": {
           "align": "left"
          },
          "hovermode": "closest",
          "mapbox": {
           "style": "light"
          },
          "paper_bgcolor": "white",
          "plot_bgcolor": "#E5ECF6",
          "polar": {
           "angularaxis": {
            "gridcolor": "white",
            "linecolor": "white",
            "ticks": ""
           },
           "bgcolor": "#E5ECF6",
           "radialaxis": {
            "gridcolor": "white",
            "linecolor": "white",
            "ticks": ""
           }
          },
          "scene": {
           "xaxis": {
            "backgroundcolor": "#E5ECF6",
            "gridcolor": "white",
            "gridwidth": 2,
            "linecolor": "white",
            "showbackground": true,
            "ticks": "",
            "zerolinecolor": "white"
           },
           "yaxis": {
            "backgroundcolor": "#E5ECF6",
            "gridcolor": "white",
            "gridwidth": 2,
            "linecolor": "white",
            "showbackground": true,
            "ticks": "",
            "zerolinecolor": "white"
           },
           "zaxis": {
            "backgroundcolor": "#E5ECF6",
            "gridcolor": "white",
            "gridwidth": 2,
            "linecolor": "white",
            "showbackground": true,
            "ticks": "",
            "zerolinecolor": "white"
           }
          },
          "shapedefaults": {
           "line": {
            "color": "#2a3f5f"
           }
          },
          "ternary": {
           "aaxis": {
            "gridcolor": "white",
            "linecolor": "white",
            "ticks": ""
           },
           "baxis": {
            "gridcolor": "white",
            "linecolor": "white",
            "ticks": ""
           },
           "bgcolor": "#E5ECF6",
           "caxis": {
            "gridcolor": "white",
            "linecolor": "white",
            "ticks": ""
           }
          },
          "title": {
           "x": 0.05
          },
          "xaxis": {
           "automargin": true,
           "gridcolor": "white",
           "linecolor": "white",
           "ticks": "",
           "title": {
            "standoff": 15
           },
           "zerolinecolor": "white",
           "zerolinewidth": 2
          },
          "yaxis": {
           "automargin": true,
           "gridcolor": "white",
           "linecolor": "white",
           "ticks": "",
           "title": {
            "standoff": 15
           },
           "zerolinecolor": "white",
           "zerolinewidth": 2
          }
         }
        },
        "title": {
         "text": "Hyperparameter Importances"
        },
        "xaxis": {
         "title": {
          "text": "Hyperparameter Importance"
         }
        },
        "yaxis": {
         "title": {
          "text": "Hyperparameter"
         }
        }
       }
      }
     },
     "metadata": {},
     "output_type": "display_data"
    }
   ],
   "source": [
    "# построим график важности гиперпарметров\n",
    "optuna.visualization.plot_param_importances(optuna_study_lg_meta, target_name='Score')"
   ]
  },
  {
   "cell_type": "code",
   "execution_count": 80,
   "metadata": {},
   "outputs": [
    {
     "data": {
      "application/vnd.plotly.v1+json": {
       "config": {
        "plotlyServerURL": "https://plot.ly"
       },
       "data": [
        {
         "hovertemplate": "variable=roc_train<br>precision_1=%{x}<br>value=%{y}<extra></extra>",
         "legendgroup": "roc_train",
         "marker": {
          "color": "#636efa",
          "symbol": "circle"
         },
         "mode": "markers",
         "name": "roc_train",
         "showlegend": true,
         "type": "scattergl",
         "x": [
          0.0349874686716792,
          0.040191498718087006,
          0.0794835709478064,
          0.05618373600151848,
          0.05906301540838918,
          0.03499846234071855,
          0,
          0.11521804814180683,
          0.1381337252020573,
          0.0508945236035872,
          0.14795918367346939,
          0.13706207744314688,
          0,
          0.08203779786359901,
          0.05632699660152931,
          0.03824815126488483,
          0.14017391304347826,
          0.03555256394566149,
          0.034987936346684664,
          0.15319148936170213,
          0.1510228640192539,
          0.05789154673470251,
          0.036056380826099264,
          0.07026049385817278,
          0.0349874686716792,
          0.077624673757472,
          0.04436793915675995,
          0.035432537208230544,
          0.05550026191723415,
          0.0349874686716792,
          0.15415657788539144,
          0.12084946615041652,
          0.07742371050499595,
          0.08396710141436388,
          0.05374193073316806,
          0.12630176798256237,
          0.16987179487179488,
          0.19078947368421054,
          0.06243657355803624,
          0.21379310344827587,
          0.08941822803493092,
          0.09706959706959707,
          0.09038229040730396,
          0.09012428059054133,
          0.15286975717439294,
          0.04068404240859046,
          0.11957446808510638,
          0.05088831354343362,
          0.09148472721746619,
          0,
          0.05179282868525897,
          0.1292168674698795,
          0.13630069238377843,
          0.08505672842165733,
          0.08768873403019745,
          0.14217506631299734,
          0.2,
          0.17784256559766765,
          0.06359393232205368,
          0.057728041130530754,
          0.04091353891193763,
          0.16579406631762653,
          0.0961673875867619,
          0.03503617392933869,
          0.08440188824533798,
          0.09892782137725213,
          0.10815968246698725,
          0.12649525642788395,
          0.08222472050465306,
          0.07083251199158946,
          0.14898813677599443,
          0.0682187983367148,
          0.0349874686716792,
          0.07804272831810204,
          0.03582970256269512,
          0.11980946463705085,
          0.13712451272643889,
          0.07032957967248278,
          0.10059100949197063,
          0.06110404796659918,
          0.13274336283185842,
          0.08692396960281511,
          0.03878040839813139,
          0.05562271705078709,
          0.0349874686716792,
          0.11701196381674935,
          0.09886461011139674,
          0.055824053599565694,
          0.09194748358862144,
          0.06210519530746422,
          0.03500454691344816,
          0.062160238156872896,
          0.0539181777755818,
          0.08696130167106421,
          0.10584518167456557,
          0.09553212558979438,
          0.0453531183755439,
          0.0880124951190941,
          0.03686655585389763,
          0.14033457249070633,
          0.05500297758574813,
          0.040205222403445706,
          0.057193412277119916,
          0.05585175892530448,
          0.12153881071266455,
          0.08107537263894755,
          0.037990604076499096,
          0.06512190350861594,
          0.1704081632653061,
          0.0388197578133309,
          0.042681462678375415,
          0.16,
          0,
          0.1793020457280385,
          0.03500431285229985,
          0.1193984658861526,
          0.0927345746622855,
          0.12538662859862004,
          0.12070037297969333,
          0.15129621759456013,
          0.10581832840634238,
          0.16604127579737335,
          0.13511856091578087,
          0.14342751842751844,
          0.11322588483032316,
          0.10839673344035737,
          0.08809365334168592,
          0.08862726813536931,
          0.04792426083434589,
          0.08610440609575963,
          0.10499457804426868,
          0.11520506835611871,
          0.12193025540275049,
          0.05828973758397733,
          0.09673500379650721,
          0.08266759291420632,
          0.09172482552342971,
          0.07568241306244547,
          0.09130509790390753,
          0.06263876191719994,
          0.08900873596006419,
          0.05641970624898379,
          0.09162821357943308,
          0.09841587284879744,
          0.09814172576220301,
          0.08721192950745595,
          0.04130215962748676,
          0.04106060359818628,
          0.07858206008322954,
          0.11161022805805114,
          0.06832724845915283,
          0.10333599557658045,
          0.102055982164974,
          0.05333800468746225,
          0.058573744387220794,
          0.08203743365304032,
          0.12434976467674015,
          0.06130328086656142,
          0.15542168674698795,
          0.08209536267090224,
          0.03533609498645078,
          0.0996089730397201,
          0.07203726598375132,
          0.14969325153374233,
          0.13180714533472077,
          0.0907563025210084,
          0.09090909090909091,
          0.09129784049604447,
          0.0798174264146527,
          0.06737197994225802,
          0.18282548476454294,
          0.0522606274537215,
          0.04382639881401522,
          0.16277056277056276,
          0.0349874686716792,
          0.08404814149876987,
          0.09151176394124529,
          0.10825658426240103,
          0.2,
          0.08289497551242518,
          0,
          0.03800344947554648,
          0.15626822157434403,
          0.039335111714184384,
          0.08571843672817085,
          0.06342721275241954,
          0.03679876297142209,
          0.1247107538667641,
          0.05102841890406657,
          0,
          0.04835268053130775,
          0.11757484181697989,
          0.04385427552160283,
          0.10347580447064603,
          0.0349874686716792,
          0.08641884701478844,
          0.1274470095855272,
          0.04085435167220793,
          0.09929339801729593,
          0.09916374426760183,
          0.14210178453403832,
          0.07290743392195632,
          0.11986335778157339,
          0.0855885348465008,
          0.12530562347188265,
          0.054769667981883,
          0.09936381281000647,
          0.13495038588754135,
          0.06427863755935909,
          0.08853943106879462,
          0.055241431717777977,
          0.06286932881863615,
          0.0670713485244677,
          0.06156681156681157,
          0.08878215060427641,
          0.08694677033492823,
          0.10785295379773994,
          0.05441981714542302,
          0.08571010677197602,
          0.05394119525435386,
          0.09907333862854117,
          0.04459404139185808,
          0.0764720942140297,
          0.10876111270433036,
          0.1023929773929774,
          0.11982821828846758,
          0.10384737678855326,
          0.0736981465136805,
          0.19473684210526315,
          0.12423436958280365,
          0.12995049504950495,
          0.052744658245779716,
          0.10493280759636275,
          0.09172210229525529,
          0.10371832028118641,
          0.12612255678816692,
          0.04879494271039115,
          0.16083395383469842,
          0.14836363636363636,
          0.04937091893613633,
          0.16279069767441862,
          0.13064752895123144,
          0.06901515454436404,
          0.12117162267513086,
          0.10460142579390797,
          0.03940604926915615,
          0.12269667880392805,
          0.07967475002873232,
          0.07765948888471749,
          0.0821151924037981,
          0.14455327990501632,
          0.13641870608189968,
          0.13399280575539568,
          0.1256150061500615,
          0.07828034524199716,
          0.11501626310083123,
          0.1297575076280713,
          0.1373449701423978,
          0.1078779276082328,
          0.06410495448921132,
          0,
          0.13993262503239182,
          0.07353350658993874,
          0.1341339303887645,
          0.15099135739705136,
          0.13184,
          0.15136804942630186,
          0.09698220273407274,
          0.1293657008613939,
          0.05388313292803758,
          0.11119727047146402,
          0.03500150436265169,
          0.12568519968676586,
          0.15337001375515819,
          0.06310607682049424,
          0.0587468671679198,
          0.13666749195345382,
          0.1629013079667063,
          0.0886646884272997,
          0.13775627735544804,
          0.0349874686716792,
          0.047532726792946386,
          0.2,
          0.08019455483717895,
          0.06221948867980984,
          0.11563384137993976,
          0.14453665283540804,
          0.057657757262500345,
          0.10026041666666667,
          0.06497224452745871,
          0.03683818046234154,
          0.08126867829943121,
          0.0990892132118951,
          0.05395550972304066,
          0.1323695080736012,
          0.13227091633466134,
          0.1277047913446677,
          0.13785557986870897,
          0.1316687623495599,
          0.07033703602217398
         ],
         "xaxis": "x",
         "y": [
          0.7299600768685355,
          0.6763509998100573,
          0.7323073910357868,
          0.7273751950840496,
          0.7284846788818118,
          0.7258235492615563,
          0.7244490447528873,
          0.7344007970240347,
          0.7335247032748408,
          0.7265291886939034,
          0.7389389930498003,
          0.7339835356833047,
          0.7244862435955944,
          0.7332272920220443,
          0.7352039176129082,
          0.7315891090652229,
          0.7336621006557231,
          0.7305280017443969,
          0.7242806713519787,
          0.7371204945426468,
          0.7320613752023796,
          0.7335125220238088,
          0.7305862446190876,
          0.7115488807742308,
          0.7138421564327299,
          0.7339910032169104,
          0.725084849355517,
          0.712224274910345,
          0.7317816428704074,
          0.7303121492701914,
          0.736169012706886,
          0.7344932734748506,
          0.735912919025322,
          0.7364447726584092,
          0.7356865149320686,
          0.7383839773023166,
          0.735072944420551,
          0.7373574147963425,
          0.7270625567998323,
          0.7333439932068545,
          0.736523356167188,
          0.7372180708518543,
          0.7392453034367521,
          0.7389998415627349,
          0.734399421945804,
          0.6765451638165151,
          0.7249872259579315,
          0.7388253545614109,
          0.727475926314584,
          0.730926655937701,
          0.7354650695947267,
          0.7378140203880905,
          0.7354847164275145,
          0.735885405830939,
          0.7387968592612371,
          0.7386173505568434,
          0.7341147833545489,
          0.7379791859237445,
          0.7379163972720431,
          0.7379357915029277,
          0.7358232217647337,
          0.7374480595173865,
          0.7377549652998743,
          0.6768570683678367,
          0.739103260815843,
          0.7357891127816913,
          0.7350900561256714,
          0.736283345403211,
          0.738893776007844,
          0.7338628777735077,
          0.7338334015874493,
          0.7332217878867495,
          0.7302558205096027,
          0.7257514578087493,
          0.7348598316116137,
          0.7381956970659527,
          0.7380521488368532,
          0.7390844993909504,
          0.7361737936818054,
          0.7353451399689109,
          0.738228826057708,
          0.7396702154596668,
          0.7381604502357655,
          0.7388281089468799,
          0.7242738199116504,
          0.7373968772156044,
          0.7392022065103854,
          0.737367211781436,
          0.7390210706951473,
          0.7384760082434009,
          0.7339747626874468,
          0.7366991158559517,
          0.7384312204457607,
          0.7389660278783119,
          0.7390318527951337,
          0.7263637823894358,
          0.7373755434965701,
          0.7389959259079226,
          0.7361477917885082,
          0.7387027033249383,
          0.7395688377601914,
          0.7372619762507007,
          0.7395139192111306,
          0.7385219568224214,
          0.7359166808906302,
          0.7386515199659045,
          0.7244841638182351,
          0.7361134241040317,
          0.737001827194405,
          0.7245298872839046,
          0.7380618536783679,
          0.7367386535840877,
          0.6767349231891057,
          0.7338943463103168,
          0.7341187438205811,
          0.7376949581968864,
          0.7377968419947665,
          0.7400885530829437,
          0.738784841152323,
          0.7378250100347794,
          0.7390594934290475,
          0.7377713331062147,
          0.7383474334678936,
          0.7380896463939169,
          0.7398448841456826,
          0.7405209680980702,
          0.7400838821435605,
          0.7406050000330956,
          0.73970434111476,
          0.740598081782573,
          0.7407485920161628,
          0.7404823800262211,
          0.7353864838901166,
          0.7388732123749087,
          0.736765916128417,
          0.7391590264677455,
          0.7395439445176182,
          0.7403769612655795,
          0.7388128266943734,
          0.739240543932181,
          0.7276827840139906,
          0.7340027560368968,
          0.7297794992416955,
          0.7400375558815907,
          0.7401556337711732,
          0.7403096394425646,
          0.7375738526628535,
          0.7366223006418244,
          0.725329508856585,
          0.7356956032330066,
          0.7405558001601609,
          0.7397433260627486,
          0.7367618408285512,
          0.7379125249645633,
          0.7386588568068961,
          0.7392084029830931,
          0.7402442996417615,
          0.7377751262011207,
          0.7383792294275178,
          0.7378382773276075,
          0.7369273303712829,
          0.7283432887073839,
          0.7390747982091543,
          0.7398208447560986,
          0.7380687838026437,
          0.7392553506652639,
          0.7367544112746908,
          0.739018917560764,
          0.7388331774130192,
          0.7399828951393665,
          0.7368180117332821,
          0.73920710980123,
          0.7387574058692806,
          0.7377563191517376,
          0.7328836504732299,
          0.7408584742508124,
          0.7397372809397327,
          0.6767351472858684,
          0.7360616070444079,
          0.7251491541879287,
          0.7327894256528964,
          0.7240780308681887,
          0.7399483911507074,
          0.7358378971545861,
          0.7373485808865035,
          0.7393294680975682,
          0.7353835310665777,
          0.7387126625575521,
          0.7388714639240641,
          0.7238675729817043,
          0.7374890739826001,
          0.7371735759130212,
          0.7248580668473708,
          0.7398664275259236,
          0.7243720866064207,
          0.7380530505914913,
          0.7383717978404803,
          0.6766110629849589,
          0.7405690898179355,
          0.7391090504905078,
          0.7392942145985608,
          0.7384621474255593,
          0.7377104882529985,
          0.7375076323337795,
          0.7382023268493304,
          0.7368887976018466,
          0.7398660641565402,
          0.7397283983149741,
          0.7390040475552146,
          0.7398007036173322,
          0.7375984793152659,
          0.7382214329383784,
          0.7401329669386802,
          0.7398674419998913,
          0.7402108826708237,
          0.7385413434898875,
          0.7389997327471047,
          0.7379254640213058,
          0.7341205596102459,
          0.7375626746626526,
          0.7404604989759535,
          0.7383572733123572,
          0.7394905920027665,
          0.738996045621381,
          0.7395507724137573,
          0.7400547257355717,
          0.7371753551868282,
          0.7401027605167906,
          0.7383439805641537,
          0.7389547441529098,
          0.7402908083203665,
          0.7389880296179628,
          0.7295632725816054,
          0.739173787007048,
          0.7399260885008688,
          0.7376863563945271,
          0.7383883764466062,
          0.739252313017583,
          0.7362550837557316,
          0.7331396766533192,
          0.7373186730976433,
          0.7383868107377052,
          0.7382534022060052,
          0.7395905978770945,
          0.740461858520712,
          0.7367288622105626,
          0.7395679187642129,
          0.740356251975848,
          0.7403786283893462,
          0.7384549303793528,
          0.7390414425588334,
          0.739137177135038,
          0.7387659740022295,
          0.7399708529576374,
          0.7391957681709487,
          0.7391671912183888,
          0.7397159651126552,
          0.7391013567049717,
          0.7397333904149875,
          0.738263237984115,
          0.7352271783770497,
          0.7387990145101244,
          0.7385984666533718,
          0.7400459986895129,
          0.7389527541606444,
          0.7394945871954608,
          0.7398864671684969,
          0.7390788174746638,
          0.7381716867914623,
          0.7397912380400803,
          0.7391311508799041,
          0.7350868282539557,
          0.7395386072654868,
          0.7246023215710079,
          0.7386888436456759,
          0.7385052992477031,
          0.7391815377215385,
          0.7386060673194039,
          0.7401390868012807,
          0.739863405005079,
          0.7242523859569925,
          0.6767717919658677,
          0.7338748995421402,
          0.7369058693753716,
          0.7292443556030049,
          0.7389095162131252,
          0.7398881818686041,
          0.7390616946277337,
          0.7399561331632009,
          0.7389561603826417,
          0.7364963394746148,
          0.7352698928221696,
          0.7382298264620915,
          0.7391614592046221,
          0.7383824895047562,
          0.7384507093413637,
          0.7284115947506938,
          0.7381852825643577,
          0.734437570444798,
          0.7385945611644442
         ],
         "yaxis": "y"
        },
        {
         "hovertemplate": "variable=roc_valid<br>precision_1=%{x}<br>value=%{y}<extra></extra>",
         "legendgroup": "roc_valid",
         "marker": {
          "color": "#EF553B",
          "symbol": "circle"
         },
         "mode": "markers",
         "name": "roc_valid",
         "showlegend": true,
         "type": "scattergl",
         "x": [
          0.0349874686716792,
          0.040191498718087006,
          0.0794835709478064,
          0.05618373600151848,
          0.05906301540838918,
          0.03499846234071855,
          0,
          0.11521804814180683,
          0.1381337252020573,
          0.0508945236035872,
          0.14795918367346939,
          0.13706207744314688,
          0,
          0.08203779786359901,
          0.05632699660152931,
          0.03824815126488483,
          0.14017391304347826,
          0.03555256394566149,
          0.034987936346684664,
          0.15319148936170213,
          0.1510228640192539,
          0.05789154673470251,
          0.036056380826099264,
          0.07026049385817278,
          0.0349874686716792,
          0.077624673757472,
          0.04436793915675995,
          0.035432537208230544,
          0.05550026191723415,
          0.0349874686716792,
          0.15415657788539144,
          0.12084946615041652,
          0.07742371050499595,
          0.08396710141436388,
          0.05374193073316806,
          0.12630176798256237,
          0.16987179487179488,
          0.19078947368421054,
          0.06243657355803624,
          0.21379310344827587,
          0.08941822803493092,
          0.09706959706959707,
          0.09038229040730396,
          0.09012428059054133,
          0.15286975717439294,
          0.04068404240859046,
          0.11957446808510638,
          0.05088831354343362,
          0.09148472721746619,
          0,
          0.05179282868525897,
          0.1292168674698795,
          0.13630069238377843,
          0.08505672842165733,
          0.08768873403019745,
          0.14217506631299734,
          0.2,
          0.17784256559766765,
          0.06359393232205368,
          0.057728041130530754,
          0.04091353891193763,
          0.16579406631762653,
          0.0961673875867619,
          0.03503617392933869,
          0.08440188824533798,
          0.09892782137725213,
          0.10815968246698725,
          0.12649525642788395,
          0.08222472050465306,
          0.07083251199158946,
          0.14898813677599443,
          0.0682187983367148,
          0.0349874686716792,
          0.07804272831810204,
          0.03582970256269512,
          0.11980946463705085,
          0.13712451272643889,
          0.07032957967248278,
          0.10059100949197063,
          0.06110404796659918,
          0.13274336283185842,
          0.08692396960281511,
          0.03878040839813139,
          0.05562271705078709,
          0.0349874686716792,
          0.11701196381674935,
          0.09886461011139674,
          0.055824053599565694,
          0.09194748358862144,
          0.06210519530746422,
          0.03500454691344816,
          0.062160238156872896,
          0.0539181777755818,
          0.08696130167106421,
          0.10584518167456557,
          0.09553212558979438,
          0.0453531183755439,
          0.0880124951190941,
          0.03686655585389763,
          0.14033457249070633,
          0.05500297758574813,
          0.040205222403445706,
          0.057193412277119916,
          0.05585175892530448,
          0.12153881071266455,
          0.08107537263894755,
          0.037990604076499096,
          0.06512190350861594,
          0.1704081632653061,
          0.0388197578133309,
          0.042681462678375415,
          0.16,
          0,
          0.1793020457280385,
          0.03500431285229985,
          0.1193984658861526,
          0.0927345746622855,
          0.12538662859862004,
          0.12070037297969333,
          0.15129621759456013,
          0.10581832840634238,
          0.16604127579737335,
          0.13511856091578087,
          0.14342751842751844,
          0.11322588483032316,
          0.10839673344035737,
          0.08809365334168592,
          0.08862726813536931,
          0.04792426083434589,
          0.08610440609575963,
          0.10499457804426868,
          0.11520506835611871,
          0.12193025540275049,
          0.05828973758397733,
          0.09673500379650721,
          0.08266759291420632,
          0.09172482552342971,
          0.07568241306244547,
          0.09130509790390753,
          0.06263876191719994,
          0.08900873596006419,
          0.05641970624898379,
          0.09162821357943308,
          0.09841587284879744,
          0.09814172576220301,
          0.08721192950745595,
          0.04130215962748676,
          0.04106060359818628,
          0.07858206008322954,
          0.11161022805805114,
          0.06832724845915283,
          0.10333599557658045,
          0.102055982164974,
          0.05333800468746225,
          0.058573744387220794,
          0.08203743365304032,
          0.12434976467674015,
          0.06130328086656142,
          0.15542168674698795,
          0.08209536267090224,
          0.03533609498645078,
          0.0996089730397201,
          0.07203726598375132,
          0.14969325153374233,
          0.13180714533472077,
          0.0907563025210084,
          0.09090909090909091,
          0.09129784049604447,
          0.0798174264146527,
          0.06737197994225802,
          0.18282548476454294,
          0.0522606274537215,
          0.04382639881401522,
          0.16277056277056276,
          0.0349874686716792,
          0.08404814149876987,
          0.09151176394124529,
          0.10825658426240103,
          0.2,
          0.08289497551242518,
          0,
          0.03800344947554648,
          0.15626822157434403,
          0.039335111714184384,
          0.08571843672817085,
          0.06342721275241954,
          0.03679876297142209,
          0.1247107538667641,
          0.05102841890406657,
          0,
          0.04835268053130775,
          0.11757484181697989,
          0.04385427552160283,
          0.10347580447064603,
          0.0349874686716792,
          0.08641884701478844,
          0.1274470095855272,
          0.04085435167220793,
          0.09929339801729593,
          0.09916374426760183,
          0.14210178453403832,
          0.07290743392195632,
          0.11986335778157339,
          0.0855885348465008,
          0.12530562347188265,
          0.054769667981883,
          0.09936381281000647,
          0.13495038588754135,
          0.06427863755935909,
          0.08853943106879462,
          0.055241431717777977,
          0.06286932881863615,
          0.0670713485244677,
          0.06156681156681157,
          0.08878215060427641,
          0.08694677033492823,
          0.10785295379773994,
          0.05441981714542302,
          0.08571010677197602,
          0.05394119525435386,
          0.09907333862854117,
          0.04459404139185808,
          0.0764720942140297,
          0.10876111270433036,
          0.1023929773929774,
          0.11982821828846758,
          0.10384737678855326,
          0.0736981465136805,
          0.19473684210526315,
          0.12423436958280365,
          0.12995049504950495,
          0.052744658245779716,
          0.10493280759636275,
          0.09172210229525529,
          0.10371832028118641,
          0.12612255678816692,
          0.04879494271039115,
          0.16083395383469842,
          0.14836363636363636,
          0.04937091893613633,
          0.16279069767441862,
          0.13064752895123144,
          0.06901515454436404,
          0.12117162267513086,
          0.10460142579390797,
          0.03940604926915615,
          0.12269667880392805,
          0.07967475002873232,
          0.07765948888471749,
          0.0821151924037981,
          0.14455327990501632,
          0.13641870608189968,
          0.13399280575539568,
          0.1256150061500615,
          0.07828034524199716,
          0.11501626310083123,
          0.1297575076280713,
          0.1373449701423978,
          0.1078779276082328,
          0.06410495448921132,
          0,
          0.13993262503239182,
          0.07353350658993874,
          0.1341339303887645,
          0.15099135739705136,
          0.13184,
          0.15136804942630186,
          0.09698220273407274,
          0.1293657008613939,
          0.05388313292803758,
          0.11119727047146402,
          0.03500150436265169,
          0.12568519968676586,
          0.15337001375515819,
          0.06310607682049424,
          0.0587468671679198,
          0.13666749195345382,
          0.1629013079667063,
          0.0886646884272997,
          0.13775627735544804,
          0.0349874686716792,
          0.047532726792946386,
          0.2,
          0.08019455483717895,
          0.06221948867980984,
          0.11563384137993976,
          0.14453665283540804,
          0.057657757262500345,
          0.10026041666666667,
          0.06497224452745871,
          0.03683818046234154,
          0.08126867829943121,
          0.0990892132118951,
          0.05395550972304066,
          0.1323695080736012,
          0.13227091633466134,
          0.1277047913446677,
          0.13785557986870897,
          0.1316687623495599,
          0.07033703602217398
         ],
         "xaxis": "x",
         "y": [
          0.7220600195811078,
          0.6713038886444724,
          0.7227571551710509,
          0.71878241190271,
          0.7200784659873671,
          0.718637241028407,
          0.7164759774231853,
          0.7254300405361076,
          0.7252338841669195,
          0.7187248327830157,
          0.7289897419787873,
          0.7249393049824664,
          0.7163646994208683,
          0.7251420205795445,
          0.7268618744746616,
          0.7235184449840792,
          0.7256996634327609,
          0.7224798988042638,
          0.7162266090200761,
          0.7276415415032235,
          0.7233553665444848,
          0.7254107756154684,
          0.7226062625015438,
          0.7027441233690486,
          0.7065950377284592,
          0.725690119610656,
          0.7164495738188643,
          0.7037466969862279,
          0.723378645320997,
          0.7226811273960679,
          0.7263301576377731,
          0.7257751170437858,
          0.7266469320957851,
          0.7273758147191429,
          0.7272347066501746,
          0.7283062474132028,
          0.7265036834800792,
          0.7279590832771241,
          0.7189683100522416,
          0.7248717600169285,
          0.7275777458018725,
          0.7283861382267978,
          0.7287073498873798,
          0.7285214094031784,
          0.7259410874705055,
          0.6714257179017377,
          0.7161160440923522,
          0.7285849841704716,
          0.7192279088928802,
          0.7228341976551488,
          0.7268587946274394,
          0.728394294265511,
          0.7264984260432834,
          0.727111084122759,
          0.7288278634624878,
          0.7283655397640623,
          0.72623377085553,
          0.7279572602404093,
          0.7284466900340815,
          0.7284029622891361,
          0.7266463685154945,
          0.7282279071068862,
          0.7283291822205236,
          0.6716519292405101,
          0.7283569087832731,
          0.7261883933814242,
          0.7260170094088142,
          0.7265311838169375,
          0.728447071046109,
          0.7246409831486186,
          0.7239766185619138,
          0.7234829116436416,
          0.7222804866343825,
          0.7163430134863044,
          0.7266288737132327,
          0.7281421132527823,
          0.7274356018564547,
          0.7288663628757226,
          0.7262237878112268,
          0.7262686069968758,
          0.7280179932929977,
          0.7292358082776583,
          0.7282575268231475,
          0.7289850957487856,
          0.717073540546989,
          0.7285800257222808,
          0.7287498102381503,
          0.7273007209528105,
          0.7289152065009119,
          0.7280740166135797,
          0.7256801749321471,
          0.726719213252498,
          0.7280817466596788,
          0.7283983253198434,
          0.7292308167555066,
          0.716900971203627,
          0.7282755680072404,
          0.7287766318973348,
          0.7278008587720048,
          0.7286691719530431,
          0.7289572170458167,
          0.7280288349373212,
          0.7287380054800907,
          0.7289452363342859,
          0.7267846375156746,
          0.7291073331387261,
          0.7161079555245189,
          0.7272116329322189,
          0.7282211044546458,
          0.7162276554801932,
          0.7285074812968406,
          0.7278855849986569,
          0.6716640898743871,
          0.7254979704825484,
          0.7257451943700446,
          0.7282843484823318,
          0.7289195338979323,
          0.7290722310827363,
          0.7286092750101818,
          0.7277543501684424,
          0.7284705667878033,
          0.7278307523406607,
          0.7283105126311772,
          0.7281902477722537,
          0.7289217921879702,
          0.7293262404240135,
          0.7290302694872934,
          0.7296073624753293,
          0.7289745702915265,
          0.7289294375647298,
          0.7292387968407489,
          0.7293383785675972,
          0.7257411223040009,
          0.72899428634099,
          0.7265173284733133,
          0.7286417457018569,
          0.728931320134574,
          0.7289008127132071,
          0.7287623373315122,
          0.7289584937007003,
          0.7185069296231759,
          0.7244915139823807,
          0.7201901250017115,
          0.7289594184486421,
          0.728942554697551,
          0.729086020278439,
          0.728181016168338,
          0.7278547891723526,
          0.7161730318496289,
          0.7273641409339677,
          0.7290744668824809,
          0.7294624178269178,
          0.7279726819668132,
          0.7279461473896078,
          0.7281378824317273,
          0.7289739299796469,
          0.7288749475529668,
          0.7276058851276519,
          0.7286918117406342,
          0.7279631751875444,
          0.7272515928915593,
          0.7195036028457629,
          0.7288083207205784,
          0.7290597569077117,
          0.7287711151606868,
          0.7285712187880206,
          0.7274460161852058,
          0.7292213112991961,
          0.728523700767177,
          0.7287598303252897,
          0.7272984070985187,
          0.7289529452130502,
          0.7285504933212757,
          0.7282480160750033,
          0.7244710676598645,
          0.7294377592047643,
          0.7288728731541505,
          0.6714316890746058,
          0.7278742723811327,
          0.7164304689761949,
          0.7249251043466923,
          0.7152760170854789,
          0.7284525679383804,
          0.7272169657776452,
          0.7278504948492929,
          0.7287864680932524,
          0.7274927933493291,
          0.7289560118306881,
          0.7287942113689359,
          0.715697587049507,
          0.7284818833742028,
          0.7280324108939541,
          0.7161133465801159,
          0.7287124393084552,
          0.7171849336466893,
          0.7286296181419405,
          0.7286560243921782,
          0.6714914947333357,
          0.7291691801223115,
          0.7291280771268889,
          0.7284731134827787,
          0.7288731946330487,
          0.7282180775257607,
          0.7279261720402923,
          0.7286253780601766,
          0.7280855210600761,
          0.7287902663069015,
          0.728855125666829,
          0.7288612443495619,
          0.7288693964193997,
          0.7277818822563029,
          0.7289650132398373,
          0.7290883169342713,
          0.7287892912865395,
          0.7288520960920271,
          0.728899794035217,
          0.7286149452100075,
          0.72895670902978,
          0.7249081519573866,
          0.7284742102153161,
          0.729095249236438,
          0.7283528988962755,
          0.7293870753444007,
          0.728937744420704,
          0.7290361619441351,
          0.7285472507501671,
          0.7279321716567666,
          0.7290191857415774,
          0.7283749023408626,
          0.7292149425773202,
          0.7291228236589683,
          0.7290692504573963,
          0.7202066236162764,
          0.7286703189580009,
          0.7289953222174397,
          0.7285257460609078,
          0.7288985345787928,
          0.7285419972822466,
          0.7269971403592084,
          0.7237087975346406,
          0.7278717137795315,
          0.7289570675515142,
          0.7290096498572229,
          0.7291400327022094,
          0.7293602867591772,
          0.7269241064391495,
          0.7292126009409012,
          0.7293578247335413,
          0.7288847519978823,
          0.7286450134091759,
          0.7285448429658268,
          0.7288287987940969,
          0.7283585029481798,
          0.7283731520668613,
          0.7293293282089861,
          0.7288768936248154,
          0.7283224695294561,
          0.7291571345858179,
          0.7287203505998591,
          0.7283791239012086,
          0.7266689619995406,
          0.7288070123146924,
          0.7286358849960175,
          0.729166339730565,
          0.7291918715052813,
          0.728810174185337,
          0.7287180499751515,
          0.728566669133984,
          0.7278435665160016,
          0.7290652762902764,
          0.728936389711273,
          0.7259184304844548,
          0.7284923625279169,
          0.7154985320784014,
          0.7288468545307324,
          0.7286284579073986,
          0.7289594634292287,
          0.7284258838668726,
          0.728897825473075,
          0.7290857014454577,
          0.7163212084854818,
          0.6715858554047449,
          0.726887706560941,
          0.7275757587183126,
          0.7202208732015125,
          0.7284856405761404,
          0.7285374635037112,
          0.7290469718374564,
          0.7288831379885992,
          0.7289017890565275,
          0.7277341909279051,
          0.7266641318783171,
          0.7283052803305914,
          0.7291373404818069,
          0.728534013228129,
          0.7277073798523882,
          0.7190761602692697,
          0.7273413529750326,
          0.7260519394802083,
          0.7281555783236701
         ],
         "yaxis": "y"
        },
        {
         "hovertemplate": "variable=recall_1<br>precision_1=%{x}<br>value=%{y}<extra></extra>",
         "legendgroup": "recall_1",
         "marker": {
          "color": "#00cc96",
          "symbol": "circle"
         },
         "mode": "markers",
         "name": "recall_1",
         "showlegend": true,
         "type": "scattergl",
         "x": [
          0.0349874686716792,
          0.040191498718087006,
          0.0794835709478064,
          0.05618373600151848,
          0.05906301540838918,
          0.03499846234071855,
          0,
          0.11521804814180683,
          0.1381337252020573,
          0.0508945236035872,
          0.14795918367346939,
          0.13706207744314688,
          0,
          0.08203779786359901,
          0.05632699660152931,
          0.03824815126488483,
          0.14017391304347826,
          0.03555256394566149,
          0.034987936346684664,
          0.15319148936170213,
          0.1510228640192539,
          0.05789154673470251,
          0.036056380826099264,
          0.07026049385817278,
          0.0349874686716792,
          0.077624673757472,
          0.04436793915675995,
          0.035432537208230544,
          0.05550026191723415,
          0.0349874686716792,
          0.15415657788539144,
          0.12084946615041652,
          0.07742371050499595,
          0.08396710141436388,
          0.05374193073316806,
          0.12630176798256237,
          0.16987179487179488,
          0.19078947368421054,
          0.06243657355803624,
          0.21379310344827587,
          0.08941822803493092,
          0.09706959706959707,
          0.09038229040730396,
          0.09012428059054133,
          0.15286975717439294,
          0.04068404240859046,
          0.11957446808510638,
          0.05088831354343362,
          0.09148472721746619,
          0,
          0.05179282868525897,
          0.1292168674698795,
          0.13630069238377843,
          0.08505672842165733,
          0.08768873403019745,
          0.14217506631299734,
          0.2,
          0.17784256559766765,
          0.06359393232205368,
          0.057728041130530754,
          0.04091353891193763,
          0.16579406631762653,
          0.0961673875867619,
          0.03503617392933869,
          0.08440188824533798,
          0.09892782137725213,
          0.10815968246698725,
          0.12649525642788395,
          0.08222472050465306,
          0.07083251199158946,
          0.14898813677599443,
          0.0682187983367148,
          0.0349874686716792,
          0.07804272831810204,
          0.03582970256269512,
          0.11980946463705085,
          0.13712451272643889,
          0.07032957967248278,
          0.10059100949197063,
          0.06110404796659918,
          0.13274336283185842,
          0.08692396960281511,
          0.03878040839813139,
          0.05562271705078709,
          0.0349874686716792,
          0.11701196381674935,
          0.09886461011139674,
          0.055824053599565694,
          0.09194748358862144,
          0.06210519530746422,
          0.03500454691344816,
          0.062160238156872896,
          0.0539181777755818,
          0.08696130167106421,
          0.10584518167456557,
          0.09553212558979438,
          0.0453531183755439,
          0.0880124951190941,
          0.03686655585389763,
          0.14033457249070633,
          0.05500297758574813,
          0.040205222403445706,
          0.057193412277119916,
          0.05585175892530448,
          0.12153881071266455,
          0.08107537263894755,
          0.037990604076499096,
          0.06512190350861594,
          0.1704081632653061,
          0.0388197578133309,
          0.042681462678375415,
          0.16,
          0,
          0.1793020457280385,
          0.03500431285229985,
          0.1193984658861526,
          0.0927345746622855,
          0.12538662859862004,
          0.12070037297969333,
          0.15129621759456013,
          0.10581832840634238,
          0.16604127579737335,
          0.13511856091578087,
          0.14342751842751844,
          0.11322588483032316,
          0.10839673344035737,
          0.08809365334168592,
          0.08862726813536931,
          0.04792426083434589,
          0.08610440609575963,
          0.10499457804426868,
          0.11520506835611871,
          0.12193025540275049,
          0.05828973758397733,
          0.09673500379650721,
          0.08266759291420632,
          0.09172482552342971,
          0.07568241306244547,
          0.09130509790390753,
          0.06263876191719994,
          0.08900873596006419,
          0.05641970624898379,
          0.09162821357943308,
          0.09841587284879744,
          0.09814172576220301,
          0.08721192950745595,
          0.04130215962748676,
          0.04106060359818628,
          0.07858206008322954,
          0.11161022805805114,
          0.06832724845915283,
          0.10333599557658045,
          0.102055982164974,
          0.05333800468746225,
          0.058573744387220794,
          0.08203743365304032,
          0.12434976467674015,
          0.06130328086656142,
          0.15542168674698795,
          0.08209536267090224,
          0.03533609498645078,
          0.0996089730397201,
          0.07203726598375132,
          0.14969325153374233,
          0.13180714533472077,
          0.0907563025210084,
          0.09090909090909091,
          0.09129784049604447,
          0.0798174264146527,
          0.06737197994225802,
          0.18282548476454294,
          0.0522606274537215,
          0.04382639881401522,
          0.16277056277056276,
          0.0349874686716792,
          0.08404814149876987,
          0.09151176394124529,
          0.10825658426240103,
          0.2,
          0.08289497551242518,
          0,
          0.03800344947554648,
          0.15626822157434403,
          0.039335111714184384,
          0.08571843672817085,
          0.06342721275241954,
          0.03679876297142209,
          0.1247107538667641,
          0.05102841890406657,
          0,
          0.04835268053130775,
          0.11757484181697989,
          0.04385427552160283,
          0.10347580447064603,
          0.0349874686716792,
          0.08641884701478844,
          0.1274470095855272,
          0.04085435167220793,
          0.09929339801729593,
          0.09916374426760183,
          0.14210178453403832,
          0.07290743392195632,
          0.11986335778157339,
          0.0855885348465008,
          0.12530562347188265,
          0.054769667981883,
          0.09936381281000647,
          0.13495038588754135,
          0.06427863755935909,
          0.08853943106879462,
          0.055241431717777977,
          0.06286932881863615,
          0.0670713485244677,
          0.06156681156681157,
          0.08878215060427641,
          0.08694677033492823,
          0.10785295379773994,
          0.05441981714542302,
          0.08571010677197602,
          0.05394119525435386,
          0.09907333862854117,
          0.04459404139185808,
          0.0764720942140297,
          0.10876111270433036,
          0.1023929773929774,
          0.11982821828846758,
          0.10384737678855326,
          0.0736981465136805,
          0.19473684210526315,
          0.12423436958280365,
          0.12995049504950495,
          0.052744658245779716,
          0.10493280759636275,
          0.09172210229525529,
          0.10371832028118641,
          0.12612255678816692,
          0.04879494271039115,
          0.16083395383469842,
          0.14836363636363636,
          0.04937091893613633,
          0.16279069767441862,
          0.13064752895123144,
          0.06901515454436404,
          0.12117162267513086,
          0.10460142579390797,
          0.03940604926915615,
          0.12269667880392805,
          0.07967475002873232,
          0.07765948888471749,
          0.0821151924037981,
          0.14455327990501632,
          0.13641870608189968,
          0.13399280575539568,
          0.1256150061500615,
          0.07828034524199716,
          0.11501626310083123,
          0.1297575076280713,
          0.1373449701423978,
          0.1078779276082328,
          0.06410495448921132,
          0,
          0.13993262503239182,
          0.07353350658993874,
          0.1341339303887645,
          0.15099135739705136,
          0.13184,
          0.15136804942630186,
          0.09698220273407274,
          0.1293657008613939,
          0.05388313292803758,
          0.11119727047146402,
          0.03500150436265169,
          0.12568519968676586,
          0.15337001375515819,
          0.06310607682049424,
          0.0587468671679198,
          0.13666749195345382,
          0.1629013079667063,
          0.0886646884272997,
          0.13775627735544804,
          0.0349874686716792,
          0.047532726792946386,
          0.2,
          0.08019455483717895,
          0.06221948867980984,
          0.11563384137993976,
          0.14453665283540804,
          0.057657757262500345,
          0.10026041666666667,
          0.06497224452745871,
          0.03683818046234154,
          0.08126867829943121,
          0.0990892132118951,
          0.05395550972304066,
          0.1323695080736012,
          0.13227091633466134,
          0.1277047913446677,
          0.13785557986870897,
          0.1316687623495599,
          0.07033703602217398
         ],
         "xaxis": "x",
         "y": [
          1,
          0.9253104106972302,
          0.4962750716332378,
          0.7915950334288443,
          0.7593123209169055,
          1,
          0,
          0.21852913085004774,
          0.07182425978987583,
          0.8542502387774594,
          0.0664756446991404,
          0.12779369627507164,
          0,
          0.47679083094555874,
          0.8105062082139446,
          0.9810888252148997,
          0.076981852913085,
          0.9988538681948425,
          1,
          0.04126074498567335,
          0.047946513849092647,
          0.7845272206303725,
          0.9973256924546323,
          0.5342884431709647,
          1,
          0.5283667621776504,
          0.9182425978987584,
          0.9986628462273162,
          0.8095510983763132,
          1,
          0.03648519579751672,
          0.19675262655205347,
          0.5476599808978032,
          0.46609360076408785,
          0.8364851957975167,
          0.19923591212989494,
          0.020248328557784145,
          0.0055396370582617,
          0.7169054441260745,
          0.0059216809933142316,
          0.4166189111747851,
          0.3543457497612225,
          0.41413562559694367,
          0.41279847182425977,
          0.05291308500477555,
          0.9148042024832855,
          0.16103151862464182,
          0.8710601719197708,
          0.3449856733524355,
          0,
          0.8592168099331423,
          0.16389684813753583,
          0.13161413562559696,
          0.45253104106972303,
          0.4326647564469914,
          0.10238777459407832,
          0.00019102196752626553,
          0.023304680038204392,
          0.728748806112703,
          0.7893027698185291,
          0.9663801337153772,
          0.03629417382999045,
          0.36523400191021965,
          1,
          0.4815663801337154,
          0.3419293218720153,
          0.27067812798471824,
          0.17574021012416427,
          0.5029608404966571,
          0.6177650429799427,
          0.08156638013371538,
          0.6487106017191977,
          1,
          0.49264565425023876,
          0.9975167144221585,
          0.2210124164278892,
          0.11423113658070679,
          0.6513849092645654,
          0.3218720152817574,
          0.7436485195797516,
          0.14613180515759314,
          0.44355300859598856,
          0.978414517669532,
          0.8173829990448902,
          1,
          0.2297994269340974,
          0.35262655205348614,
          0.8053486150907354,
          0.40133715377268386,
          0.7361986628462274,
          1,
          0.7339063992359122,
          0.833810888252149,
          0.4532951289398281,
          0.30716332378223493,
          0.3132760267430755,
          0.9318051575931232,
          0.43056351480420246,
          0.9914040114613181,
          0.08653295128939828,
          0.8292263610315186,
          0.9700095510983763,
          0.8026743075453677,
          0.8164278892072588,
          0.20458452722063036,
          0.5132760267430755,
          0.9808978032473734,
          0.6995224450811843,
          0.031900668576886344,
          0.9761222540592168,
          0.9507163323782235,
          0.0007640878701050621,
          0,
          0.028462273161413563,
          1,
          0.2259789875835721,
          0.3881566380133715,
          0.20133715377268385,
          0.22254059216809932,
          0.06800382043935052,
          0.3008595988538682,
          0.033810888252149,
          0.1262655205348615,
          0.089207258834766,
          0.2670487106017192,
          0.29665711556829033,
          0.4297994269340974,
          0.43572110792741164,
          0.9041069723018147,
          0.4565425023877746,
          0.314422158548233,
          0.2639923591212989,
          0.18968481375358165,
          0.7938872970391595,
          0.3650429799426934,
          0.5000955109837631,
          0.40420248328557784,
          0.5799426934097421,
          0.4043935052531041,
          0.7329512893982808,
          0.38147086914995226,
          0.7954154727793696,
          0.3451766953199618,
          0.35721107927411655,
          0.36217765042979944,
          0.44240687679083096,
          0.964087870105062,
          0.9652340019102197,
          0.4941738299904489,
          0.24680038204393506,
          0.6649474689589303,
          0.32129894937917863,
          0.31480420248328556,
          0.8433619866284623,
          0.7799426934097421,
          0.5048710601719197,
          0.19178605539637059,
          0.7491881566380134,
          0.0492836676217765,
          0.5035339063992359,
          0.9988538681948425,
          0.27736389684813756,
          0.6233046800382044,
          0.06991404011461318,
          0.1451766953199618,
          0.41260744985673353,
          0.00019102196752626553,
          0.4078319006685769,
          0.5211079274116523,
          0.6775549188156638,
          0.012607449856733524,
          0.8569245463228271,
          0.9430754536771728,
          0.035912129894937916,
          1,
          0.48290353390639923,
          0.4034383954154728,
          0.1279847182425979,
          0.00019102196752626553,
          0.4364851957975167,
          0,
          0.9807067812798472,
          0.05119388729703916,
          0.9745940783190067,
          0.45081184336198665,
          0.7235912129894938,
          0.9910219675262655,
          0.1956064947468959,
          0.8691499522445081,
          0,
          0.9046800382043935,
          0.23782234957020057,
          0.9298949379178606,
          0.3218720152817574,
          1,
          0.4498567335243553,
          0.18032473734479465,
          0.9130850047755492,
          0.359694364851958,
          0.351098376313276,
          0.08213944603629417,
          0.6127984718242598,
          0.22788920725883477,
          0.44947468958930276,
          0.19579751671442217,
          0.8246418338108883,
          0.35205348615090737,
          0.1169054441260745,
          0.7188156638013371,
          0.43342884431709644,
          0.8192932187201528,
          0.7377268385864374,
          0.6859598853868195,
          0.7467048710601719,
          0.43782234957020055,
          0.4443170964660936,
          0.2880611270296084,
          0.8334288443170965,
          0.4477554918815664,
          0.8389684813753582,
          0.3574021012416428,
          0.9363896848137536,
          0.5705826170009551,
          0.2897803247373448,
          0.32531041069723016,
          0.21852913085004774,
          0.3119388729703916,
          0.6061127029608405,
          0.007067812798471824,
          0.20534861509073543,
          0.14040114613180515,
          0.8534861509073544,
          0.24909264565425024,
          0.3977077363896848,
          0.32129894937917863,
          0.18242597898758356,
          0.8964660936007641,
          0.04126074498567335,
          0.07793696275071633,
          0.8882521489971347,
          0.03075453677172875,
          0.1530085959885387,
          0.6594078319006685,
          0.20783190066857687,
          0.30830945558739253,
          0.9738299904489016,
          0.21241642788920725,
          0.5297039159503343,
          0.553199617956065,
          0.5021967526265521,
          0.0930276981852913,
          0.10754536771728748,
          0.14231136580706782,
          0.15606494746895894,
          0.547468958930277,
          0.24317096466093602,
          0.15434574976122253,
          0.11423113658070679,
          0.2903533906399236,
          0.7224450811843361,
          0,
          0.10315186246418338,
          0.6053486150907355,
          0.12588347659980897,
          0.05673352435530086,
          0.15740210124164278,
          0.06552053486150908,
          0.35912129894937916,
          0.1577841451766953,
          0.8414517669531996,
          0.27392550143266475,
          1,
          0.1839541547277937,
          0.04259789875835721,
          0.7321872015281757,
          0.7835721107927411,
          0.10544412607449857,
          0.026170009551098376,
          0.428080229226361,
          0.11423113658070679,
          1,
          0.791404011461318,
          0.00038204393505253105,
          0.5165234001910219,
          0.7149952244508119,
          0.24202483285577842,
          0.07984718242597899,
          0.7969436485195798,
          0.33829990448901626,
          0.7109837631327602,
          0.9908309455587393,
          0.4830945558739255,
          0.3449856733524355,
          0.839541547277937,
          0.1346704871060172,
          0.15854823304680038,
          0.1262655205348615,
          0.10830945558739255,
          0.14001910219675262,
          0.6374403056351481
         ],
         "yaxis": "y"
        },
        {
         "hovertemplate": "variable=f1_score<br>precision_1=%{x}<br>value=%{y}<extra></extra>",
         "legendgroup": "f1_score",
         "marker": {
          "color": "#ab63fa",
          "symbol": "circle"
         },
         "mode": "markers",
         "name": "f1_score",
         "showlegend": true,
         "type": "scattergl",
         "x": [
          0.0349874686716792,
          0.040191498718087006,
          0.0794835709478064,
          0.05618373600151848,
          0.05906301540838918,
          0.03499846234071855,
          0,
          0.11521804814180683,
          0.1381337252020573,
          0.0508945236035872,
          0.14795918367346939,
          0.13706207744314688,
          0,
          0.08203779786359901,
          0.05632699660152931,
          0.03824815126488483,
          0.14017391304347826,
          0.03555256394566149,
          0.034987936346684664,
          0.15319148936170213,
          0.1510228640192539,
          0.05789154673470251,
          0.036056380826099264,
          0.07026049385817278,
          0.0349874686716792,
          0.077624673757472,
          0.04436793915675995,
          0.035432537208230544,
          0.05550026191723415,
          0.0349874686716792,
          0.15415657788539144,
          0.12084946615041652,
          0.07742371050499595,
          0.08396710141436388,
          0.05374193073316806,
          0.12630176798256237,
          0.16987179487179488,
          0.19078947368421054,
          0.06243657355803624,
          0.21379310344827587,
          0.08941822803493092,
          0.09706959706959707,
          0.09038229040730396,
          0.09012428059054133,
          0.15286975717439294,
          0.04068404240859046,
          0.11957446808510638,
          0.05088831354343362,
          0.09148472721746619,
          0,
          0.05179282868525897,
          0.1292168674698795,
          0.13630069238377843,
          0.08505672842165733,
          0.08768873403019745,
          0.14217506631299734,
          0.2,
          0.17784256559766765,
          0.06359393232205368,
          0.057728041130530754,
          0.04091353891193763,
          0.16579406631762653,
          0.0961673875867619,
          0.03503617392933869,
          0.08440188824533798,
          0.09892782137725213,
          0.10815968246698725,
          0.12649525642788395,
          0.08222472050465306,
          0.07083251199158946,
          0.14898813677599443,
          0.0682187983367148,
          0.0349874686716792,
          0.07804272831810204,
          0.03582970256269512,
          0.11980946463705085,
          0.13712451272643889,
          0.07032957967248278,
          0.10059100949197063,
          0.06110404796659918,
          0.13274336283185842,
          0.08692396960281511,
          0.03878040839813139,
          0.05562271705078709,
          0.0349874686716792,
          0.11701196381674935,
          0.09886461011139674,
          0.055824053599565694,
          0.09194748358862144,
          0.06210519530746422,
          0.03500454691344816,
          0.062160238156872896,
          0.0539181777755818,
          0.08696130167106421,
          0.10584518167456557,
          0.09553212558979438,
          0.0453531183755439,
          0.0880124951190941,
          0.03686655585389763,
          0.14033457249070633,
          0.05500297758574813,
          0.040205222403445706,
          0.057193412277119916,
          0.05585175892530448,
          0.12153881071266455,
          0.08107537263894755,
          0.037990604076499096,
          0.06512190350861594,
          0.1704081632653061,
          0.0388197578133309,
          0.042681462678375415,
          0.16,
          0,
          0.1793020457280385,
          0.03500431285229985,
          0.1193984658861526,
          0.0927345746622855,
          0.12538662859862004,
          0.12070037297969333,
          0.15129621759456013,
          0.10581832840634238,
          0.16604127579737335,
          0.13511856091578087,
          0.14342751842751844,
          0.11322588483032316,
          0.10839673344035737,
          0.08809365334168592,
          0.08862726813536931,
          0.04792426083434589,
          0.08610440609575963,
          0.10499457804426868,
          0.11520506835611871,
          0.12193025540275049,
          0.05828973758397733,
          0.09673500379650721,
          0.08266759291420632,
          0.09172482552342971,
          0.07568241306244547,
          0.09130509790390753,
          0.06263876191719994,
          0.08900873596006419,
          0.05641970624898379,
          0.09162821357943308,
          0.09841587284879744,
          0.09814172576220301,
          0.08721192950745595,
          0.04130215962748676,
          0.04106060359818628,
          0.07858206008322954,
          0.11161022805805114,
          0.06832724845915283,
          0.10333599557658045,
          0.102055982164974,
          0.05333800468746225,
          0.058573744387220794,
          0.08203743365304032,
          0.12434976467674015,
          0.06130328086656142,
          0.15542168674698795,
          0.08209536267090224,
          0.03533609498645078,
          0.0996089730397201,
          0.07203726598375132,
          0.14969325153374233,
          0.13180714533472077,
          0.0907563025210084,
          0.09090909090909091,
          0.09129784049604447,
          0.0798174264146527,
          0.06737197994225802,
          0.18282548476454294,
          0.0522606274537215,
          0.04382639881401522,
          0.16277056277056276,
          0.0349874686716792,
          0.08404814149876987,
          0.09151176394124529,
          0.10825658426240103,
          0.2,
          0.08289497551242518,
          0,
          0.03800344947554648,
          0.15626822157434403,
          0.039335111714184384,
          0.08571843672817085,
          0.06342721275241954,
          0.03679876297142209,
          0.1247107538667641,
          0.05102841890406657,
          0,
          0.04835268053130775,
          0.11757484181697989,
          0.04385427552160283,
          0.10347580447064603,
          0.0349874686716792,
          0.08641884701478844,
          0.1274470095855272,
          0.04085435167220793,
          0.09929339801729593,
          0.09916374426760183,
          0.14210178453403832,
          0.07290743392195632,
          0.11986335778157339,
          0.0855885348465008,
          0.12530562347188265,
          0.054769667981883,
          0.09936381281000647,
          0.13495038588754135,
          0.06427863755935909,
          0.08853943106879462,
          0.055241431717777977,
          0.06286932881863615,
          0.0670713485244677,
          0.06156681156681157,
          0.08878215060427641,
          0.08694677033492823,
          0.10785295379773994,
          0.05441981714542302,
          0.08571010677197602,
          0.05394119525435386,
          0.09907333862854117,
          0.04459404139185808,
          0.0764720942140297,
          0.10876111270433036,
          0.1023929773929774,
          0.11982821828846758,
          0.10384737678855326,
          0.0736981465136805,
          0.19473684210526315,
          0.12423436958280365,
          0.12995049504950495,
          0.052744658245779716,
          0.10493280759636275,
          0.09172210229525529,
          0.10371832028118641,
          0.12612255678816692,
          0.04879494271039115,
          0.16083395383469842,
          0.14836363636363636,
          0.04937091893613633,
          0.16279069767441862,
          0.13064752895123144,
          0.06901515454436404,
          0.12117162267513086,
          0.10460142579390797,
          0.03940604926915615,
          0.12269667880392805,
          0.07967475002873232,
          0.07765948888471749,
          0.0821151924037981,
          0.14455327990501632,
          0.13641870608189968,
          0.13399280575539568,
          0.1256150061500615,
          0.07828034524199716,
          0.11501626310083123,
          0.1297575076280713,
          0.1373449701423978,
          0.1078779276082328,
          0.06410495448921132,
          0,
          0.13993262503239182,
          0.07353350658993874,
          0.1341339303887645,
          0.15099135739705136,
          0.13184,
          0.15136804942630186,
          0.09698220273407274,
          0.1293657008613939,
          0.05388313292803758,
          0.11119727047146402,
          0.03500150436265169,
          0.12568519968676586,
          0.15337001375515819,
          0.06310607682049424,
          0.0587468671679198,
          0.13666749195345382,
          0.1629013079667063,
          0.0886646884272997,
          0.13775627735544804,
          0.0349874686716792,
          0.047532726792946386,
          0.2,
          0.08019455483717895,
          0.06221948867980984,
          0.11563384137993976,
          0.14453665283540804,
          0.057657757262500345,
          0.10026041666666667,
          0.06497224452745871,
          0.03683818046234154,
          0.08126867829943121,
          0.0990892132118951,
          0.05395550972304066,
          0.1323695080736012,
          0.13227091633466134,
          0.1277047913446677,
          0.13785557986870897,
          0.1316687623495599,
          0.07033703602217398
         ],
         "xaxis": "x",
         "y": [
          0.06760945370011623,
          0.07703684855039043,
          0.13702170301416103,
          0.10492068917499019,
          0.10960074997242748,
          0.06762997939449529,
          0,
          0.15088367185439197,
          0.09450798039462109,
          0.09606564772348904,
          0.09173586397785687,
          0.13226571767497033,
          0,
          0.13998878295008413,
          0.10533371398781079,
          0.07362596404713438,
          0.09938347718865598,
          0.06866124362332827,
          0.06761032688010953,
          0.06501128668171557,
          0.07278526895751776,
          0.10782640657407651,
          0.06959663014209923,
          0.12418968120060385,
          0.06760945370011623,
          0.13536263090926887,
          0.08464592926509303,
          0.06843693342845736,
          0.10387891414915129,
          0.06760945370011623,
          0.059005251776336115,
          0.14973106556185492,
          0.13566781024488347,
          0.14229894442176474,
          0.10099519125431,
          0.15459868079745054,
          0.036183649086874894,
          0.010766660478930759,
          0.11486900097943192,
          0.011524163568773234,
          0.14723553635320327,
          0.15239268843705073,
          0.14838135651221682,
          0.14794783144490467,
          0.07861501348091386,
          0.07790348686832538,
          0.13724053724053725,
          0.09615891525995593,
          0.1446188340807175,
          0,
          0.0976965932168417,
          0.14450526315789475,
          0.13391642371234208,
          0.14319823495632725,
          0.14582327378078222,
          0.11904497501388117,
          0.0003816793893129771,
          0.0412092551933795,
          0.11697968570333461,
          0.10758735614226944,
          0.07850348369877255,
          0.059551794389594105,
          0.15224748178524505,
          0.06770038538137237,
          0.14363035551504102,
          0.1534570705988255,
          0.15455933682373474,
          0.14710585225455708,
          0.14134256649757093,
          0.1270926668238623,
          0.10541908406369584,
          0.12345499491057146,
          0.06760945370011623,
          0.13474047177450954,
          0.06917472512915618,
          0.15538544184797207,
          0.12463526469362234,
          0.12695221607937307,
          0.15327935959246794,
          0.11292895889536739,
          0.13911620294599017,
          0.14536121196945034,
          0.07460382195292473,
          0.10415753858137383,
          0.06760945370011623,
          0.15506573859242073,
          0.15443175638934203,
          0.10441070853661556,
          0.14961723339861135,
          0.11454726486454354,
          0.06764133938896677,
          0.114613009561028,
          0.10128667726328736,
          0.14592749746333364,
          0.1574386840945807,
          0.146415498616195,
          0.08649626299970742,
          0.14615010536553735,
          0.07108956051858396,
          0.10705423608649416,
          0.1031630979823665,
          0.07721021461641972,
          0.10677847658979735,
          0.10455118090974694,
          0.15248807574571083,
          0.14003178987414336,
          0.07314814814814814,
          0.1191514283855014,
          0.05374094931617056,
          0.07466993986951026,
          0.08169529640603071,
          0.001520912547528517,
          0,
          0.0491262776129245,
          0.06764090239553454,
          0.15624380902066962,
          0.14970346631303644,
          0.15453412506414485,
          0.15651239336333714,
          0.09383236689509752,
          0.1565684179134152,
          0.05618155848278051,
          0.13054211513775058,
          0.10999882228241668,
          0.15902627687407575,
          0.15877722114303242,
          0.14621783207694308,
          0.14729433036290843,
          0.09102360690417809,
          0.14488360814742968,
          0.15742157612853863,
          0.16040856595670594,
          0.1484415875625981,
          0.10860532573758068,
          0.15294117647058825,
          0.1418816388467375,
          0.14951950254381005,
          0.13389195148842337,
          0.14897434995249992,
          0.11541411619617693,
          0.14433883849517545,
          0.1053657055377725,
          0.14481487417855426,
          0.15431589371183363,
          0.15443512258695122,
          0.1457016136642446,
          0.07921087325004708,
          0.07877035316492202,
          0.1356012160603837,
          0.15370888108976266,
          0.12392089852441217,
          0.156377835626627,
          0.15414114015806948,
          0.1003306480019089,
          0.10896426569880707,
          0.14114066004485742,
          0.1508753475092043,
          0.11333294804369184,
          0.07483683828861494,
          0.1411739502999143,
          0.0682574699439999,
          0.1465778316172017,
          0.12914844352971444,
          0.0953125,
          0.1381692573402418,
          0.1487859479938006,
          0.0003812428516965307,
          0.14919636617749826,
          0.13843148199832542,
          0.12255757303526078,
          0.023588277340957826,
          0.09851329687946066,
          0.08376030674222117,
          0.058841940532081374,
          0.06760945370011623,
          0.14317673378076062,
          0.14918414918414918,
          0.117296918767507,
          0.0003816793893129771,
          0.13932926829268294,
          0,
          0.07317142694259164,
          0.07712230215827338,
          0.07561823315374867,
          0.14404736472670676,
          0.11663100204750836,
          0.07096253539235936,
          0.15231295552580693,
          0.09639728392707704,
          0,
          0.0917989571824543,
          0.15735591506572294,
          0.08375846316640714,
          0.1566057902318881,
          0.06760945370011623,
          0.144985532229268,
          0.14934345831355797,
          0.07820936548970843,
          0.15562626554816314,
          0.1546487168700042,
          0.10410361941653552,
          0.13031115443984076,
          0.15709770871740847,
          0.14379564274146728,
          0.1528140141632501,
          0.10271723612829542,
          0.15498465290333432,
          0.12528147389969294,
          0.11800492340498926,
          0.14704166936685892,
          0.10350403011728365,
          0.11586463458538342,
          0.12219481071884304,
          0.11375441966039548,
          0.1476280957135036,
          0.14543408259605464,
          0.15694437217047405,
          0.10216841513675534,
          0.14387870975662156,
          0.10136515226698363,
          0.15514096185737977,
          0.08513372698853769,
          0.13486849531549835,
          0.15816087160506698,
          0.15575982073444003,
          0.1547828439994588,
          0.1558206106870229,
          0.13141709291971257,
          0.013640552995391705,
          0.1548099078341014,
          0.13497383160407675,
          0.09934960253488243,
          0.14766164647265315,
          0.14906565475764302,
          0.15681521536453477,
          0.14913719059889124,
          0.09255223689270606,
          0.0656734569778048,
          0.10219160926737633,
          0.09354254677127338,
          0.05173521850899743,
          0.14094668308991729,
          0.1249524912674425,
          0.15308850429154355,
          0.15620614565690782,
          0.07574699493336107,
          0.15554623024199188,
          0.13851494792577237,
          0.1361990311809246,
          0.14115057313897614,
          0.11320316132031613,
          0.12027344584490493,
          0.1380268642890227,
          0.1391941391941392,
          0.1369751714579301,
          0.15616757651965896,
          0.14098761123713138,
          0.12472624882678068,
          0.1573091849935317,
          0.11776061776061776,
          0,
          0.11875962172861228,
          0.1311373652521156,
          0.12987780843515964,
          0.0824770896973063,
          0.1434915106660862,
          0.0914544727369684,
          0.15272136474411047,
          0.14216867469879518,
          0.1012806658542754,
          0.15818211902266835,
          0.06763565891472868,
          0.14933705512909978,
          0.06667663327851697,
          0.1161972898414527,
          0.10929922728483879,
          0.1190424843648911,
          0.04509545753785385,
          0.14690265486725665,
          0.12489557226399331,
          0.06760945370011623,
          0.08967920689207325,
          0.0007626310772163965,
          0.13883397941108516,
          0.1144770847032557,
          0.15649703557312253,
          0.10286698658791682,
          0.10753547356075935,
          0.15467924363509322,
          0.11906399449784873,
          0.07103533278553821,
          0.13913186994553556,
          0.15395763181450067,
          0.10139460843686196,
          0.1335100842723227,
          0.14422241529105126,
          0.1269810777062722,
          0.12130937098844673,
          0.13571560822069986,
          0.12669425566650214
         ],
         "yaxis": "y"
        }
       ],
       "layout": {
        "bargap": 0.2,
        "height": 800,
        "legend": {
         "title": {
          "text": "variable"
         },
         "tracegroupgap": 0
        },
        "margin": {
         "t": 60
        },
        "template": {
         "data": {
          "bar": [
           {
            "error_x": {
             "color": "#2a3f5f"
            },
            "error_y": {
             "color": "#2a3f5f"
            },
            "marker": {
             "line": {
              "color": "#E5ECF6",
              "width": 0.5
             },
             "pattern": {
              "fillmode": "overlay",
              "size": 10,
              "solidity": 0.2
             }
            },
            "type": "bar"
           }
          ],
          "barpolar": [
           {
            "marker": {
             "line": {
              "color": "#E5ECF6",
              "width": 0.5
             },
             "pattern": {
              "fillmode": "overlay",
              "size": 10,
              "solidity": 0.2
             }
            },
            "type": "barpolar"
           }
          ],
          "carpet": [
           {
            "aaxis": {
             "endlinecolor": "#2a3f5f",
             "gridcolor": "white",
             "linecolor": "white",
             "minorgridcolor": "white",
             "startlinecolor": "#2a3f5f"
            },
            "baxis": {
             "endlinecolor": "#2a3f5f",
             "gridcolor": "white",
             "linecolor": "white",
             "minorgridcolor": "white",
             "startlinecolor": "#2a3f5f"
            },
            "type": "carpet"
           }
          ],
          "choropleth": [
           {
            "colorbar": {
             "outlinewidth": 0,
             "ticks": ""
            },
            "type": "choropleth"
           }
          ],
          "contour": [
           {
            "colorbar": {
             "outlinewidth": 0,
             "ticks": ""
            },
            "colorscale": [
             [
              0,
              "#0d0887"
             ],
             [
              0.1111111111111111,
              "#46039f"
             ],
             [
              0.2222222222222222,
              "#7201a8"
             ],
             [
              0.3333333333333333,
              "#9c179e"
             ],
             [
              0.4444444444444444,
              "#bd3786"
             ],
             [
              0.5555555555555556,
              "#d8576b"
             ],
             [
              0.6666666666666666,
              "#ed7953"
             ],
             [
              0.7777777777777778,
              "#fb9f3a"
             ],
             [
              0.8888888888888888,
              "#fdca26"
             ],
             [
              1,
              "#f0f921"
             ]
            ],
            "type": "contour"
           }
          ],
          "contourcarpet": [
           {
            "colorbar": {
             "outlinewidth": 0,
             "ticks": ""
            },
            "type": "contourcarpet"
           }
          ],
          "heatmap": [
           {
            "colorbar": {
             "outlinewidth": 0,
             "ticks": ""
            },
            "colorscale": [
             [
              0,
              "#0d0887"
             ],
             [
              0.1111111111111111,
              "#46039f"
             ],
             [
              0.2222222222222222,
              "#7201a8"
             ],
             [
              0.3333333333333333,
              "#9c179e"
             ],
             [
              0.4444444444444444,
              "#bd3786"
             ],
             [
              0.5555555555555556,
              "#d8576b"
             ],
             [
              0.6666666666666666,
              "#ed7953"
             ],
             [
              0.7777777777777778,
              "#fb9f3a"
             ],
             [
              0.8888888888888888,
              "#fdca26"
             ],
             [
              1,
              "#f0f921"
             ]
            ],
            "type": "heatmap"
           }
          ],
          "heatmapgl": [
           {
            "colorbar": {
             "outlinewidth": 0,
             "ticks": ""
            },
            "colorscale": [
             [
              0,
              "#0d0887"
             ],
             [
              0.1111111111111111,
              "#46039f"
             ],
             [
              0.2222222222222222,
              "#7201a8"
             ],
             [
              0.3333333333333333,
              "#9c179e"
             ],
             [
              0.4444444444444444,
              "#bd3786"
             ],
             [
              0.5555555555555556,
              "#d8576b"
             ],
             [
              0.6666666666666666,
              "#ed7953"
             ],
             [
              0.7777777777777778,
              "#fb9f3a"
             ],
             [
              0.8888888888888888,
              "#fdca26"
             ],
             [
              1,
              "#f0f921"
             ]
            ],
            "type": "heatmapgl"
           }
          ],
          "histogram": [
           {
            "marker": {
             "pattern": {
              "fillmode": "overlay",
              "size": 10,
              "solidity": 0.2
             }
            },
            "type": "histogram"
           }
          ],
          "histogram2d": [
           {
            "colorbar": {
             "outlinewidth": 0,
             "ticks": ""
            },
            "colorscale": [
             [
              0,
              "#0d0887"
             ],
             [
              0.1111111111111111,
              "#46039f"
             ],
             [
              0.2222222222222222,
              "#7201a8"
             ],
             [
              0.3333333333333333,
              "#9c179e"
             ],
             [
              0.4444444444444444,
              "#bd3786"
             ],
             [
              0.5555555555555556,
              "#d8576b"
             ],
             [
              0.6666666666666666,
              "#ed7953"
             ],
             [
              0.7777777777777778,
              "#fb9f3a"
             ],
             [
              0.8888888888888888,
              "#fdca26"
             ],
             [
              1,
              "#f0f921"
             ]
            ],
            "type": "histogram2d"
           }
          ],
          "histogram2dcontour": [
           {
            "colorbar": {
             "outlinewidth": 0,
             "ticks": ""
            },
            "colorscale": [
             [
              0,
              "#0d0887"
             ],
             [
              0.1111111111111111,
              "#46039f"
             ],
             [
              0.2222222222222222,
              "#7201a8"
             ],
             [
              0.3333333333333333,
              "#9c179e"
             ],
             [
              0.4444444444444444,
              "#bd3786"
             ],
             [
              0.5555555555555556,
              "#d8576b"
             ],
             [
              0.6666666666666666,
              "#ed7953"
             ],
             [
              0.7777777777777778,
              "#fb9f3a"
             ],
             [
              0.8888888888888888,
              "#fdca26"
             ],
             [
              1,
              "#f0f921"
             ]
            ],
            "type": "histogram2dcontour"
           }
          ],
          "mesh3d": [
           {
            "colorbar": {
             "outlinewidth": 0,
             "ticks": ""
            },
            "type": "mesh3d"
           }
          ],
          "parcoords": [
           {
            "line": {
             "colorbar": {
              "outlinewidth": 0,
              "ticks": ""
             }
            },
            "type": "parcoords"
           }
          ],
          "pie": [
           {
            "automargin": true,
            "type": "pie"
           }
          ],
          "scatter": [
           {
            "fillpattern": {
             "fillmode": "overlay",
             "size": 10,
             "solidity": 0.2
            },
            "type": "scatter"
           }
          ],
          "scatter3d": [
           {
            "line": {
             "colorbar": {
              "outlinewidth": 0,
              "ticks": ""
             }
            },
            "marker": {
             "colorbar": {
              "outlinewidth": 0,
              "ticks": ""
             }
            },
            "type": "scatter3d"
           }
          ],
          "scattercarpet": [
           {
            "marker": {
             "colorbar": {
              "outlinewidth": 0,
              "ticks": ""
             }
            },
            "type": "scattercarpet"
           }
          ],
          "scattergeo": [
           {
            "marker": {
             "colorbar": {
              "outlinewidth": 0,
              "ticks": ""
             }
            },
            "type": "scattergeo"
           }
          ],
          "scattergl": [
           {
            "marker": {
             "colorbar": {
              "outlinewidth": 0,
              "ticks": ""
             }
            },
            "type": "scattergl"
           }
          ],
          "scattermapbox": [
           {
            "marker": {
             "colorbar": {
              "outlinewidth": 0,
              "ticks": ""
             }
            },
            "type": "scattermapbox"
           }
          ],
          "scatterpolar": [
           {
            "marker": {
             "colorbar": {
              "outlinewidth": 0,
              "ticks": ""
             }
            },
            "type": "scatterpolar"
           }
          ],
          "scatterpolargl": [
           {
            "marker": {
             "colorbar": {
              "outlinewidth": 0,
              "ticks": ""
             }
            },
            "type": "scatterpolargl"
           }
          ],
          "scatterternary": [
           {
            "marker": {
             "colorbar": {
              "outlinewidth": 0,
              "ticks": ""
             }
            },
            "type": "scatterternary"
           }
          ],
          "surface": [
           {
            "colorbar": {
             "outlinewidth": 0,
             "ticks": ""
            },
            "colorscale": [
             [
              0,
              "#0d0887"
             ],
             [
              0.1111111111111111,
              "#46039f"
             ],
             [
              0.2222222222222222,
              "#7201a8"
             ],
             [
              0.3333333333333333,
              "#9c179e"
             ],
             [
              0.4444444444444444,
              "#bd3786"
             ],
             [
              0.5555555555555556,
              "#d8576b"
             ],
             [
              0.6666666666666666,
              "#ed7953"
             ],
             [
              0.7777777777777778,
              "#fb9f3a"
             ],
             [
              0.8888888888888888,
              "#fdca26"
             ],
             [
              1,
              "#f0f921"
             ]
            ],
            "type": "surface"
           }
          ],
          "table": [
           {
            "cells": {
             "fill": {
              "color": "#EBF0F8"
             },
             "line": {
              "color": "white"
             }
            },
            "header": {
             "fill": {
              "color": "#C8D4E3"
             },
             "line": {
              "color": "white"
             }
            },
            "type": "table"
           }
          ]
         },
         "layout": {
          "annotationdefaults": {
           "arrowcolor": "#2a3f5f",
           "arrowhead": 0,
           "arrowwidth": 1
          },
          "autotypenumbers": "strict",
          "coloraxis": {
           "colorbar": {
            "outlinewidth": 0,
            "ticks": ""
           }
          },
          "colorscale": {
           "diverging": [
            [
             0,
             "#8e0152"
            ],
            [
             0.1,
             "#c51b7d"
            ],
            [
             0.2,
             "#de77ae"
            ],
            [
             0.3,
             "#f1b6da"
            ],
            [
             0.4,
             "#fde0ef"
            ],
            [
             0.5,
             "#f7f7f7"
            ],
            [
             0.6,
             "#e6f5d0"
            ],
            [
             0.7,
             "#b8e186"
            ],
            [
             0.8,
             "#7fbc41"
            ],
            [
             0.9,
             "#4d9221"
            ],
            [
             1,
             "#276419"
            ]
           ],
           "sequential": [
            [
             0,
             "#0d0887"
            ],
            [
             0.1111111111111111,
             "#46039f"
            ],
            [
             0.2222222222222222,
             "#7201a8"
            ],
            [
             0.3333333333333333,
             "#9c179e"
            ],
            [
             0.4444444444444444,
             "#bd3786"
            ],
            [
             0.5555555555555556,
             "#d8576b"
            ],
            [
             0.6666666666666666,
             "#ed7953"
            ],
            [
             0.7777777777777778,
             "#fb9f3a"
            ],
            [
             0.8888888888888888,
             "#fdca26"
            ],
            [
             1,
             "#f0f921"
            ]
           ],
           "sequentialminus": [
            [
             0,
             "#0d0887"
            ],
            [
             0.1111111111111111,
             "#46039f"
            ],
            [
             0.2222222222222222,
             "#7201a8"
            ],
            [
             0.3333333333333333,
             "#9c179e"
            ],
            [
             0.4444444444444444,
             "#bd3786"
            ],
            [
             0.5555555555555556,
             "#d8576b"
            ],
            [
             0.6666666666666666,
             "#ed7953"
            ],
            [
             0.7777777777777778,
             "#fb9f3a"
            ],
            [
             0.8888888888888888,
             "#fdca26"
            ],
            [
             1,
             "#f0f921"
            ]
           ]
          },
          "colorway": [
           "#636efa",
           "#EF553B",
           "#00cc96",
           "#ab63fa",
           "#FFA15A",
           "#19d3f3",
           "#FF6692",
           "#B6E880",
           "#FF97FF",
           "#FECB52"
          ],
          "font": {
           "color": "#2a3f5f"
          },
          "geo": {
           "bgcolor": "white",
           "lakecolor": "white",
           "landcolor": "#E5ECF6",
           "showlakes": true,
           "showland": true,
           "subunitcolor": "white"
          },
          "hoverlabel": {
           "align": "left"
          },
          "hovermode": "closest",
          "mapbox": {
           "style": "light"
          },
          "paper_bgcolor": "white",
          "plot_bgcolor": "#E5ECF6",
          "polar": {
           "angularaxis": {
            "gridcolor": "white",
            "linecolor": "white",
            "ticks": ""
           },
           "bgcolor": "#E5ECF6",
           "radialaxis": {
            "gridcolor": "white",
            "linecolor": "white",
            "ticks": ""
           }
          },
          "scene": {
           "xaxis": {
            "backgroundcolor": "#E5ECF6",
            "gridcolor": "white",
            "gridwidth": 2,
            "linecolor": "white",
            "showbackground": true,
            "ticks": "",
            "zerolinecolor": "white"
           },
           "yaxis": {
            "backgroundcolor": "#E5ECF6",
            "gridcolor": "white",
            "gridwidth": 2,
            "linecolor": "white",
            "showbackground": true,
            "ticks": "",
            "zerolinecolor": "white"
           },
           "zaxis": {
            "backgroundcolor": "#E5ECF6",
            "gridcolor": "white",
            "gridwidth": 2,
            "linecolor": "white",
            "showbackground": true,
            "ticks": "",
            "zerolinecolor": "white"
           }
          },
          "shapedefaults": {
           "line": {
            "color": "#2a3f5f"
           }
          },
          "ternary": {
           "aaxis": {
            "gridcolor": "white",
            "linecolor": "white",
            "ticks": ""
           },
           "baxis": {
            "gridcolor": "white",
            "linecolor": "white",
            "ticks": ""
           },
           "bgcolor": "#E5ECF6",
           "caxis": {
            "gridcolor": "white",
            "linecolor": "white",
            "ticks": ""
           }
          },
          "title": {
           "x": 0.05
          },
          "xaxis": {
           "automargin": true,
           "gridcolor": "white",
           "linecolor": "white",
           "ticks": "",
           "title": {
            "standoff": 15
           },
           "zerolinecolor": "white",
           "zerolinewidth": 2
          },
          "yaxis": {
           "automargin": true,
           "gridcolor": "white",
           "linecolor": "white",
           "ticks": "",
           "title": {
            "standoff": 15
           },
           "zerolinecolor": "white",
           "zerolinewidth": 2
          }
         }
        },
        "title": {
         "font": {
          "family": "Times New Roman",
          "size": 35
         },
         "text": "Зависимость precision от гиперпараметров модели",
         "x": 0.5
        },
        "width": 1350,
        "xaxis": {
         "anchor": "y",
         "domain": [
          0,
          1
         ],
         "showspikes": true,
         "title": {
          "text": "Величина метрики precision_1"
         }
        },
        "yaxis": {
         "anchor": "x",
         "domain": [
          0,
          1
         ],
         "showspikes": true,
         "title": {
          "text": "Величина параметра"
         }
        }
       }
      }
     },
     "metadata": {},
     "output_type": "display_data"
    }
   ],
   "source": [
    "# Построим зависимость метрики precision_1 от гипер параметров\n",
    "fig = px.scatter(\n",
    "    data_frame=optuna_study_lg_pd,\n",
    "    x='precision_1', #ось абсцисс\n",
    "    y=['roc_train', 'roc_valid', 'recall_1','f1_score'], #ось ординат\n",
    ")\n",
    "fig.update_layout(\n",
    "    title ={\n",
    "        'text':'Зависимость precision от гиперпараметров модели', # Имя рабочей плоскости\n",
    "        'font':{'size':35,'family':\"Times New Roman\"}, # размер и стиль написания имени рабочей плоскости\n",
    "        'x':0.5, # Смешение имени по оси \"x\" на половину рабочей плоскости\n",
    "        },\n",
    "    height =800,# Высота рабочей плоскости\n",
    "    width = 1350, # Ширина рабочей плоскости\n",
    "    bargap=0.2, # Добавил расстояния между столбами гистограммы\n",
    "    xaxis_title='Величина метрики precision_1',\n",
    "    yaxis_title='Величина параметра')\n",
    "fig.update_xaxes(showspikes=True)\n",
    "fig.update_yaxes(showspikes=True)\n",
    "\n",
    "fig.show()"
   ]
  },
  {
   "cell_type": "code",
   "execution_count": 110,
   "metadata": {},
   "outputs": [
    {
     "data": {
      "application/vnd.plotly.v1+json": {
       "config": {
        "plotlyServerURL": "https://plot.ly"
       },
       "data": [
        {
         "hovertemplate": "variable=roc_train<br>number=%{x}<br>value=%{y}<extra></extra>",
         "legendgroup": "roc_train",
         "marker": {
          "color": "#636efa",
          "symbol": "circle"
         },
         "mode": "markers",
         "name": "roc_train",
         "orientation": "v",
         "showlegend": true,
         "type": "scatter",
         "x": [
          127
         ],
         "xaxis": "x",
         "y": [
          0.7406050000330956
         ],
         "yaxis": "y"
        },
        {
         "hovertemplate": "variable=roc_valid<br>number=%{x}<br>value=%{y}<extra></extra>",
         "legendgroup": "roc_valid",
         "marker": {
          "color": "#EF553B",
          "symbol": "circle"
         },
         "mode": "markers",
         "name": "roc_valid",
         "orientation": "v",
         "showlegend": true,
         "type": "scatter",
         "x": [
          127
         ],
         "xaxis": "x",
         "y": [
          0.7296073624753293
         ],
         "yaxis": "y"
        },
        {
         "hovertemplate": "variable=recall_1<br>number=%{x}<br>value=%{y}<extra></extra>",
         "legendgroup": "recall_1",
         "marker": {
          "color": "#00cc96",
          "symbol": "circle"
         },
         "mode": "markers",
         "name": "recall_1",
         "orientation": "v",
         "showlegend": true,
         "type": "scatter",
         "x": [
          127
         ],
         "xaxis": "x",
         "y": [
          0.43572110792741164
         ],
         "yaxis": "y"
        },
        {
         "hovertemplate": "variable=precision_1<br>number=%{x}<br>value=%{y}<extra></extra>",
         "legendgroup": "precision_1",
         "marker": {
          "color": "#ab63fa",
          "symbol": "circle"
         },
         "mode": "markers",
         "name": "precision_1",
         "orientation": "v",
         "showlegend": true,
         "type": "scatter",
         "x": [
          127
         ],
         "xaxis": "x",
         "y": [
          0.08862726813536931
         ],
         "yaxis": "y"
        }
       ],
       "layout": {
        "bargap": 0.2,
        "height": 800,
        "legend": {
         "title": {
          "text": "variable"
         },
         "tracegroupgap": 0
        },
        "margin": {
         "t": 60
        },
        "template": {
         "data": {
          "bar": [
           {
            "error_x": {
             "color": "#2a3f5f"
            },
            "error_y": {
             "color": "#2a3f5f"
            },
            "marker": {
             "line": {
              "color": "#E5ECF6",
              "width": 0.5
             },
             "pattern": {
              "fillmode": "overlay",
              "size": 10,
              "solidity": 0.2
             }
            },
            "type": "bar"
           }
          ],
          "barpolar": [
           {
            "marker": {
             "line": {
              "color": "#E5ECF6",
              "width": 0.5
             },
             "pattern": {
              "fillmode": "overlay",
              "size": 10,
              "solidity": 0.2
             }
            },
            "type": "barpolar"
           }
          ],
          "carpet": [
           {
            "aaxis": {
             "endlinecolor": "#2a3f5f",
             "gridcolor": "white",
             "linecolor": "white",
             "minorgridcolor": "white",
             "startlinecolor": "#2a3f5f"
            },
            "baxis": {
             "endlinecolor": "#2a3f5f",
             "gridcolor": "white",
             "linecolor": "white",
             "minorgridcolor": "white",
             "startlinecolor": "#2a3f5f"
            },
            "type": "carpet"
           }
          ],
          "choropleth": [
           {
            "colorbar": {
             "outlinewidth": 0,
             "ticks": ""
            },
            "type": "choropleth"
           }
          ],
          "contour": [
           {
            "colorbar": {
             "outlinewidth": 0,
             "ticks": ""
            },
            "colorscale": [
             [
              0,
              "#0d0887"
             ],
             [
              0.1111111111111111,
              "#46039f"
             ],
             [
              0.2222222222222222,
              "#7201a8"
             ],
             [
              0.3333333333333333,
              "#9c179e"
             ],
             [
              0.4444444444444444,
              "#bd3786"
             ],
             [
              0.5555555555555556,
              "#d8576b"
             ],
             [
              0.6666666666666666,
              "#ed7953"
             ],
             [
              0.7777777777777778,
              "#fb9f3a"
             ],
             [
              0.8888888888888888,
              "#fdca26"
             ],
             [
              1,
              "#f0f921"
             ]
            ],
            "type": "contour"
           }
          ],
          "contourcarpet": [
           {
            "colorbar": {
             "outlinewidth": 0,
             "ticks": ""
            },
            "type": "contourcarpet"
           }
          ],
          "heatmap": [
           {
            "colorbar": {
             "outlinewidth": 0,
             "ticks": ""
            },
            "colorscale": [
             [
              0,
              "#0d0887"
             ],
             [
              0.1111111111111111,
              "#46039f"
             ],
             [
              0.2222222222222222,
              "#7201a8"
             ],
             [
              0.3333333333333333,
              "#9c179e"
             ],
             [
              0.4444444444444444,
              "#bd3786"
             ],
             [
              0.5555555555555556,
              "#d8576b"
             ],
             [
              0.6666666666666666,
              "#ed7953"
             ],
             [
              0.7777777777777778,
              "#fb9f3a"
             ],
             [
              0.8888888888888888,
              "#fdca26"
             ],
             [
              1,
              "#f0f921"
             ]
            ],
            "type": "heatmap"
           }
          ],
          "heatmapgl": [
           {
            "colorbar": {
             "outlinewidth": 0,
             "ticks": ""
            },
            "colorscale": [
             [
              0,
              "#0d0887"
             ],
             [
              0.1111111111111111,
              "#46039f"
             ],
             [
              0.2222222222222222,
              "#7201a8"
             ],
             [
              0.3333333333333333,
              "#9c179e"
             ],
             [
              0.4444444444444444,
              "#bd3786"
             ],
             [
              0.5555555555555556,
              "#d8576b"
             ],
             [
              0.6666666666666666,
              "#ed7953"
             ],
             [
              0.7777777777777778,
              "#fb9f3a"
             ],
             [
              0.8888888888888888,
              "#fdca26"
             ],
             [
              1,
              "#f0f921"
             ]
            ],
            "type": "heatmapgl"
           }
          ],
          "histogram": [
           {
            "marker": {
             "pattern": {
              "fillmode": "overlay",
              "size": 10,
              "solidity": 0.2
             }
            },
            "type": "histogram"
           }
          ],
          "histogram2d": [
           {
            "colorbar": {
             "outlinewidth": 0,
             "ticks": ""
            },
            "colorscale": [
             [
              0,
              "#0d0887"
             ],
             [
              0.1111111111111111,
              "#46039f"
             ],
             [
              0.2222222222222222,
              "#7201a8"
             ],
             [
              0.3333333333333333,
              "#9c179e"
             ],
             [
              0.4444444444444444,
              "#bd3786"
             ],
             [
              0.5555555555555556,
              "#d8576b"
             ],
             [
              0.6666666666666666,
              "#ed7953"
             ],
             [
              0.7777777777777778,
              "#fb9f3a"
             ],
             [
              0.8888888888888888,
              "#fdca26"
             ],
             [
              1,
              "#f0f921"
             ]
            ],
            "type": "histogram2d"
           }
          ],
          "histogram2dcontour": [
           {
            "colorbar": {
             "outlinewidth": 0,
             "ticks": ""
            },
            "colorscale": [
             [
              0,
              "#0d0887"
             ],
             [
              0.1111111111111111,
              "#46039f"
             ],
             [
              0.2222222222222222,
              "#7201a8"
             ],
             [
              0.3333333333333333,
              "#9c179e"
             ],
             [
              0.4444444444444444,
              "#bd3786"
             ],
             [
              0.5555555555555556,
              "#d8576b"
             ],
             [
              0.6666666666666666,
              "#ed7953"
             ],
             [
              0.7777777777777778,
              "#fb9f3a"
             ],
             [
              0.8888888888888888,
              "#fdca26"
             ],
             [
              1,
              "#f0f921"
             ]
            ],
            "type": "histogram2dcontour"
           }
          ],
          "mesh3d": [
           {
            "colorbar": {
             "outlinewidth": 0,
             "ticks": ""
            },
            "type": "mesh3d"
           }
          ],
          "parcoords": [
           {
            "line": {
             "colorbar": {
              "outlinewidth": 0,
              "ticks": ""
             }
            },
            "type": "parcoords"
           }
          ],
          "pie": [
           {
            "automargin": true,
            "type": "pie"
           }
          ],
          "scatter": [
           {
            "fillpattern": {
             "fillmode": "overlay",
             "size": 10,
             "solidity": 0.2
            },
            "type": "scatter"
           }
          ],
          "scatter3d": [
           {
            "line": {
             "colorbar": {
              "outlinewidth": 0,
              "ticks": ""
             }
            },
            "marker": {
             "colorbar": {
              "outlinewidth": 0,
              "ticks": ""
             }
            },
            "type": "scatter3d"
           }
          ],
          "scattercarpet": [
           {
            "marker": {
             "colorbar": {
              "outlinewidth": 0,
              "ticks": ""
             }
            },
            "type": "scattercarpet"
           }
          ],
          "scattergeo": [
           {
            "marker": {
             "colorbar": {
              "outlinewidth": 0,
              "ticks": ""
             }
            },
            "type": "scattergeo"
           }
          ],
          "scattergl": [
           {
            "marker": {
             "colorbar": {
              "outlinewidth": 0,
              "ticks": ""
             }
            },
            "type": "scattergl"
           }
          ],
          "scattermapbox": [
           {
            "marker": {
             "colorbar": {
              "outlinewidth": 0,
              "ticks": ""
             }
            },
            "type": "scattermapbox"
           }
          ],
          "scatterpolar": [
           {
            "marker": {
             "colorbar": {
              "outlinewidth": 0,
              "ticks": ""
             }
            },
            "type": "scatterpolar"
           }
          ],
          "scatterpolargl": [
           {
            "marker": {
             "colorbar": {
              "outlinewidth": 0,
              "ticks": ""
             }
            },
            "type": "scatterpolargl"
           }
          ],
          "scatterternary": [
           {
            "marker": {
             "colorbar": {
              "outlinewidth": 0,
              "ticks": ""
             }
            },
            "type": "scatterternary"
           }
          ],
          "surface": [
           {
            "colorbar": {
             "outlinewidth": 0,
             "ticks": ""
            },
            "colorscale": [
             [
              0,
              "#0d0887"
             ],
             [
              0.1111111111111111,
              "#46039f"
             ],
             [
              0.2222222222222222,
              "#7201a8"
             ],
             [
              0.3333333333333333,
              "#9c179e"
             ],
             [
              0.4444444444444444,
              "#bd3786"
             ],
             [
              0.5555555555555556,
              "#d8576b"
             ],
             [
              0.6666666666666666,
              "#ed7953"
             ],
             [
              0.7777777777777778,
              "#fb9f3a"
             ],
             [
              0.8888888888888888,
              "#fdca26"
             ],
             [
              1,
              "#f0f921"
             ]
            ],
            "type": "surface"
           }
          ],
          "table": [
           {
            "cells": {
             "fill": {
              "color": "#EBF0F8"
             },
             "line": {
              "color": "white"
             }
            },
            "header": {
             "fill": {
              "color": "#C8D4E3"
             },
             "line": {
              "color": "white"
             }
            },
            "type": "table"
           }
          ]
         },
         "layout": {
          "annotationdefaults": {
           "arrowcolor": "#2a3f5f",
           "arrowhead": 0,
           "arrowwidth": 1
          },
          "autotypenumbers": "strict",
          "coloraxis": {
           "colorbar": {
            "outlinewidth": 0,
            "ticks": ""
           }
          },
          "colorscale": {
           "diverging": [
            [
             0,
             "#8e0152"
            ],
            [
             0.1,
             "#c51b7d"
            ],
            [
             0.2,
             "#de77ae"
            ],
            [
             0.3,
             "#f1b6da"
            ],
            [
             0.4,
             "#fde0ef"
            ],
            [
             0.5,
             "#f7f7f7"
            ],
            [
             0.6,
             "#e6f5d0"
            ],
            [
             0.7,
             "#b8e186"
            ],
            [
             0.8,
             "#7fbc41"
            ],
            [
             0.9,
             "#4d9221"
            ],
            [
             1,
             "#276419"
            ]
           ],
           "sequential": [
            [
             0,
             "#0d0887"
            ],
            [
             0.1111111111111111,
             "#46039f"
            ],
            [
             0.2222222222222222,
             "#7201a8"
            ],
            [
             0.3333333333333333,
             "#9c179e"
            ],
            [
             0.4444444444444444,
             "#bd3786"
            ],
            [
             0.5555555555555556,
             "#d8576b"
            ],
            [
             0.6666666666666666,
             "#ed7953"
            ],
            [
             0.7777777777777778,
             "#fb9f3a"
            ],
            [
             0.8888888888888888,
             "#fdca26"
            ],
            [
             1,
             "#f0f921"
            ]
           ],
           "sequentialminus": [
            [
             0,
             "#0d0887"
            ],
            [
             0.1111111111111111,
             "#46039f"
            ],
            [
             0.2222222222222222,
             "#7201a8"
            ],
            [
             0.3333333333333333,
             "#9c179e"
            ],
            [
             0.4444444444444444,
             "#bd3786"
            ],
            [
             0.5555555555555556,
             "#d8576b"
            ],
            [
             0.6666666666666666,
             "#ed7953"
            ],
            [
             0.7777777777777778,
             "#fb9f3a"
            ],
            [
             0.8888888888888888,
             "#fdca26"
            ],
            [
             1,
             "#f0f921"
            ]
           ]
          },
          "colorway": [
           "#636efa",
           "#EF553B",
           "#00cc96",
           "#ab63fa",
           "#FFA15A",
           "#19d3f3",
           "#FF6692",
           "#B6E880",
           "#FF97FF",
           "#FECB52"
          ],
          "font": {
           "color": "#2a3f5f"
          },
          "geo": {
           "bgcolor": "white",
           "lakecolor": "white",
           "landcolor": "#E5ECF6",
           "showlakes": true,
           "showland": true,
           "subunitcolor": "white"
          },
          "hoverlabel": {
           "align": "left"
          },
          "hovermode": "closest",
          "mapbox": {
           "style": "light"
          },
          "paper_bgcolor": "white",
          "plot_bgcolor": "#E5ECF6",
          "polar": {
           "angularaxis": {
            "gridcolor": "white",
            "linecolor": "white",
            "ticks": ""
           },
           "bgcolor": "#E5ECF6",
           "radialaxis": {
            "gridcolor": "white",
            "linecolor": "white",
            "ticks": ""
           }
          },
          "scene": {
           "xaxis": {
            "backgroundcolor": "#E5ECF6",
            "gridcolor": "white",
            "gridwidth": 2,
            "linecolor": "white",
            "showbackground": true,
            "ticks": "",
            "zerolinecolor": "white"
           },
           "yaxis": {
            "backgroundcolor": "#E5ECF6",
            "gridcolor": "white",
            "gridwidth": 2,
            "linecolor": "white",
            "showbackground": true,
            "ticks": "",
            "zerolinecolor": "white"
           },
           "zaxis": {
            "backgroundcolor": "#E5ECF6",
            "gridcolor": "white",
            "gridwidth": 2,
            "linecolor": "white",
            "showbackground": true,
            "ticks": "",
            "zerolinecolor": "white"
           }
          },
          "shapedefaults": {
           "line": {
            "color": "#2a3f5f"
           }
          },
          "ternary": {
           "aaxis": {
            "gridcolor": "white",
            "linecolor": "white",
            "ticks": ""
           },
           "baxis": {
            "gridcolor": "white",
            "linecolor": "white",
            "ticks": ""
           },
           "bgcolor": "#E5ECF6",
           "caxis": {
            "gridcolor": "white",
            "linecolor": "white",
            "ticks": ""
           }
          },
          "title": {
           "x": 0.05
          },
          "xaxis": {
           "automargin": true,
           "gridcolor": "white",
           "linecolor": "white",
           "ticks": "",
           "title": {
            "standoff": 15
           },
           "zerolinecolor": "white",
           "zerolinewidth": 2
          },
          "yaxis": {
           "automargin": true,
           "gridcolor": "white",
           "linecolor": "white",
           "ticks": "",
           "title": {
            "standoff": 15
           },
           "zerolinecolor": "white",
           "zerolinewidth": 2
          }
         }
        },
        "title": {
         "font": {
          "family": "Times New Roman",
          "size": 35
         },
         "text": "Зависимость качества модели от trials optuna",
         "x": 0.5
        },
        "width": 1350,
        "xaxis": {
         "anchor": "y",
         "domain": [
          0,
          1
         ],
         "showspikes": true,
         "title": {
          "text": "trials optuna"
         }
        },
        "yaxis": {
         "anchor": "x",
         "domain": [
          0,
          1
         ],
         "showspikes": true,
         "title": {
          "text": "Величина метрики"
         }
        }
       }
      }
     },
     "metadata": {},
     "output_type": "display_data"
    }
   ],
   "source": [
    "# Визуализируем метрики полученные при optuna оптимизации\n",
    "fig = px.scatter(\n",
    "    data_frame=optuna_study_lg_pd[(optuna_study_lg_pd['roc_valid']>0.9999*optuna_study_lg_pd['roc_valid'].max())],\n",
    "    x='number', #ось абсцисс\n",
    "    y=['roc_train','roc_valid','recall_1','precision_1'], #ось ординат\n",
    ")\n",
    "fig.update_layout(\n",
    "    title ={\n",
    "        'text':'Зависимость качества модели от trials optuna', # Имя рабочей плоскости\n",
    "        'font':{'size':35,'family':\"Times New Roman\"}, # размер и стиль написания имени рабочей плоскости\n",
    "        'x':0.5, # Смешение имени по оси \"x\" на половину рабочей плоскости\n",
    "        },\n",
    "    height =800,# Высота рабочей плоскости\n",
    "    width = 1350, # Ширина рабочей плоскости\n",
    "    bargap=0.2, # Добавил расстояния между столбами гистограммы\n",
    "    xaxis_title='trials optuna',\n",
    "    yaxis_title='Величина метрики')\n",
    "fig.update_xaxes(showspikes=True)\n",
    "fig.update_yaxes(showspikes=True)\n",
    "\n",
    "fig.show()"
   ]
  },
  {
   "cell_type": "markdown",
   "metadata": {},
   "source": [
    "<span style=\"color:Blue\">\n",
    "\n",
    "Вывод:  \n",
    "\n",
    "Их всех выбираем точку $number =127$.   \n",
    "В этой точке самые оптимальные значения $recall$ и $precision$.  \n",
    "Посмотрим каким значениям гиперпараметров соотвествует выбранная точка."
   ]
  },
  {
   "cell_type": "code",
   "execution_count": 111,
   "metadata": {},
   "outputs": [
    {
     "name": "stdout",
     "output_type": "stream",
     "text": [
      "best C: 0.912\n",
      "best class 0 weight: 0.269\n",
      "best class 1 weight: 0.678\n",
      "best class 1 percent: 0.194\n",
      "best k features: 334\n",
      "best random state: 671463\n",
      "time for best train: 0 minutes\n",
      "\n",
      "ROC AUC на обучающем наборе: 0.741\n",
      "ROC AUC на валидационном наборе: 0.73\n",
      "precision класса 1: 0.089\n",
      "recall класса 1: 0.436\n"
     ]
    }
   ],
   "source": [
    "# определим номер лучшге варианта\n",
    "best_optuna_number = 127\n",
    "\n",
    "# сформируем словарь лучших гипирпарметров RandomForestClassifier\n",
    "best_param_lr = {\n",
    "    'C' : round(optuna_study_lg_pd[optuna_study_lg_pd['number']==best_optuna_number]['params_C'].iloc[0],3),\n",
    "    'class_weight' : {0:round(optuna_study_lg_pd[optuna_study_lg_pd['number']==best_optuna_number]['params_class_0_weight'].iloc[0],3),\n",
    "                      1:round(optuna_study_lg_pd[optuna_study_lg_pd['number']==best_optuna_number]['params_class_1_weight'].iloc[0],3)},\n",
    "    }\n",
    "\n",
    "# создадим перменные\n",
    "best_class_1_percent = optuna_study_lg_pd[optuna_study_lg_pd['number']==best_optuna_number]['params_class_1_percent'].iloc[0]\n",
    "best_k_features = optuna_study_lg_pd[optuna_study_lg_pd['number']==best_optuna_number]['params_k_features'].iloc[0]\n",
    "best_random_state = optuna_study_lg_pd[optuna_study_lg_pd['number']==best_optuna_number]['params_random_state'].iloc[0]\n",
    "# Выведем принятые наилучшие праметры\n",
    "print('best C:',best_param_lr['C'])\n",
    "print('best class 0 weight:',best_param_lr['class_weight'][0])\n",
    "print('best class 1 weight:',best_param_lr['class_weight'][1])\n",
    "print('best class 1 percent:',round(best_class_1_percent,3))\n",
    "print('best k features:',best_k_features)\n",
    "print('best random state:',best_random_state)\n",
    "print('time for best train:',round(optuna_study_lg_pd[optuna_study_lg_pd['number']==best_optuna_number]['duration'].iloc[0].seconds/60),'minutes')\n",
    "\n",
    "print()\n",
    "print('ROC AUC на обучающем наборе:', round(optuna_study_lg_pd[optuna_study_lg_pd['number']==best_optuna_number]['roc_train'].iloc[0],3))\n",
    "print('ROC AUC на валидационном наборе:', round(optuna_study_lg_pd[optuna_study_lg_pd['number']==best_optuna_number]['roc_valid'].iloc[0],3))\n",
    "print('precision класса 1:', round(optuna_study_lg_pd[optuna_study_lg_pd['number']==best_optuna_number]['precision_1'].iloc[0],3))\n",
    "print('recall класса 1:', round(optuna_study_lg_pd[optuna_study_lg_pd['number']==best_optuna_number]['recall_1'].iloc[0],3))\n"
   ]
  },
  {
   "cell_type": "markdown",
   "metadata": {},
   "source": [
    "##### <span style=\"color:MediumSlateBlue\">Обучение модели с лучшими параметрами</span>"
   ]
  },
  {
   "cell_type": "code",
   "execution_count": 112,
   "metadata": {},
   "outputs": [
    {
     "name": "stdout",
     "output_type": "stream",
     "text": [
      "ROC AUC на обучающем наборе 0.741\n",
      "ROC AUC на валидационном наборе 0.73\n",
      "Основные метрики на валидационом наборе:\n",
      "              precision    recall  f1-score   support\n",
      "\n",
      "           0       0.98      0.84      0.90    144390\n",
      "           1       0.09      0.44      0.15      5235\n",
      "\n",
      "    accuracy                           0.82    149625\n",
      "   macro avg       0.53      0.64      0.52    149625\n",
      "weighted avg       0.95      0.82      0.87    149625\n",
      "\n"
     ]
    }
   ],
   "source": [
    "# Загружаем обучающие наборы\n",
    "MX_train_pd = fp.ParquetFile('features/firstmeta/features_first_meta_stat_train').to_pandas()\n",
    "my_train_pd = pd.read_csv('features/firstmeta/mfy_train.csv')\n",
    "\n",
    "# поготовим данные my_train_pd к работе с функцией class_1_percent_samples\n",
    "my_train_pd.set_index('id',drop=False,inplace=True)\n",
    "\n",
    "# с помощью функции class_1_percent_samples зададим долю класса 1\n",
    "list_c1_percent_id = class_1_percent_samples(my_train_pd,best_class_1_percent,random_state=best_random_state)[:1000000]\n",
    "\n",
    "# подготовим данные для обучения\n",
    "MX_train_balanced = MX_train_pd.loc[list_c1_percent_id]\n",
    "my_train_balanced = my_train_pd.loc[list_c1_percent_id]['flag'].to_numpy()\n",
    "\n",
    "# освободим память от \"тяжелых\" и ненужных файлов\n",
    "del MX_train_pd, my_train_pd\n",
    "gc.collect()\n",
    "\n",
    "# с помощью класса SelectKBest получим список лучших признаков\n",
    "selector = SelectKBest(f_classif, k=best_k_features)\n",
    "selector.fit(MX_train_balanced, my_train_balanced)\n",
    "list_best_features = selector.get_feature_names_out()\n",
    "\n",
    "MX_train_balanced = MX_train_balanced[list_best_features].to_numpy()\n",
    "\n",
    "\n",
    "# обучаем модель LogisticRegression с наилучшеми параметрами\n",
    "logistic_regression = linear_model.LogisticRegression(\n",
    "        **best_param_lr,\n",
    "        random_state=42,\n",
    "        max_iter=10000)\n",
    "logistic_regression.fit(MX_train_balanced, my_train_balanced)\n",
    "\n",
    "# удаляем крупные файлы чтобы высвободить память \n",
    "del MX_train_balanced, my_train_balanced\n",
    "gc.collect()\n",
    "\n",
    "# загружаем тестовые наборы\n",
    "MX_train = fp.ParquetFile('features/firstmeta/features_first_meta_stat_train').to_pandas()[list_best_features].to_numpy()\n",
    "MX_valid = fp.ParquetFile('features/firstmeta/features_first_meta_stat_valid').to_pandas()[list_best_features].to_numpy()\n",
    "my_train = pd.read_csv('features/firstmeta/mfy_train.csv')['flag'].to_numpy()\n",
    "my_valid = pd.read_csv('features/firstmeta/mfy_valid.csv')['flag'].to_numpy()\n",
    "\n",
    "# для метрик ROC AUC делаем предсказание модели в виде вероятности\n",
    "my_train_lr__pred_proba = logistic_regression.predict_proba(MX_train)[:,1]\n",
    "my_valid_lr_pred_proba = logistic_regression.predict_proba(MX_valid)[:,1]\n",
    "\n",
    "# Делаем предсказание для валидационной выборки\n",
    "my_valid_lr_pred = logistic_regression.predict(MX_valid)\n",
    "\n",
    "# удаляем крупные файлы чтобы высвободить память \n",
    "del MX_train, MX_valid\n",
    "gc.collect()\n",
    "\n",
    "#Выводим значения метрик\n",
    "print('ROC AUC на обучающем наборе', round(metrics.roc_auc_score(my_train, my_train_lr__pred_proba),3))\n",
    "print('ROC AUC на валидационном наборе', round(metrics.roc_auc_score(my_valid, my_valid_lr_pred_proba),3))\n",
    "\n",
    "print('Основные метрики на валидационом наборе:')\n",
    "print(metrics.classification_report(my_valid,my_valid_lr_pred,zero_division=0))\n",
    "\n",
    "# time: 2m 30s"
   ]
  },
  {
   "cell_type": "markdown",
   "metadata": {},
   "source": [
    "#### <span style=\"color:MediumBlue\">Построение модели Gradient Boosting Classifier</span>"
   ]
  },
  {
   "cell_type": "markdown",
   "metadata": {},
   "source": [
    "##### <span style=\"color:MediumSlateBlue\">Baseline обучение модели Hist Gradient Boosting Classifier</span>"
   ]
  },
  {
   "cell_type": "code",
   "execution_count": 84,
   "metadata": {},
   "outputs": [],
   "source": [
    "MX_train = fp.ParquetFile('features/firstmeta/features_first_meta_stat_train').to_pandas()\n",
    "my_train = pd.read_csv('features/firstmeta/mfy_train.csv').set_index('id')['flag']\n",
    "MX_valid = fp.ParquetFile('features/firstmeta/features_first_meta_stat_valid').to_pandas()\n",
    "my_valid = pd.read_csv('features/firstmeta/mfy_valid.csv').set_index('id')['flag']"
   ]
  },
  {
   "cell_type": "code",
   "execution_count": 85,
   "metadata": {},
   "outputs": [
    {
     "name": "stdout",
     "output_type": "stream",
     "text": [
      "ROC AUC на обучающем наборе 0.781\n",
      "ROC AUC на валидационном наборе 0.732\n",
      "Основные метрики на валидационом наборе:\n",
      "              precision    recall  f1-score   support\n",
      "\n",
      "           0       0.97      1.00      0.98    144390\n",
      "           1       0.00      0.00      0.00      5235\n",
      "\n",
      "    accuracy                           0.96    149625\n",
      "   macro avg       0.48      0.50      0.49    149625\n",
      "weighted avg       0.93      0.96      0.95    149625\n",
      "\n"
     ]
    }
   ],
   "source": [
    "# обучаем модель Gradient Boosting Classifier\n",
    "gradient_boosting = HistGradientBoostingClassifier(random_state=42)\n",
    "gradient_boosting.fit(MX_train,my_train)\n",
    "\n",
    "# для метрик ROC AUC делаем предсказание модели в виде вероятности\n",
    "my_train_rf__pred_proba = gradient_boosting.predict_proba(MX_train)[:,1]\n",
    "my_valid_rf_pred_proba = gradient_boosting.predict_proba(MX_valid)[:,1]\n",
    "\n",
    "# Делаем предсказание для валидационной выборки\n",
    "my_valid_rf_pred = gradient_boosting.predict(MX_valid)\n",
    "\n",
    "#Выводим значения метрик\n",
    "print('ROC AUC на обучающем наборе', round(metrics.roc_auc_score(my_train, my_train_rf__pred_proba),3))\n",
    "print('ROC AUC на валидационном наборе', round(metrics.roc_auc_score(my_valid, my_valid_rf_pred_proba),3))\n",
    "\n",
    "print('Основные метрики на валидационом наборе:')\n",
    "print(metrics.classification_report(my_valid,my_valid_rf_pred))\n",
    "\n",
    "# time: 30s"
   ]
  },
  {
   "cell_type": "markdown",
   "metadata": {},
   "source": [
    "<span style=\"color:Blue\">\n",
    "\n",
    "Выводы:\n",
    "\n",
    "В сравнение с моделью $HistGradientBoostingClassifier$ построенной   \n",
    "на несбалансированных данных $transform$ $data$ $stat$:\n",
    "1. Качество модели по метрике $ROC AUC$ не изменилась.\n",
    "2. Качество модели по метрике $recall_1$ значительно  \n",
    "улучшилось. Правда, $recall_0$ уменьшилось.\n",
    "3. Качество модели по метрике $precision_1$ уменьшилось.   \n",
    "4. На порядок уменьшилось время обучения модели. Это логично,  \n",
    "велична сбалансированной выборки всего $107000$ $samples$. "
   ]
  },
  {
   "cell_type": "markdown",
   "metadata": {},
   "source": [
    "##### <span style=\"color:MediumSlateBlue\">Подбор гиперпараметров модели</span>"
   ]
  },
  {
   "cell_type": "code",
   "execution_count": 86,
   "metadata": {},
   "outputs": [],
   "source": [
    "# настроим оптимизацию гипер параметров\n",
    "def optuna_gb_meta(trial):\n",
    "  # задаем пространства поиска гиперпараметров\n",
    "  learning_rate = trial.suggest_float('learning_rate',0.01,0.1)\n",
    "  max_iter = trial.suggest_int('max_iter', 150, 250,step = 1)\n",
    "  max_leaf_nodes = trial.suggest_int('max_leaf_nodes', 2, 60,step = 1)\n",
    "  max_depth = trial.suggest_int('max_depth', 1, 10,step = 1)\n",
    "  min_samples_leaf = trial.suggest_int('min_samples_leaf', 1, 60,step = 1)\n",
    "  max_features = trial.suggest_float('max_features',0.1,1)\n",
    "  l2_regularization = trial.suggest_float('l2_regularization',0.01,1)\n",
    "  class_0_weight = trial.suggest_float('class_0_weight',0.01,1)\n",
    "  class_1_weight = trial.suggest_float('class_1_weight',0.01,1)\n",
    "  k_features = trial.suggest_int('k_features', 20, 342,step = 1)\n",
    "  class_1_percent = trial.suggest_float('class_1_percent',0.01,1)\n",
    "  random_state = trial.suggest_int('random_state', 1, 1000000)\n",
    "\n",
    "  # создаем модель\n",
    "  optuna_gradient_boosting_meta = HistGradientBoostingClassifier(\n",
    "      learning_rate= learning_rate,\n",
    "      max_iter = max_iter,\n",
    "      max_leaf_nodes =max_leaf_nodes,\n",
    "      max_depth = max_depth,\n",
    "      min_samples_leaf = min_samples_leaf,\n",
    "      max_features=max_features,\n",
    "      l2_regularization = l2_regularization,\n",
    "      class_weight={0:class_0_weight,1:class_1_weight},\n",
    "      random_state=random_state)\n",
    "\n",
    "  # Загружаем обучающие наборы\n",
    "  MX_train_pd = fp.ParquetFile('features/firstmeta/features_first_meta_stat_train').to_pandas()\n",
    "  my_train_pd = pd.read_csv('features/firstmeta/mfy_train.csv')\n",
    "\n",
    "  # поготовим данные my_train_pd к работе с функцией class_1_percent_samples\n",
    "  my_train_pd.set_index('id',drop=False,inplace=True)\n",
    "\n",
    "  # с помощью функции class_1_percent_samples зададим долю класса 1\n",
    "  list_c1_percent_id = class_1_percent_samples(my_train_pd,class_1_percent,random_state=random_state)[:1000000]\n",
    "\n",
    "  # подготовим данные для обучения\n",
    "  MX_train_balanced = MX_train_pd.loc[list_c1_percent_id]\n",
    "  my_train_balanced = my_train_pd.loc[list_c1_percent_id]['flag'].to_numpy()\n",
    "\n",
    "  # освободим память от \"тяжелых\" и ненужных файлов\n",
    "  del MX_train_pd, my_train_pd\n",
    "  gc.collect()\n",
    "  \n",
    "  # с помощью класса SelectKBest получим список лучших признаков\n",
    "  selector = SelectKBest(f_classif, k=k_features)\n",
    "  selector.fit(MX_train_balanced, my_train_balanced)\n",
    "  list_best_features = selector.get_feature_names_out()\n",
    "\n",
    "  MX_train_balanced = MX_train_balanced[list_best_features].to_numpy()\n",
    "\n",
    "  # я не воспользовался параметром timeout метода optimize потому, что  \n",
    "  # optimize отставливает поиск параметров, если время обучения \n",
    "  # превышает timeout. Мне нужно чтобы поиск параметров продолжился.\n",
    "  try:\n",
    "    # для модуля func_time_out упакуем обучение модели в функцию try_func\n",
    "    def try_func():\n",
    "            return optuna_gradient_boosting_meta.fit(MX_train_balanced,my_train_balanced)\n",
    "    # обучаем модель с ограничением по времени 10 минут (600 секунд)\n",
    "    optuna_gradient_boosting_meta = func_timeout.func_timeout(600, try_func)\n",
    "\n",
    "    # удаляем крупные файлы чтобы высвободить память \n",
    "    del MX_train_balanced, my_train_balanced\n",
    "    gc.collect()\n",
    "\n",
    "    # загружаем тестовые наборы\n",
    "    MX_train = fp.ParquetFile('features/firstmeta/features_first_meta_stat_train').to_pandas()[list_best_features].to_numpy()\n",
    "    MX_valid = fp.ParquetFile('features/firstmeta/features_first_meta_stat_valid').to_pandas()[list_best_features].to_numpy()\n",
    "    my_train = pd.read_csv('features/firstmeta/mfy_train.csv')['flag'].to_numpy()\n",
    "    my_valid = pd.read_csv('features/firstmeta/mfy_valid.csv')['flag'].to_numpy()\n",
    "\n",
    "    # делаем предсказание на обучающем и валидационном наборе\n",
    "    # cчитаем метрики для класса 1 добавляем их в список\n",
    "    roc_train = metrics.roc_auc_score(my_train, optuna_gradient_boosting_meta.predict_proba(MX_train)[:,1])\n",
    "    roc_valid = metrics.roc_auc_score(my_valid, optuna_gradient_boosting_meta.predict_proba(MX_valid)[:,1])\n",
    "    f1_score = metrics.f1_score(my_valid, optuna_gradient_boosting_meta.predict(MX_valid))\n",
    "    recall_1 = metrics.recall_score(my_valid, optuna_gradient_boosting_meta.predict(MX_valid),average=None,zero_division=0)[1]\n",
    "    precision_1 = metrics.precision_score(my_valid, optuna_gradient_boosting_meta.predict(MX_valid),average=None,zero_division=0)[1]\n",
    "\n",
    "    # удаляем крупные файлы чтобы высвободить память \n",
    "    del MX_train, MX_valid, my_train, my_valid\n",
    "    gc.collect()\n",
    "\n",
    "  except func_timeout.FunctionTimedOut:\n",
    "    # удаляем крупные файлы чтобы высвободить память \n",
    "    del MX_train_balanced, my_train_balanced\n",
    "    gc.collect()\n",
    "    \n",
    "    # фиксируем пустые значения метрик\n",
    "    roc_train = 0\n",
    "    roc_valid = 0\n",
    "    f1_score = 0\n",
    "    recall_1 = 0\n",
    "    precision_1 = 0\n",
    "    pass\n",
    "\n",
    "  return roc_train, roc_valid, f1_score, recall_1, precision_1"
   ]
  },
  {
   "cell_type": "code",
   "execution_count": null,
   "metadata": {},
   "outputs": [
    {
     "name": "stderr",
     "output_type": "stream",
     "text": [
      "[I 2025-04-20 19:23:05,011] A new study created in RDB with name: HistGradientBoostingClassifier_meta_first_stat\n"
     ]
    }
   ],
   "source": [
    "# ну случай удаления обучения\n",
    "# optuna.delete_study(study_name=\"HistGradientBoostingClassifier_meta_first_stat\", storage='sqlite:///optuna_studies.db')\n",
    "\n",
    "# cоздаем объект исследования\n",
    "# чтобы модель не переобучалась минимизируем roc_train \n",
    "# и максимизируем roc_valid\n",
    "optuna_study_gb_meta = optuna.create_study(study_name=\"HistGradientBoostingClassifier_meta_first_stat\", \n",
    "                               directions=['maximize','maximize','maximize','maximize','maximize'], \n",
    "                               sampler=optuna.samplers.TPESampler(),\n",
    "                               pruner='Hyperband',\n",
    "                               storage='sqlite:///optuna_studies.db',\n",
    "                               load_if_exists=True)"
   ]
  },
  {
   "cell_type": "code",
   "execution_count": null,
   "metadata": {},
   "outputs": [],
   "source": [
    "# ищем лучшую комбинацию гиперпараметров n_trials раз\n",
    "optuna_study_gb_meta.optimize(optuna_gb_meta, n_trials=300)"
   ]
  },
  {
   "cell_type": "markdown",
   "metadata": {},
   "source": [
    "##### <span style=\"color:MediumSlateBlue\">Анализ гиперпараметров</span>"
   ]
  },
  {
   "cell_type": "code",
   "execution_count": 89,
   "metadata": {},
   "outputs": [
    {
     "data": {
      "text/html": [
       "<div>\n",
       "<style scoped>\n",
       "    .dataframe tbody tr th:only-of-type {\n",
       "        vertical-align: middle;\n",
       "    }\n",
       "\n",
       "    .dataframe tbody tr th {\n",
       "        vertical-align: top;\n",
       "    }\n",
       "\n",
       "    .dataframe thead th {\n",
       "        text-align: right;\n",
       "    }\n",
       "</style>\n",
       "<table border=\"1\" class=\"dataframe\">\n",
       "  <thead>\n",
       "    <tr style=\"text-align: right;\">\n",
       "      <th></th>\n",
       "      <th>number</th>\n",
       "      <th>roc_train</th>\n",
       "      <th>roc_valid</th>\n",
       "      <th>f1_score</th>\n",
       "      <th>recall_1</th>\n",
       "      <th>precision_1</th>\n",
       "      <th>datetime_start</th>\n",
       "      <th>datetime_complete</th>\n",
       "      <th>duration</th>\n",
       "      <th>params_class_0_weight</th>\n",
       "      <th>...</th>\n",
       "      <th>params_k_features</th>\n",
       "      <th>params_l2_regularization</th>\n",
       "      <th>params_learning_rate</th>\n",
       "      <th>params_max_depth</th>\n",
       "      <th>params_max_features</th>\n",
       "      <th>params_max_iter</th>\n",
       "      <th>params_max_leaf_nodes</th>\n",
       "      <th>params_min_samples_leaf</th>\n",
       "      <th>params_random_state</th>\n",
       "      <th>state</th>\n",
       "    </tr>\n",
       "  </thead>\n",
       "  <tbody>\n",
       "    <tr>\n",
       "      <th>295</th>\n",
       "      <td>295</td>\n",
       "      <td>0.782753</td>\n",
       "      <td>0.735005</td>\n",
       "      <td>0.160974</td>\n",
       "      <td>0.311939</td>\n",
       "      <td>0.108476</td>\n",
       "      <td>2025-04-20 20:28:12.856070</td>\n",
       "      <td>2025-04-20 20:28:55.804379</td>\n",
       "      <td>0 days 00:00:42.948309</td>\n",
       "      <td>0.129293</td>\n",
       "      <td>...</td>\n",
       "      <td>342</td>\n",
       "      <td>0.791043</td>\n",
       "      <td>0.019017</td>\n",
       "      <td>9</td>\n",
       "      <td>0.530224</td>\n",
       "      <td>243</td>\n",
       "      <td>58</td>\n",
       "      <td>1</td>\n",
       "      <td>940750</td>\n",
       "      <td>COMPLETE</td>\n",
       "    </tr>\n",
       "    <tr>\n",
       "      <th>296</th>\n",
       "      <td>296</td>\n",
       "      <td>0.771059</td>\n",
       "      <td>0.734394</td>\n",
       "      <td>0.155815</td>\n",
       "      <td>0.201146</td>\n",
       "      <td>0.127159</td>\n",
       "      <td>2025-04-20 20:28:55.809659</td>\n",
       "      <td>2025-04-20 20:29:48.277531</td>\n",
       "      <td>0 days 00:00:52.467872</td>\n",
       "      <td>0.137148</td>\n",
       "      <td>...</td>\n",
       "      <td>337</td>\n",
       "      <td>0.778605</td>\n",
       "      <td>0.011525</td>\n",
       "      <td>9</td>\n",
       "      <td>0.519322</td>\n",
       "      <td>242</td>\n",
       "      <td>57</td>\n",
       "      <td>4</td>\n",
       "      <td>917998</td>\n",
       "      <td>COMPLETE</td>\n",
       "    </tr>\n",
       "    <tr>\n",
       "      <th>297</th>\n",
       "      <td>297</td>\n",
       "      <td>0.784517</td>\n",
       "      <td>0.735330</td>\n",
       "      <td>0.142373</td>\n",
       "      <td>0.152627</td>\n",
       "      <td>0.133411</td>\n",
       "      <td>2025-04-20 20:29:48.283069</td>\n",
       "      <td>2025-04-20 20:30:39.932995</td>\n",
       "      <td>0 days 00:00:51.649926</td>\n",
       "      <td>0.130064</td>\n",
       "      <td>...</td>\n",
       "      <td>342</td>\n",
       "      <td>0.826667</td>\n",
       "      <td>0.018519</td>\n",
       "      <td>9</td>\n",
       "      <td>0.524345</td>\n",
       "      <td>240</td>\n",
       "      <td>59</td>\n",
       "      <td>3</td>\n",
       "      <td>936463</td>\n",
       "      <td>COMPLETE</td>\n",
       "    </tr>\n",
       "    <tr>\n",
       "      <th>298</th>\n",
       "      <td>298</td>\n",
       "      <td>0.785365</td>\n",
       "      <td>0.735699</td>\n",
       "      <td>0.128655</td>\n",
       "      <td>0.117670</td>\n",
       "      <td>0.141903</td>\n",
       "      <td>2025-04-20 20:30:39.938552</td>\n",
       "      <td>2025-04-20 20:31:30.076055</td>\n",
       "      <td>0 days 00:00:50.137503</td>\n",
       "      <td>0.157550</td>\n",
       "      <td>...</td>\n",
       "      <td>335</td>\n",
       "      <td>0.810109</td>\n",
       "      <td>0.020111</td>\n",
       "      <td>9</td>\n",
       "      <td>0.498496</td>\n",
       "      <td>244</td>\n",
       "      <td>56</td>\n",
       "      <td>1</td>\n",
       "      <td>942875</td>\n",
       "      <td>COMPLETE</td>\n",
       "    </tr>\n",
       "    <tr>\n",
       "      <th>299</th>\n",
       "      <td>299</td>\n",
       "      <td>0.779582</td>\n",
       "      <td>0.735173</td>\n",
       "      <td>0.156448</td>\n",
       "      <td>0.365807</td>\n",
       "      <td>0.099501</td>\n",
       "      <td>2025-04-20 20:31:30.081065</td>\n",
       "      <td>2025-04-20 20:32:14.829955</td>\n",
       "      <td>0 days 00:00:44.748890</td>\n",
       "      <td>0.117100</td>\n",
       "      <td>...</td>\n",
       "      <td>341</td>\n",
       "      <td>0.779593</td>\n",
       "      <td>0.017133</td>\n",
       "      <td>9</td>\n",
       "      <td>0.554455</td>\n",
       "      <td>239</td>\n",
       "      <td>58</td>\n",
       "      <td>1</td>\n",
       "      <td>914266</td>\n",
       "      <td>COMPLETE</td>\n",
       "    </tr>\n",
       "  </tbody>\n",
       "</table>\n",
       "<p>5 rows × 22 columns</p>\n",
       "</div>"
      ],
      "text/plain": [
       "     number  roc_train  roc_valid  f1_score  recall_1  precision_1  \\\n",
       "295     295   0.782753   0.735005  0.160974  0.311939     0.108476   \n",
       "296     296   0.771059   0.734394  0.155815  0.201146     0.127159   \n",
       "297     297   0.784517   0.735330  0.142373  0.152627     0.133411   \n",
       "298     298   0.785365   0.735699  0.128655  0.117670     0.141903   \n",
       "299     299   0.779582   0.735173  0.156448  0.365807     0.099501   \n",
       "\n",
       "                datetime_start          datetime_complete  \\\n",
       "295 2025-04-20 20:28:12.856070 2025-04-20 20:28:55.804379   \n",
       "296 2025-04-20 20:28:55.809659 2025-04-20 20:29:48.277531   \n",
       "297 2025-04-20 20:29:48.283069 2025-04-20 20:30:39.932995   \n",
       "298 2025-04-20 20:30:39.938552 2025-04-20 20:31:30.076055   \n",
       "299 2025-04-20 20:31:30.081065 2025-04-20 20:32:14.829955   \n",
       "\n",
       "                  duration  params_class_0_weight  ...  params_k_features  \\\n",
       "295 0 days 00:00:42.948309               0.129293  ...                342   \n",
       "296 0 days 00:00:52.467872               0.137148  ...                337   \n",
       "297 0 days 00:00:51.649926               0.130064  ...                342   \n",
       "298 0 days 00:00:50.137503               0.157550  ...                335   \n",
       "299 0 days 00:00:44.748890               0.117100  ...                341   \n",
       "\n",
       "     params_l2_regularization  params_learning_rate  params_max_depth  \\\n",
       "295                  0.791043              0.019017                 9   \n",
       "296                  0.778605              0.011525                 9   \n",
       "297                  0.826667              0.018519                 9   \n",
       "298                  0.810109              0.020111                 9   \n",
       "299                  0.779593              0.017133                 9   \n",
       "\n",
       "     params_max_features  params_max_iter  params_max_leaf_nodes  \\\n",
       "295             0.530224              243                     58   \n",
       "296             0.519322              242                     57   \n",
       "297             0.524345              240                     59   \n",
       "298             0.498496              244                     56   \n",
       "299             0.554455              239                     58   \n",
       "\n",
       "     params_min_samples_leaf  params_random_state     state  \n",
       "295                        1               940750  COMPLETE  \n",
       "296                        4               917998  COMPLETE  \n",
       "297                        3               936463  COMPLETE  \n",
       "298                        1               942875  COMPLETE  \n",
       "299                        1               914266  COMPLETE  \n",
       "\n",
       "[5 rows x 22 columns]"
      ]
     },
     "execution_count": 89,
     "metadata": {},
     "output_type": "execute_result"
    }
   ],
   "source": [
    "# из полученного результат соврмируем Data Frame\n",
    "optuna_study_gb_meta_pd = optuna_study_gb_meta.trials_dataframe()\n",
    "# переименуем столбы\n",
    "optuna_study_gb_meta_pd.rename(columns={\n",
    "    'values_0': 'roc_train',\n",
    "    'values_1': 'roc_valid',\n",
    "    'values_2': 'f1_score',\n",
    "    'values_3': 'recall_1',\n",
    "    'values_4': 'precision_1'\n",
    "},inplace=True)\n",
    "optuna_study_gb_meta_pd.tail(5)"
   ]
  },
  {
   "cell_type": "code",
   "execution_count": 90,
   "metadata": {},
   "outputs": [
    {
     "name": "stdout",
     "output_type": "stream",
     "text": [
      "Максимальное значение метрики ROC AUC на валидационном наборе: 0.736\n",
      "Среднее значение метрики ROC AUC на валидационном наборе: 0.729\n",
      "Максимальное значение метрики f1_score на валидационном наборе: 0.163\n",
      "Среднее значение метрики f1_score на валидационном наборе: 0.111\n",
      "Максимальное значение метрики recall_1 на валидационном наборе: 1.0\n",
      "Среднее значение метрики recall_1 на валидационном наборе: 0.418\n",
      "Максимальное значение метрики precision_1 на валидационном наборе: 0.462\n",
      "Среднее значение метрики precision_1 на валидационном наборе: 0.104\n"
     ]
    }
   ],
   "source": [
    "# покаждем статистику обучения\n",
    "print('Максимальное значение метрики ROC AUC на валидационном наборе:',round(optuna_study_gb_meta_pd['roc_valid'].max(),3))\n",
    "print('Среднее значение метрики ROC AUC на валидационном наборе:',round(optuna_study_gb_meta_pd['roc_valid'].mean(),3))\n",
    "print('Максимальное значение метрики f1_score на валидационном наборе:',round(optuna_study_gb_meta_pd['f1_score'].max(),3))\n",
    "print('Среднее значение метрики f1_score на валидационном наборе:',round(optuna_study_gb_meta_pd['f1_score'].mean(),3))\n",
    "print('Максимальное значение метрики recall_1 на валидационном наборе:',round(optuna_study_gb_meta_pd['recall_1'].max(),3))\n",
    "print('Среднее значение метрики recall_1 на валидационном наборе:',round(optuna_study_gb_meta_pd['recall_1'].mean(),3))\n",
    "print('Максимальное значение метрики precision_1 на валидационном наборе:',round(optuna_study_gb_meta_pd['precision_1'].max(),3))\n",
    "print('Среднее значение метрики precision_1 на валидационном наборе:',round(optuna_study_gb_meta_pd['precision_1'].mean(),3))"
   ]
  },
  {
   "cell_type": "code",
   "execution_count": 91,
   "metadata": {},
   "outputs": [],
   "source": [
    "# Максимальное значение метрики ROC AUC на валидационном наборе: 0.736\n",
    "# Среднее значение метрики ROC AUC на валидационном наборе: 0.73\n",
    "# Максимальное значение метрики f1_score на валидационном наборе: 0.161\n",
    "# Среднее значение метрики f1_score на валидационном наборе: 0.108\n",
    "# Максимальное значение метрики recall_1 на валидационном наборе: 1.0\n",
    "# Среднее значение метрики recall_1 на валидационном наборе: 0.458\n",
    "# Максимальное значение метрики precision_1 на валидационном наборе: 0.353\n",
    "# Среднее значение метрики precision_1 на валидационном наборе: 0.097"
   ]
  },
  {
   "cell_type": "code",
   "execution_count": 92,
   "metadata": {},
   "outputs": [
    {
     "data": {
      "application/vnd.plotly.v1+json": {
       "config": {
        "plotlyServerURL": "https://plot.ly"
       },
       "data": [
        {
         "cliponaxis": false,
         "hovertemplate": [
          "class_1_weight (FloatDistribution): 0.0006955183602954163<extra></extra>",
          "class_0_weight (FloatDistribution): 0.0007528428979248799<extra></extra>",
          "max_features (FloatDistribution): 0.0007726233289219461<extra></extra>",
          "max_iter (IntDistribution): 0.0011428130329161237<extra></extra>",
          "random_state (IntDistribution): 0.0015587324883166284<extra></extra>",
          "l2_regularization (FloatDistribution): 0.0018569694409389008<extra></extra>",
          "learning_rate (FloatDistribution): 0.002130608619775022<extra></extra>",
          "min_samples_leaf (IntDistribution): 0.002780518008556675<extra></extra>",
          "max_leaf_nodes (IntDistribution): 0.021451368656747738<extra></extra>",
          "class_1_percent (FloatDistribution): 0.027750388216743076<extra></extra>",
          "max_depth (IntDistribution): 0.10156038769063482<extra></extra>",
          "k_features (IntDistribution): 0.8375472292582291<extra></extra>"
         ],
         "name": "Score 0",
         "orientation": "h",
         "text": [
          "<0.01",
          "<0.01",
          "<0.01",
          "<0.01",
          "<0.01",
          "<0.01",
          "<0.01",
          "<0.01",
          "0.02",
          "0.03",
          "0.10",
          "0.84"
         ],
         "textposition": "outside",
         "type": "bar",
         "x": [
          0.0006955183602954163,
          0.0007528428979248799,
          0.0007726233289219461,
          0.0011428130329161237,
          0.0015587324883166284,
          0.0018569694409389008,
          0.002130608619775022,
          0.002780518008556675,
          0.021451368656747738,
          0.027750388216743076,
          0.10156038769063482,
          0.8375472292582291
         ],
         "y": [
          "class_1_weight",
          "class_0_weight",
          "max_features",
          "max_iter",
          "random_state",
          "l2_regularization",
          "learning_rate",
          "min_samples_leaf",
          "max_leaf_nodes",
          "class_1_percent",
          "max_depth",
          "k_features"
         ]
        },
        {
         "cliponaxis": false,
         "hovertemplate": [
          "max_features (FloatDistribution): 2.6758772351625e-05<extra></extra>",
          "l2_regularization (FloatDistribution): 3.6459144510593715e-05<extra></extra>",
          "class_1_weight (FloatDistribution): 6.591247366533626e-05<extra></extra>",
          "random_state (IntDistribution): 0.00011126270479318653<extra></extra>",
          "class_0_weight (FloatDistribution): 0.00011658685645309128<extra></extra>",
          "max_leaf_nodes (IntDistribution): 0.00012188174228725085<extra></extra>",
          "max_iter (IntDistribution): 0.00014448211971266584<extra></extra>",
          "min_samples_leaf (IntDistribution): 0.00015439732038394877<extra></extra>",
          "learning_rate (FloatDistribution): 0.00020119680816321943<extra></extra>",
          "max_depth (IntDistribution): 0.00023415689826387497<extra></extra>",
          "class_1_percent (FloatDistribution): 0.015783980327241907<extra></extra>",
          "k_features (IntDistribution): 0.9830029248321731<extra></extra>"
         ],
         "name": "Score 1",
         "orientation": "h",
         "text": [
          "<0.01",
          "<0.01",
          "<0.01",
          "<0.01",
          "<0.01",
          "<0.01",
          "<0.01",
          "<0.01",
          "<0.01",
          "<0.01",
          "0.02",
          "0.98"
         ],
         "textposition": "outside",
         "type": "bar",
         "x": [
          0.000026758772351625,
          0.000036459144510593715,
          0.00006591247366533626,
          0.00011126270479318653,
          0.00011658685645309128,
          0.00012188174228725085,
          0.00014448211971266584,
          0.00015439732038394877,
          0.00020119680816321943,
          0.00023415689826387497,
          0.015783980327241907,
          0.9830029248321731
         ],
         "y": [
          "max_features",
          "l2_regularization",
          "class_1_weight",
          "random_state",
          "class_0_weight",
          "max_leaf_nodes",
          "max_iter",
          "min_samples_leaf",
          "learning_rate",
          "max_depth",
          "class_1_percent",
          "k_features"
         ]
        },
        {
         "cliponaxis": false,
         "hovertemplate": [
          "l2_regularization (FloatDistribution): 0.0050615888684883165<extra></extra>",
          "random_state (IntDistribution): 0.005390139246650079<extra></extra>",
          "max_depth (IntDistribution): 0.00601493184058929<extra></extra>",
          "min_samples_leaf (IntDistribution): 0.00811135280456499<extra></extra>",
          "max_features (FloatDistribution): 0.01045809402333554<extra></extra>",
          "max_leaf_nodes (IntDistribution): 0.012873716693308154<extra></extra>",
          "k_features (IntDistribution): 0.01755733995740447<extra></extra>",
          "max_iter (IntDistribution): 0.018479535137035385<extra></extra>",
          "class_0_weight (FloatDistribution): 0.025623719529881118<extra></extra>",
          "learning_rate (FloatDistribution): 0.043427812736062825<extra></extra>",
          "class_1_weight (FloatDistribution): 0.41351843690566903<extra></extra>",
          "class_1_percent (FloatDistribution): 0.43348333225701075<extra></extra>"
         ],
         "name": "Score 2",
         "orientation": "h",
         "text": [
          "<0.01",
          "<0.01",
          "<0.01",
          "<0.01",
          "0.01",
          "0.01",
          "0.02",
          "0.02",
          "0.03",
          "0.04",
          "0.41",
          "0.43"
         ],
         "textposition": "outside",
         "type": "bar",
         "x": [
          0.0050615888684883165,
          0.005390139246650079,
          0.00601493184058929,
          0.00811135280456499,
          0.01045809402333554,
          0.012873716693308154,
          0.01755733995740447,
          0.018479535137035385,
          0.025623719529881118,
          0.043427812736062825,
          0.41351843690566903,
          0.43348333225701075
         ],
         "y": [
          "l2_regularization",
          "random_state",
          "max_depth",
          "min_samples_leaf",
          "max_features",
          "max_leaf_nodes",
          "k_features",
          "max_iter",
          "class_0_weight",
          "learning_rate",
          "class_1_weight",
          "class_1_percent"
         ]
        },
        {
         "cliponaxis": false,
         "hovertemplate": [
          "max_depth (IntDistribution): 7.751539847359079e-05<extra></extra>",
          "random_state (IntDistribution): 0.0007345036791384816<extra></extra>",
          "max_leaf_nodes (IntDistribution): 0.0008237893977092376<extra></extra>",
          "max_iter (IntDistribution): 0.0011308559247919187<extra></extra>",
          "min_samples_leaf (IntDistribution): 0.0014963872434266233<extra></extra>",
          "max_features (FloatDistribution): 0.0020303908550431183<extra></extra>",
          "k_features (IntDistribution): 0.004895102335708252<extra></extra>",
          "l2_regularization (FloatDistribution): 0.007590029758586786<extra></extra>",
          "learning_rate (FloatDistribution): 0.00847213132871125<extra></extra>",
          "class_0_weight (FloatDistribution): 0.08329729531731639<extra></extra>",
          "class_1_weight (FloatDistribution): 0.15582786395068815<extra></extra>",
          "class_1_percent (FloatDistribution): 0.7336241348104061<extra></extra>"
         ],
         "name": "Score 3",
         "orientation": "h",
         "text": [
          "<0.01",
          "<0.01",
          "<0.01",
          "<0.01",
          "<0.01",
          "<0.01",
          "<0.01",
          "<0.01",
          "<0.01",
          "0.08",
          "0.16",
          "0.73"
         ],
         "textposition": "outside",
         "type": "bar",
         "x": [
          0.00007751539847359079,
          0.0007345036791384816,
          0.0008237893977092376,
          0.0011308559247919187,
          0.0014963872434266233,
          0.0020303908550431183,
          0.004895102335708252,
          0.007590029758586786,
          0.00847213132871125,
          0.08329729531731639,
          0.15582786395068815,
          0.7336241348104061
         ],
         "y": [
          "max_depth",
          "random_state",
          "max_leaf_nodes",
          "max_iter",
          "min_samples_leaf",
          "max_features",
          "k_features",
          "l2_regularization",
          "learning_rate",
          "class_0_weight",
          "class_1_weight",
          "class_1_percent"
         ]
        },
        {
         "cliponaxis": false,
         "hovertemplate": [
          "max_leaf_nodes (IntDistribution): 0.0009030546954975813<extra></extra>",
          "random_state (IntDistribution): 0.0009764146775428337<extra></extra>",
          "max_depth (IntDistribution): 0.0018761834667346765<extra></extra>",
          "k_features (IntDistribution): 0.0019453201574747352<extra></extra>",
          "min_samples_leaf (IntDistribution): 0.00234007348250663<extra></extra>",
          "l2_regularization (FloatDistribution): 0.0023948639021890766<extra></extra>",
          "learning_rate (FloatDistribution): 0.01189816014283696<extra></extra>",
          "max_features (FloatDistribution): 0.01244194490821901<extra></extra>",
          "class_0_weight (FloatDistribution): 0.054828356752799255<extra></extra>",
          "max_iter (IntDistribution): 0.09084041862633048<extra></extra>",
          "class_1_weight (FloatDistribution): 0.20211931616448786<extra></extra>",
          "class_1_percent (FloatDistribution): 0.6174358930233809<extra></extra>"
         ],
         "name": "Score 4",
         "orientation": "h",
         "text": [
          "<0.01",
          "<0.01",
          "<0.01",
          "<0.01",
          "<0.01",
          "<0.01",
          "0.01",
          "0.01",
          "0.05",
          "0.09",
          "0.20",
          "0.62"
         ],
         "textposition": "outside",
         "type": "bar",
         "x": [
          0.0009030546954975813,
          0.0009764146775428337,
          0.0018761834667346765,
          0.0019453201574747352,
          0.00234007348250663,
          0.0023948639021890766,
          0.01189816014283696,
          0.01244194490821901,
          0.054828356752799255,
          0.09084041862633048,
          0.20211931616448786,
          0.6174358930233809
         ],
         "y": [
          "max_leaf_nodes",
          "random_state",
          "max_depth",
          "k_features",
          "min_samples_leaf",
          "l2_regularization",
          "learning_rate",
          "max_features",
          "class_0_weight",
          "max_iter",
          "class_1_weight",
          "class_1_percent"
         ]
        }
       ],
       "layout": {
        "template": {
         "data": {
          "bar": [
           {
            "error_x": {
             "color": "#2a3f5f"
            },
            "error_y": {
             "color": "#2a3f5f"
            },
            "marker": {
             "line": {
              "color": "#E5ECF6",
              "width": 0.5
             },
             "pattern": {
              "fillmode": "overlay",
              "size": 10,
              "solidity": 0.2
             }
            },
            "type": "bar"
           }
          ],
          "barpolar": [
           {
            "marker": {
             "line": {
              "color": "#E5ECF6",
              "width": 0.5
             },
             "pattern": {
              "fillmode": "overlay",
              "size": 10,
              "solidity": 0.2
             }
            },
            "type": "barpolar"
           }
          ],
          "carpet": [
           {
            "aaxis": {
             "endlinecolor": "#2a3f5f",
             "gridcolor": "white",
             "linecolor": "white",
             "minorgridcolor": "white",
             "startlinecolor": "#2a3f5f"
            },
            "baxis": {
             "endlinecolor": "#2a3f5f",
             "gridcolor": "white",
             "linecolor": "white",
             "minorgridcolor": "white",
             "startlinecolor": "#2a3f5f"
            },
            "type": "carpet"
           }
          ],
          "choropleth": [
           {
            "colorbar": {
             "outlinewidth": 0,
             "ticks": ""
            },
            "type": "choropleth"
           }
          ],
          "contour": [
           {
            "colorbar": {
             "outlinewidth": 0,
             "ticks": ""
            },
            "colorscale": [
             [
              0,
              "#0d0887"
             ],
             [
              0.1111111111111111,
              "#46039f"
             ],
             [
              0.2222222222222222,
              "#7201a8"
             ],
             [
              0.3333333333333333,
              "#9c179e"
             ],
             [
              0.4444444444444444,
              "#bd3786"
             ],
             [
              0.5555555555555556,
              "#d8576b"
             ],
             [
              0.6666666666666666,
              "#ed7953"
             ],
             [
              0.7777777777777778,
              "#fb9f3a"
             ],
             [
              0.8888888888888888,
              "#fdca26"
             ],
             [
              1,
              "#f0f921"
             ]
            ],
            "type": "contour"
           }
          ],
          "contourcarpet": [
           {
            "colorbar": {
             "outlinewidth": 0,
             "ticks": ""
            },
            "type": "contourcarpet"
           }
          ],
          "heatmap": [
           {
            "colorbar": {
             "outlinewidth": 0,
             "ticks": ""
            },
            "colorscale": [
             [
              0,
              "#0d0887"
             ],
             [
              0.1111111111111111,
              "#46039f"
             ],
             [
              0.2222222222222222,
              "#7201a8"
             ],
             [
              0.3333333333333333,
              "#9c179e"
             ],
             [
              0.4444444444444444,
              "#bd3786"
             ],
             [
              0.5555555555555556,
              "#d8576b"
             ],
             [
              0.6666666666666666,
              "#ed7953"
             ],
             [
              0.7777777777777778,
              "#fb9f3a"
             ],
             [
              0.8888888888888888,
              "#fdca26"
             ],
             [
              1,
              "#f0f921"
             ]
            ],
            "type": "heatmap"
           }
          ],
          "heatmapgl": [
           {
            "colorbar": {
             "outlinewidth": 0,
             "ticks": ""
            },
            "colorscale": [
             [
              0,
              "#0d0887"
             ],
             [
              0.1111111111111111,
              "#46039f"
             ],
             [
              0.2222222222222222,
              "#7201a8"
             ],
             [
              0.3333333333333333,
              "#9c179e"
             ],
             [
              0.4444444444444444,
              "#bd3786"
             ],
             [
              0.5555555555555556,
              "#d8576b"
             ],
             [
              0.6666666666666666,
              "#ed7953"
             ],
             [
              0.7777777777777778,
              "#fb9f3a"
             ],
             [
              0.8888888888888888,
              "#fdca26"
             ],
             [
              1,
              "#f0f921"
             ]
            ],
            "type": "heatmapgl"
           }
          ],
          "histogram": [
           {
            "marker": {
             "pattern": {
              "fillmode": "overlay",
              "size": 10,
              "solidity": 0.2
             }
            },
            "type": "histogram"
           }
          ],
          "histogram2d": [
           {
            "colorbar": {
             "outlinewidth": 0,
             "ticks": ""
            },
            "colorscale": [
             [
              0,
              "#0d0887"
             ],
             [
              0.1111111111111111,
              "#46039f"
             ],
             [
              0.2222222222222222,
              "#7201a8"
             ],
             [
              0.3333333333333333,
              "#9c179e"
             ],
             [
              0.4444444444444444,
              "#bd3786"
             ],
             [
              0.5555555555555556,
              "#d8576b"
             ],
             [
              0.6666666666666666,
              "#ed7953"
             ],
             [
              0.7777777777777778,
              "#fb9f3a"
             ],
             [
              0.8888888888888888,
              "#fdca26"
             ],
             [
              1,
              "#f0f921"
             ]
            ],
            "type": "histogram2d"
           }
          ],
          "histogram2dcontour": [
           {
            "colorbar": {
             "outlinewidth": 0,
             "ticks": ""
            },
            "colorscale": [
             [
              0,
              "#0d0887"
             ],
             [
              0.1111111111111111,
              "#46039f"
             ],
             [
              0.2222222222222222,
              "#7201a8"
             ],
             [
              0.3333333333333333,
              "#9c179e"
             ],
             [
              0.4444444444444444,
              "#bd3786"
             ],
             [
              0.5555555555555556,
              "#d8576b"
             ],
             [
              0.6666666666666666,
              "#ed7953"
             ],
             [
              0.7777777777777778,
              "#fb9f3a"
             ],
             [
              0.8888888888888888,
              "#fdca26"
             ],
             [
              1,
              "#f0f921"
             ]
            ],
            "type": "histogram2dcontour"
           }
          ],
          "mesh3d": [
           {
            "colorbar": {
             "outlinewidth": 0,
             "ticks": ""
            },
            "type": "mesh3d"
           }
          ],
          "parcoords": [
           {
            "line": {
             "colorbar": {
              "outlinewidth": 0,
              "ticks": ""
             }
            },
            "type": "parcoords"
           }
          ],
          "pie": [
           {
            "automargin": true,
            "type": "pie"
           }
          ],
          "scatter": [
           {
            "fillpattern": {
             "fillmode": "overlay",
             "size": 10,
             "solidity": 0.2
            },
            "type": "scatter"
           }
          ],
          "scatter3d": [
           {
            "line": {
             "colorbar": {
              "outlinewidth": 0,
              "ticks": ""
             }
            },
            "marker": {
             "colorbar": {
              "outlinewidth": 0,
              "ticks": ""
             }
            },
            "type": "scatter3d"
           }
          ],
          "scattercarpet": [
           {
            "marker": {
             "colorbar": {
              "outlinewidth": 0,
              "ticks": ""
             }
            },
            "type": "scattercarpet"
           }
          ],
          "scattergeo": [
           {
            "marker": {
             "colorbar": {
              "outlinewidth": 0,
              "ticks": ""
             }
            },
            "type": "scattergeo"
           }
          ],
          "scattergl": [
           {
            "marker": {
             "colorbar": {
              "outlinewidth": 0,
              "ticks": ""
             }
            },
            "type": "scattergl"
           }
          ],
          "scattermapbox": [
           {
            "marker": {
             "colorbar": {
              "outlinewidth": 0,
              "ticks": ""
             }
            },
            "type": "scattermapbox"
           }
          ],
          "scatterpolar": [
           {
            "marker": {
             "colorbar": {
              "outlinewidth": 0,
              "ticks": ""
             }
            },
            "type": "scatterpolar"
           }
          ],
          "scatterpolargl": [
           {
            "marker": {
             "colorbar": {
              "outlinewidth": 0,
              "ticks": ""
             }
            },
            "type": "scatterpolargl"
           }
          ],
          "scatterternary": [
           {
            "marker": {
             "colorbar": {
              "outlinewidth": 0,
              "ticks": ""
             }
            },
            "type": "scatterternary"
           }
          ],
          "surface": [
           {
            "colorbar": {
             "outlinewidth": 0,
             "ticks": ""
            },
            "colorscale": [
             [
              0,
              "#0d0887"
             ],
             [
              0.1111111111111111,
              "#46039f"
             ],
             [
              0.2222222222222222,
              "#7201a8"
             ],
             [
              0.3333333333333333,
              "#9c179e"
             ],
             [
              0.4444444444444444,
              "#bd3786"
             ],
             [
              0.5555555555555556,
              "#d8576b"
             ],
             [
              0.6666666666666666,
              "#ed7953"
             ],
             [
              0.7777777777777778,
              "#fb9f3a"
             ],
             [
              0.8888888888888888,
              "#fdca26"
             ],
             [
              1,
              "#f0f921"
             ]
            ],
            "type": "surface"
           }
          ],
          "table": [
           {
            "cells": {
             "fill": {
              "color": "#EBF0F8"
             },
             "line": {
              "color": "white"
             }
            },
            "header": {
             "fill": {
              "color": "#C8D4E3"
             },
             "line": {
              "color": "white"
             }
            },
            "type": "table"
           }
          ]
         },
         "layout": {
          "annotationdefaults": {
           "arrowcolor": "#2a3f5f",
           "arrowhead": 0,
           "arrowwidth": 1
          },
          "autotypenumbers": "strict",
          "coloraxis": {
           "colorbar": {
            "outlinewidth": 0,
            "ticks": ""
           }
          },
          "colorscale": {
           "diverging": [
            [
             0,
             "#8e0152"
            ],
            [
             0.1,
             "#c51b7d"
            ],
            [
             0.2,
             "#de77ae"
            ],
            [
             0.3,
             "#f1b6da"
            ],
            [
             0.4,
             "#fde0ef"
            ],
            [
             0.5,
             "#f7f7f7"
            ],
            [
             0.6,
             "#e6f5d0"
            ],
            [
             0.7,
             "#b8e186"
            ],
            [
             0.8,
             "#7fbc41"
            ],
            [
             0.9,
             "#4d9221"
            ],
            [
             1,
             "#276419"
            ]
           ],
           "sequential": [
            [
             0,
             "#0d0887"
            ],
            [
             0.1111111111111111,
             "#46039f"
            ],
            [
             0.2222222222222222,
             "#7201a8"
            ],
            [
             0.3333333333333333,
             "#9c179e"
            ],
            [
             0.4444444444444444,
             "#bd3786"
            ],
            [
             0.5555555555555556,
             "#d8576b"
            ],
            [
             0.6666666666666666,
             "#ed7953"
            ],
            [
             0.7777777777777778,
             "#fb9f3a"
            ],
            [
             0.8888888888888888,
             "#fdca26"
            ],
            [
             1,
             "#f0f921"
            ]
           ],
           "sequentialminus": [
            [
             0,
             "#0d0887"
            ],
            [
             0.1111111111111111,
             "#46039f"
            ],
            [
             0.2222222222222222,
             "#7201a8"
            ],
            [
             0.3333333333333333,
             "#9c179e"
            ],
            [
             0.4444444444444444,
             "#bd3786"
            ],
            [
             0.5555555555555556,
             "#d8576b"
            ],
            [
             0.6666666666666666,
             "#ed7953"
            ],
            [
             0.7777777777777778,
             "#fb9f3a"
            ],
            [
             0.8888888888888888,
             "#fdca26"
            ],
            [
             1,
             "#f0f921"
            ]
           ]
          },
          "colorway": [
           "#636efa",
           "#EF553B",
           "#00cc96",
           "#ab63fa",
           "#FFA15A",
           "#19d3f3",
           "#FF6692",
           "#B6E880",
           "#FF97FF",
           "#FECB52"
          ],
          "font": {
           "color": "#2a3f5f"
          },
          "geo": {
           "bgcolor": "white",
           "lakecolor": "white",
           "landcolor": "#E5ECF6",
           "showlakes": true,
           "showland": true,
           "subunitcolor": "white"
          },
          "hoverlabel": {
           "align": "left"
          },
          "hovermode": "closest",
          "mapbox": {
           "style": "light"
          },
          "paper_bgcolor": "white",
          "plot_bgcolor": "#E5ECF6",
          "polar": {
           "angularaxis": {
            "gridcolor": "white",
            "linecolor": "white",
            "ticks": ""
           },
           "bgcolor": "#E5ECF6",
           "radialaxis": {
            "gridcolor": "white",
            "linecolor": "white",
            "ticks": ""
           }
          },
          "scene": {
           "xaxis": {
            "backgroundcolor": "#E5ECF6",
            "gridcolor": "white",
            "gridwidth": 2,
            "linecolor": "white",
            "showbackground": true,
            "ticks": "",
            "zerolinecolor": "white"
           },
           "yaxis": {
            "backgroundcolor": "#E5ECF6",
            "gridcolor": "white",
            "gridwidth": 2,
            "linecolor": "white",
            "showbackground": true,
            "ticks": "",
            "zerolinecolor": "white"
           },
           "zaxis": {
            "backgroundcolor": "#E5ECF6",
            "gridcolor": "white",
            "gridwidth": 2,
            "linecolor": "white",
            "showbackground": true,
            "ticks": "",
            "zerolinecolor": "white"
           }
          },
          "shapedefaults": {
           "line": {
            "color": "#2a3f5f"
           }
          },
          "ternary": {
           "aaxis": {
            "gridcolor": "white",
            "linecolor": "white",
            "ticks": ""
           },
           "baxis": {
            "gridcolor": "white",
            "linecolor": "white",
            "ticks": ""
           },
           "bgcolor": "#E5ECF6",
           "caxis": {
            "gridcolor": "white",
            "linecolor": "white",
            "ticks": ""
           }
          },
          "title": {
           "x": 0.05
          },
          "xaxis": {
           "automargin": true,
           "gridcolor": "white",
           "linecolor": "white",
           "ticks": "",
           "title": {
            "standoff": 15
           },
           "zerolinecolor": "white",
           "zerolinewidth": 2
          },
          "yaxis": {
           "automargin": true,
           "gridcolor": "white",
           "linecolor": "white",
           "ticks": "",
           "title": {
            "standoff": 15
           },
           "zerolinecolor": "white",
           "zerolinewidth": 2
          }
         }
        },
        "title": {
         "text": "Hyperparameter Importances"
        },
        "xaxis": {
         "title": {
          "text": "Hyperparameter Importance"
         }
        },
        "yaxis": {
         "title": {
          "text": "Hyperparameter"
         }
        }
       }
      }
     },
     "metadata": {},
     "output_type": "display_data"
    }
   ],
   "source": [
    "# построим график важности гиперпарметров\n",
    "optuna.visualization.plot_param_importances(optuna_study_gb_meta, target_name='Score')"
   ]
  },
  {
   "cell_type": "code",
   "execution_count": 94,
   "metadata": {},
   "outputs": [
    {
     "data": {
      "application/vnd.plotly.v1+json": {
       "config": {
        "plotlyServerURL": "https://plot.ly"
       },
       "data": [
        {
         "hovertemplate": "variable=recall_1<br>precision_1=%{x}<br>value=%{y}<extra></extra>",
         "legendgroup": "recall_1",
         "marker": {
          "color": "#636efa",
          "symbol": "circle"
         },
         "mode": "markers",
         "name": "recall_1",
         "showlegend": true,
         "type": "scattergl",
         "x": [
          0.037957613629664565,
          0.05593286494925839,
          0.0349874686716792,
          0.040948909881345405,
          0.25,
          0.14647804302976716,
          0.03539571461443712,
          0.04859003056041047,
          0.19658119658119658,
          0.1239199636198272,
          0,
          0.3018867924528302,
          0.06690856892220583,
          0.088559670781893,
          0.07976469276235085,
          0.0788456795198553,
          0.0648579758724838,
          0.0789641458453505,
          0.05238543916900308,
          0.06718212422773852,
          0,
          0.10108303249097472,
          0.05088248053519647,
          0.15697399527186762,
          0.04370548157324249,
          0.1762114537444934,
          0.035355276589128425,
          0.036040335297535066,
          0.06359832635983263,
          0.1133773740710157,
          0.08821392899300827,
          0.08942776987817531,
          0.06239124244629354,
          0.059091363240604614,
          0.09299729509252501,
          0.04966862680227532,
          0.0874271137026239,
          0.03498817018887597,
          0.18181818181818182,
          0.04463091218522192,
          0.10051316376617582,
          0.09328590484659849,
          0.07754024402747872,
          0.09838646202282567,
          0.1539816772374912,
          0.07292335629027615,
          0.19318181818181818,
          0.0793712293131123,
          0.15546069014585556,
          0.09338436779609412,
          0.039883176090673086,
          0.06666666666666667,
          0.1706827309236948,
          0.21153846153846154,
          0,
          0.04121847674047656,
          0.0385863198053411,
          0.08299953087221681,
          0.05093910702068022,
          0.039601581272769554,
          0.07092277793910694,
          0,
          0.13345551482839055,
          0.06918466311255685,
          0.22598870056497175,
          0,
          0.14131562564847477,
          0.0889917695473251,
          0.05433564452764197,
          0.06680708576366386,
          0.04717604044505327,
          0.1048188076373555,
          0.09927986366884724,
          0.11564625850340136,
          0.1714046822742475,
          0.0446216445014883,
          0.0349874686716792,
          0.04957735777376769,
          0.1023344861660079,
          0.037328108454650885,
          0.21727019498607242,
          0.13729747786871555,
          0.04277259607561003,
          0.06493817039010727,
          0.04328924810188587,
          0.04245258950591037,
          0.042791698479905604,
          0.10495011511895626,
          0.10446535716541401,
          0.1617301363422661,
          0.46153846153846156,
          0.16403162055335968,
          0.2131782945736434,
          0.1464393179538616,
          0.08424684213455011,
          0.09640401642182322,
          0.035021407546160024,
          0.03662628878887832,
          0.23478260869565218,
          0.11512375583546199,
          0.12753623188405797,
          0.06474873349850238,
          0.040536002686409646,
          0.10501546322441845,
          0.10833333333333334,
          0.16277777777777777,
          0.15780141843971632,
          0.1407828282828283,
          0.11423360689712343,
          0.09169193450576106,
          0.10627119771230964,
          0.10061531449407475,
          0.11535876323307007,
          0.07199116319277687,
          0.0578575072735546,
          0.10597788999590556,
          0.12490311150481674,
          0.13624975910580073,
          0.08929322273613394,
          0.07415277523355926,
          0.2088607594936709,
          0.25,
          0.06752381310944618,
          0.07230172927847346,
          0.1363013698630137,
          0.07525325615050651,
          0.0354668638932805,
          0.12679816105590982,
          0.04044305413687436,
          0.1469475958941113,
          0.17174280879864637,
          0.1007451909190688,
          0.035444119082479256,
          0.09955470737913485,
          0.17615793470007593,
          0.07355627212663765,
          0.12803090860644817,
          0.05215835588788476,
          0.13170472650026555,
          0.13593611357586513,
          0.06228472563927557,
          0.1483160621761658,
          0.15750787539376968,
          0.09403254972875226,
          0.03673214488475077,
          0,
          0.1364717070851165,
          0.1409485637942552,
          0.08828210660347328,
          0.08541854765897072,
          0.07904125155254882,
          0.06574809306204715,
          0.09178962987387684,
          0.11698379140239605,
          0.07823979398621525,
          0.13817891373801916,
          0.2171945701357466,
          0.152135231316726,
          0.1724340175953079,
          0.1623155505107832,
          0.08685470623186886,
          0.04588489602507103,
          0.10122444456756607,
          0.0460152973106341,
          0.07958244773870699,
          0.04022924460717981,
          0.10053825451749328,
          0.036950924664617406,
          0.04737003390634731,
          0.03503521598243218,
          0.18705035971223022,
          0.038604986916112735,
          0.1400712937722793,
          0.14645426515930113,
          0.11572207730614181,
          0.08294009027492819,
          0.10226946279804654,
          0.05949439816144786,
          0.04458558098848229,
          0.15487421383647798,
          0.11570247933884298,
          0.12943363844393593,
          0.035761289791889445,
          0.1277893098079917,
          0.1108437600256657,
          0.3333333333333333,
          0.13617968433832456,
          0.08656881986517621,
          0.13494291596481378,
          0.04255010784589546,
          0.14213197969543148,
          0.0672956668873685,
          0.09083382613837966,
          0.0390227168775728,
          0.11615132453264818,
          0.06248410073772577,
          0.07165591580376846,
          0.10357598978288633,
          0.19027921406411583,
          0.179719703215169,
          0,
          0.10793515358361774,
          0.22340425531914893,
          0.0671405574547362,
          0.05634579046819232,
          0.09245956731779038,
          0.06120710635191044,
          0.07265012492461445,
          0.07168219223860646,
          0.07492415869059098,
          0.06507260805382951,
          0.07640899977723324,
          0.07976374326045138,
          0.05491582155168107,
          0.07344215310897652,
          0.06656343962118075,
          0.07448596922281132,
          0.07765021921488127,
          0.05930726578814719,
          0.08359636238632458,
          0.07605648986632169,
          0.1671865252651279,
          0.08885172798216276,
          0.17754952311078503,
          0.15693267944716896,
          0.11562028239055146,
          0.2236842105263158,
          0.12773722627737227,
          0.04780210933097174,
          0.039237633782084703,
          0.2119815668202765,
          0.10304304799604157,
          0.08699231613611416,
          0.11131484452593782,
          0.1035793474817865,
          0.0803477490447976,
          0.08461635141079621,
          0.09905582242835846,
          0.08607436244267758,
          0.0352604078880836,
          0.07965972712942328,
          0.11399098474341193,
          0.09092294213994591,
          0.07296380090497738,
          0.26666666666666666,
          0.11799702528507684,
          0.16445396145610278,
          0.07374314442413163,
          0.1319088319088319,
          0.12081764389456698,
          0.13196033562166284,
          0.05362707442568302,
          0.13330354483169496,
          0.09057686262181704,
          0.11727502710516806,
          0.17883511074651354,
          0.03509266152886492,
          0.14318389752973468,
          0.11027513461680313,
          0.14017467248908297,
          0.19230769230769232,
          0.0805399199081464,
          0.07860593887411108,
          0.04093992644053943,
          0.11018363939899833,
          0.14002947989050327,
          0.15904572564612326,
          0.13896879840672716,
          0.1782106782106782,
          0.1070088548701786,
          0.0963895486935867,
          0.09036805011746281,
          0.10313184536143509,
          0.11438417986378928,
          0.1011098843628334,
          0.12686660810641234,
          0.12898179749715585,
          0.08926174496644296,
          0.04683719659720596,
          0.10100516164085846,
          0.09769396228302736,
          0.11512915129151291,
          0.1127920910724985,
          0.09977839035727798,
          0.19544364508393286,
          0.1240174672489083,
          0.1276867665853375,
          0.15522620904836193,
          0.225,
          0.1145597754035717,
          0.14092086904524617,
          0.13649529326574947,
          0.09499517441058872,
          0.16112747160286076,
          0.13343889448682886,
          0.1084761525176033,
          0.1271585557299843,
          0.1334112539656036,
          0.14190278737618062,
          0.09950119505351761
         ],
         "xaxis": "x",
         "y": [
          0.9839541547277937,
          0.8212034383954154,
          1,
          0.9572110792741165,
          0.001146131805157593,
          0.09493791786055396,
          0.9990448901623686,
          0.9081184336198663,
          0.008787010506208214,
          0.2082139446036294,
          0,
          0.0030563514804202484,
          0.6410697230181471,
          0.4110792741165234,
          0.5465138490926457,
          0.5495702005730659,
          0.7096466093600764,
          0.49684813753581664,
          0.8708691499522445,
          0.6937917860553964,
          0,
          0.3209169054441261,
          0.8513849092645654,
          0.06341929321872015,
          0.8626552053486151,
          0.022922636103151862,
          0.9990448901623686,
          0.9954154727793696,
          0.7404011461318052,
          0.26227316141356255,
          0.3711556829035339,
          0.44450811843361987,
          0.7533906399235912,
          0.7908309455587392,
          0.41375358166189113,
          0.8890162368672397,
          0.458261700095511,
          1,
          0.002292263610315186,
          0.9367717287488061,
          0.34422158548233045,
          0.40076408787010503,
          0.5778414517669532,
          0.3342884431709647,
          0.08347659980897804,
          0.6290353390639923,
          0.03896848137535817,
          0.5478510028653295,
          0.08347659980897804,
          0.4101241642788921,
          0.962559694364852,
          0.00019102196752626553,
          0.04871060171919771,
          0.002101241642788921,
          0,
          0.962559694364852,
          0.9814708691499523,
          0.4393505253104107,
          0.8817574021012416,
          0.9759312320916905,
          0.606494746895893,
          0,
          0.1530085959885387,
          0.4387774594078319,
          0.007640878701050621,
          0,
          0.13008595988538682,
          0.3635148042024833,
          0.8427889207258835,
          0.7088825214899713,
          0.914422158548233,
          0.30830945558739253,
          0.3449856733524355,
          0.22082139446036295,
          0.039159503342884434,
          0.9363896848137536,
          1,
          0.8974212034383954,
          0.316523400191022,
          0.9898758357211079,
          0.01489971346704871,
          0.15702005730659027,
          0.95396370582617,
          0.7262655205348615,
          0.945367717287488,
          0.9535816618911175,
          0.9421203438395416,
          0.3134670487106017,
          0.31595033428844316,
          0.06571155682903534,
          0.001146131805157593,
          0.03170964660936008,
          0.010506208213944603,
          0.0836676217765043,
          0.289207258834766,
          0.3723018147086915,
          1,
          0.9778414517669533,
          0.005157593123209169,
          0.24966571155682904,
          0.18490926456542503,
          0.6689589302769818,
          0.9684813753581661,
          0.29837631327602676,
          0.29054441260744984,
          0.0559694364851958,
          0.03400191021967526,
          0.12779369627507164,
          0.2632282712511939,
          0.4332378223495702,
          0.3052531041069723,
          0.3373447946513849,
          0.26227316141356255,
          0.572683858643744,
          0.8015281757402101,
          0.29665711556829033,
          0.2154727793696275,
          0.13505253104106973,
          0.44622731614135625,
          0.3866284622731614,
          0.02521489971346705,
          0.00019102196752626553,
          0.6851957975167144,
          0.6485195797516714,
          0.15205348615090736,
          0.5959885386819485,
          0.9984718242597899,
          0.16332378223495703,
          0.9680993314231137,
          0.05195797516714422,
          0.0387774594078319,
          0.3331423113658071,
          0.9988538681948425,
          0.35873925501432663,
          0.0443170964660936,
          0.6231136580706781,
          0.18357211079274116,
          0.8687679083094556,
          0.14212034383954156,
          0.14632282712511938,
          0.7495702005730659,
          0.08748806112702961,
          0.08595988538681948,
          0.4072588347659981,
          0.9887297039159504,
          0,
          0.1096466093600764,
          0.12091690544412607,
          0.47679083094555874,
          0.5060171919770774,
          0.5713467048710602,
          0.7228271251193887,
          0.42540592168099334,
          0.2536771728748806,
          0.5919770773638968,
          0.0991404011461318,
          0.009169054441260744,
          0.06532951289398281,
          0.056160458452722065,
          0.027316141356255968,
          0.47468958930276983,
          0.9285577841451766,
          0.3489971346704871,
          0.9262655205348616,
          0.5650429799426934,
          0.965425023877746,
          0.2997134670487106,
          0.9896848137535816,
          0.9153772683858644,
          0.9996179560649475,
          0.03476599808978032,
          0.9807067812798472,
          0.12760267430754538,
          0.10888252148997135,
          0.18643744030563514,
          0.30888252148997136,
          0.34001910219675263,
          0.7912129894937918,
          0.9346704871060172,
          0.07526265520534861,
          0.25673352435530084,
          0.1728748806112703,
          0.9965616045845272,
          0.18815663801337154,
          0.2639923591212989,
          0.00019102196752626553,
          0.12855778414517668,
          0.38758357211079275,
          0.13772683858643744,
          0.9533906399235912,
          0.10162368672397326,
          0.6989493791786056,
          0.44011461318051576,
          0.9778414517669533,
          0.2504297994269341,
          0.7507163323782235,
          0.6450811843361987,
          0.30983763132760267,
          0.035148042024832855,
          0.041642788920725884,
          0,
          0.28997134670487107,
          0.016045845272206302,
          0.7090735434574976,
          0.8202483285577842,
          0.4204393505253104,
          0.7686723973256925,
          0.6443170964660936,
          0.6555873925501433,
          0.6085959885386819,
          0.7241642788920726,
          0.5896848137535816,
          0.5623686723973257,
          0.8399235912129895,
          0.626552053486151,
          0.7062082139446036,
          0.5501432664756447,
          0.5852913085004775,
          0.7866284622731614,
          0.5109837631327603,
          0.5390639923591213,
          0.05119388729703916,
          0.45673352435530085,
          0.04622731614135626,
          0.06723973256924547,
          0.2487106017191977,
          0.0032473734479465137,
          0.13371537726838587,
          0.9073543457497613,
          0.977650429799427,
          0.017574021012416428,
          0.31824259789875836,
          0.48443170964660937,
          0.27831900668576887,
          0.3123209169054441,
          0.5543457497612225,
          0.514422158548233,
          0.34269340974212037,
          0.4983763132760267,
          0.9990448901623686,
          0.5598853868194842,
          0.2511938872970392,
          0.4559694364851958,
          0.6406876790830945,
          0.005348615090735435,
          0.045463228271251196,
          0.07335243553008595,
          0.6164278892072589,
          0.17688634192932187,
          0.2145176695319962,
          0.16523400191021967,
          0.8481375358166189,
          0.17096466093600765,
          0.44030563514804205,
          0.24794651384909264,
          0.041642788920725884,
          0.9994269340974212,
          0.11957975167144222,
          0.28557784145176696,
          0.06131805157593123,
          0.0009551098376313276,
          0.5493791786055396,
          0.553199617956065,
          0.9568290353390639,
          0.21432664756446992,
          0.12702960840496658,
          0.07640878701050621,
          0.11996179560649475,
          0.047182425978987586,
          0.2723973256924546,
          0.38758357211079275,
          0.4408787010506208,
          0.33276026743075454,
          0.26628462273161413,
          0.332378223495702,
          0.19312320916905446,
          0.17325692454632283,
          0.4573065902578797,
          0.9170964660936007,
          0.3551098376313276,
          0.37306590257879657,
          0.2681948424068768,
          0.28767908309455587,
          0.35262655205348614,
          0.03113658070678128,
          0.21700095510983763,
          0.2099331423113658,
          0.07602674307545368,
          0.005157593123209169,
          0.28061127029608407,
          0.13505253104106973,
          0.1440305635148042,
          0.39484240687679084,
          0.07316141356255969,
          0.17707736389684814,
          0.3119388729703916,
          0.20114613180515759,
          0.15262655205348616,
          0.11766953199617956,
          0.3658070678127985
         ],
         "yaxis": "y"
        },
        {
         "hovertemplate": "variable=f1_score<br>precision_1=%{x}<br>value=%{y}<extra></extra>",
         "legendgroup": "f1_score",
         "marker": {
          "color": "#EF553B",
          "symbol": "circle"
         },
         "mode": "markers",
         "name": "f1_score",
         "showlegend": true,
         "type": "scattergl",
         "x": [
          0.037957613629664565,
          0.05593286494925839,
          0.0349874686716792,
          0.040948909881345405,
          0.25,
          0.14647804302976716,
          0.03539571461443712,
          0.04859003056041047,
          0.19658119658119658,
          0.1239199636198272,
          0,
          0.3018867924528302,
          0.06690856892220583,
          0.088559670781893,
          0.07976469276235085,
          0.0788456795198553,
          0.0648579758724838,
          0.0789641458453505,
          0.05238543916900308,
          0.06718212422773852,
          0,
          0.10108303249097472,
          0.05088248053519647,
          0.15697399527186762,
          0.04370548157324249,
          0.1762114537444934,
          0.035355276589128425,
          0.036040335297535066,
          0.06359832635983263,
          0.1133773740710157,
          0.08821392899300827,
          0.08942776987817531,
          0.06239124244629354,
          0.059091363240604614,
          0.09299729509252501,
          0.04966862680227532,
          0.0874271137026239,
          0.03498817018887597,
          0.18181818181818182,
          0.04463091218522192,
          0.10051316376617582,
          0.09328590484659849,
          0.07754024402747872,
          0.09838646202282567,
          0.1539816772374912,
          0.07292335629027615,
          0.19318181818181818,
          0.0793712293131123,
          0.15546069014585556,
          0.09338436779609412,
          0.039883176090673086,
          0.06666666666666667,
          0.1706827309236948,
          0.21153846153846154,
          0,
          0.04121847674047656,
          0.0385863198053411,
          0.08299953087221681,
          0.05093910702068022,
          0.039601581272769554,
          0.07092277793910694,
          0,
          0.13345551482839055,
          0.06918466311255685,
          0.22598870056497175,
          0,
          0.14131562564847477,
          0.0889917695473251,
          0.05433564452764197,
          0.06680708576366386,
          0.04717604044505327,
          0.1048188076373555,
          0.09927986366884724,
          0.11564625850340136,
          0.1714046822742475,
          0.0446216445014883,
          0.0349874686716792,
          0.04957735777376769,
          0.1023344861660079,
          0.037328108454650885,
          0.21727019498607242,
          0.13729747786871555,
          0.04277259607561003,
          0.06493817039010727,
          0.04328924810188587,
          0.04245258950591037,
          0.042791698479905604,
          0.10495011511895626,
          0.10446535716541401,
          0.1617301363422661,
          0.46153846153846156,
          0.16403162055335968,
          0.2131782945736434,
          0.1464393179538616,
          0.08424684213455011,
          0.09640401642182322,
          0.035021407546160024,
          0.03662628878887832,
          0.23478260869565218,
          0.11512375583546199,
          0.12753623188405797,
          0.06474873349850238,
          0.040536002686409646,
          0.10501546322441845,
          0.10833333333333334,
          0.16277777777777777,
          0.15780141843971632,
          0.1407828282828283,
          0.11423360689712343,
          0.09169193450576106,
          0.10627119771230964,
          0.10061531449407475,
          0.11535876323307007,
          0.07199116319277687,
          0.0578575072735546,
          0.10597788999590556,
          0.12490311150481674,
          0.13624975910580073,
          0.08929322273613394,
          0.07415277523355926,
          0.2088607594936709,
          0.25,
          0.06752381310944618,
          0.07230172927847346,
          0.1363013698630137,
          0.07525325615050651,
          0.0354668638932805,
          0.12679816105590982,
          0.04044305413687436,
          0.1469475958941113,
          0.17174280879864637,
          0.1007451909190688,
          0.035444119082479256,
          0.09955470737913485,
          0.17615793470007593,
          0.07355627212663765,
          0.12803090860644817,
          0.05215835588788476,
          0.13170472650026555,
          0.13593611357586513,
          0.06228472563927557,
          0.1483160621761658,
          0.15750787539376968,
          0.09403254972875226,
          0.03673214488475077,
          0,
          0.1364717070851165,
          0.1409485637942552,
          0.08828210660347328,
          0.08541854765897072,
          0.07904125155254882,
          0.06574809306204715,
          0.09178962987387684,
          0.11698379140239605,
          0.07823979398621525,
          0.13817891373801916,
          0.2171945701357466,
          0.152135231316726,
          0.1724340175953079,
          0.1623155505107832,
          0.08685470623186886,
          0.04588489602507103,
          0.10122444456756607,
          0.0460152973106341,
          0.07958244773870699,
          0.04022924460717981,
          0.10053825451749328,
          0.036950924664617406,
          0.04737003390634731,
          0.03503521598243218,
          0.18705035971223022,
          0.038604986916112735,
          0.1400712937722793,
          0.14645426515930113,
          0.11572207730614181,
          0.08294009027492819,
          0.10226946279804654,
          0.05949439816144786,
          0.04458558098848229,
          0.15487421383647798,
          0.11570247933884298,
          0.12943363844393593,
          0.035761289791889445,
          0.1277893098079917,
          0.1108437600256657,
          0.3333333333333333,
          0.13617968433832456,
          0.08656881986517621,
          0.13494291596481378,
          0.04255010784589546,
          0.14213197969543148,
          0.0672956668873685,
          0.09083382613837966,
          0.0390227168775728,
          0.11615132453264818,
          0.06248410073772577,
          0.07165591580376846,
          0.10357598978288633,
          0.19027921406411583,
          0.179719703215169,
          0,
          0.10793515358361774,
          0.22340425531914893,
          0.0671405574547362,
          0.05634579046819232,
          0.09245956731779038,
          0.06120710635191044,
          0.07265012492461445,
          0.07168219223860646,
          0.07492415869059098,
          0.06507260805382951,
          0.07640899977723324,
          0.07976374326045138,
          0.05491582155168107,
          0.07344215310897652,
          0.06656343962118075,
          0.07448596922281132,
          0.07765021921488127,
          0.05930726578814719,
          0.08359636238632458,
          0.07605648986632169,
          0.1671865252651279,
          0.08885172798216276,
          0.17754952311078503,
          0.15693267944716896,
          0.11562028239055146,
          0.2236842105263158,
          0.12773722627737227,
          0.04780210933097174,
          0.039237633782084703,
          0.2119815668202765,
          0.10304304799604157,
          0.08699231613611416,
          0.11131484452593782,
          0.1035793474817865,
          0.0803477490447976,
          0.08461635141079621,
          0.09905582242835846,
          0.08607436244267758,
          0.0352604078880836,
          0.07965972712942328,
          0.11399098474341193,
          0.09092294213994591,
          0.07296380090497738,
          0.26666666666666666,
          0.11799702528507684,
          0.16445396145610278,
          0.07374314442413163,
          0.1319088319088319,
          0.12081764389456698,
          0.13196033562166284,
          0.05362707442568302,
          0.13330354483169496,
          0.09057686262181704,
          0.11727502710516806,
          0.17883511074651354,
          0.03509266152886492,
          0.14318389752973468,
          0.11027513461680313,
          0.14017467248908297,
          0.19230769230769232,
          0.0805399199081464,
          0.07860593887411108,
          0.04093992644053943,
          0.11018363939899833,
          0.14002947989050327,
          0.15904572564612326,
          0.13896879840672716,
          0.1782106782106782,
          0.1070088548701786,
          0.0963895486935867,
          0.09036805011746281,
          0.10313184536143509,
          0.11438417986378928,
          0.1011098843628334,
          0.12686660810641234,
          0.12898179749715585,
          0.08926174496644296,
          0.04683719659720596,
          0.10100516164085846,
          0.09769396228302736,
          0.11512915129151291,
          0.1127920910724985,
          0.09977839035727798,
          0.19544364508393286,
          0.1240174672489083,
          0.1276867665853375,
          0.15522620904836193,
          0.225,
          0.1145597754035717,
          0.14092086904524617,
          0.13649529326574947,
          0.09499517441058872,
          0.16112747160286076,
          0.13343889448682886,
          0.1084761525176033,
          0.1271585557299843,
          0.1334112539656036,
          0.14190278737618062,
          0.09950119505351761
         ],
         "xaxis": "x",
         "y": [
          0.07309545264263263,
          0.10473232230951945,
          0.06760945370011623,
          0.07853801123762803,
          0.0022818026240730175,
          0.11520630505331479,
          0.06836914107181374,
          0.09224440693094282,
          0.016822088133113915,
          0.15537025158577436,
          0,
          0.006051437216338881,
          0.12117054501471305,
          0.1457254105298798,
          0.13921124978712016,
          0.13790624101236698,
          0.11885337684358703,
          0.13627076020327972,
          0.09882618167629494,
          0.12250198155050003,
          0,
          0.15374056280027454,
          0.0960260263495244,
          0.09034013605442177,
          0.0831959323157982,
          0.04056795131845842,
          0.0682937020932085,
          0.06956208325824473,
          0.1171350861287398,
          0.158316517728452,
          0.14254796229045155,
          0.1488994113130279,
          0.11523908311297462,
          0.10996600084997875,
          0.15186145972095633,
          0.09408102207487669,
          0.14684009181331292,
          0.0676107634785641,
          0.004527447651386531,
          0.08520249491808121,
          0.15559297154945387,
          0.15134355275022543,
          0.1367324338373223,
          0.15202849448353747,
          0.10826210826210826,
          0.13069534846801079,
          0.06485455412494039,
          0.13865454809156616,
          0.10862540392741735,
          0.15212924254233684,
          0.07659276936289225,
          0.00038095238095238096,
          0.07579135086937137,
          0.004161149990542841,
          0,
          0.07905181745446559,
          0.07425338352927575,
          0.13962241243246526,
          0.09631414770534047,
          0.07611456665052702,
          0.12699492020319186,
          0,
          0.14256474147904244,
          0.11952336351337288,
          0.014781966001478197,
          0,
          0.1354684702605928,
          0.14298057778278672,
          0.10208945553832982,
          0.12210651004392675,
          0.08972316458306,
          0.15644840789027287,
          0.1541876547425937,
          0.15179567986343642,
          0.06375369304929249,
          0.08518402669169013,
          0.06760945370011623,
          0.09396375855034202,
          0.15466467540953002,
          0.07194324508184204,
          0.027887021809081158,
          0.14649795045446445,
          0.08187422126041052,
          0.11921671918849851,
          0.08278757768131216,
          0.08128638306533686,
          0.08186503556282212,
          0.15725168894638494,
          0.15701537877349536,
          0.093452866069003,
          0.0022865853658536584,
          0.05314550984472547,
          0.02002548698343346,
          0.10649161196207148,
          0.13048349564767733,
          0.15315102938865316,
          0.06767281776169085,
          0.07060787045338557,
          0.010093457943925233,
          0.15758379551483,
          0.1509551656920078,
          0.11806948635390503,
          0.07781503963655619,
          0.15535332438211746,
          0.15782101167315174,
          0.08329779673063255,
          0.055948451988055946,
          0.13397416641634124,
          0.15932477743091686,
          0.15135135135135136,
          0.15765588003157063,
          0.15500065827006626,
          0.16023808134445935,
          0.12790375221314448,
          0.1079245865377196,
          0.15616672532555684,
          0.15813823075844666,
          0.1356485034535687,
          0.14880876544782776,
          0.12443897940362741,
          0.04499744332708369,
          0.0003817522427944264,
          0.12293298147608685,
          0.13009905922477055,
          0.1437471783295711,
          0.13363315130099582,
          0.06850051110004456,
          0.1427617298380364,
          0.07764253487249803,
          0.07677109793959921,
          0.06326944054854293,
          0.15470593453384193,
          0.0684589854873235,
          0.1558570895057886,
          0.07081807081807082,
          0.13158000887418822,
          0.15085158150851583,
          0.0984085425885255,
          0.13671444321940462,
          0.14093836246550137,
          0.11501260331789671,
          0.11005647002282831,
          0.11122095897182402,
          0.15278773111652572,
          0.07083279164129268,
          0,
          0.12159728842283657,
          0.13016656384947564,
          0.14897934821535155,
          0.14616382045410656,
          0.13887083294642028,
          0.12053258584442887,
          0.15099840661762212,
          0.16012539940917586,
          0.1382124698956382,
          0.11544878211544878,
          0.017595307917888565,
          0.0914071896298276,
          0.08472622478386167,
          0.046762589928057555,
          0.1468415765526207,
          0.08744850414665299,
          0.15693179866002405,
          0.08767504723676241,
          0.13951514008112442,
          0.07723990371757154,
          0.15056859075860082,
          0.07124195588801496,
          0.09007857438249559,
          0.06769772120130144,
          0.0586340206185567,
          0.07428575562677701,
          0.133546581367453,
          0.124904130601512,
          0.14280488697051724,
          0.1307670534956128,
          0.15724381625441697,
          0.11066729009418208,
          0.0851111942180746,
          0.10129836739940866,
          0.159515755741499,
          0.14803304162918132,
          0.06904492486054037,
          0.15220582554276443,
          0.15613172908546574,
          0.00038182512409316535,
          0.1322590154269431,
          0.14152687197014613,
          0.1363206655322367,
          0.08146443378056345,
          0.11851191802183114,
          0.12277081550824567,
          0.15058823529411763,
          0.0750503976835392,
          0.15869749425009078,
          0.11536598611498437,
          0.12898420640528618,
          0.1552524527398899,
          0.05933569816188326,
          0.06761786600496278,
          0,
          0.157313850458573,
          0.029941186954197112,
          0.1226661379333135,
          0.10544798202423782,
          0.1515840220385675,
          0.11338564927654658,
          0.13057700869093936,
          0.12923389753920886,
          0.1334226726412329,
          0.11941473863260517,
          0.13528793058112018,
          0.13971146545178437,
          0.10309133324736527,
          0.13147346480679814,
          0.12165986573647493,
          0.13120728929384967,
          0.13711012663892244,
          0.11029864738181332,
          0.14368587849814685,
          0.13330499067054016,
          0.07838549283416203,
          0.14876341577228186,
          0.07335556229160352,
          0.09414281893554426,
          0.1578564500484966,
          0.006401807569196009,
          0.13065795613625758,
          0.09081957496438917,
          0.07544722158751686,
          0.032457223496207444,
          0.1556791104050834,
          0.1474976008375258,
          0.15902641344684568,
          0.1555661274976213,
          0.1403525741784151,
          0.14532797280159737,
          0.15368799794397328,
          0.1467957013447364,
          0.06811669705652514,
          0.13947512431892264,
          0.15681831733349233,
          0.15161331300813008,
          0.13100794875300276,
          0.010486891385767791,
          0.06563706563706563,
          0.10145310435931308,
          0.1317277273191142,
          0.1511219910240718,
          0.15457673778389538,
          0.14673452078032231,
          0.10087584773199741,
          0.14980333082266298,
          0.15024606459603038,
          0.15923449671839537,
          0.06755500464828014,
          0.06780451770926481,
          0.13032164047049027,
          0.15911025968497233,
          0.0853156146179402,
          0.0019007793195210036,
          0.14048456428292302,
          0.13765239917294483,
          0.0785202022181291,
          0.14554416915293814,
          0.13321314102564102,
          0.1032258064516129,
          0.12876768505228625,
          0.07461108593867996,
          0.1536555142503098,
          0.15438463001712002,
          0.1499918765231519,
          0.15746180963572268,
          0.16002755137182872,
          0.15505257529852076,
          0.15313541351105725,
          0.14787641640172822,
          0.14936827328029947,
          0.08912278747714383,
          0.15727580372250424,
          0.1548402441924998,
          0.16110154905335627,
          0.16204874374562867,
          0.1555443208628244,
          0.053715603888614266,
          0.15783258075720735,
          0.15879208206906517,
          0.1020643672265675,
          0.010084033613445379,
          0.1626979731974748,
          0.13792430745220444,
          0.14016172506738545,
          0.15314514336519228,
          0.10063058328954283,
          0.1521917583319652,
          0.16097392675834196,
          0.15581532997928382,
          0.14237348538845332,
          0.1286549707602339,
          0.15644785752216003
         ],
         "yaxis": "y"
        },
        {
         "hovertemplate": "variable=roc_train<br>precision_1=%{x}<br>value=%{y}<extra></extra>",
         "legendgroup": "roc_train",
         "marker": {
          "color": "#00cc96",
          "symbol": "circle"
         },
         "mode": "markers",
         "name": "roc_train",
         "showlegend": true,
         "type": "scattergl",
         "x": [
          0.037957613629664565,
          0.05593286494925839,
          0.0349874686716792,
          0.040948909881345405,
          0.25,
          0.14647804302976716,
          0.03539571461443712,
          0.04859003056041047,
          0.19658119658119658,
          0.1239199636198272,
          0,
          0.3018867924528302,
          0.06690856892220583,
          0.088559670781893,
          0.07976469276235085,
          0.0788456795198553,
          0.0648579758724838,
          0.0789641458453505,
          0.05238543916900308,
          0.06718212422773852,
          0,
          0.10108303249097472,
          0.05088248053519647,
          0.15697399527186762,
          0.04370548157324249,
          0.1762114537444934,
          0.035355276589128425,
          0.036040335297535066,
          0.06359832635983263,
          0.1133773740710157,
          0.08821392899300827,
          0.08942776987817531,
          0.06239124244629354,
          0.059091363240604614,
          0.09299729509252501,
          0.04966862680227532,
          0.0874271137026239,
          0.03498817018887597,
          0.18181818181818182,
          0.04463091218522192,
          0.10051316376617582,
          0.09328590484659849,
          0.07754024402747872,
          0.09838646202282567,
          0.1539816772374912,
          0.07292335629027615,
          0.19318181818181818,
          0.0793712293131123,
          0.15546069014585556,
          0.09338436779609412,
          0.039883176090673086,
          0.06666666666666667,
          0.1706827309236948,
          0.21153846153846154,
          0,
          0.04121847674047656,
          0.0385863198053411,
          0.08299953087221681,
          0.05093910702068022,
          0.039601581272769554,
          0.07092277793910694,
          0,
          0.13345551482839055,
          0.06918466311255685,
          0.22598870056497175,
          0,
          0.14131562564847477,
          0.0889917695473251,
          0.05433564452764197,
          0.06680708576366386,
          0.04717604044505327,
          0.1048188076373555,
          0.09927986366884724,
          0.11564625850340136,
          0.1714046822742475,
          0.0446216445014883,
          0.0349874686716792,
          0.04957735777376769,
          0.1023344861660079,
          0.037328108454650885,
          0.21727019498607242,
          0.13729747786871555,
          0.04277259607561003,
          0.06493817039010727,
          0.04328924810188587,
          0.04245258950591037,
          0.042791698479905604,
          0.10495011511895626,
          0.10446535716541401,
          0.1617301363422661,
          0.46153846153846156,
          0.16403162055335968,
          0.2131782945736434,
          0.1464393179538616,
          0.08424684213455011,
          0.09640401642182322,
          0.035021407546160024,
          0.03662628878887832,
          0.23478260869565218,
          0.11512375583546199,
          0.12753623188405797,
          0.06474873349850238,
          0.040536002686409646,
          0.10501546322441845,
          0.10833333333333334,
          0.16277777777777777,
          0.15780141843971632,
          0.1407828282828283,
          0.11423360689712343,
          0.09169193450576106,
          0.10627119771230964,
          0.10061531449407475,
          0.11535876323307007,
          0.07199116319277687,
          0.0578575072735546,
          0.10597788999590556,
          0.12490311150481674,
          0.13624975910580073,
          0.08929322273613394,
          0.07415277523355926,
          0.2088607594936709,
          0.25,
          0.06752381310944618,
          0.07230172927847346,
          0.1363013698630137,
          0.07525325615050651,
          0.0354668638932805,
          0.12679816105590982,
          0.04044305413687436,
          0.1469475958941113,
          0.17174280879864637,
          0.1007451909190688,
          0.035444119082479256,
          0.09955470737913485,
          0.17615793470007593,
          0.07355627212663765,
          0.12803090860644817,
          0.05215835588788476,
          0.13170472650026555,
          0.13593611357586513,
          0.06228472563927557,
          0.1483160621761658,
          0.15750787539376968,
          0.09403254972875226,
          0.03673214488475077,
          0,
          0.1364717070851165,
          0.1409485637942552,
          0.08828210660347328,
          0.08541854765897072,
          0.07904125155254882,
          0.06574809306204715,
          0.09178962987387684,
          0.11698379140239605,
          0.07823979398621525,
          0.13817891373801916,
          0.2171945701357466,
          0.152135231316726,
          0.1724340175953079,
          0.1623155505107832,
          0.08685470623186886,
          0.04588489602507103,
          0.10122444456756607,
          0.0460152973106341,
          0.07958244773870699,
          0.04022924460717981,
          0.10053825451749328,
          0.036950924664617406,
          0.04737003390634731,
          0.03503521598243218,
          0.18705035971223022,
          0.038604986916112735,
          0.1400712937722793,
          0.14645426515930113,
          0.11572207730614181,
          0.08294009027492819,
          0.10226946279804654,
          0.05949439816144786,
          0.04458558098848229,
          0.15487421383647798,
          0.11570247933884298,
          0.12943363844393593,
          0.035761289791889445,
          0.1277893098079917,
          0.1108437600256657,
          0.3333333333333333,
          0.13617968433832456,
          0.08656881986517621,
          0.13494291596481378,
          0.04255010784589546,
          0.14213197969543148,
          0.0672956668873685,
          0.09083382613837966,
          0.0390227168775728,
          0.11615132453264818,
          0.06248410073772577,
          0.07165591580376846,
          0.10357598978288633,
          0.19027921406411583,
          0.179719703215169,
          0,
          0.10793515358361774,
          0.22340425531914893,
          0.0671405574547362,
          0.05634579046819232,
          0.09245956731779038,
          0.06120710635191044,
          0.07265012492461445,
          0.07168219223860646,
          0.07492415869059098,
          0.06507260805382951,
          0.07640899977723324,
          0.07976374326045138,
          0.05491582155168107,
          0.07344215310897652,
          0.06656343962118075,
          0.07448596922281132,
          0.07765021921488127,
          0.05930726578814719,
          0.08359636238632458,
          0.07605648986632169,
          0.1671865252651279,
          0.08885172798216276,
          0.17754952311078503,
          0.15693267944716896,
          0.11562028239055146,
          0.2236842105263158,
          0.12773722627737227,
          0.04780210933097174,
          0.039237633782084703,
          0.2119815668202765,
          0.10304304799604157,
          0.08699231613611416,
          0.11131484452593782,
          0.1035793474817865,
          0.0803477490447976,
          0.08461635141079621,
          0.09905582242835846,
          0.08607436244267758,
          0.0352604078880836,
          0.07965972712942328,
          0.11399098474341193,
          0.09092294213994591,
          0.07296380090497738,
          0.26666666666666666,
          0.11799702528507684,
          0.16445396145610278,
          0.07374314442413163,
          0.1319088319088319,
          0.12081764389456698,
          0.13196033562166284,
          0.05362707442568302,
          0.13330354483169496,
          0.09057686262181704,
          0.11727502710516806,
          0.17883511074651354,
          0.03509266152886492,
          0.14318389752973468,
          0.11027513461680313,
          0.14017467248908297,
          0.19230769230769232,
          0.0805399199081464,
          0.07860593887411108,
          0.04093992644053943,
          0.11018363939899833,
          0.14002947989050327,
          0.15904572564612326,
          0.13896879840672716,
          0.1782106782106782,
          0.1070088548701786,
          0.0963895486935867,
          0.09036805011746281,
          0.10313184536143509,
          0.11438417986378928,
          0.1011098843628334,
          0.12686660810641234,
          0.12898179749715585,
          0.08926174496644296,
          0.04683719659720596,
          0.10100516164085846,
          0.09769396228302736,
          0.11512915129151291,
          0.1127920910724985,
          0.09977839035727798,
          0.19544364508393286,
          0.1240174672489083,
          0.1276867665853375,
          0.15522620904836193,
          0.225,
          0.1145597754035717,
          0.14092086904524617,
          0.13649529326574947,
          0.09499517441058872,
          0.16112747160286076,
          0.13343889448682886,
          0.1084761525176033,
          0.1271585557299843,
          0.1334112539656036,
          0.14190278737618062,
          0.09950119505351761
         ],
         "xaxis": "x",
         "y": [
          0.756599372235425,
          0.7439749719086739,
          0.721701399387325,
          0.7373405067748884,
          0.7371965362549378,
          0.7606554201114804,
          0.7284077333003788,
          0.7602090248496984,
          0.7562430467935745,
          0.7720838188619853,
          0.7151769304680887,
          0.7562802314447065,
          0.7448367835657632,
          0.7451705925488876,
          0.7739783849027768,
          0.7818170884192424,
          0.760621940762674,
          0.7375054365840075,
          0.7571800004414938,
          0.7736042032470729,
          0.747240156975668,
          0.7784408271547703,
          0.7529003862179087,
          0.7948848208640554,
          0.6903967325735261,
          0.7510959163063583,
          0.7496407030903782,
          0.7495802999651848,
          0.758911446647945,
          0.7645036369249992,
          0.7274920156163465,
          0.7805726768186407,
          0.7733055713968301,
          0.7722957462474375,
          0.7513875648444162,
          0.7644040558626618,
          0.7805867228182383,
          0.7243147100684257,
          0.7867981605214815,
          0.765771357842008,
          0.766240441691276,
          0.7680739693204063,
          0.766156700378563,
          0.7611479622276982,
          0.7653782283190859,
          0.7676162593882694,
          0.7579011495575202,
          0.7654915808208064,
          0.7727877358681527,
          0.7578359786323938,
          0.748182280748574,
          0.7734250084651993,
          0.7700916205996206,
          0.768941764535914,
          0.7781576498077847,
          0.7693330542776833,
          0.7463294041470779,
          0.7602669547371306,
          0.7510233844267616,
          0.7606095269161997,
          0.7538389842180131,
          0.7759215926281049,
          0.7790106790350754,
          0.7111895990117774,
          0.7687455874403009,
          0.7596244210100974,
          0.7694975789559646,
          0.7309323666844366,
          0.7815884329078322,
          0.7754214918512906,
          0.7672361541528673,
          0.7634908613512166,
          0.7736097187274951,
          0.7763984495974734,
          0.7465112419369876,
          0.7562916551340093,
          0.7103300682539102,
          0.7741886849740667,
          0.7578468471830639,
          0.7515927244344395,
          0.7675783469817822,
          0.7674591178260872,
          0.7727841883810214,
          0.7812873932881256,
          0.7575385408669701,
          0.7552222692859581,
          0.7593755162762345,
          0.7944303052155512,
          0.7609703619445111,
          0.7620058915740775,
          0.7693636421235674,
          0.734772233687547,
          0.7611490461549906,
          0.7473036299134015,
          0.6895172276007198,
          0.760535460923272,
          0.7319019640454387,
          0.6990211955435974,
          0.7827875149504655,
          0.7773544616361094,
          0.7756042244017096,
          0.753274170143539,
          0.7654162054212635,
          0.7818296080722449,
          0.7855277165705921,
          0.7819222590509698,
          0.7563384805815823,
          0.7765583725457146,
          0.780065632376592,
          0.758167900339352,
          0.7881118902808756,
          0.7777104654700309,
          0.762845782167977,
          0.7540899043995167,
          0.7569878266306191,
          0.7567826657800262,
          0.7743911762633326,
          0.781780445243794,
          0.7739722630069994,
          0.6910648971797277,
          0.7678749607412543,
          0.7673088339664182,
          0.7611668339321083,
          0.7544448107651874,
          0.7641025104698587,
          0.7685281421752778,
          0.7419703933472541,
          0.7620703775625548,
          0.7536905967024794,
          0.7377924500479234,
          0.7406990802538849,
          0.7749086720888061,
          0.7565283391325439,
          0.7794517427376213,
          0.7895954626555013,
          0.7768351291605757,
          0.7803472282778874,
          0.7765922736974097,
          0.7771860733930092,
          0.7812551542179184,
          0.7815919241166256,
          0.7853666987565667,
          0.7963522759604039,
          0.7763431398245051,
          0.7687989538620826,
          0.699471193269615,
          0.730347780452148,
          0.7713054341477897,
          0.7700031943592669,
          0.7686085130905713,
          0.7646450863868667,
          0.7747328589681524,
          0.7667908729907235,
          0.7700748284285885,
          0.7679333932300267,
          0.7457108188452924,
          0.773194525371698,
          0.7676285710472706,
          0.7714506397414065,
          0.7456134891604483,
          0.7711781864675372,
          0.7639256667318122,
          0.7664430558657562,
          0.761419366260274,
          0.7541022019482699,
          0.7452494234953004,
          0.7619242668798899,
          0.7670095790694329,
          0.767821373719774,
          0.7459016428299942,
          0.7522418212159832,
          0.7606444721449188,
          0.7867749267579296,
          0.7831317830024234,
          0.7580111976587448,
          0.7065862031084458,
          0.780902767731088,
          0.7684637597974973,
          0.7332687742806093,
          0.7891087491696183,
          0.7641077849781495,
          0.7694543863076276,
          0.7649769665763515,
          0.7728723862142773,
          0.7761015250872372,
          0.7793491271586954,
          0.7941143845298129,
          0.7307739142517518,
          0.7762473139179921,
          0.7454760531085405,
          0.7650209110528589,
          0.7789436124164304,
          0.781376614785309,
          0.7686779023292295,
          0.7743407707164701,
          0.7786606280179367,
          0.7733886168344024,
          0.7679377362586325,
          0.7836947065069846,
          0.7919380671716804,
          0.7734384346711374,
          0.780863431328133,
          0.7947864205895598,
          0.7855438159975757,
          0.7773761252990984,
          0.7722460460503204,
          0.7725052510618976,
          0.7809034490486819,
          0.7883514545185323,
          0.7783591602924929,
          0.7739490106195468,
          0.7811193810607693,
          0.7768545846714132,
          0.7693056072022146,
          0.7888130125633432,
          0.7791143886258511,
          0.7605276779625951,
          0.7808609793167389,
          0.7745011019673053,
          0.778667123205001,
          0.7574713035021255,
          0.7773328796255068,
          0.7810198136207174,
          0.7899829022107558,
          0.7679541980790745,
          0.7885761478153783,
          0.7613693278238406,
          0.7555936277941487,
          0.7577152260578786,
          0.7701958634520449,
          0.7786112182804777,
          0.786624361303254,
          0.779145593500274,
          0.7884702266567138,
          0.7642991314486622,
          0.7742522275684424,
          0.7617256615203892,
          0.7820502056154648,
          0.7680807420361233,
          0.7541860972944682,
          0.7829240982879632,
          0.7825162218886874,
          0.7764250767333443,
          0.7778128209242986,
          0.7840716458825678,
          0.7123164382519119,
          0.7894695284482179,
          0.7845186673628481,
          0.7848483529818037,
          0.7727111784201983,
          0.789250369784321,
          0.7722891183345822,
          0.7833608556404152,
          0.7667485369604963,
          0.7774196963216646,
          0.7835977423466913,
          0.7452825670039391,
          0.7804996555533539,
          0.7856207347410731,
          0.7304512719237011,
          0.7828207239680655,
          0.7684602807877655,
          0.7443650839123668,
          0.7435902856816363,
          0.7426576052430265,
          0.7933108037923334,
          0.7850182734270486,
          0.7811664882253395,
          0.7726718488080542,
          0.7655380583918042,
          0.7839233127341857,
          0.7830040464651065,
          0.7877118750382619,
          0.7878941427231045,
          0.788866812417786,
          0.7887117883280637,
          0.7904473054833818,
          0.7811863184913512,
          0.7720557433315234,
          0.7811367753774847,
          0.78356398176885,
          0.7815779003193204,
          0.7872331472614605,
          0.7856857489082569,
          0.7860809952530221,
          0.7894148700238155,
          0.7837477163095306,
          0.781401321382239,
          0.7826959424094551,
          0.7845959360567611,
          0.7844413989535801,
          0.7816018898554057,
          0.7808725888384144,
          0.7886116647327905,
          0.7852683341033312,
          0.7827530662642195,
          0.7710592181277807,
          0.7845167122598993,
          0.785365118937418,
          0.779582174250977
         ],
         "yaxis": "y"
        },
        {
         "hovertemplate": "variable=roc_valid<br>precision_1=%{x}<br>value=%{y}<extra></extra>",
         "legendgroup": "roc_valid",
         "marker": {
          "color": "#ab63fa",
          "symbol": "circle"
         },
         "mode": "markers",
         "name": "roc_valid",
         "showlegend": true,
         "type": "scattergl",
         "x": [
          0.037957613629664565,
          0.05593286494925839,
          0.0349874686716792,
          0.040948909881345405,
          0.25,
          0.14647804302976716,
          0.03539571461443712,
          0.04859003056041047,
          0.19658119658119658,
          0.1239199636198272,
          0,
          0.3018867924528302,
          0.06690856892220583,
          0.088559670781893,
          0.07976469276235085,
          0.0788456795198553,
          0.0648579758724838,
          0.0789641458453505,
          0.05238543916900308,
          0.06718212422773852,
          0,
          0.10108303249097472,
          0.05088248053519647,
          0.15697399527186762,
          0.04370548157324249,
          0.1762114537444934,
          0.035355276589128425,
          0.036040335297535066,
          0.06359832635983263,
          0.1133773740710157,
          0.08821392899300827,
          0.08942776987817531,
          0.06239124244629354,
          0.059091363240604614,
          0.09299729509252501,
          0.04966862680227532,
          0.0874271137026239,
          0.03498817018887597,
          0.18181818181818182,
          0.04463091218522192,
          0.10051316376617582,
          0.09328590484659849,
          0.07754024402747872,
          0.09838646202282567,
          0.1539816772374912,
          0.07292335629027615,
          0.19318181818181818,
          0.0793712293131123,
          0.15546069014585556,
          0.09338436779609412,
          0.039883176090673086,
          0.06666666666666667,
          0.1706827309236948,
          0.21153846153846154,
          0,
          0.04121847674047656,
          0.0385863198053411,
          0.08299953087221681,
          0.05093910702068022,
          0.039601581272769554,
          0.07092277793910694,
          0,
          0.13345551482839055,
          0.06918466311255685,
          0.22598870056497175,
          0,
          0.14131562564847477,
          0.0889917695473251,
          0.05433564452764197,
          0.06680708576366386,
          0.04717604044505327,
          0.1048188076373555,
          0.09927986366884724,
          0.11564625850340136,
          0.1714046822742475,
          0.0446216445014883,
          0.0349874686716792,
          0.04957735777376769,
          0.1023344861660079,
          0.037328108454650885,
          0.21727019498607242,
          0.13729747786871555,
          0.04277259607561003,
          0.06493817039010727,
          0.04328924810188587,
          0.04245258950591037,
          0.042791698479905604,
          0.10495011511895626,
          0.10446535716541401,
          0.1617301363422661,
          0.46153846153846156,
          0.16403162055335968,
          0.2131782945736434,
          0.1464393179538616,
          0.08424684213455011,
          0.09640401642182322,
          0.035021407546160024,
          0.03662628878887832,
          0.23478260869565218,
          0.11512375583546199,
          0.12753623188405797,
          0.06474873349850238,
          0.040536002686409646,
          0.10501546322441845,
          0.10833333333333334,
          0.16277777777777777,
          0.15780141843971632,
          0.1407828282828283,
          0.11423360689712343,
          0.09169193450576106,
          0.10627119771230964,
          0.10061531449407475,
          0.11535876323307007,
          0.07199116319277687,
          0.0578575072735546,
          0.10597788999590556,
          0.12490311150481674,
          0.13624975910580073,
          0.08929322273613394,
          0.07415277523355926,
          0.2088607594936709,
          0.25,
          0.06752381310944618,
          0.07230172927847346,
          0.1363013698630137,
          0.07525325615050651,
          0.0354668638932805,
          0.12679816105590982,
          0.04044305413687436,
          0.1469475958941113,
          0.17174280879864637,
          0.1007451909190688,
          0.035444119082479256,
          0.09955470737913485,
          0.17615793470007593,
          0.07355627212663765,
          0.12803090860644817,
          0.05215835588788476,
          0.13170472650026555,
          0.13593611357586513,
          0.06228472563927557,
          0.1483160621761658,
          0.15750787539376968,
          0.09403254972875226,
          0.03673214488475077,
          0,
          0.1364717070851165,
          0.1409485637942552,
          0.08828210660347328,
          0.08541854765897072,
          0.07904125155254882,
          0.06574809306204715,
          0.09178962987387684,
          0.11698379140239605,
          0.07823979398621525,
          0.13817891373801916,
          0.2171945701357466,
          0.152135231316726,
          0.1724340175953079,
          0.1623155505107832,
          0.08685470623186886,
          0.04588489602507103,
          0.10122444456756607,
          0.0460152973106341,
          0.07958244773870699,
          0.04022924460717981,
          0.10053825451749328,
          0.036950924664617406,
          0.04737003390634731,
          0.03503521598243218,
          0.18705035971223022,
          0.038604986916112735,
          0.1400712937722793,
          0.14645426515930113,
          0.11572207730614181,
          0.08294009027492819,
          0.10226946279804654,
          0.05949439816144786,
          0.04458558098848229,
          0.15487421383647798,
          0.11570247933884298,
          0.12943363844393593,
          0.035761289791889445,
          0.1277893098079917,
          0.1108437600256657,
          0.3333333333333333,
          0.13617968433832456,
          0.08656881986517621,
          0.13494291596481378,
          0.04255010784589546,
          0.14213197969543148,
          0.0672956668873685,
          0.09083382613837966,
          0.0390227168775728,
          0.11615132453264818,
          0.06248410073772577,
          0.07165591580376846,
          0.10357598978288633,
          0.19027921406411583,
          0.179719703215169,
          0,
          0.10793515358361774,
          0.22340425531914893,
          0.0671405574547362,
          0.05634579046819232,
          0.09245956731779038,
          0.06120710635191044,
          0.07265012492461445,
          0.07168219223860646,
          0.07492415869059098,
          0.06507260805382951,
          0.07640899977723324,
          0.07976374326045138,
          0.05491582155168107,
          0.07344215310897652,
          0.06656343962118075,
          0.07448596922281132,
          0.07765021921488127,
          0.05930726578814719,
          0.08359636238632458,
          0.07605648986632169,
          0.1671865252651279,
          0.08885172798216276,
          0.17754952311078503,
          0.15693267944716896,
          0.11562028239055146,
          0.2236842105263158,
          0.12773722627737227,
          0.04780210933097174,
          0.039237633782084703,
          0.2119815668202765,
          0.10304304799604157,
          0.08699231613611416,
          0.11131484452593782,
          0.1035793474817865,
          0.0803477490447976,
          0.08461635141079621,
          0.09905582242835846,
          0.08607436244267758,
          0.0352604078880836,
          0.07965972712942328,
          0.11399098474341193,
          0.09092294213994591,
          0.07296380090497738,
          0.26666666666666666,
          0.11799702528507684,
          0.16445396145610278,
          0.07374314442413163,
          0.1319088319088319,
          0.12081764389456698,
          0.13196033562166284,
          0.05362707442568302,
          0.13330354483169496,
          0.09057686262181704,
          0.11727502710516806,
          0.17883511074651354,
          0.03509266152886492,
          0.14318389752973468,
          0.11027513461680313,
          0.14017467248908297,
          0.19230769230769232,
          0.0805399199081464,
          0.07860593887411108,
          0.04093992644053943,
          0.11018363939899833,
          0.14002947989050327,
          0.15904572564612326,
          0.13896879840672716,
          0.1782106782106782,
          0.1070088548701786,
          0.0963895486935867,
          0.09036805011746281,
          0.10313184536143509,
          0.11438417986378928,
          0.1011098843628334,
          0.12686660810641234,
          0.12898179749715585,
          0.08926174496644296,
          0.04683719659720596,
          0.10100516164085846,
          0.09769396228302736,
          0.11512915129151291,
          0.1127920910724985,
          0.09977839035727798,
          0.19544364508393286,
          0.1240174672489083,
          0.1276867665853375,
          0.15522620904836193,
          0.225,
          0.1145597754035717,
          0.14092086904524617,
          0.13649529326574947,
          0.09499517441058872,
          0.16112747160286076,
          0.13343889448682886,
          0.1084761525176033,
          0.1271585557299843,
          0.1334112539656036,
          0.14190278737618062,
          0.09950119505351761
         ],
         "xaxis": "x",
         "y": [
          0.7321073980298372,
          0.7306861477587132,
          0.711646226628203,
          0.7135409617365364,
          0.7250369088864639,
          0.7338027216297683,
          0.7188884033631455,
          0.733858006078068,
          0.7338844268808482,
          0.7340557268455981,
          0.6693469341397559,
          0.731824195626392,
          0.7163669854930331,
          0.7178981445045001,
          0.7321047970935661,
          0.7326796688344002,
          0.731268967172308,
          0.7218570301316349,
          0.7342858051918577,
          0.7323087443649413,
          0.7220920404669171,
          0.7319173404990054,
          0.717126650713111,
          0.7322090548169808,
          0.67059250611521,
          0.7279481013992072,
          0.7220401725587597,
          0.7234718669251993,
          0.733232853979191,
          0.733936502493479,
          0.7154983528175344,
          0.7328479782516218,
          0.7334067204832926,
          0.7332920834895251,
          0.7323764824824097,
          0.7304016786225727,
          0.7317448664086501,
          0.714774396229886,
          0.7308511676398017,
          0.7312537385978347,
          0.7343326564416534,
          0.7330481544299958,
          0.7326028386851301,
          0.7328641567102467,
          0.7323030404296758,
          0.7315440724086899,
          0.7306012383023188,
          0.7329871428946582,
          0.7311693007761202,
          0.7330915752485855,
          0.7158022833336409,
          0.7314740568182863,
          0.7352417518006953,
          0.7336028133504763,
          0.7339604718542909,
          0.7264903996544961,
          0.7319266184064661,
          0.7163507904974278,
          0.7316098710691019,
          0.7251595808682483,
          0.721781480606124,
          0.7330885840395781,
          0.733838119366967,
          0.6698585334092976,
          0.7333046734234123,
          0.7331653169514037,
          0.7341402361070678,
          0.7198154360540436,
          0.7311687702697902,
          0.7332447076867126,
          0.7289749698249719,
          0.7317625351799452,
          0.7318993449569784,
          0.7334968271818743,
          0.7317848329827825,
          0.7296683462285398,
          0.7032033037182475,
          0.7329630716660472,
          0.7335335273716461,
          0.7313155630911268,
          0.724799312828933,
          0.733716006996598,
          0.7306561357852781,
          0.7320171239770141,
          0.7320884790628268,
          0.7297721918504041,
          0.7202801417391202,
          0.7342428011051729,
          0.7330885383975124,
          0.7345463135664162,
          0.7341416457192738,
          0.7170626360621402,
          0.7342593480077205,
          0.7322341526613327,
          0.6707106734235446,
          0.734523507086063,
          0.710446171698969,
          0.6691117194073967,
          0.7339460000120388,
          0.7345066234905954,
          0.7332835755438698,
          0.7179757399852211,
          0.7295734120546518,
          0.733200574455009,
          0.7334712616717181,
          0.734921792320266,
          0.717300984883017,
          0.7314141148948383,
          0.7335011790536257,
          0.7345740202847892,
          0.7350737975978118,
          0.7346859875484475,
          0.7343603300860657,
          0.7173062846544827,
          0.733026317678171,
          0.7342413835552166,
          0.7341047477472168,
          0.7347699689495042,
          0.7344822810555064,
          0.6709637943982367,
          0.7349033694626665,
          0.731327542479699,
          0.7323903821451414,
          0.7337725608235098,
          0.7344133344155133,
          0.7320025085937727,
          0.7279235916098771,
          0.7320682735187447,
          0.7306162075769401,
          0.7266035827169505,
          0.7242502791276915,
          0.7326331860285271,
          0.7264344206530216,
          0.7336032856466352,
          0.7314587396055984,
          0.7325223227736776,
          0.7337413204831734,
          0.7322174238520012,
          0.7325433922096137,
          0.7329887939467772,
          0.733535153287555,
          0.7330066585159198,
          0.7332120153995006,
          0.7328252279970019,
          0.7272355718649872,
          0.6696541184721181,
          0.7171290842951407,
          0.7341314556319762,
          0.7351380702256762,
          0.7345464802591781,
          0.7358306303638936,
          0.7343434921326639,
          0.7348606438587311,
          0.7355018527040575,
          0.7350733676363225,
          0.7184069622539455,
          0.7350186401535214,
          0.7343177288402225,
          0.7353771493196057,
          0.7316543648069773,
          0.7350623877428432,
          0.7330507381678071,
          0.7347395256916212,
          0.7317618789925646,
          0.7338345718539403,
          0.7220022962589447,
          0.7227366519613223,
          0.726757555895159,
          0.7334209793292376,
          0.7217448783152759,
          0.7345585132275667,
          0.7319260045537552,
          0.7353015541520289,
          0.7345301403996247,
          0.7172267927128539,
          0.6701221494132051,
          0.7339905718044617,
          0.73306169821691,
          0.7224464325863711,
          0.7346382829904655,
          0.7333867557176443,
          0.7354353006188203,
          0.7263796614192182,
          0.7347098127067908,
          0.7320062234610405,
          0.7335848290535959,
          0.7344280338066151,
          0.7173954864494991,
          0.7346770668397625,
          0.7265257206601059,
          0.7333660891225497,
          0.7343473115136476,
          0.7341724382381819,
          0.729709613932287,
          0.7337520139561531,
          0.7326928309478078,
          0.73356173019943,
          0.7338219898578038,
          0.7349939028153415,
          0.7350181017094409,
          0.7349416783698877,
          0.7338394178506649,
          0.733544021739382,
          0.7347265587145818,
          0.7338714625497258,
          0.7342772641722418,
          0.7349016205116238,
          0.7344125082279745,
          0.7350577917852616,
          0.7342568707680628,
          0.7346107667781061,
          0.7350141520170519,
          0.733932450933291,
          0.7333045140069215,
          0.7338873287901617,
          0.73449042849499,
          0.7180634554364429,
          0.7348072737312779,
          0.7334432228907792,
          0.734298528083067,
          0.7180298939655434,
          0.7354100281439562,
          0.7350207562255282,
          0.7336743986310555,
          0.7337630256006347,
          0.7332865687373149,
          0.722045394275678,
          0.71738731850416,
          0.7301861594338215,
          0.729718041177478,
          0.7335573095338404,
          0.733308872493465,
          0.7341553972106611,
          0.7340485239984329,
          0.7343231701682399,
          0.7339261688651921,
          0.7344009793067473,
          0.7341667594391266,
          0.7345824303315208,
          0.7249861800455137,
          0.7339826109021168,
          0.7335060455562059,
          0.7350185316709302,
          0.73420344970671,
          0.7342930292063579,
          0.6693894943738878,
          0.7337869579186106,
          0.7339291918252018,
          0.7335899813151967,
          0.7327826485799729,
          0.7333044022169344,
          0.7313193758573184,
          0.7358169873550973,
          0.7352727586388689,
          0.7340750446845746,
          0.735543232859271,
          0.7141785291387879,
          0.7345036170675661,
          0.7350272565817678,
          0.7175682482833127,
          0.7342511158988976,
          0.7338382510013308,
          0.7316361172413698,
          0.7164074885268085,
          0.7219248165370862,
          0.7349370255250938,
          0.735132169831084,
          0.7348755059737195,
          0.7348391603368067,
          0.7332904899860977,
          0.7348292659307181,
          0.7344304362991216,
          0.736182774115498,
          0.7360004340626605,
          0.7360747975559401,
          0.7341136188449607,
          0.7352892585763922,
          0.7355418788113193,
          0.7324212011232182,
          0.7354081746791975,
          0.7352596792103632,
          0.7358647567380422,
          0.7345917089004608,
          0.7348392059788724,
          0.7354594426257074,
          0.7351993741348266,
          0.7352120904112436,
          0.7353283817645262,
          0.7352352686429152,
          0.735424184460623,
          0.7358608070456533,
          0.7349660300656855,
          0.7354540218035457,
          0.7353570304293007,
          0.736081789391236,
          0.7350050288957273,
          0.7343943235028922,
          0.7353304025835261,
          0.7356985203966785,
          0.7351725134483684
         ],
         "yaxis": "y"
        }
       ],
       "layout": {
        "bargap": 0.2,
        "height": 800,
        "legend": {
         "title": {
          "text": "variable"
         },
         "tracegroupgap": 0
        },
        "margin": {
         "t": 60
        },
        "template": {
         "data": {
          "bar": [
           {
            "error_x": {
             "color": "#2a3f5f"
            },
            "error_y": {
             "color": "#2a3f5f"
            },
            "marker": {
             "line": {
              "color": "#E5ECF6",
              "width": 0.5
             },
             "pattern": {
              "fillmode": "overlay",
              "size": 10,
              "solidity": 0.2
             }
            },
            "type": "bar"
           }
          ],
          "barpolar": [
           {
            "marker": {
             "line": {
              "color": "#E5ECF6",
              "width": 0.5
             },
             "pattern": {
              "fillmode": "overlay",
              "size": 10,
              "solidity": 0.2
             }
            },
            "type": "barpolar"
           }
          ],
          "carpet": [
           {
            "aaxis": {
             "endlinecolor": "#2a3f5f",
             "gridcolor": "white",
             "linecolor": "white",
             "minorgridcolor": "white",
             "startlinecolor": "#2a3f5f"
            },
            "baxis": {
             "endlinecolor": "#2a3f5f",
             "gridcolor": "white",
             "linecolor": "white",
             "minorgridcolor": "white",
             "startlinecolor": "#2a3f5f"
            },
            "type": "carpet"
           }
          ],
          "choropleth": [
           {
            "colorbar": {
             "outlinewidth": 0,
             "ticks": ""
            },
            "type": "choropleth"
           }
          ],
          "contour": [
           {
            "colorbar": {
             "outlinewidth": 0,
             "ticks": ""
            },
            "colorscale": [
             [
              0,
              "#0d0887"
             ],
             [
              0.1111111111111111,
              "#46039f"
             ],
             [
              0.2222222222222222,
              "#7201a8"
             ],
             [
              0.3333333333333333,
              "#9c179e"
             ],
             [
              0.4444444444444444,
              "#bd3786"
             ],
             [
              0.5555555555555556,
              "#d8576b"
             ],
             [
              0.6666666666666666,
              "#ed7953"
             ],
             [
              0.7777777777777778,
              "#fb9f3a"
             ],
             [
              0.8888888888888888,
              "#fdca26"
             ],
             [
              1,
              "#f0f921"
             ]
            ],
            "type": "contour"
           }
          ],
          "contourcarpet": [
           {
            "colorbar": {
             "outlinewidth": 0,
             "ticks": ""
            },
            "type": "contourcarpet"
           }
          ],
          "heatmap": [
           {
            "colorbar": {
             "outlinewidth": 0,
             "ticks": ""
            },
            "colorscale": [
             [
              0,
              "#0d0887"
             ],
             [
              0.1111111111111111,
              "#46039f"
             ],
             [
              0.2222222222222222,
              "#7201a8"
             ],
             [
              0.3333333333333333,
              "#9c179e"
             ],
             [
              0.4444444444444444,
              "#bd3786"
             ],
             [
              0.5555555555555556,
              "#d8576b"
             ],
             [
              0.6666666666666666,
              "#ed7953"
             ],
             [
              0.7777777777777778,
              "#fb9f3a"
             ],
             [
              0.8888888888888888,
              "#fdca26"
             ],
             [
              1,
              "#f0f921"
             ]
            ],
            "type": "heatmap"
           }
          ],
          "heatmapgl": [
           {
            "colorbar": {
             "outlinewidth": 0,
             "ticks": ""
            },
            "colorscale": [
             [
              0,
              "#0d0887"
             ],
             [
              0.1111111111111111,
              "#46039f"
             ],
             [
              0.2222222222222222,
              "#7201a8"
             ],
             [
              0.3333333333333333,
              "#9c179e"
             ],
             [
              0.4444444444444444,
              "#bd3786"
             ],
             [
              0.5555555555555556,
              "#d8576b"
             ],
             [
              0.6666666666666666,
              "#ed7953"
             ],
             [
              0.7777777777777778,
              "#fb9f3a"
             ],
             [
              0.8888888888888888,
              "#fdca26"
             ],
             [
              1,
              "#f0f921"
             ]
            ],
            "type": "heatmapgl"
           }
          ],
          "histogram": [
           {
            "marker": {
             "pattern": {
              "fillmode": "overlay",
              "size": 10,
              "solidity": 0.2
             }
            },
            "type": "histogram"
           }
          ],
          "histogram2d": [
           {
            "colorbar": {
             "outlinewidth": 0,
             "ticks": ""
            },
            "colorscale": [
             [
              0,
              "#0d0887"
             ],
             [
              0.1111111111111111,
              "#46039f"
             ],
             [
              0.2222222222222222,
              "#7201a8"
             ],
             [
              0.3333333333333333,
              "#9c179e"
             ],
             [
              0.4444444444444444,
              "#bd3786"
             ],
             [
              0.5555555555555556,
              "#d8576b"
             ],
             [
              0.6666666666666666,
              "#ed7953"
             ],
             [
              0.7777777777777778,
              "#fb9f3a"
             ],
             [
              0.8888888888888888,
              "#fdca26"
             ],
             [
              1,
              "#f0f921"
             ]
            ],
            "type": "histogram2d"
           }
          ],
          "histogram2dcontour": [
           {
            "colorbar": {
             "outlinewidth": 0,
             "ticks": ""
            },
            "colorscale": [
             [
              0,
              "#0d0887"
             ],
             [
              0.1111111111111111,
              "#46039f"
             ],
             [
              0.2222222222222222,
              "#7201a8"
             ],
             [
              0.3333333333333333,
              "#9c179e"
             ],
             [
              0.4444444444444444,
              "#bd3786"
             ],
             [
              0.5555555555555556,
              "#d8576b"
             ],
             [
              0.6666666666666666,
              "#ed7953"
             ],
             [
              0.7777777777777778,
              "#fb9f3a"
             ],
             [
              0.8888888888888888,
              "#fdca26"
             ],
             [
              1,
              "#f0f921"
             ]
            ],
            "type": "histogram2dcontour"
           }
          ],
          "mesh3d": [
           {
            "colorbar": {
             "outlinewidth": 0,
             "ticks": ""
            },
            "type": "mesh3d"
           }
          ],
          "parcoords": [
           {
            "line": {
             "colorbar": {
              "outlinewidth": 0,
              "ticks": ""
             }
            },
            "type": "parcoords"
           }
          ],
          "pie": [
           {
            "automargin": true,
            "type": "pie"
           }
          ],
          "scatter": [
           {
            "fillpattern": {
             "fillmode": "overlay",
             "size": 10,
             "solidity": 0.2
            },
            "type": "scatter"
           }
          ],
          "scatter3d": [
           {
            "line": {
             "colorbar": {
              "outlinewidth": 0,
              "ticks": ""
             }
            },
            "marker": {
             "colorbar": {
              "outlinewidth": 0,
              "ticks": ""
             }
            },
            "type": "scatter3d"
           }
          ],
          "scattercarpet": [
           {
            "marker": {
             "colorbar": {
              "outlinewidth": 0,
              "ticks": ""
             }
            },
            "type": "scattercarpet"
           }
          ],
          "scattergeo": [
           {
            "marker": {
             "colorbar": {
              "outlinewidth": 0,
              "ticks": ""
             }
            },
            "type": "scattergeo"
           }
          ],
          "scattergl": [
           {
            "marker": {
             "colorbar": {
              "outlinewidth": 0,
              "ticks": ""
             }
            },
            "type": "scattergl"
           }
          ],
          "scattermapbox": [
           {
            "marker": {
             "colorbar": {
              "outlinewidth": 0,
              "ticks": ""
             }
            },
            "type": "scattermapbox"
           }
          ],
          "scatterpolar": [
           {
            "marker": {
             "colorbar": {
              "outlinewidth": 0,
              "ticks": ""
             }
            },
            "type": "scatterpolar"
           }
          ],
          "scatterpolargl": [
           {
            "marker": {
             "colorbar": {
              "outlinewidth": 0,
              "ticks": ""
             }
            },
            "type": "scatterpolargl"
           }
          ],
          "scatterternary": [
           {
            "marker": {
             "colorbar": {
              "outlinewidth": 0,
              "ticks": ""
             }
            },
            "type": "scatterternary"
           }
          ],
          "surface": [
           {
            "colorbar": {
             "outlinewidth": 0,
             "ticks": ""
            },
            "colorscale": [
             [
              0,
              "#0d0887"
             ],
             [
              0.1111111111111111,
              "#46039f"
             ],
             [
              0.2222222222222222,
              "#7201a8"
             ],
             [
              0.3333333333333333,
              "#9c179e"
             ],
             [
              0.4444444444444444,
              "#bd3786"
             ],
             [
              0.5555555555555556,
              "#d8576b"
             ],
             [
              0.6666666666666666,
              "#ed7953"
             ],
             [
              0.7777777777777778,
              "#fb9f3a"
             ],
             [
              0.8888888888888888,
              "#fdca26"
             ],
             [
              1,
              "#f0f921"
             ]
            ],
            "type": "surface"
           }
          ],
          "table": [
           {
            "cells": {
             "fill": {
              "color": "#EBF0F8"
             },
             "line": {
              "color": "white"
             }
            },
            "header": {
             "fill": {
              "color": "#C8D4E3"
             },
             "line": {
              "color": "white"
             }
            },
            "type": "table"
           }
          ]
         },
         "layout": {
          "annotationdefaults": {
           "arrowcolor": "#2a3f5f",
           "arrowhead": 0,
           "arrowwidth": 1
          },
          "autotypenumbers": "strict",
          "coloraxis": {
           "colorbar": {
            "outlinewidth": 0,
            "ticks": ""
           }
          },
          "colorscale": {
           "diverging": [
            [
             0,
             "#8e0152"
            ],
            [
             0.1,
             "#c51b7d"
            ],
            [
             0.2,
             "#de77ae"
            ],
            [
             0.3,
             "#f1b6da"
            ],
            [
             0.4,
             "#fde0ef"
            ],
            [
             0.5,
             "#f7f7f7"
            ],
            [
             0.6,
             "#e6f5d0"
            ],
            [
             0.7,
             "#b8e186"
            ],
            [
             0.8,
             "#7fbc41"
            ],
            [
             0.9,
             "#4d9221"
            ],
            [
             1,
             "#276419"
            ]
           ],
           "sequential": [
            [
             0,
             "#0d0887"
            ],
            [
             0.1111111111111111,
             "#46039f"
            ],
            [
             0.2222222222222222,
             "#7201a8"
            ],
            [
             0.3333333333333333,
             "#9c179e"
            ],
            [
             0.4444444444444444,
             "#bd3786"
            ],
            [
             0.5555555555555556,
             "#d8576b"
            ],
            [
             0.6666666666666666,
             "#ed7953"
            ],
            [
             0.7777777777777778,
             "#fb9f3a"
            ],
            [
             0.8888888888888888,
             "#fdca26"
            ],
            [
             1,
             "#f0f921"
            ]
           ],
           "sequentialminus": [
            [
             0,
             "#0d0887"
            ],
            [
             0.1111111111111111,
             "#46039f"
            ],
            [
             0.2222222222222222,
             "#7201a8"
            ],
            [
             0.3333333333333333,
             "#9c179e"
            ],
            [
             0.4444444444444444,
             "#bd3786"
            ],
            [
             0.5555555555555556,
             "#d8576b"
            ],
            [
             0.6666666666666666,
             "#ed7953"
            ],
            [
             0.7777777777777778,
             "#fb9f3a"
            ],
            [
             0.8888888888888888,
             "#fdca26"
            ],
            [
             1,
             "#f0f921"
            ]
           ]
          },
          "colorway": [
           "#636efa",
           "#EF553B",
           "#00cc96",
           "#ab63fa",
           "#FFA15A",
           "#19d3f3",
           "#FF6692",
           "#B6E880",
           "#FF97FF",
           "#FECB52"
          ],
          "font": {
           "color": "#2a3f5f"
          },
          "geo": {
           "bgcolor": "white",
           "lakecolor": "white",
           "landcolor": "#E5ECF6",
           "showlakes": true,
           "showland": true,
           "subunitcolor": "white"
          },
          "hoverlabel": {
           "align": "left"
          },
          "hovermode": "closest",
          "mapbox": {
           "style": "light"
          },
          "paper_bgcolor": "white",
          "plot_bgcolor": "#E5ECF6",
          "polar": {
           "angularaxis": {
            "gridcolor": "white",
            "linecolor": "white",
            "ticks": ""
           },
           "bgcolor": "#E5ECF6",
           "radialaxis": {
            "gridcolor": "white",
            "linecolor": "white",
            "ticks": ""
           }
          },
          "scene": {
           "xaxis": {
            "backgroundcolor": "#E5ECF6",
            "gridcolor": "white",
            "gridwidth": 2,
            "linecolor": "white",
            "showbackground": true,
            "ticks": "",
            "zerolinecolor": "white"
           },
           "yaxis": {
            "backgroundcolor": "#E5ECF6",
            "gridcolor": "white",
            "gridwidth": 2,
            "linecolor": "white",
            "showbackground": true,
            "ticks": "",
            "zerolinecolor": "white"
           },
           "zaxis": {
            "backgroundcolor": "#E5ECF6",
            "gridcolor": "white",
            "gridwidth": 2,
            "linecolor": "white",
            "showbackground": true,
            "ticks": "",
            "zerolinecolor": "white"
           }
          },
          "shapedefaults": {
           "line": {
            "color": "#2a3f5f"
           }
          },
          "ternary": {
           "aaxis": {
            "gridcolor": "white",
            "linecolor": "white",
            "ticks": ""
           },
           "baxis": {
            "gridcolor": "white",
            "linecolor": "white",
            "ticks": ""
           },
           "bgcolor": "#E5ECF6",
           "caxis": {
            "gridcolor": "white",
            "linecolor": "white",
            "ticks": ""
           }
          },
          "title": {
           "x": 0.05
          },
          "xaxis": {
           "automargin": true,
           "gridcolor": "white",
           "linecolor": "white",
           "ticks": "",
           "title": {
            "standoff": 15
           },
           "zerolinecolor": "white",
           "zerolinewidth": 2
          },
          "yaxis": {
           "automargin": true,
           "gridcolor": "white",
           "linecolor": "white",
           "ticks": "",
           "title": {
            "standoff": 15
           },
           "zerolinecolor": "white",
           "zerolinewidth": 2
          }
         }
        },
        "title": {
         "font": {
          "family": "Times New Roman",
          "size": 35
         },
         "text": "Зависимость precision класса 1 от гиперпараметров модели",
         "x": 0.5
        },
        "width": 1350,
        "xaxis": {
         "anchor": "y",
         "domain": [
          0,
          1
         ],
         "showspikes": true,
         "title": {
          "text": "Величина метрики precision класса 1"
         }
        },
        "yaxis": {
         "anchor": "x",
         "domain": [
          0,
          1
         ],
         "showspikes": true,
         "title": {
          "text": "Величина параметра"
         }
        }
       }
      }
     },
     "metadata": {},
     "output_type": "display_data"
    }
   ],
   "source": [
    "# Построим зависимость метрики precision_1 от гиперпараметров\n",
    "fig = px.scatter(\n",
    "    data_frame=optuna_study_gb_meta_pd,\n",
    "    x='precision_1', #ось абсцисс\n",
    "    y=['recall_1','f1_score','roc_train','roc_valid'], #ось ординат\n",
    ")\n",
    "fig.update_layout(\n",
    "    title ={\n",
    "        'text':'Зависимость precision класса 1 от гиперпараметров модели', # Имя рабочей плоскости\n",
    "        'font':{'size':35,'family':\"Times New Roman\"}, # размер и стиль написания имени рабочей плоскости\n",
    "        'x':0.5, # Смешение имени по оси \"x\" на половину рабочей плоскости\n",
    "        },\n",
    "    height =800,# Высота рабочей плоскости\n",
    "    width = 1350, # Ширина рабочей плоскости\n",
    "    bargap=0.2, # Добавил расстояния между столбами гистограммы\n",
    "    xaxis_title='Величина метрики precision класса 1',\n",
    "    yaxis_title='Величина параметра')\n",
    "fig.update_xaxes(showspikes=True)\n",
    "fig.update_yaxes(showspikes=True)\n",
    "\n",
    "fig.show()"
   ]
  },
  {
   "cell_type": "code",
   "execution_count": 114,
   "metadata": {},
   "outputs": [
    {
     "data": {
      "application/vnd.plotly.v1+json": {
       "config": {
        "plotlyServerURL": "https://plot.ly"
       },
       "data": [
        {
         "hovertemplate": "variable=roc_train<br>number=%{x}<br>value=%{y}<extra></extra>",
         "legendgroup": "roc_train",
         "marker": {
          "color": "#636efa",
          "symbol": "circle"
         },
         "mode": "markers",
         "name": "roc_train",
         "orientation": "v",
         "showlegend": true,
         "type": "scatter",
         "x": [
          272
         ],
         "xaxis": "x",
         "y": [
          0.7877118750382619
         ],
         "yaxis": "y"
        },
        {
         "hovertemplate": "variable=roc_valid<br>number=%{x}<br>value=%{y}<extra></extra>",
         "legendgroup": "roc_valid",
         "marker": {
          "color": "#EF553B",
          "symbol": "circle"
         },
         "mode": "markers",
         "name": "roc_valid",
         "orientation": "v",
         "showlegend": true,
         "type": "scatter",
         "x": [
          272
         ],
         "xaxis": "x",
         "y": [
          0.736182774115498
         ],
         "yaxis": "y"
        },
        {
         "hovertemplate": "variable=recall_1<br>number=%{x}<br>value=%{y}<extra></extra>",
         "legendgroup": "recall_1",
         "marker": {
          "color": "#00cc96",
          "symbol": "circle"
         },
         "mode": "markers",
         "name": "recall_1",
         "orientation": "v",
         "showlegend": true,
         "type": "scatter",
         "x": [
          272
         ],
         "xaxis": "x",
         "y": [
          0.33276026743075454
         ],
         "yaxis": "y"
        },
        {
         "hovertemplate": "variable=precision_1<br>number=%{x}<br>value=%{y}<extra></extra>",
         "legendgroup": "precision_1",
         "marker": {
          "color": "#ab63fa",
          "symbol": "circle"
         },
         "mode": "markers",
         "name": "precision_1",
         "orientation": "v",
         "showlegend": true,
         "type": "scatter",
         "x": [
          272
         ],
         "xaxis": "x",
         "y": [
          0.10313184536143509
         ],
         "yaxis": "y"
        }
       ],
       "layout": {
        "bargap": 0.2,
        "height": 800,
        "legend": {
         "title": {
          "text": "variable"
         },
         "tracegroupgap": 0
        },
        "margin": {
         "t": 60
        },
        "template": {
         "data": {
          "bar": [
           {
            "error_x": {
             "color": "#2a3f5f"
            },
            "error_y": {
             "color": "#2a3f5f"
            },
            "marker": {
             "line": {
              "color": "#E5ECF6",
              "width": 0.5
             },
             "pattern": {
              "fillmode": "overlay",
              "size": 10,
              "solidity": 0.2
             }
            },
            "type": "bar"
           }
          ],
          "barpolar": [
           {
            "marker": {
             "line": {
              "color": "#E5ECF6",
              "width": 0.5
             },
             "pattern": {
              "fillmode": "overlay",
              "size": 10,
              "solidity": 0.2
             }
            },
            "type": "barpolar"
           }
          ],
          "carpet": [
           {
            "aaxis": {
             "endlinecolor": "#2a3f5f",
             "gridcolor": "white",
             "linecolor": "white",
             "minorgridcolor": "white",
             "startlinecolor": "#2a3f5f"
            },
            "baxis": {
             "endlinecolor": "#2a3f5f",
             "gridcolor": "white",
             "linecolor": "white",
             "minorgridcolor": "white",
             "startlinecolor": "#2a3f5f"
            },
            "type": "carpet"
           }
          ],
          "choropleth": [
           {
            "colorbar": {
             "outlinewidth": 0,
             "ticks": ""
            },
            "type": "choropleth"
           }
          ],
          "contour": [
           {
            "colorbar": {
             "outlinewidth": 0,
             "ticks": ""
            },
            "colorscale": [
             [
              0,
              "#0d0887"
             ],
             [
              0.1111111111111111,
              "#46039f"
             ],
             [
              0.2222222222222222,
              "#7201a8"
             ],
             [
              0.3333333333333333,
              "#9c179e"
             ],
             [
              0.4444444444444444,
              "#bd3786"
             ],
             [
              0.5555555555555556,
              "#d8576b"
             ],
             [
              0.6666666666666666,
              "#ed7953"
             ],
             [
              0.7777777777777778,
              "#fb9f3a"
             ],
             [
              0.8888888888888888,
              "#fdca26"
             ],
             [
              1,
              "#f0f921"
             ]
            ],
            "type": "contour"
           }
          ],
          "contourcarpet": [
           {
            "colorbar": {
             "outlinewidth": 0,
             "ticks": ""
            },
            "type": "contourcarpet"
           }
          ],
          "heatmap": [
           {
            "colorbar": {
             "outlinewidth": 0,
             "ticks": ""
            },
            "colorscale": [
             [
              0,
              "#0d0887"
             ],
             [
              0.1111111111111111,
              "#46039f"
             ],
             [
              0.2222222222222222,
              "#7201a8"
             ],
             [
              0.3333333333333333,
              "#9c179e"
             ],
             [
              0.4444444444444444,
              "#bd3786"
             ],
             [
              0.5555555555555556,
              "#d8576b"
             ],
             [
              0.6666666666666666,
              "#ed7953"
             ],
             [
              0.7777777777777778,
              "#fb9f3a"
             ],
             [
              0.8888888888888888,
              "#fdca26"
             ],
             [
              1,
              "#f0f921"
             ]
            ],
            "type": "heatmap"
           }
          ],
          "heatmapgl": [
           {
            "colorbar": {
             "outlinewidth": 0,
             "ticks": ""
            },
            "colorscale": [
             [
              0,
              "#0d0887"
             ],
             [
              0.1111111111111111,
              "#46039f"
             ],
             [
              0.2222222222222222,
              "#7201a8"
             ],
             [
              0.3333333333333333,
              "#9c179e"
             ],
             [
              0.4444444444444444,
              "#bd3786"
             ],
             [
              0.5555555555555556,
              "#d8576b"
             ],
             [
              0.6666666666666666,
              "#ed7953"
             ],
             [
              0.7777777777777778,
              "#fb9f3a"
             ],
             [
              0.8888888888888888,
              "#fdca26"
             ],
             [
              1,
              "#f0f921"
             ]
            ],
            "type": "heatmapgl"
           }
          ],
          "histogram": [
           {
            "marker": {
             "pattern": {
              "fillmode": "overlay",
              "size": 10,
              "solidity": 0.2
             }
            },
            "type": "histogram"
           }
          ],
          "histogram2d": [
           {
            "colorbar": {
             "outlinewidth": 0,
             "ticks": ""
            },
            "colorscale": [
             [
              0,
              "#0d0887"
             ],
             [
              0.1111111111111111,
              "#46039f"
             ],
             [
              0.2222222222222222,
              "#7201a8"
             ],
             [
              0.3333333333333333,
              "#9c179e"
             ],
             [
              0.4444444444444444,
              "#bd3786"
             ],
             [
              0.5555555555555556,
              "#d8576b"
             ],
             [
              0.6666666666666666,
              "#ed7953"
             ],
             [
              0.7777777777777778,
              "#fb9f3a"
             ],
             [
              0.8888888888888888,
              "#fdca26"
             ],
             [
              1,
              "#f0f921"
             ]
            ],
            "type": "histogram2d"
           }
          ],
          "histogram2dcontour": [
           {
            "colorbar": {
             "outlinewidth": 0,
             "ticks": ""
            },
            "colorscale": [
             [
              0,
              "#0d0887"
             ],
             [
              0.1111111111111111,
              "#46039f"
             ],
             [
              0.2222222222222222,
              "#7201a8"
             ],
             [
              0.3333333333333333,
              "#9c179e"
             ],
             [
              0.4444444444444444,
              "#bd3786"
             ],
             [
              0.5555555555555556,
              "#d8576b"
             ],
             [
              0.6666666666666666,
              "#ed7953"
             ],
             [
              0.7777777777777778,
              "#fb9f3a"
             ],
             [
              0.8888888888888888,
              "#fdca26"
             ],
             [
              1,
              "#f0f921"
             ]
            ],
            "type": "histogram2dcontour"
           }
          ],
          "mesh3d": [
           {
            "colorbar": {
             "outlinewidth": 0,
             "ticks": ""
            },
            "type": "mesh3d"
           }
          ],
          "parcoords": [
           {
            "line": {
             "colorbar": {
              "outlinewidth": 0,
              "ticks": ""
             }
            },
            "type": "parcoords"
           }
          ],
          "pie": [
           {
            "automargin": true,
            "type": "pie"
           }
          ],
          "scatter": [
           {
            "fillpattern": {
             "fillmode": "overlay",
             "size": 10,
             "solidity": 0.2
            },
            "type": "scatter"
           }
          ],
          "scatter3d": [
           {
            "line": {
             "colorbar": {
              "outlinewidth": 0,
              "ticks": ""
             }
            },
            "marker": {
             "colorbar": {
              "outlinewidth": 0,
              "ticks": ""
             }
            },
            "type": "scatter3d"
           }
          ],
          "scattercarpet": [
           {
            "marker": {
             "colorbar": {
              "outlinewidth": 0,
              "ticks": ""
             }
            },
            "type": "scattercarpet"
           }
          ],
          "scattergeo": [
           {
            "marker": {
             "colorbar": {
              "outlinewidth": 0,
              "ticks": ""
             }
            },
            "type": "scattergeo"
           }
          ],
          "scattergl": [
           {
            "marker": {
             "colorbar": {
              "outlinewidth": 0,
              "ticks": ""
             }
            },
            "type": "scattergl"
           }
          ],
          "scattermapbox": [
           {
            "marker": {
             "colorbar": {
              "outlinewidth": 0,
              "ticks": ""
             }
            },
            "type": "scattermapbox"
           }
          ],
          "scatterpolar": [
           {
            "marker": {
             "colorbar": {
              "outlinewidth": 0,
              "ticks": ""
             }
            },
            "type": "scatterpolar"
           }
          ],
          "scatterpolargl": [
           {
            "marker": {
             "colorbar": {
              "outlinewidth": 0,
              "ticks": ""
             }
            },
            "type": "scatterpolargl"
           }
          ],
          "scatterternary": [
           {
            "marker": {
             "colorbar": {
              "outlinewidth": 0,
              "ticks": ""
             }
            },
            "type": "scatterternary"
           }
          ],
          "surface": [
           {
            "colorbar": {
             "outlinewidth": 0,
             "ticks": ""
            },
            "colorscale": [
             [
              0,
              "#0d0887"
             ],
             [
              0.1111111111111111,
              "#46039f"
             ],
             [
              0.2222222222222222,
              "#7201a8"
             ],
             [
              0.3333333333333333,
              "#9c179e"
             ],
             [
              0.4444444444444444,
              "#bd3786"
             ],
             [
              0.5555555555555556,
              "#d8576b"
             ],
             [
              0.6666666666666666,
              "#ed7953"
             ],
             [
              0.7777777777777778,
              "#fb9f3a"
             ],
             [
              0.8888888888888888,
              "#fdca26"
             ],
             [
              1,
              "#f0f921"
             ]
            ],
            "type": "surface"
           }
          ],
          "table": [
           {
            "cells": {
             "fill": {
              "color": "#EBF0F8"
             },
             "line": {
              "color": "white"
             }
            },
            "header": {
             "fill": {
              "color": "#C8D4E3"
             },
             "line": {
              "color": "white"
             }
            },
            "type": "table"
           }
          ]
         },
         "layout": {
          "annotationdefaults": {
           "arrowcolor": "#2a3f5f",
           "arrowhead": 0,
           "arrowwidth": 1
          },
          "autotypenumbers": "strict",
          "coloraxis": {
           "colorbar": {
            "outlinewidth": 0,
            "ticks": ""
           }
          },
          "colorscale": {
           "diverging": [
            [
             0,
             "#8e0152"
            ],
            [
             0.1,
             "#c51b7d"
            ],
            [
             0.2,
             "#de77ae"
            ],
            [
             0.3,
             "#f1b6da"
            ],
            [
             0.4,
             "#fde0ef"
            ],
            [
             0.5,
             "#f7f7f7"
            ],
            [
             0.6,
             "#e6f5d0"
            ],
            [
             0.7,
             "#b8e186"
            ],
            [
             0.8,
             "#7fbc41"
            ],
            [
             0.9,
             "#4d9221"
            ],
            [
             1,
             "#276419"
            ]
           ],
           "sequential": [
            [
             0,
             "#0d0887"
            ],
            [
             0.1111111111111111,
             "#46039f"
            ],
            [
             0.2222222222222222,
             "#7201a8"
            ],
            [
             0.3333333333333333,
             "#9c179e"
            ],
            [
             0.4444444444444444,
             "#bd3786"
            ],
            [
             0.5555555555555556,
             "#d8576b"
            ],
            [
             0.6666666666666666,
             "#ed7953"
            ],
            [
             0.7777777777777778,
             "#fb9f3a"
            ],
            [
             0.8888888888888888,
             "#fdca26"
            ],
            [
             1,
             "#f0f921"
            ]
           ],
           "sequentialminus": [
            [
             0,
             "#0d0887"
            ],
            [
             0.1111111111111111,
             "#46039f"
            ],
            [
             0.2222222222222222,
             "#7201a8"
            ],
            [
             0.3333333333333333,
             "#9c179e"
            ],
            [
             0.4444444444444444,
             "#bd3786"
            ],
            [
             0.5555555555555556,
             "#d8576b"
            ],
            [
             0.6666666666666666,
             "#ed7953"
            ],
            [
             0.7777777777777778,
             "#fb9f3a"
            ],
            [
             0.8888888888888888,
             "#fdca26"
            ],
            [
             1,
             "#f0f921"
            ]
           ]
          },
          "colorway": [
           "#636efa",
           "#EF553B",
           "#00cc96",
           "#ab63fa",
           "#FFA15A",
           "#19d3f3",
           "#FF6692",
           "#B6E880",
           "#FF97FF",
           "#FECB52"
          ],
          "font": {
           "color": "#2a3f5f"
          },
          "geo": {
           "bgcolor": "white",
           "lakecolor": "white",
           "landcolor": "#E5ECF6",
           "showlakes": true,
           "showland": true,
           "subunitcolor": "white"
          },
          "hoverlabel": {
           "align": "left"
          },
          "hovermode": "closest",
          "mapbox": {
           "style": "light"
          },
          "paper_bgcolor": "white",
          "plot_bgcolor": "#E5ECF6",
          "polar": {
           "angularaxis": {
            "gridcolor": "white",
            "linecolor": "white",
            "ticks": ""
           },
           "bgcolor": "#E5ECF6",
           "radialaxis": {
            "gridcolor": "white",
            "linecolor": "white",
            "ticks": ""
           }
          },
          "scene": {
           "xaxis": {
            "backgroundcolor": "#E5ECF6",
            "gridcolor": "white",
            "gridwidth": 2,
            "linecolor": "white",
            "showbackground": true,
            "ticks": "",
            "zerolinecolor": "white"
           },
           "yaxis": {
            "backgroundcolor": "#E5ECF6",
            "gridcolor": "white",
            "gridwidth": 2,
            "linecolor": "white",
            "showbackground": true,
            "ticks": "",
            "zerolinecolor": "white"
           },
           "zaxis": {
            "backgroundcolor": "#E5ECF6",
            "gridcolor": "white",
            "gridwidth": 2,
            "linecolor": "white",
            "showbackground": true,
            "ticks": "",
            "zerolinecolor": "white"
           }
          },
          "shapedefaults": {
           "line": {
            "color": "#2a3f5f"
           }
          },
          "ternary": {
           "aaxis": {
            "gridcolor": "white",
            "linecolor": "white",
            "ticks": ""
           },
           "baxis": {
            "gridcolor": "white",
            "linecolor": "white",
            "ticks": ""
           },
           "bgcolor": "#E5ECF6",
           "caxis": {
            "gridcolor": "white",
            "linecolor": "white",
            "ticks": ""
           }
          },
          "title": {
           "x": 0.05
          },
          "xaxis": {
           "automargin": true,
           "gridcolor": "white",
           "linecolor": "white",
           "ticks": "",
           "title": {
            "standoff": 15
           },
           "zerolinecolor": "white",
           "zerolinewidth": 2
          },
          "yaxis": {
           "automargin": true,
           "gridcolor": "white",
           "linecolor": "white",
           "ticks": "",
           "title": {
            "standoff": 15
           },
           "zerolinecolor": "white",
           "zerolinewidth": 2
          }
         }
        },
        "title": {
         "font": {
          "family": "Times New Roman",
          "size": 35
         },
         "text": "Зависимость precision от гиперпараметров модели",
         "x": 0.5
        },
        "width": 1350,
        "xaxis": {
         "anchor": "y",
         "domain": [
          0,
          1
         ],
         "showspikes": true,
         "title": {
          "text": "Величина метрики precision_1"
         }
        },
        "yaxis": {
         "anchor": "x",
         "domain": [
          0,
          1
         ],
         "showspikes": true,
         "title": {
          "text": "Величина параметра"
         }
        }
       }
      }
     },
     "metadata": {},
     "output_type": "display_data"
    }
   ],
   "source": [
    "# Построим зависимость метрик качества модели от number\n",
    "\n",
    "fig = px.scatter(\n",
    "    data_frame=optuna_study_gb_meta_pd[optuna_study_gb_meta_pd['roc_valid']>0.9999*optuna_study_gb_meta_pd['roc_valid'].max()],\n",
    "    x='number', #ось абсцисс\n",
    "    y=['roc_train','roc_valid','recall_1','precision_1'], #ось ординат\n",
    ")\n",
    "fig.update_layout(\n",
    "    title ={\n",
    "        'text':'Зависимость precision от гиперпараметров модели', # Имя рабочей плоскости\n",
    "        'font':{'size':35,'family':\"Times New Roman\"}, # размер и стиль написания имени рабочей плоскости\n",
    "        'x':0.5, # Смешение имени по оси \"x\" на половину рабочей плоскости\n",
    "        },\n",
    "    height =800,# Высота рабочей плоскости\n",
    "    width = 1350, # Ширина рабочей плоскости\n",
    "    bargap=0.2, # Добавил расстояния между столбами гистограммы\n",
    "    xaxis_title='Величина метрики precision_1',\n",
    "    yaxis_title='Величина параметра')\n",
    "fig.update_xaxes(showspikes=True)\n",
    "fig.update_yaxes(showspikes=True)\n",
    "\n",
    "fig.show()"
   ]
  },
  {
   "cell_type": "markdown",
   "metadata": {},
   "source": [
    "<span style=\"color:Blue\">\n",
    "\n",
    "Вывод:  \n",
    "\n",
    "Их всех выбираем точку $number =272$.   \n",
    "В этой точке оптимальные значения метрик $recall_1$ и $precision_1$, а  \n",
    "также относительно высокая метрика $ROC AUC$.   \n",
    "Посмотрим каким значениям гиперпараметров соотвествует выбранная точка."
   ]
  },
  {
   "cell_type": "code",
   "execution_count": 115,
   "metadata": {},
   "outputs": [
    {
     "name": "stdout",
     "output_type": "stream",
     "text": [
      "best learning rate: 0.025\n",
      "best max iter: 232\n",
      "best max leaf nodes: 58\n",
      "best max depth: 9\n",
      "best min samples leaf: 7\n",
      "best max features: 0.346\n",
      "best l2 regularization: 0.688\n",
      "best class 0 weight: 0.233\n",
      "best class 1 weight: 0.616\n",
      "best class 1 percent: 0.15\n",
      "best k features: 334\n",
      "best random state: 975267\n",
      "time for best train: 0 minutes\n",
      "\n",
      "ROC AUC на обучающем наборе: 0.788\n",
      "ROC AUC на валидационном наборе: 0.736\n",
      "precision класса 1: 0.103\n",
      "recall класса 1: 0.333\n"
     ]
    }
   ],
   "source": [
    "# определим номер лучшге варианта\n",
    "best_optuna_number = 272\n",
    "\n",
    "# сформируем словарь лучших гипирпарметров HistGradientBoostingClassifier\n",
    "best_param_hgbc = {\n",
    "    'learning_rate' : optuna_study_gb_meta_pd[optuna_study_gb_meta_pd['number']==best_optuna_number]['params_learning_rate'].iloc[0],\n",
    "    'max_iter' : optuna_study_gb_meta_pd[optuna_study_gb_meta_pd['number']==best_optuna_number]['params_max_iter'].iloc[0],\n",
    "    'max_leaf_nodes' : optuna_study_gb_meta_pd[optuna_study_gb_meta_pd['number']==best_optuna_number]['params_max_leaf_nodes'].iloc[0],\n",
    "    'max_depth' : optuna_study_gb_meta_pd[optuna_study_gb_meta_pd['number']==best_optuna_number]['params_max_depth'].iloc[0],\n",
    "    'min_samples_leaf' : optuna_study_gb_meta_pd[optuna_study_gb_meta_pd['number']==best_optuna_number]['params_min_samples_leaf'].iloc[0],\n",
    "    'max_features' : optuna_study_gb_meta_pd[optuna_study_gb_meta_pd['number']==best_optuna_number]['params_max_features'].iloc[0],\n",
    "    'l2_regularization' : optuna_study_gb_meta_pd[optuna_study_gb_meta_pd['number']==best_optuna_number]['params_l2_regularization'].iloc[0],\n",
    "    'class_weight' : {0: optuna_study_gb_meta_pd[optuna_study_gb_meta_pd['number']==best_optuna_number]['params_class_0_weight'].iloc[0],\n",
    "                      1: optuna_study_gb_meta_pd[optuna_study_gb_meta_pd['number']==best_optuna_number]['params_class_1_weight'].iloc[0],}\n",
    "    }\n",
    "\n",
    "# определим перменные для лучших значений параметров\n",
    "best_k_features = optuna_study_gb_meta_pd[optuna_study_gb_meta_pd['number']==best_optuna_number]['params_k_features'].iloc[0]\n",
    "best_random_state = optuna_study_gb_meta_pd[optuna_study_gb_meta_pd['number']==best_optuna_number]['params_random_state'].iloc[0]\n",
    "best_class_1_percent = optuna_study_gb_meta_pd[optuna_study_gb_meta_pd['number']==best_optuna_number]['params_class_1_percent'].iloc[0]\n",
    "\n",
    "\n",
    "# Выведем принятые наилучшие параметры\n",
    "print('best learning rate:',round(best_param_hgbc['learning_rate'],3))\n",
    "print('best max iter:',best_param_hgbc['max_iter'])\n",
    "print('best max leaf nodes:',best_param_hgbc['max_leaf_nodes'])\n",
    "print('best max depth:',best_param_hgbc['max_depth'])\n",
    "print('best min samples leaf:',best_param_hgbc['min_samples_leaf'])\n",
    "print('best max features:',round(best_param_hgbc['max_features'],3))\n",
    "print('best l2 regularization:',round(best_param_hgbc['l2_regularization'],3))\n",
    "print('best class 0 weight:',round(best_param_hgbc['class_weight'][0],3))\n",
    "print('best class 1 weight:',round(best_param_hgbc['class_weight'][1],3))\n",
    "\n",
    "print('best class 1 percent:',round(best_class_1_percent,3))\n",
    "print('best k features:',best_k_features)\n",
    "print('best random state:',best_random_state)\n",
    "print('time for best train:',round(optuna_study_gb_meta_pd[optuna_study_gb_meta_pd['number']==best_optuna_number]['duration'].iloc[0].seconds/60),'minutes')\n",
    "\n",
    "print()\n",
    "print('ROC AUC на обучающем наборе:', round(optuna_study_gb_meta_pd[optuna_study_gb_meta_pd['number']==best_optuna_number]['roc_train'].iloc[0],3))\n",
    "print('ROC AUC на валидационном наборе:', round(optuna_study_gb_meta_pd[optuna_study_gb_meta_pd['number']==best_optuna_number]['roc_valid'].iloc[0],3))\n",
    "print('precision класса 1:', round(optuna_study_gb_meta_pd[optuna_study_gb_meta_pd['number']==best_optuna_number]['precision_1'].iloc[0],3))\n",
    "print('recall класса 1:', round(optuna_study_gb_meta_pd[optuna_study_gb_meta_pd['number']==best_optuna_number]['recall_1'].iloc[0],3))"
   ]
  },
  {
   "cell_type": "markdown",
   "metadata": {},
   "source": [
    "##### <span style=\"color:MediumSlateBlue\">Обучение модели с лучшими параметрами</span>"
   ]
  },
  {
   "cell_type": "code",
   "execution_count": 116,
   "metadata": {},
   "outputs": [
    {
     "name": "stdout",
     "output_type": "stream",
     "text": [
      "ROC AUC на обучающем наборе 0.788\n",
      "ROC AUC на валидационном наборе 0.736\n",
      "Основные метрики на валидационом наборе:\n",
      "              precision    recall  f1-score   support\n",
      "\n",
      "           0       0.97      0.90      0.93    144390\n",
      "           1       0.10      0.33      0.16      5235\n",
      "\n",
      "    accuracy                           0.88    149625\n",
      "   macro avg       0.54      0.61      0.55    149625\n",
      "weighted avg       0.94      0.88      0.91    149625\n",
      "\n"
     ]
    }
   ],
   "source": [
    "# Загружаем обучающие наборы\n",
    "MX_train_pd = fp.ParquetFile('features/firstmeta/features_first_meta_stat_train').to_pandas()\n",
    "my_train_pd = pd.read_csv('features/firstmeta/mfy_train.csv')\n",
    "\n",
    "# поготовим данные my_train_pd к работе с функцией class_1_percent_samples\n",
    "my_train_pd.set_index('id',drop=False,inplace=True)\n",
    "\n",
    "# с помощью функции class_1_percent_samples зададим долю класса 1\n",
    "list_c1_percent_id = class_1_percent_samples(my_train_pd,best_class_1_percent,random_state=best_random_state)[:1000000]\n",
    "\n",
    "# подготовим данные для обучения\n",
    "MX_train_balanced = MX_train_pd.loc[list_c1_percent_id]\n",
    "my_train_balanced = my_train_pd.loc[list_c1_percent_id]['flag'].to_numpy()\n",
    "\n",
    "# освободим память от \"тяжелых\" и ненужных файлов\n",
    "del MX_train_pd, my_train_pd\n",
    "gc.collect()\n",
    "\n",
    "# с помощью класса SelectKBest получим список лучших признаков\n",
    "selector = SelectKBest(f_classif, k=best_k_features)\n",
    "selector.fit(MX_train_balanced, my_train_balanced)\n",
    "list_best_features = selector.get_feature_names_out()\n",
    "\n",
    "MX_train_balanced = MX_train_balanced[list_best_features].to_numpy()\n",
    "\n",
    "# обучаем модель HistGradientBoostingClassifier с наилучшеми параметрами\n",
    "gradient_boosting = HistGradientBoostingClassifier(\n",
    "        **best_param_hgbc,\n",
    "        random_state=best_random_state)\n",
    "gradient_boosting.fit(MX_train_balanced,my_train_balanced)\n",
    "\n",
    "# удаляем крупные файлы чтобы высвободить память \n",
    "del MX_train_balanced, my_train_balanced\n",
    "gc.collect()\n",
    "\n",
    "# загружаем тестовые наборы\n",
    "MX_train = fp.ParquetFile('features/firstmeta/features_first_meta_stat_train').to_pandas()[list_best_features].to_numpy()\n",
    "MX_valid = fp.ParquetFile('features/firstmeta/features_first_meta_stat_valid').to_pandas()[list_best_features].to_numpy()\n",
    "my_train = pd.read_csv('features/firstmeta/mfy_train.csv')['flag'].to_numpy()\n",
    "my_valid = pd.read_csv('features/firstmeta/mfy_valid.csv')['flag'].to_numpy()\n",
    "\n",
    "# для метрик ROC AUC делаем предсказание модели в виде вероятности\n",
    "my_train_gb_pred_proba = gradient_boosting.predict_proba(MX_train)[:,1]\n",
    "my_valid_gb_pred_proba = gradient_boosting.predict_proba(MX_valid)[:,1]\n",
    "\n",
    "# Делаем предсказание для валидационной выборки\n",
    "my_valid_gb_pred = gradient_boosting.predict(MX_valid)\n",
    "\n",
    "# удаляем крупные файлы чтобы высвободить память \n",
    "del MX_train, MX_valid\n",
    "gc.collect()\n",
    "\n",
    "#Выводим значения метрик\n",
    "print('ROC AUC на обучающем наборе', round(metrics.roc_auc_score(my_train, my_train_gb_pred_proba),3))\n",
    "print('ROC AUC на валидационном наборе', round(metrics.roc_auc_score(my_valid, my_valid_gb_pred_proba),3))\n",
    "\n",
    "print('Основные метрики на валидационом наборе:')\n",
    "print(metrics.classification_report(my_valid,my_valid_gb_pred,zero_division=0))\n",
    "\n",
    "# time: 1m 40s"
   ]
  }
 ],
 "metadata": {
  "kernelspec": {
   "display_name": "Python 3",
   "language": "python",
   "name": "python3"
  },
  "language_info": {
   "codemirror_mode": {
    "name": "ipython",
    "version": 3
   },
   "file_extension": ".py",
   "mimetype": "text/x-python",
   "name": "python",
   "nbconvert_exporter": "python",
   "pygments_lexer": "ipython3",
   "version": "3.12.8"
  }
 },
 "nbformat": 4,
 "nbformat_minor": 4
}
